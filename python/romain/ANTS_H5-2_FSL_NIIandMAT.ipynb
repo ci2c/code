{
 "cells": [
  {
   "cell_type": "code",
   "execution_count": 262,
   "metadata": {},
   "outputs": [
    {
     "name": "stdout",
     "output_type": "stream",
     "text": [
      "OK\n",
      "/NAS/tupac/protocoles/prodigy2/BIDS_process/fmriprep/sub-01016A6XPRODIGY20171205/anat/sub-01016A6XPRODIGY20171205_T1w_space-MNI152NLin2009cAsym_target-T1w_warp_1.nii.gz\n",
      "OK\n",
      "[[ 1.  0.  0.]\n",
      " [ 0.  1.  0.]\n",
      " [ 0.  0.  1.]]\n",
      "[[  1.02967143   0.06095668  -0.05948336   1.10736251]\n",
      " [ -0.06071652   1.02901053   0.37201247  25.08222771]\n",
      " [  0.0612592   -0.22722909   1.14701247 -31.06534576]]\n"
     ]
    }
   ],
   "source": [
    "#https://neurostars.org/t/extracting-individual-transforms-from-composite-h5-files-fmriprep/2215/5\n",
    "#CompositeTransformUtil et CompositeTransformUtil\n",
    "#https://sourceforge.net/p/advants/discussion/840261/thread/8708b367/?limit=25\n",
    "\n",
    "import h5py\n",
    "from nipype.pipeline import engine as pe\n",
    "from nipype.interfaces import utility as niu, fsl, c3\n",
    "import nibabel as nib\n",
    "import numpy as np\n",
    "import os\n",
    "\n",
    "DIR='''/NAS/tupac/protocoles/prodigy2/BIDS_process/fmriprep/sub-01016A6XPRODIGY20171205/anat/'''\n",
    "NAME='''sub-01016A6XPRODIGY20171205_T1w_space-MNI152NLin2009cAsym_target-T1w_warp'''\n",
    "EXT='''.h5'''\n",
    "FILE_NAME=NAME+EXT\n",
    "trans1 = h5py.File(os.path.join(DIR,FILE_NAME))\n",
    "\n",
    "cpt=0\n",
    "while cpt<len(trans1[\"TransformGroup\"]) :\n",
    "    if len(trans1[\"TransformGroup\"][str(cpt)]) > 2 :    \n",
    "        print \"OK\"\n",
    "        if len(trans1[\"TransformGroup\"][str(cpt)][\"TranformParameters\"])>12:\n",
    "            dataset = np.array(trans1[\"TransformGroup\"][str(cpt)][\"TranformParameters\"],dtype=np.int16)\n",
    "            dataset2 = np.array(trans1[\"TransformGroup\"][str(cpt)][\"TranformFixedParameters\"],dtype=np.int16)\n",
    "            datasetr = np.reshape(dataset,(dataset2[0],dataset2[1],dataset2[2],3))\n",
    "            affine = np.eye(4)\n",
    "            affine[0,3]=-1*dataset2[3]\n",
    "            affine[1,3]=-1*dataset2[4]\n",
    "            affine[2,3]=dataset2[5]\n",
    "            img = nib.Nifti1Image(datasetr,affine)\n",
    "            img.header.set_xyzt_units(\"mm\",\"sec\")\n",
    "            NEW_NAME=NAME+\"_\"+str(cpt)+\".nii.gz\"\n",
    "            print(os.path.join(DIR,NEW_NAME))\n",
    "            nib.save(img,os.path.join(DIR,NEW_NAME))\n",
    "        else:\n",
    "            mat = np.eye(4)\n",
    "            print(mat[1:4,1:4])\n",
    "            mat = np.reshape(trans1[\"TransformGroup\"][str(cpt)][\"TranformParameters\"].value,(3,4), order='F')\n",
    "    cpt = cpt + 1"
   ]
  },
  {
   "cell_type": "code",
   "execution_count": 251,
   "metadata": {},
   "outputs": [
    {
     "name": "stdout",
     "output_type": "stream",
     "text": [
      "[193 229 193  96 132 -78   1   1   1  -1   0   0   0  -1   0   0   0   1]\n",
      "[ 96 132 -78   1   1   1  -1   0   0   0  -1   0   0   0   1]\n",
      "12\n",
      "[[ 1.  0.  0.  0.]\n",
      " [ 0.  1.  0.  0.]\n",
      " [ 0.  0.  1.  0.]\n",
      " [ 0.  0.  0.  1.]]\n",
      "[[ 1  1  1 -1]\n",
      " [ 0  0  0 -1]\n",
      " [ 0  0  0  1]]\n",
      "[[ 1  1  1]\n",
      " [-1  0  0]\n",
      " [ 0 -1  0]\n",
      " [ 0  0  1]]\n",
      "[[ 1.  0.  0.  0.]\n",
      " [ 0.  1.  0.  0.]\n",
      " [ 0.  0.  1.  0.]\n",
      " [ 0.  0.  0.  1.]]\n",
      "1.0\n",
      "1.0\n",
      "1.0\n",
      "1.0\n"
     ]
    },
    {
     "ename": "ImportError",
     "evalue": "No module named nipy",
     "output_type": "error",
     "traceback": [
      "\u001b[0;31m---------------------------------------------------------------------------\u001b[0m",
      "\u001b[0;31mImportError\u001b[0m                               Traceback (most recent call last)",
      "\u001b[0;32m<ipython-input-251-835c4dd3b98b>\u001b[0m in \u001b[0;36m<module>\u001b[0;34m()\u001b[0m\n\u001b[1;32m     12\u001b[0m \u001b[0;32mprint\u001b[0m \u001b[0maffine\u001b[0m\u001b[0;34m[\u001b[0m\u001b[0;36m2\u001b[0m\u001b[0;34m,\u001b[0m\u001b[0;36m2\u001b[0m\u001b[0;34m]\u001b[0m\u001b[0;34m\u001b[0m\u001b[0m\n\u001b[1;32m     13\u001b[0m \u001b[0;32mprint\u001b[0m \u001b[0maffine\u001b[0m\u001b[0;34m[\u001b[0m\u001b[0;36m3\u001b[0m\u001b[0;34m,\u001b[0m\u001b[0;36m3\u001b[0m\u001b[0;34m]\u001b[0m\u001b[0;34m\u001b[0m\u001b[0m\n\u001b[0;32m---> 14\u001b[0;31m \u001b[0;32mfrom\u001b[0m \u001b[0mnipy\u001b[0m \u001b[0;32mimport\u001b[0m \u001b[0mImage\u001b[0m\u001b[0;34m,\u001b[0m \u001b[0mvox2mni\u001b[0m\u001b[0;34m\u001b[0m\u001b[0m\n\u001b[0m\u001b[1;32m     15\u001b[0m \u001b[0;32mprint\u001b[0m\u001b[0;34m(\u001b[0m\u001b[0mvox2mni\u001b[0m\u001b[0;34m(\u001b[0m\u001b[0mnp\u001b[0m\u001b[0;34m.\u001b[0m\u001b[0meye\u001b[0m\u001b[0;34m(\u001b[0m\u001b[0;36m4\u001b[0m\u001b[0;34m)\u001b[0m\u001b[0;34m)\u001b[0m\u001b[0;34m)\u001b[0m\u001b[0;34m\u001b[0m\u001b[0m\n",
      "\u001b[0;31mImportError\u001b[0m: No module named nipy"
     ]
    }
   ],
   "source": [
    "x = iter(trans1[\"TransformGroup\"])\n",
    "print(dataset2[:])\n",
    "print(dataset2[3:])\n",
    "print(len(dataset2[6:]))\n",
    "print(np.eye(4))\n",
    "print(np.reshape(dataset2[6:],(3,4)))\n",
    "print(np.reshape(dataset2[6:],(4,3)))\n",
    "affine = np.eye(4)\n",
    "print affine\n",
    "print affine[0,0]\n",
    "print affine[1,1]\n",
    "print affine[2,2]\n",
    "print affine[3,3]\n",
    "from nipy import Image, vox2mni\n",
    "print(vox2mni(np.eye(4)))"
   ]
  },
  {
   "cell_type": "code",
   "execution_count": 216,
   "metadata": {},
   "outputs": [
    {
     "name": "stdout",
     "output_type": "stream",
     "text": [
      "<HDF5 group \"/TransformGroup/1\" (3 members)>\n",
      "[ 0.  0.  0. ...,  0.  0.  0.]\n",
      "[ 193.  229.  193.   96.  132.  -78.    1.    1.    1.   -1.    0.    0.\n",
      "    0.   -1.    0.    0.    0.    1.]\n",
      "[  1.02967143  -0.06071652   0.0612592    0.06095668   1.02901053\n",
      "  -0.22722909  -0.05948336   0.37201247   1.14701247   1.10736251\n",
      "  25.08222771 -31.06534576]\n",
      "[  0.23592858  21.99948692   9.74520206]\n"
     ]
    }
   ],
   "source": [
    "print(trans1[\"TransformGroup\"]['1'])\n",
    "print(trans1[\"TransformGroup\"]['1'][\"TranformParameters\"].value)\n",
    "print(trans1[\"TransformGroup\"]['1'][\"TranformFixedParameters\"].value)\n",
    "print(trans1[\"TransformGroup\"]['2'][\"TranformParameters\"].value)\n",
    "print(trans1[\"TransformGroup\"]['2'][\"TranformFixedParameters\"].value)"
   ]
  },
  {
   "cell_type": "code",
   "execution_count": 96,
   "metadata": {},
   "outputs": [
    {
     "ename": "SyntaxError",
     "evalue": "invalid syntax (<ipython-input-96-e42efc38570f>, line 2)",
     "output_type": "error",
     "traceback": [
      "\u001b[0;36m  File \u001b[0;32m\"<ipython-input-96-e42efc38570f>\"\u001b[0;36m, line \u001b[0;32m2\u001b[0m\n\u001b[0;31m    echo transform\u001b[0m\n\u001b[0m                 ^\u001b[0m\n\u001b[0;31mSyntaxError\u001b[0m\u001b[0;31m:\u001b[0m invalid syntax\n"
     ]
    }
   ],
   "source": [
    "for TransformGroup in trans1.keys :\n",
    "    echo transform\n",
    "#list(trans1.get('TransformGroup/1/TranformFixedParameters'))"
   ]
  },
  {
   "cell_type": "code",
   "execution_count": 5,
   "metadata": {},
   "outputs": [
    {
     "name": "stdout",
     "output_type": "stream",
     "text": [
      "25590063\n",
      "12\n",
      "[  1.02967143  -0.06071652   0.0612592    0.06095668   1.02901053\n",
      "  -0.22722909  -0.05948336   0.37201247   1.14701247   1.10736251\n",
      "  25.08222771 -31.06534576]\n",
      "[ 0.  0.  0. ...,  0.  0.  0.]\n"
     ]
    }
   ],
   "source": [
    "trans2 = h5py.File(DIR+'sub-01016A6XPRODIGY20171205_T1w_target-MNI152NLin2009cAsym_warp.h5')\n",
    "print len(trans1['TransformGroup']['1']['TranformParameters'].value)\n",
    "print len(trans1['TransformGroup']['2']['TranformParameters'].value)\n",
    "print trans1['TransformGroup']['2']['TranformParameters'].value\n",
    "print trans1['TransformGroup']['1']['TranformParameters'].value"
   ]
  },
  {
   "cell_type": "code",
   "execution_count": 6,
   "metadata": {},
   "outputs": [
    {
     "name": "stdout",
     "output_type": "stream",
     "text": [
      "12\n",
      "25590063\n",
      "[ 0.  0.  0. ...,  0.  0.  0.]\n",
      "[  0.96483928   0.07050942  -0.03756152  -0.04302496   0.90371394\n",
      "   0.18132845   0.06399032  -0.28944647   0.81107199  -4.00382614\n",
      " -16.98649406  32.3853302 ]\n"
     ]
    }
   ],
   "source": [
    "print len(trans2['TransformGroup']['1']['TranformParameters'].value)\n",
    "print len(trans2['TransformGroup']['2']['TranformParameters'].value)\n",
    "print trans2['TransformGroup']['2']['TranformParameters'].value\n",
    "print trans2['TransformGroup']['1']['TranformParameters'].value"
   ]
  },
  {
   "cell_type": "code",
   "execution_count": 43,
   "metadata": {},
   "outputs": [
    {
     "name": "stdout",
     "output_type": "stream",
     "text": [
      "[u'HDFVersion' u'ITKVersion' u'OSName' u'OSVersion' u'TransformGroup']\n",
      "[u'TranformFixedParameters' u'TranformParameters' u'TransformType']\n",
      "[0 0 0 ..., 0 0 0]\n"
     ]
    }
   ],
   "source": [
    "dataset = np.array(trans1)\n",
    "dataset1 = np.array(trans1[\"TransformGroup\"]['1'])\n",
    "dataset2 = np.array(trans1[\"TransformGroup\"]['1'][\"TranformParameters\"],dtype=np.int16)\n"
   ]
  },
  {
   "cell_type": "code",
   "execution_count": 58,
   "metadata": {},
   "outputs": [],
   "source": []
  },
  {
   "cell_type": "code",
   "execution_count": 248,
   "metadata": {},
   "outputs": [
    {
     "name": "stdout",
     "output_type": "stream",
     "text": [
      "<class 'nibabel.nifti1.Nifti1Image'>\n",
      "data shape (193, 229, 193, 3)\n",
      "affine: \n",
      "[[   1.    0.    0.  -96.]\n",
      " [   0.    1.    0. -132.]\n",
      " [   0.    0.    1.  -78.]\n",
      " [   0.    0.    0.    1.]]\n",
      "metadata:\n",
      "<class 'nibabel.nifti1.Nifti1Header'> object, endian='<'\n",
      "sizeof_hdr      : 348\n",
      "data_type       : \n",
      "db_name         : \n",
      "extents         : 0\n",
      "session_error   : 0\n",
      "regular         : \n",
      "dim_info        : 0\n",
      "dim             : [  4 193 229 193   3   1   1   1]\n",
      "intent_p1       : 0.0\n",
      "intent_p2       : 0.0\n",
      "intent_p3       : 0.0\n",
      "intent_code     : none\n",
      "datatype        : int16\n",
      "bitpix          : 16\n",
      "slice_start     : 0\n",
      "pixdim          : [ 1.  1.  1.  1.  1.  1.  1.  1.]\n",
      "vox_offset      : 0.0\n",
      "scl_slope       : nan\n",
      "scl_inter       : nan\n",
      "slice_end       : 0\n",
      "slice_code      : unknown\n",
      "xyzt_units      : 10\n",
      "cal_max         : 0.0\n",
      "cal_min         : 0.0\n",
      "slice_duration  : 0.0\n",
      "toffset         : 0.0\n",
      "glmax           : 0\n",
      "glmin           : 0\n",
      "descrip         : \n",
      "aux_file        : \n",
      "qform_code      : unknown\n",
      "sform_code      : aligned\n",
      "quatern_b       : 0.0\n",
      "quatern_c       : 0.0\n",
      "quatern_d       : 0.0\n",
      "qoffset_x       : -96.0\n",
      "qoffset_y       : -132.0\n",
      "qoffset_z       : -78.0\n",
      "srow_x          : [  1.   0.   0. -96.]\n",
      "srow_y          : [   0.    1.    0. -132.]\n",
      "srow_z          : [  0.   0.   1. -78.]\n",
      "intent_name     : \n",
      "magic           : n+1\n"
     ]
    }
   ],
   "source": [
    "print (img)"
   ]
  },
  {
   "cell_type": "code",
   "execution_count": 217,
   "metadata": {},
   "outputs": [
    {
     "name": "stdout",
     "output_type": "stream",
     "text": [
      "<class 'nibabel.nifti1.Nifti1Image'>\n",
      "data shape (193, 229, 193, 1, 3)\n",
      "affine: \n",
      "[[   1.    0.    0.  -96.]\n",
      " [   0.    1.    0. -132.]\n",
      " [   0.    0.    1.  -78.]\n",
      " [   0.    0.    0.    1.]]\n",
      "metadata:\n",
      "<class 'nibabel.nifti1.Nifti1Header'> object, endian='<'\n",
      "sizeof_hdr      : 348\n",
      "data_type       : \n",
      "db_name         : \n",
      "extents         : 0\n",
      "session_error   : 0\n",
      "regular         : r\n",
      "dim_info        : 0\n",
      "dim             : [  5 193 229 193   1   3   1   1]\n",
      "intent_p1       : 0.0\n",
      "intent_p2       : 0.0\n",
      "intent_p3       : 0.0\n",
      "intent_code     : vector\n",
      "datatype        : float64\n",
      "bitpix          : 64\n",
      "slice_start     : 0\n",
      "pixdim          : [ 1.  1.  1.  1.  0.  0.  0.  0.]\n",
      "vox_offset      : 0.0\n",
      "scl_slope       : nan\n",
      "scl_inter       : nan\n",
      "slice_end       : 0\n",
      "slice_code      : unknown\n",
      "xyzt_units      : 2\n",
      "cal_max         : 0.0\n",
      "cal_min         : 0.0\n",
      "slice_duration  : 0.0\n",
      "toffset         : 0.0\n",
      "glmax           : 0\n",
      "glmin           : 0\n",
      "descrip         : \n",
      "aux_file        : \n",
      "qform_code      : scanner\n",
      "sform_code      : unknown\n",
      "quatern_b       : 0.0\n",
      "quatern_c       : 0.0\n",
      "quatern_d       : 0.0\n",
      "qoffset_x       : -96.0\n",
      "qoffset_y       : -132.0\n",
      "qoffset_z       : -78.0\n",
      "srow_x          : [ 0.  0.  0.  0.]\n",
      "srow_y          : [ 0.  0.  0.  0.]\n",
      "srow_z          : [ 0.  0.  0.  0.]\n",
      "intent_name     : \n",
      "magic           : n+1\n"
     ]
    }
   ],
   "source": [
    "#from nipype.interfaces import fsl\n",
    "#flt=fsl.Info()\n",
    "ima = nib.load(DIR+'''00_sub-01016A6XPRODIGY20171205_T1w_space-MNI152NLin2009cAsym_target-T1w_warp_DisplacementFieldTransform.nii.gz''')\n",
    "print(ima)"
   ]
  },
  {
   "cell_type": "code",
   "execution_count": 38,
   "metadata": {},
   "outputs": [
    {
     "name": "stdout",
     "output_type": "stream",
     "text": [
      "<class 'nipype.pipeline.engine.nodes.Node'>\n"
     ]
    }
   ],
   "source": [
    "c3.C3dAffineTool(fsl2ras=True, itk_transform=True)\n",
    "fsl2itk_inv = pe.Node(c3.C3dAffineTool(fsl2ras=True, itk_transform=True),name='fsl2itk_inv', mem_gb=1)\n",
    "print type(fsl2itk_inv)"
   ]
  },
  {
   "cell_type": "code",
   "execution_count": 43,
   "metadata": {},
   "outputs": [
    {
     "ename": "AttributeError",
     "evalue": "_Feature instance has no __call__ method",
     "output_type": "error",
     "traceback": [
      "\u001b[0;31m---------------------------------------------------------------------------\u001b[0m",
      "\u001b[0;31mAttributeError\u001b[0m                            Traceback (most recent call last)",
      "\u001b[0;32m<ipython-input-43-17f1c153ac45>\u001b[0m in \u001b[0;36m<module>\u001b[0;34m()\u001b[0m\n\u001b[1;32m      1\u001b[0m \u001b[0;31m#from nipype.interfaces.c3 import C3d\u001b[0m\u001b[0;34m\u001b[0m\u001b[0;34m\u001b[0m\u001b[0m\n\u001b[0;32m----> 2\u001b[0;31m \u001b[0mc3\u001b[0m\u001b[0;34m.\u001b[0m\u001b[0mabsolute_import\u001b[0m\u001b[0;34m(\u001b[0m\u001b[0;34m'''/NAS/tupac/protocoles/prodigy2/BIDS_process/fmriprep/sub-01016A6XPRODIGY20171205/anat/sub-01016A6XPRODIGY20171205_T1w_space-MNI152NLin2009cAsym_target-T1w_warp.h5'''\u001b[0m\u001b[0;34m)\u001b[0m\u001b[0;34m\u001b[0m\u001b[0m\n\u001b[0m",
      "\u001b[0;31mAttributeError\u001b[0m: _Feature instance has no __call__ method"
     ]
    }
   ],
   "source": [
    "c3. absolute_import('''/NAS/tupac/protocoles/prodigy2/BIDS_process/fmriprep/sub-01016A6XPRODIGY20171205/anat/sub-01016A6XPRODIGY20171205_T1w_space-MNI152NLin2009cAsym_target-T1w_warp.h5''')"
   ]
  },
  {
   "cell_type": "code",
   "execution_count": null,
   "metadata": {
    "collapsed": true
   },
   "outputs": [],
   "source": [
    "c3 = c3.C3d()\n",
    "c3.inputs.in_file = '''/NAS/tupac/protocoles/prodigy2/BIDS_process/fmriprep/sub-01016A6XPRODIGY20171205/anat/sub-01016A6XPRODIGY20171205_T1w_space-MNI152NLin2009cAsym_target-T1w_warp.h5'''\n",
    "#c3.inputs.pix_type = \"short\"\n",
    "c3.inputs.out_file = '''/NAS/tupac/protocoles/prodigy2/BIDS_process/fmriprep/sub-01016A6XPRODIGY20171205/anat/sub-01016A6XPRODIGY20171205_T1w_space-MNI152NLin2009cAsym_target-T1w_warp.nii.gz'''\n",
    "c3.cmdline"
   ]
  },
  {
   "cell_type": "code",
   "execution_count": 266,
   "metadata": {},
   "outputs": [
    {
     "name": "stdout",
     "output_type": "stream",
     "text": [
      "<module 'pkgutil' from '/home/global/anaconda2/lib/python2.7/pkgutil.pyc'>\n"
     ]
    }
   ],
   "source": [
    "import pkg_resources\n",
    "print(pkg_resources.pkgutil)"
   ]
  }
 ],
 "metadata": {
  "anaconda-cloud": {},
  "kernelspec": {
   "display_name": "Python 2",
   "language": "python",
   "name": "python2"
  },
  "language_info": {
   "codemirror_mode": {
    "name": "ipython",
    "version": 2
   },
   "file_extension": ".py",
   "mimetype": "text/x-python",
   "name": "python",
   "nbconvert_exporter": "python",
   "pygments_lexer": "ipython2",
   "version": "2.7.13"
  }
 },
 "nbformat": 4,
 "nbformat_minor": 2
}
