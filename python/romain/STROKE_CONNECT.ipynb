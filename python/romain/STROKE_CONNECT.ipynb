{
 "cells": [
  {
   "cell_type": "code",
   "execution_count": 1,
   "metadata": {},
   "outputs": [
    {
     "ename": "NameError",
     "evalue": "name 'DTI_PATH' is not defined",
     "output_type": "error",
     "traceback": [
      "\u001b[0;31m---------------------------------------------------------------------------\u001b[0m",
      "\u001b[0;31mNameError\u001b[0m                                 Traceback (most recent call last)",
      "\u001b[0;32m<ipython-input-1-51014d664a1e>\u001b[0m in \u001b[0;36m<module>\u001b[0;34m()\u001b[0m\n\u001b[1;32m      5\u001b[0m \u001b[0mATLAS_LABEL\u001b[0m \u001b[0;34m=\u001b[0m \u001b[0;34m\"/home/global/fsl509/data/atlases/JHU/JHU-ICBM-labels-2mm.nii.gz\"\u001b[0m\u001b[0;34m\u001b[0m\u001b[0m\n\u001b[1;32m      6\u001b[0m \u001b[0;34m\u001b[0m\u001b[0m\n\u001b[0;32m----> 7\u001b[0;31m \u001b[0mFDWI\u001b[0m \u001b[0;34m=\u001b[0m \u001b[0mDTI_PATH\u001b[0m\u001b[0;34m+\u001b[0m\u001b[0;34m\"dti.nii.gz\"\u001b[0m\u001b[0;34m\u001b[0m\u001b[0m\n\u001b[0m\u001b[1;32m      8\u001b[0m \u001b[0mFBVAL\u001b[0m \u001b[0;34m=\u001b[0m \u001b[0mDTI_PATH\u001b[0m\u001b[0;34m+\u001b[0m\u001b[0;34m\"dti.bval\"\u001b[0m\u001b[0;34m\u001b[0m\u001b[0m\n\u001b[1;32m      9\u001b[0m \u001b[0mFBVEC\u001b[0m \u001b[0;34m=\u001b[0m \u001b[0mDTI_PATH\u001b[0m\u001b[0;34m+\u001b[0m\u001b[0;34m\"dti.bvec\"\u001b[0m\u001b[0;34m\u001b[0m\u001b[0m\n",
      "\u001b[0;31mNameError\u001b[0m: name 'DTI_PATH' is not defined"
     ]
    }
   ],
   "source": [
    "TRACTO=\"whole_brain_6_1500000\"#\"LongueFibres_SIFT\"\n",
    "TRACTO_RES=\"FOS\"\n",
    "MESH=\"lh.white.ras\"\n",
    "ATLAS_FA = \"/home/global/fsl509/data/atlases/JHU/JHU-ICBM-FA-2mm.nii.gz\"\n",
    "ATLAS_LABEL = \"/home/global/fsl509/data/atlases/JHU/JHU-ICBM-labels-2mm.nii.gz\"\n",
    "\n",
    "FDWI = DTI_PATH+\"dti.nii.gz\"\n",
    "FBVAL = DTI_PATH+\"dti.bval\"\n",
    "FBVEC = DTI_PATH+\"dti.bvec\"\n",
    "data_dwi, affine = load_nifti(FDWI)\n",
    "bvals, bvecs = read_bvals_bvecs(FBVAL,FBVEC)\n",
    "gtab = gradient_table(bvals,bvecs)"
   ]
  },
  {
   "cell_type": "code",
   "execution_count": null,
   "metadata": {
    "collapsed": true
   },
   "outputs": [],
   "source": [
    "from dipy.io import read_bvals_bvecs\n",
    "from dipy.core.gradients import gradient_table\n",
    "from dipy.reconst.dti import TensorModel\n",
    "from dipy.reconst.csdeconv import (ConstrainedSphericalDeconvModel,auto_response)\n",
    "from dipy.reconst.shm import CsaOdfModel\n",
    "from dipy.direction import ProbabilisticDirectionGetter\n",
    "from dipy.viz import fvtk\n",
    "from dipy.viz.colormap import line_colors\n",
    "from dipy.tracking.local import LocalTracking\n",
    "from dipy.tracking.local import ThresholdTissueClassifier\n",
    "from dipy.tracking import utils\n",
    "from dipy.data import default_sphere\n",
    "from dipy.direction import peaks_from_model\n",
    "\n",
    "from skimage import segmentation\n",
    "from skimage import measure\n",
    "\n",
    "\n",
    "import nipype.interfaces.mrtrix as mrt\n",
    "from nibabel import trackvis as tv\n"
   ]
  },
  {
   "cell_type": "code",
   "execution_count": 1,
   "metadata": {
    "collapsed": true
   },
   "outputs": [],
   "source": [
    "from dipy.io.image import load_nifti, save_nifti\n",
    "from skimage import morphology\n",
    "\n",
    "import nipype.interfaces.fsl\n",
    "SUBJ_ID=\"AUMONT^SEBASTIEN_I_CERE_2014-08-12\"\n",
    "NAS=\"dumbo\"\n",
    "protocole=\"strokconnect\"\n",
    "DIR_PATH=\"/NAS/\"+NAS+\"/protocoles/\"+protocole\n",
    "FS_PATH=DIR_PATH+\"/QA_DTI/\"\n",
    "DTI_PATH=FS_PATH+SUBJ_ID+\"/dti/\"\n",
    "SUBJ_FA = DTI_PATH+\"dti_finalcor_FA.nii\"\n",
    "SEG = FS_PATH+SUBJ_ID+\"/mri/\"+\"raparc+aseg.nii.gz\"\n",
    "data_fa, affine = load_nifti(SUBJ_FA)\n",
    "data_seg, affine = load_nifti(SEG)\n",
    "DTI = DTI_PATH+\"dti_finalcor.nii.gz\"\n",
    "data_dti, affine_dti = load_nifti(DTI)"
   ]
  },
  {
   "cell_type": "code",
   "execution_count": 39,
   "metadata": {},
   "outputs": [
    {
     "name": "stdout",
     "output_type": "stream",
     "text": [
      "[[[ 0.  0.  0. ...,  0.  0.  0.]\n",
      "  [ 0.  0.  0. ...,  0.  0.  0.]\n",
      "  [ 0.  0.  0. ...,  0.  0.  0.]\n",
      "  ..., \n",
      "  [ 0.  0.  0. ...,  0.  0.  0.]\n",
      "  [ 0.  0.  0. ...,  0.  0.  0.]\n",
      "  [ 0.  0.  0. ...,  0.  0.  0.]]\n",
      "\n",
      " [[ 0.  0.  0. ...,  0.  0.  0.]\n",
      "  [ 0.  0.  0. ...,  0.  0.  0.]\n",
      "  [ 0.  0.  0. ...,  0.  0.  0.]\n",
      "  ..., \n",
      "  [ 0.  0.  0. ...,  0.  0.  0.]\n",
      "  [ 0.  0.  0. ...,  0.  0.  0.]\n",
      "  [ 0.  0.  0. ...,  0.  0.  0.]]\n",
      "\n",
      " [[ 0.  0.  0. ...,  0.  0.  0.]\n",
      "  [ 0.  0.  0. ...,  0.  0.  0.]\n",
      "  [ 0.  0.  0. ...,  0.  0.  0.]\n",
      "  ..., \n",
      "  [ 0.  0.  0. ...,  0.  0.  0.]\n",
      "  [ 0.  0.  0. ...,  0.  0.  0.]\n",
      "  [ 0.  0.  0. ...,  0.  0.  0.]]\n",
      "\n",
      " ..., \n",
      " [[ 0.  0.  0. ...,  0.  0.  0.]\n",
      "  [ 0.  0.  0. ...,  0.  0.  0.]\n",
      "  [ 0.  0.  0. ...,  0.  0.  0.]\n",
      "  ..., \n",
      "  [ 0.  0.  0. ...,  0.  0.  0.]\n",
      "  [ 0.  0.  0. ...,  0.  0.  0.]\n",
      "  [ 0.  0.  0. ...,  0.  0.  0.]]\n",
      "\n",
      " [[ 0.  0.  0. ...,  0.  0.  0.]\n",
      "  [ 0.  0.  0. ...,  0.  0.  0.]\n",
      "  [ 0.  0.  0. ...,  0.  0.  0.]\n",
      "  ..., \n",
      "  [ 0.  0.  0. ...,  0.  0.  0.]\n",
      "  [ 0.  0.  0. ...,  0.  0.  0.]\n",
      "  [ 0.  0.  0. ...,  0.  0.  0.]]\n",
      "\n",
      " [[ 0.  0.  0. ...,  0.  0.  0.]\n",
      "  [ 0.  0.  0. ...,  0.  0.  0.]\n",
      "  [ 0.  0.  0. ...,  0.  0.  0.]\n",
      "  ..., \n",
      "  [ 0.  0.  0. ...,  0.  0.  0.]\n",
      "  [ 0.  0.  0. ...,  0.  0.  0.]\n",
      "  [ 0.  0.  0. ...,  0.  0.  0.]]]\n"
     ]
    }
   ],
   "source": []
  },
  {
   "cell_type": "code",
   "execution_count": 29,
   "metadata": {},
   "outputs": [
    {
     "name": "stdout",
     "output_type": "stream",
     "text": [
      "(128, 128, 66, 33)\n",
      "0.0203483\n",
      "0.0480202\n",
      "0.048363\n",
      "0.0493973\n",
      "0.0471771\n",
      "0.0462813\n",
      "0.0426214\n",
      "0.0462378\n",
      "0.0489263\n",
      "0.0470718\n",
      "0.0385101\n",
      "0.0481924\n",
      "0.0273326\n",
      "0.0292307\n",
      "0.0483594\n",
      "0.0284986\n",
      "0.0254431\n",
      "0.0221674\n",
      "0.0418928\n",
      "0.0239094\n",
      "0.0272426\n",
      "0.0437783\n",
      "0.0483316\n",
      "0.0392861\n",
      "0.0197748\n",
      "0.0204368\n",
      "0.0258557\n",
      "0.0476663\n",
      "0.0475319\n",
      "0.0405103\n",
      "0.033158\n",
      "0.0201055\n"
     ]
    }
   ],
   "source": [
    "print(data_dti.shape)\n",
    "for i in range(1,33) :\n",
    "    test=data_dti[:,:,:,i]*mask_cc\n",
    "    print(np.nanmean(test))"
   ]
  },
  {
   "cell_type": "code",
   "execution_count": 36,
   "metadata": {},
   "outputs": [
    {
     "name": "stdout",
     "output_type": "stream",
     "text": [
      "True\n"
     ]
    },
    {
     "data": {
      "image/png": "[encoded data removed]",
      "text/plain": [
       "<matplotlib.figure.Figure at 0x7f999785d7d0>"
      ]
     },
     "metadata": {},
     "output_type": "display_data"
    }
   ],
   "source": [
    "print(np.amax(mask_cc[61,:,:]))\n",
    "plt.imshow(mask_cc[61,:,:])\n",
    "plt.show()"
   ]
  },
  {
   "cell_type": "code",
   "execution_count": 10,
   "metadata": {},
   "outputs": [
    {
     "data": {
      "image/png": "[encoded data removed]",
      "text/plain": [
       "<matplotlib.figure.Figure at 0x7f99b0f79b10>"
      ]
     },
     "metadata": {},
     "output_type": "display_data"
    },
    {
     "data": {
      "image/png": "[encoded data removed]",
      "text/plain": [
       "<matplotlib.figure.Figure at 0x7f999d8fb890>"
      ]
     },
     "metadata": {},
     "output_type": "display_data"
    },
    {
     "data": {
      "image/png": "[encoded data removed]",
      "text/plain": [
       "<matplotlib.figure.Figure at 0x7f999785d110>"
      ]
     },
     "metadata": {},
     "output_type": "display_data"
    },
    {
     "data": {
      "image/png": "[encoded data removed]",
      "text/plain": [
       "<matplotlib.figure.Figure at 0x7f999760f910>"
      ]
     },
     "metadata": {},
     "output_type": "display_data"
    }
   ],
   "source": [
    "from matplotlib import pyplot as plt\n",
    "import numpy as np\n",
    "val=0.8\n",
    "#mask = data_fa > val\n",
    "mask_cc=((data_seg >= 250) & (data_seg <= 255)) # | (data_fa > val)\n",
    "filter_mask_cc = morphology.remove_small_objects(mask_cc)\n",
    "#clear_image = segmentation.clear_border(filter_mask_cc)\n",
    "#filter_mask_cc_f = morphology.binary_erosion(morphology.binary_dilation(filter_mask_cc))\n",
    "filter_mask_cc_d = morphology.binary_dilation(filter_mask_cc);\n",
    "plt.imshow(filter_mask_cc_d[62,:,:])\n",
    "plt.show()\n",
    "\n",
    "tmp=np.sum(filter_mask_cc,axis=1)\n",
    "plt.imshow(tmp[:,:])\n",
    "plt.show()\n",
    "\n",
    "tmp=np.sum(filter_mask_cc,axis=2)\n",
    "plt.imshow(tmp[:,:])\n",
    "plt.show()\n",
    "\n",
    "tmp=np.sum(filter_mask_cc,axis=0)\n",
    "plt.imshow(tmp[:,:])\n",
    "plt.show()"
   ]
  },
  {
   "cell_type": "code",
   "execution_count": null,
   "metadata": {
    "collapsed": true
   },
   "outputs": [],
   "source": []
  }
 ],
 "metadata": {
  "anaconda-cloud": {},
  "kernelspec": {
   "display_name": "Python 2",
   "language": "python",
   "name": "python2"
  },
  "language_info": {
   "codemirror_mode": {
    "name": "ipython",
    "version": 2
   },
   "file_extension": ".py",
   "mimetype": "text/x-python",
   "name": "python",
   "nbconvert_exporter": "python",
   "pygments_lexer": "ipython2",
   "version": "2.7.13"
  }
 },
 "nbformat": 4,
 "nbformat_minor": 2
}
