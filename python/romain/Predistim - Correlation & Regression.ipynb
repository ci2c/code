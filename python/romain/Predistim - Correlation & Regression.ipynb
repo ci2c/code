{
 "cells": [
  {
   "cell_type": "code",
   "execution_count": 2,
   "metadata": {},
   "outputs": [],
   "source": [
    "import nibabel as nib\n",
    "import numpy as np\n",
    "import os\n",
    "import pandas as pd \n",
    "import glob\n",
    "from sklearn.linear_model import LinearRegression\n",
    "from scipy import stats"
   ]
  },
  {
   "cell_type": "code",
   "execution_count": 3,
   "metadata": {},
   "outputs": [],
   "source": [
    "STUDY_PATH=\"/NAS/deathrow/protocoles/predistim/\"\n",
    "#PATH_SCRIPT=DIR+\"code/\"\n",
    "#LOG_DIR=PATH_SCRIPT+\"log/\" #pour les sorties de qbatch\n",
    "#VB_DATA_PATH=DIR+\"volbrain/\"\n",
    "#T1_DATA_PATH=DIR+\"2018-07-30_t1_segmentations/\"\n",
    "#MULTIGRE_DATA_PATH=DIR+\"2018-12-12_3dmultigre/\"\n",
    "#FS_PATH=DIR+\"FS60_VB/\"\n",
    "#PATH_SCREENSHOT=DIR+\"screenshots/\"\n",
    "#MNI152_PATH=\"/home/global/fsl5011/data/standard/MNI152_T1_1mm.nii.gz\""
   ]
  },
  {
   "cell_type": "code",
   "execution_count": 26,
   "metadata": {},
   "outputs": [
    {
     "name": "stdout",
     "output_type": "stream",
     "text": [
      "[array([[ -2.9772344, -45.495827 ,  35.745655 ],\n",
      "       [-15.519616 , -37.501694 ,  61.345802 ],\n",
      "       [-43.98158  ,   2.560153 ,  34.737312 ],\n",
      "       ...,\n",
      "       [-56.1724   , -43.956932 ,  -4.6327863],\n",
      "       [-57.408497 , -45.052586 ,  -3.4137893],\n",
      "       [-56.099327 , -45.96313  ,  -4.446026 ]], dtype=float32), array([[   68,    12,     0],\n",
      "       [  180,    12,    68],\n",
      "       [  180,    13,    12],\n",
      "       ...,\n",
      "       [ 8440, 32491, 21432],\n",
      "       [ 8440,  8441, 32491],\n",
      "       [    9,  8440, 21432]], dtype=int32)]\n",
      "[array([[ -3.3621507, -48.1586   ,  31.341684 ],\n",
      "       [-19.735895 , -43.605885 ,  68.77835  ],\n",
      "       [-50.71095  ,  -4.395582 ,  45.21349  ],\n",
      "       ...,\n",
      "       [-62.377625 , -51.461212 ,  -3.1860018],\n",
      "       [-63.8995   , -52.591827 ,  -1.9561766],\n",
      "       [-62.14521  , -53.436584 ,  -3.97922  ]], dtype=float32), array([[   68,    12,     0],\n",
      "       [  180,    12,    68],\n",
      "       [  180,    13,    12],\n",
      "       ...,\n",
      "       [ 8440, 32491, 21432],\n",
      "       [ 8440,  8441, 32491],\n",
      "       [    9,  8440, 21432]], dtype=int32)]\n"
     ]
    }
   ],
   "source": [
    "SUBJ='01011BB'\n",
    "img = nib.load(os.path.join(STUDY_PATH,'HCP',SUBJ,'T1w','fsaverage_LR32k',SUBJ+'.L.midthickness.32k_fs_LR.surf.gii'))\n",
    "img_data = [x.data for x in img.darrays]\n",
    "print(img_data)\n",
    "SUBJ='01011BB'\n",
    "img = nib.load(os.path.join(STUDY_PATH,'HCP',SUBJ,'MNINonLinear','fsaverage_LR32k',SUBJ+'.L.midthickness.32k_fs_LR.surf.gii'))\n",
    "img_data = [x.data for x in img.darrays]\n",
    "print(img_data)"
   ]
  },
  {
   "cell_type": "code",
   "execution_count": 23,
   "metadata": {},
   "outputs": [
    {
     "name": "stdout",
     "output_type": "stream",
     "text": [
      "32492\n"
     ]
    }
   ],
   "source": [
    "SUBJ='01011BB'\n",
    "img = nib.load(os.path.join(STUDY_PATH,'HCP',SUBJ,'MNINonLinear','fsaverage_LR32k',SUBJ+'.L.midthickness.32k_fs_LR_va.shape.gii'))\n",
    "img_data = [x.data for x in img.darrays]\n",
    "print(img_data)\n",
    "SUBJ='01026AF'\n",
    "img = nib.load(os.path.join(STUDY_PATH,'HCP',SUBJ,'MNINonLinear','fsaverage_LR32k',SUBJ+'.L.midthickness.32k_fs_LR_va.shape.gii'))\n",
    "img_data = [x.data for x in img.darrays]\n",
    "print(img_data)"
   ]
  },
  {
   "cell_type": "markdown",
   "metadata": {},
   "source": [
    "Correlation (variable explicative)\n",
    "    Dopa \n",
    "    \n",
    "Regression (variable confondante) \n",
    "    Age \n",
    "    Durée de la maladie \n",
    "    Poids \n",
    "    Sexe"
   ]
  },
  {
   "cell_type": "code",
   "execution_count": 67,
   "metadata": {},
   "outputs": [
    {
     "name": "stdout",
     "output_type": "stream",
     "text": [
      "<class 'numpy.ndarray'>\n",
      "(32492, 1)\n"
     ]
    }
   ],
   "source": [
    "img = nib.load(os.path.join(STUDY_PATH,'SurfaceMapping','QSM.L.32k_fs_LR.shape.gii'))\n",
    "img_data = [x.data for x in img.darrays]\n",
    "cur_data = np.reshape(img_data,(len(img_data[0]),len(img_data)))\n",
    "\n",
    "print(type(cur_data))\n",
    "print(cur_data.shape)"
   ]
  },
  {
   "cell_type": "code",
   "execution_count": 74,
   "metadata": {},
   "outputs": [
    {
     "name": "stdout",
     "output_type": "stream",
     "text": [
      "<bound method NDFrame.describe of     PatientID  Age  Sexe  Duree  Poids  DOPA\n",
      "0     01001SR   67   1.0   15.0   76.0  51.9\n",
      "1     01002TM   59   1.0    8.0   88.0  97.5\n",
      "2     01003SJ   61   1.0   13.0   89.0  71.4\n",
      "3     01004DJ   65   2.0   16.0   59.0  90.7\n",
      "4     01005LB   65   1.0   17.0   81.0  85.4\n",
      "..        ...  ...   ...    ...    ...   ...\n",
      "829   20025DA   61   2.0   11.0   74.0  73.1\n",
      "830   20026ME   59   1.0    6.0   98.0  96.3\n",
      "831   20027RP   64   1.0    7.0   78.0  82.4\n",
      "832   20028DN   69   2.0    8.0   85.0  87.5\n",
      "833   20029DA   70   2.0   13.0   48.0  93.8\n",
      "\n",
      "[834 rows x 6 columns]>\n",
      "6    78.7\n",
      "Name: DOPA, dtype: float64\n"
     ]
    }
   ],
   "source": [
    "ClinicalData = pd.read_excel(os.path.join(STUDY_PATH,'Data_Cli_2020_06_22.xlsx'))\n",
    "print(ClinicalData.describe)\n",
    "\n",
    "print(ClinicalData[ClinicalData.PatientID ==  '01007HC'].DOPA)\n",
    "ClinicalData['Poids']=pd.to_numeric(ClinicalData['Poids'])\n",
    "ClinicalData['Age']=pd.to_numeric(ClinicalData['Age'])\n",
    "ClinicalData['Duree']=pd.to_numeric(ClinicalData['Duree'])\n",
    "ClinicalData['DOPA']=pd.to_numeric(ClinicalData['DOPA'])\n"
   ]
  },
  {
   "cell_type": "code",
   "execution_count": null,
   "metadata": {},
   "outputs": [],
   "source": [
    "dir_names=glob.glob(os.path.join(STUDY_PATH,'SurfaceMapping','*','QSM.R.32k_fs_LR.shape.gii'))\n",
    "dopa_group=[]\n",
    "QSM_group=[]\n",
    "for cpt,dir_name in enumerate(dir_names) :\n",
    "    print(cpt)\n",
    "    SUBJID=os.path.split(os.path.split(dir_name)[0])[1]\n",
    "    print(SUBJID)\n",
    "    ind=ClinicalData[ClinicalData.PatientID ==  SUBJID].index.values.astype(int)\n",
    "    ima_path=os.path.join(STUDY_PATH,'SurfaceMapping',SUBJID,'QSM.R.32k_fs_LR.shape.gii')\n",
    "    if (np.shape(ind)[0]>0) & os.path.exists(ima_path) :\n",
    "        print(ClinicalData.loc[int(ind)].values)\n",
    "        #age=ClinicalData.loc[int(ind)].at['Age'].astype(int) \n",
    "        #dur=ClinicalData.loc[int(ind)].at['Duree'].astype(int) \n",
    "        #poids=ClinicalData.loc[int(ind)].at['Poids'].astype(int) \n",
    "        #sexe=ClinicalData.loc[int(ind)].at['Sexe'].astype(int)        \n",
    "        if ClinicalData.loc[int(ind)].at['DOPA'].astype(int) > 0 :\n",
    "            dopa_group.append(ClinicalData.loc[int(ind)].at['DOPA'].astype(int))  \n",
    "            img = nib.load(ima_path)\n",
    "            img_data = [x.data for x in img.darrays]\n",
    "            QSM_group.append(np.reshape(img_data,(len(img_data[0]),len(img_data))))\n",
    "\n",
    "QSM_values=np.asarray(QSM_group)\n",
    "dopa_values=np.asarray(dopa_group)"
   ]
  },
  {
   "cell_type": "code",
   "execution_count": 115,
   "metadata": {},
   "outputs": [],
   "source": [
    "p_val_group=[]\n",
    "r_val_group=[]\n",
    "for cpt in range(32492):\n",
    "    r_val,p_val=stats.pearsonr(QSM_values[:,cpt,0], dopa_values)\n",
    "    p_val_group.append(p_val)\n",
    "    r_val_group.append(r_val)"
   ]
  },
  {
   "cell_type": "code",
   "execution_count": 160,
   "metadata": {},
   "outputs": [
    {
     "ename": "AttributeError",
     "evalue": "can't set attribute",
     "output_type": "error",
     "traceback": [
      "\u001b[0;31m---------------------------------------------------------------------------\u001b[0m",
      "\u001b[0;31mAttributeError\u001b[0m                            Traceback (most recent call last)",
      "\u001b[0;32m<ipython-input-160-9e7385349c99>\u001b[0m in \u001b[0;36m<module>\u001b[0;34m\u001b[0m\n\u001b[1;32m      3\u001b[0m \u001b[0;31m#image.darray = POINTER(POINTER(GiftiDataArray))()\u001b[0m\u001b[0;34m\u001b[0m\u001b[0;34m\u001b[0m\u001b[0;34m\u001b[0m\u001b[0m\n\u001b[1;32m      4\u001b[0m \u001b[0mimage\u001b[0m\u001b[0;34m.\u001b[0m\u001b[0mdata\u001b[0m \u001b[0;34m=\u001b[0m \u001b[0;32mNone\u001b[0m\u001b[0;34m\u001b[0m\u001b[0;34m\u001b[0m\u001b[0m\n\u001b[0;32m----> 5\u001b[0;31m \u001b[0mimage\u001b[0m\u001b[0;34m.\u001b[0m\u001b[0mnumDA\u001b[0m\u001b[0;34m=\u001b[0m\u001b[0;36m0\u001b[0m\u001b[0;34m\u001b[0m\u001b[0;34m\u001b[0m\u001b[0m\n\u001b[0m\u001b[1;32m      6\u001b[0m \u001b[0mimage\u001b[0m\u001b[0;34m.\u001b[0m\u001b[0mswapped\u001b[0m \u001b[0;34m=\u001b[0m \u001b[0;36m0\u001b[0m\u001b[0;34m\u001b[0m\u001b[0;34m\u001b[0m\u001b[0m\n\u001b[1;32m      7\u001b[0m \u001b[0mimage\u001b[0m\u001b[0;34m.\u001b[0m\u001b[0mcompressed\u001b[0m \u001b[0;34m=\u001b[0m \u001b[0;36m0\u001b[0m\u001b[0;34m\u001b[0m\u001b[0;34m\u001b[0m\u001b[0m\n",
      "\u001b[0;31mAttributeError\u001b[0m: can't set attribute"
     ]
    }
   ],
   "source": [
    "image = GiftiImage()\n",
    "image.version = \"version_string\"\n",
    "#image.darray = POINTER(POINTER(GiftiDataArray))()\n",
    "image.data = None\n",
    "#image.numDA=0\n",
    "image.swapped = 0\n",
    "image.compressed = 0"
   ]
  },
  {
   "cell_type": "code",
   "execution_count": 162,
   "metadata": {},
   "outputs": [],
   "source": [
    "# type(im) = GiftiImage\n",
    "# type(ver) = str\n",
    "def set_version(im, ver):\n",
    "    image.version = c_char_p(ver)\n",
    "\n",
    "# type(im) = GiftiImage\n",
    "# type(numDA) = int\n",
    "def set_numDA(im, numDA):\n",
    "    im.numDA = c_int(numDA)\n",
    "\n",
    "# type(im) = GiftiImage\n",
    "# type(md) = GiftiMetaData\n",
    "def set_meta_data(im, md):\n",
    "    im.meta = md\n",
    "\n",
    "# type(im) = GiftiImage\n",
    "# type(da) = GiftiDataArray\n",
    "def add_data_array(im, da):\n",
    "    cur_numda = im.numDA\n",
    "\n",
    "    # Create a pointer to the new dataarray\n",
    "    da_ptr = pointer(da.data)\n",
    "    # Grab the pointer to the image's dataarrays\n",
    "    ptr = image.darray\n",
    "\n",
    "    # Create a new dataarray array pointer\n",
    "    ar = (POINTER(GiftiDataArray)*(cur_numda+1))()\n",
    "    # We need to cast the resulting pointer for use by C\n",
    "    ar = cast(ar, POINTER(POINTER(GiftiDataArray)))\n",
    "\n",
    "    # Copy all of the current da's to the new array.  This just copies the pointers!\n",
    "    for i in xrange(num_da):\n",
    "        ar[i] = im.darray[i]\n",
    "\n",
    "    # Add the new data array to the image's data\n",
    "    ar[num_da] = da_ptr\n",
    "\n",
    "    # Reassign the pointer\n",
    "    im.darray = ar\n",
    "\n",
    "    # Tell the image it has an extra DA now\n",
    "    cur_numda += 1\n",
    "    im.numDA = c_int(cur_numda)\n",
    "\n",
    "# type(da) = GiftiDataArray\n",
    "# type(axis) = int\n",
    "# type(val) = int\n",
    "def set_da_dim(da, axis, val):\n",
    "    # Simple setter.  However, the axis variable here is a\n",
    "    # python array index (as the da dims is an array)\n",
    "    # To properly assign the value, the val variable must\n",
    "    # be usable by C, so we must form a c_int type.\n",
    "    # This is true for all Setters.\n",
    "    da.dims[axis] = c_int(val)\n",
    "\n",
    "# type(filename) = string\n",
    "# type(im) = GiftiImage\n",
    "def write_image(filename, im):\n",
    "    return(gifti_write_image, im, filename, 1)"
   ]
  },
  {
   "cell_type": "code",
   "execution_count": 140,
   "metadata": {},
   "outputs": [
    {
     "name": "stderr",
     "output_type": "stream",
     "text": [
      "/home/global/anaconda37/lib/python3.7/site-packages/ipykernel_launcher.py:6: DeprecationWarning: giftiio.write function deprecated. Use nibabel.load() instead.\n",
      "\n",
      "* deprecated from version: 2.1\n",
      "* Will raise <class 'nibabel.deprecator.ExpiredDeprecationError'> as of version: 4.0\n",
      "  \n"
     ]
    }
   ],
   "source": [
    "from nibabel.gifti import GiftiImage, GiftiDataArray\n",
    "from nibabel import gifti\n",
    "another_img = nib.GiftiImage(img.header)\n",
    "intent = 'NIFTI_INTENT_POINTSET'\n",
    "another_img.add_gifti_data_array(GiftiDataArray(r_val_group,intent))\n",
    "gifti.write(another_img, os.path.join(STUDY_PATH,'SurfaceMapping','QSM.DOPA.r_val.R.32k_fs_LR.shape.gii'))"
   ]
  },
  {
   "cell_type": "code",
   "execution_count": 141,
   "metadata": {},
   "outputs": [],
   "source": [
    "nib.save(another_img, os.path.join(STUDY_PATH,'SurfaceMapping','QSM_2.DOPA.r_val.R.32k_fs_LR.shape.gii'))"
   ]
  },
  {
   "cell_type": "code",
   "execution_count": 142,
   "metadata": {},
   "outputs": [],
   "source": [
    "another_img.to_filename(os.path.join(STUDY_PATH,'SurfaceMapping','QSM_3.DOPA.r_val.R.32k_fs_LR.shape.gii'))"
   ]
  },
  {
   "cell_type": "code",
   "execution_count": 164,
   "metadata": {},
   "outputs": [
    {
     "ename": "NameError",
     "evalue": "name 'gifti_write_image' is not defined",
     "output_type": "error",
     "traceback": [
      "\u001b[0;31m---------------------------------------------------------------------------\u001b[0m",
      "\u001b[0;31mNameError\u001b[0m                                 Traceback (most recent call last)",
      "\u001b[0;32m<ipython-input-164-cd20d9cefb0b>\u001b[0m in \u001b[0;36m<module>\u001b[0;34m\u001b[0m\n\u001b[0;32m----> 1\u001b[0;31m \u001b[0mwrite_image\u001b[0m\u001b[0;34m(\u001b[0m\u001b[0mos\u001b[0m\u001b[0;34m.\u001b[0m\u001b[0mpath\u001b[0m\u001b[0;34m.\u001b[0m\u001b[0mjoin\u001b[0m\u001b[0;34m(\u001b[0m\u001b[0mSTUDY_PATH\u001b[0m\u001b[0;34m,\u001b[0m\u001b[0;34m'SurfaceMapping'\u001b[0m\u001b[0;34m,\u001b[0m\u001b[0;34m'QSM_4.DOPA.r_val.R.32k_fs_LR.shape.gii'\u001b[0m\u001b[0;34m)\u001b[0m\u001b[0;34m,\u001b[0m\u001b[0manother_img\u001b[0m\u001b[0;34m)\u001b[0m\u001b[0;34m\u001b[0m\u001b[0;34m\u001b[0m\u001b[0m\n\u001b[0m",
      "\u001b[0;32m<ipython-input-162-80b3094a5c08>\u001b[0m in \u001b[0;36mwrite_image\u001b[0;34m(filename, im)\u001b[0m\n\u001b[1;32m     57\u001b[0m \u001b[0;31m# type(im) = GiftiImage\u001b[0m\u001b[0;34m\u001b[0m\u001b[0;34m\u001b[0m\u001b[0;34m\u001b[0m\u001b[0m\n\u001b[1;32m     58\u001b[0m \u001b[0;32mdef\u001b[0m \u001b[0mwrite_image\u001b[0m\u001b[0;34m(\u001b[0m\u001b[0mfilename\u001b[0m\u001b[0;34m,\u001b[0m \u001b[0mim\u001b[0m\u001b[0;34m)\u001b[0m\u001b[0;34m:\u001b[0m\u001b[0;34m\u001b[0m\u001b[0;34m\u001b[0m\u001b[0m\n\u001b[0;32m---> 59\u001b[0;31m     \u001b[0;32mreturn\u001b[0m\u001b[0;34m(\u001b[0m\u001b[0mgifti_write_image\u001b[0m\u001b[0;34m,\u001b[0m \u001b[0mim\u001b[0m\u001b[0;34m,\u001b[0m \u001b[0mfilename\u001b[0m\u001b[0;34m,\u001b[0m \u001b[0;36m1\u001b[0m\u001b[0;34m)\u001b[0m\u001b[0;34m\u001b[0m\u001b[0;34m\u001b[0m\u001b[0m\n\u001b[0m",
      "\u001b[0;31mNameError\u001b[0m: name 'gifti_write_image' is not defined"
     ]
    }
   ],
   "source": [
    "write_image(os.path.join(STUDY_PATH,'SurfaceMapping','QSM_4.DOPA.r_val.R.32k_fs_LR.shape.gii'),another_img)"
   ]
  },
  {
   "cell_type": "code",
   "execution_count": 100,
   "metadata": {},
   "outputs": [
    {
     "name": "stdout",
     "output_type": "stream",
     "text": [
      "(95, 32492, 1) (95,)\n"
     ]
    }
   ],
   "source": [
    "ima_path=os.path.join(STUDY_PATH,'SurfaceMapping','QSM.DOPA.r_val.R.32k_fs_LR.shape.gii')\n",
    "img = nib.load(ima_path)\n",
    "img_data = [x.data for x in img.darrays]\n",
    "QSM_group.append(np.reshape(img_data,(len(img_data[0]),len(img_data))))"
   ]
  }
 ],
 "metadata": {
  "kernelspec": {
   "display_name": "Python 3",
   "language": "python",
   "name": "python3"
  },
  "language_info": {
   "codemirror_mode": {
    "name": "ipython",
    "version": 3
   },
   "file_extension": ".py",
   "mimetype": "text/x-python",
   "name": "python",
   "nbconvert_exporter": "python",
   "pygments_lexer": "ipython3",
   "version": "3.7.6"
  }
 },
 "nbformat": 4,
 "nbformat_minor": 4
}
