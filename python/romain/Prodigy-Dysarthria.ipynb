{
 "cells": [
  {
   "cell_type": "code",
   "execution_count": 33,
   "metadata": {
    "collapsed": true
   },
   "outputs": [],
   "source": [
    "import pandas as pd \n",
    "import matplotlib.pyplot as plt\n",
    "import numpy as np\n",
    "\n"
   ]
  },
  {
   "cell_type": "code",
   "execution_count": 7,
   "metadata": {
    "collapsed": true
   },
   "outputs": [],
   "source": [
    "DIR=\"/NAS/tupac/protocoles/prodigy2/results/Dysarthrie/2ndLevel_SDGCorr/4v0/\"\n"
   ]
  },
  {
   "cell_type": "code",
   "execution_count": 8,
   "metadata": {
    "collapsed": false
   },
   "outputs": [],
   "source": [
    "df_R2 = pd.read_csv(DIR+'corr.txt',index_col = 0,sep = '\\t')"
   ]
  },
  {
   "cell_type": "code",
   "execution_count": 9,
   "metadata": {
    "collapsed": false
   },
   "outputs": [
    {
     "data": {
      "text/html": [
       "<div>\n",
       "<style scoped>\n",
       "    .dataframe tbody tr th:only-of-type {\n",
       "        vertical-align: middle;\n",
       "    }\n",
       "\n",
       "    .dataframe tbody tr th {\n",
       "        vertical-align: top;\n",
       "    }\n",
       "\n",
       "    .dataframe thead th {\n",
       "        text-align: right;\n",
       "    }\n",
       "</style>\n",
       "<table border=\"1\" class=\"dataframe\">\n",
       "  <thead>\n",
       "    <tr style=\"text-align: right;\">\n",
       "      <th></th>\n",
       "      <th>Dysarthria Global Score OLD</th>\n",
       "      <th>Dysarthria Global Score</th>\n",
       "      <th>Right Central ?</th>\n",
       "      <th>Right superior precentral gyrus</th>\n",
       "      <th>Left triangular part of inferior frontal gyrus</th>\n",
       "      <th>Left posterior thalamus</th>\n",
       "      <th>Right Frontal X?</th>\n",
       "    </tr>\n",
       "  </thead>\n",
       "  <tbody>\n",
       "    <tr>\n",
       "      <th>count</th>\n",
       "      <td>18.000000</td>\n",
       "      <td>18.000000</td>\n",
       "      <td>18.000000</td>\n",
       "      <td>18.000000</td>\n",
       "      <td>18.000000</td>\n",
       "      <td>18.000000</td>\n",
       "      <td>18.000000</td>\n",
       "    </tr>\n",
       "    <tr>\n",
       "      <th>mean</th>\n",
       "      <td>0.366833</td>\n",
       "      <td>-0.058889</td>\n",
       "      <td>0.101982</td>\n",
       "      <td>0.146816</td>\n",
       "      <td>-0.170735</td>\n",
       "      <td>-0.165527</td>\n",
       "      <td>-0.033552</td>\n",
       "    </tr>\n",
       "    <tr>\n",
       "      <th>std</th>\n",
       "      <td>0.243312</td>\n",
       "      <td>0.777605</td>\n",
       "      <td>0.336030</td>\n",
       "      <td>0.681565</td>\n",
       "      <td>0.686197</td>\n",
       "      <td>0.442733</td>\n",
       "      <td>0.413699</td>\n",
       "    </tr>\n",
       "    <tr>\n",
       "      <th>min</th>\n",
       "      <td>0.029000</td>\n",
       "      <td>-1.160000</td>\n",
       "      <td>-0.660937</td>\n",
       "      <td>-1.197239</td>\n",
       "      <td>-1.166594</td>\n",
       "      <td>-0.919743</td>\n",
       "      <td>-0.827783</td>\n",
       "    </tr>\n",
       "    <tr>\n",
       "      <th>25%</th>\n",
       "      <td>0.200000</td>\n",
       "      <td>-0.627500</td>\n",
       "      <td>-0.053777</td>\n",
       "      <td>-0.129491</td>\n",
       "      <td>-0.606872</td>\n",
       "      <td>-0.441311</td>\n",
       "      <td>-0.264010</td>\n",
       "    </tr>\n",
       "    <tr>\n",
       "      <th>50%</th>\n",
       "      <td>0.346000</td>\n",
       "      <td>-0.100000</td>\n",
       "      <td>0.040463</td>\n",
       "      <td>0.093801</td>\n",
       "      <td>-0.229411</td>\n",
       "      <td>-0.085727</td>\n",
       "      <td>-0.092550</td>\n",
       "    </tr>\n",
       "    <tr>\n",
       "      <th>75%</th>\n",
       "      <td>0.497750</td>\n",
       "      <td>0.325000</td>\n",
       "      <td>0.262179</td>\n",
       "      <td>0.573031</td>\n",
       "      <td>0.151856</td>\n",
       "      <td>0.042280</td>\n",
       "      <td>0.122678</td>\n",
       "    </tr>\n",
       "    <tr>\n",
       "      <th>max</th>\n",
       "      <td>0.833000</td>\n",
       "      <td>1.520000</td>\n",
       "      <td>0.916948</td>\n",
       "      <td>1.597968</td>\n",
       "      <td>1.381283</td>\n",
       "      <td>0.897602</td>\n",
       "      <td>0.844557</td>\n",
       "    </tr>\n",
       "  </tbody>\n",
       "</table>\n",
       "</div>"
      ],
      "text/plain": [
       "       Dysarthria Global Score OLD  Dysarthria Global Score  Right Central ?  \\\n",
       "count                    18.000000                18.000000        18.000000   \n",
       "mean                      0.366833                -0.058889         0.101982   \n",
       "std                       0.243312                 0.777605         0.336030   \n",
       "min                       0.029000                -1.160000        -0.660937   \n",
       "25%                       0.200000                -0.627500        -0.053777   \n",
       "50%                       0.346000                -0.100000         0.040463   \n",
       "75%                       0.497750                 0.325000         0.262179   \n",
       "max                       0.833000                 1.520000         0.916948   \n",
       "\n",
       "       Right superior precentral gyrus  \\\n",
       "count                        18.000000   \n",
       "mean                          0.146816   \n",
       "std                           0.681565   \n",
       "min                          -1.197239   \n",
       "25%                          -0.129491   \n",
       "50%                           0.093801   \n",
       "75%                           0.573031   \n",
       "max                           1.597968   \n",
       "\n",
       "       Left triangular part of inferior frontal gyrus  \\\n",
       "count                                       18.000000   \n",
       "mean                                        -0.170735   \n",
       "std                                          0.686197   \n",
       "min                                         -1.166594   \n",
       "25%                                         -0.606872   \n",
       "50%                                         -0.229411   \n",
       "75%                                          0.151856   \n",
       "max                                          1.381283   \n",
       "\n",
       "       Left posterior thalamus  Right Frontal X?  \n",
       "count                18.000000         18.000000  \n",
       "mean                 -0.165527         -0.033552  \n",
       "std                   0.442733          0.413699  \n",
       "min                  -0.919743         -0.827783  \n",
       "25%                  -0.441311         -0.264010  \n",
       "50%                  -0.085727         -0.092550  \n",
       "75%                   0.042280          0.122678  \n",
       "max                   0.897602          0.844557  "
      ]
     },
     "execution_count": 9,
     "metadata": {},
     "output_type": "execute_result"
    }
   ],
   "source": [
    "df_R2.describe()"
   ]
  },
  {
   "cell_type": "code",
   "execution_count": 12,
   "metadata": {
    "collapsed": false
   },
   "outputs": [
    {
     "data": {
      "image/png": "[encoded data removed]",
      "text/plain": [
       "<Figure size 432x288 with 1 Axes>"
      ]
     },
     "metadata": {},
     "output_type": "display_data"
    }
   ],
   "source": [
    "boxplot = df_R2.boxplot()\n",
    "plt.show();"
   ]
  },
  {
   "cell_type": "code",
   "execution_count": 18,
   "metadata": {
    "collapsed": false
   },
   "outputs": [
    {
     "data": {
      "text/html": [
       "<div>\n",
       "<style scoped>\n",
       "    .dataframe tbody tr th:only-of-type {\n",
       "        vertical-align: middle;\n",
       "    }\n",
       "\n",
       "    .dataframe tbody tr th {\n",
       "        vertical-align: top;\n",
       "    }\n",
       "\n",
       "    .dataframe thead th {\n",
       "        text-align: right;\n",
       "    }\n",
       "</style>\n",
       "<table border=\"1\" class=\"dataframe\">\n",
       "  <thead>\n",
       "    <tr style=\"text-align: right;\">\n",
       "      <th></th>\n",
       "      <th>Dysarthria Global Score OLD</th>\n",
       "      <th>Dysarthria Global Score</th>\n",
       "      <th>Right Central ?</th>\n",
       "      <th>Right superior precentral gyrus</th>\n",
       "      <th>Left triangular part of inferior frontal gyrus</th>\n",
       "      <th>Left posterior thalamus</th>\n",
       "      <th>Right Frontal X?</th>\n",
       "    </tr>\n",
       "    <tr>\n",
       "      <th>SUBJ</th>\n",
       "      <th></th>\n",
       "      <th></th>\n",
       "      <th></th>\n",
       "      <th></th>\n",
       "      <th></th>\n",
       "      <th></th>\n",
       "      <th></th>\n",
       "    </tr>\n",
       "  </thead>\n",
       "  <tbody>\n",
       "    <tr>\n",
       "      <th>sub-470227JD060617XPRODIGY20170606</th>\n",
       "      <td>0.423</td>\n",
       "      <td>0.06</td>\n",
       "      <td>0.133420</td>\n",
       "      <td>0.788706</td>\n",
       "      <td>0.143726</td>\n",
       "      <td>-0.189654</td>\n",
       "      <td>-0.184735</td>\n",
       "    </tr>\n",
       "    <tr>\n",
       "      <th>sub-WARLOPPHILIPPEprodigy20171109</th>\n",
       "      <td>0.439</td>\n",
       "      <td>0.20</td>\n",
       "      <td>0.119806</td>\n",
       "      <td>0.109713</td>\n",
       "      <td>-0.934707</td>\n",
       "      <td>0.159018</td>\n",
       "      <td>-0.070293</td>\n",
       "    </tr>\n",
       "    <tr>\n",
       "      <th>sub-530923PL300517XPRODIGY220170530</th>\n",
       "      <td>0.488</td>\n",
       "      <td>0.28</td>\n",
       "      <td>0.287221</td>\n",
       "      <td>0.077889</td>\n",
       "      <td>0.154566</td>\n",
       "      <td>0.097888</td>\n",
       "      <td>-0.298685</td>\n",
       "    </tr>\n",
       "    <tr>\n",
       "      <th>sub-531014CL121017XPRODIGY20171012</th>\n",
       "      <td>0.501</td>\n",
       "      <td>0.34</td>\n",
       "      <td>0.350359</td>\n",
       "      <td>0.643839</td>\n",
       "      <td>0.466295</td>\n",
       "      <td>0.044039</td>\n",
       "      <td>0.123711</td>\n",
       "    </tr>\n",
       "    <tr>\n",
       "      <th>sub-BOURGOISPHILIPPEPRODIGY20171005</th>\n",
       "      <td>0.534</td>\n",
       "      <td>0.40</td>\n",
       "      <td>-0.061226</td>\n",
       "      <td>0.018135</td>\n",
       "      <td>-0.380601</td>\n",
       "      <td>-0.355489</td>\n",
       "      <td>-0.114808</td>\n",
       "    </tr>\n",
       "    <tr>\n",
       "      <th>sub-VERBREGUEJACQUIEPRODIGY20180222</th>\n",
       "      <td>0.748</td>\n",
       "      <td>1.16</td>\n",
       "      <td>0.263376</td>\n",
       "      <td>1.050205</td>\n",
       "      <td>0.884089</td>\n",
       "      <td>0.318834</td>\n",
       "      <td>0.503309</td>\n",
       "    </tr>\n",
       "    <tr>\n",
       "      <th>sub-420916JM101017XPRODIGY20171010</th>\n",
       "      <td>0.752</td>\n",
       "      <td>1.15</td>\n",
       "      <td>0.916948</td>\n",
       "      <td>1.597968</td>\n",
       "      <td>0.554495</td>\n",
       "      <td>0.012061</td>\n",
       "      <td>0.746007</td>\n",
       "    </tr>\n",
       "    <tr>\n",
       "      <th>sub-DERONNEPASCALEPRODIGY20180605</th>\n",
       "      <td>0.833</td>\n",
       "      <td>1.52</td>\n",
       "      <td>0.604680</td>\n",
       "      <td>0.529489</td>\n",
       "      <td>1.381283</td>\n",
       "      <td>0.897602</td>\n",
       "      <td>0.844557</td>\n",
       "    </tr>\n",
       "  </tbody>\n",
       "</table>\n",
       "</div>"
      ],
      "text/plain": [
       "                                     Dysarthria Global Score OLD  \\\n",
       "SUBJ                                                               \n",
       "sub-470227JD060617XPRODIGY20170606                         0.423   \n",
       "sub-WARLOPPHILIPPEprodigy20171109                          0.439   \n",
       "sub-530923PL300517XPRODIGY220170530                        0.488   \n",
       "sub-531014CL121017XPRODIGY20171012                         0.501   \n",
       "sub-BOURGOISPHILIPPEPRODIGY20171005                        0.534   \n",
       "sub-VERBREGUEJACQUIEPRODIGY20180222                        0.748   \n",
       "sub-420916JM101017XPRODIGY20171010                         0.752   \n",
       "sub-DERONNEPASCALEPRODIGY20180605                          0.833   \n",
       "\n",
       "                                     Dysarthria Global Score  Right Central ?  \\\n",
       "SUBJ                                                                            \n",
       "sub-470227JD060617XPRODIGY20170606                      0.06         0.133420   \n",
       "sub-WARLOPPHILIPPEprodigy20171109                       0.20         0.119806   \n",
       "sub-530923PL300517XPRODIGY220170530                     0.28         0.287221   \n",
       "sub-531014CL121017XPRODIGY20171012                      0.34         0.350359   \n",
       "sub-BOURGOISPHILIPPEPRODIGY20171005                     0.40        -0.061226   \n",
       "sub-VERBREGUEJACQUIEPRODIGY20180222                     1.16         0.263376   \n",
       "sub-420916JM101017XPRODIGY20171010                      1.15         0.916948   \n",
       "sub-DERONNEPASCALEPRODIGY20180605                       1.52         0.604680   \n",
       "\n",
       "                                     Right superior precentral gyrus  \\\n",
       "SUBJ                                                                   \n",
       "sub-470227JD060617XPRODIGY20170606                          0.788706   \n",
       "sub-WARLOPPHILIPPEprodigy20171109                           0.109713   \n",
       "sub-530923PL300517XPRODIGY220170530                         0.077889   \n",
       "sub-531014CL121017XPRODIGY20171012                          0.643839   \n",
       "sub-BOURGOISPHILIPPEPRODIGY20171005                         0.018135   \n",
       "sub-VERBREGUEJACQUIEPRODIGY20180222                         1.050205   \n",
       "sub-420916JM101017XPRODIGY20171010                          1.597968   \n",
       "sub-DERONNEPASCALEPRODIGY20180605                           0.529489   \n",
       "\n",
       "                                     Left triangular part of inferior frontal gyrus  \\\n",
       "SUBJ                                                                                  \n",
       "sub-470227JD060617XPRODIGY20170606                                         0.143726   \n",
       "sub-WARLOPPHILIPPEprodigy20171109                                         -0.934707   \n",
       "sub-530923PL300517XPRODIGY220170530                                        0.154566   \n",
       "sub-531014CL121017XPRODIGY20171012                                         0.466295   \n",
       "sub-BOURGOISPHILIPPEPRODIGY20171005                                       -0.380601   \n",
       "sub-VERBREGUEJACQUIEPRODIGY20180222                                        0.884089   \n",
       "sub-420916JM101017XPRODIGY20171010                                         0.554495   \n",
       "sub-DERONNEPASCALEPRODIGY20180605                                          1.381283   \n",
       "\n",
       "                                     Left posterior thalamus  Right Frontal X?  \n",
       "SUBJ                                                                            \n",
       "sub-470227JD060617XPRODIGY20170606                 -0.189654         -0.184735  \n",
       "sub-WARLOPPHILIPPEprodigy20171109                   0.159018         -0.070293  \n",
       "sub-530923PL300517XPRODIGY220170530                 0.097888         -0.298685  \n",
       "sub-531014CL121017XPRODIGY20171012                  0.044039          0.123711  \n",
       "sub-BOURGOISPHILIPPEPRODIGY20171005                -0.355489         -0.114808  \n",
       "sub-VERBREGUEJACQUIEPRODIGY20180222                 0.318834          0.503309  \n",
       "sub-420916JM101017XPRODIGY20171010                  0.012061          0.746007  \n",
       "sub-DERONNEPASCALEPRODIGY20180605                   0.897602          0.844557  "
      ]
     },
     "execution_count": 18,
     "metadata": {},
     "output_type": "execute_result"
    }
   ],
   "source": [
    " df_R2[df_R2['Dysarthria Global Score']>=0]\n",
    "    "
   ]
  },
  {
   "cell_type": "code",
   "execution_count": 24,
   "metadata": {
    "collapsed": false
   },
   "outputs": [
    {
     "ename": "AttributeError",
     "evalue": "'DataFrame' object has no attribute 'intersection'",
     "output_type": "error",
     "traceback": [
      "\u001b[0;31m---------------------------------------------------------------------------\u001b[0m",
      "\u001b[0;31mAttributeError\u001b[0m                            Traceback (most recent call last)",
      "\u001b[0;32m<ipython-input-24-8fca6b20754a>\u001b[0m in \u001b[0;36m<module>\u001b[0;34m()\u001b[0m\n\u001b[0;32m----> 1\u001b[0;31m \u001b[0mdf_R2\u001b[0m\u001b[0;34m[\u001b[0m\u001b[0mdf_R2\u001b[0m\u001b[0;34m[\u001b[0m\u001b[0;34m'Dysarthria Global Score'\u001b[0m\u001b[0;34m]\u001b[0m\u001b[0;34m>=\u001b[0m\u001b[0;36m0\u001b[0m\u001b[0;34m]\u001b[0m\u001b[0;34m.\u001b[0m\u001b[0mintersection\u001b[0m\u001b[0;34m(\u001b[0m\u001b[0mdf_R2\u001b[0m\u001b[0;34m[\u001b[0m\u001b[0;34m\"Left triangular part of inferior frontal gyrus\"\u001b[0m\u001b[0;34m]\u001b[0m\u001b[0;34m)\u001b[0m\u001b[0;34m\u001b[0m\u001b[0m\n\u001b[0m",
      "\u001b[0;32m/home/global/anaconda3/lib/python3.5/site-packages/pandas/core/generic.py\u001b[0m in \u001b[0;36m__getattr__\u001b[0;34m(self, name)\u001b[0m\n\u001b[1;32m   4374\u001b[0m             \u001b[0;32mif\u001b[0m \u001b[0mself\u001b[0m\u001b[0;34m.\u001b[0m\u001b[0m_info_axis\u001b[0m\u001b[0;34m.\u001b[0m\u001b[0m_can_hold_identifiers_and_holds_name\u001b[0m\u001b[0;34m(\u001b[0m\u001b[0mname\u001b[0m\u001b[0;34m)\u001b[0m\u001b[0;34m:\u001b[0m\u001b[0;34m\u001b[0m\u001b[0m\n\u001b[1;32m   4375\u001b[0m                 \u001b[0;32mreturn\u001b[0m \u001b[0mself\u001b[0m\u001b[0;34m[\u001b[0m\u001b[0mname\u001b[0m\u001b[0;34m]\u001b[0m\u001b[0;34m\u001b[0m\u001b[0m\n\u001b[0;32m-> 4376\u001b[0;31m             \u001b[0;32mreturn\u001b[0m \u001b[0mobject\u001b[0m\u001b[0;34m.\u001b[0m\u001b[0m__getattribute__\u001b[0m\u001b[0;34m(\u001b[0m\u001b[0mself\u001b[0m\u001b[0;34m,\u001b[0m \u001b[0mname\u001b[0m\u001b[0;34m)\u001b[0m\u001b[0;34m\u001b[0m\u001b[0m\n\u001b[0m\u001b[1;32m   4377\u001b[0m \u001b[0;34m\u001b[0m\u001b[0m\n\u001b[1;32m   4378\u001b[0m     \u001b[0;32mdef\u001b[0m \u001b[0m__setattr__\u001b[0m\u001b[0;34m(\u001b[0m\u001b[0mself\u001b[0m\u001b[0;34m,\u001b[0m \u001b[0mname\u001b[0m\u001b[0;34m,\u001b[0m \u001b[0mvalue\u001b[0m\u001b[0;34m)\u001b[0m\u001b[0;34m:\u001b[0m\u001b[0;34m\u001b[0m\u001b[0m\n",
      "\u001b[0;31mAttributeError\u001b[0m: 'DataFrame' object has no attribute 'intersection'"
     ]
    }
   ],
   "source": [
    " df_R2[df_R2['Dysarthria Global Score']>=0].intersection(df_R2[\"Left triangular part of inferior frontal gyrus\"])"
   ]
  },
  {
   "cell_type": "code",
   "execution_count": 34,
   "metadata": {
    "collapsed": false
   },
   "outputs": [
    {
     "ename": "NameError",
     "evalue": "name 'numpy' is not defined",
     "output_type": "error",
     "traceback": [
      "\u001b[0;31m---------------------------------------------------------------------------\u001b[0m",
      "\u001b[0;31mNameError\u001b[0m                                 Traceback (most recent call last)",
      "\u001b[0;32m<ipython-input-34-1a893e902fe1>\u001b[0m in \u001b[0;36m<module>\u001b[0;34m()\u001b[0m\n\u001b[0;32m----> 1\u001b[0;31m \u001b[0mnumpy\u001b[0m\u001b[0;34m.\u001b[0m\u001b[0mwhere\u001b[0m\u001b[0;34m(\u001b[0m\u001b[0mdf_R2\u001b[0m\u001b[0;34m[\u001b[0m\u001b[0mdf_R2\u001b[0m\u001b[0;34m[\u001b[0m\u001b[0;34m'Dysarthria Global Score'\u001b[0m\u001b[0;34m]\u001b[0m\u001b[0;34m>=\u001b[0m\u001b[0;36m0\u001b[0m\u001b[0;34m]\u001b[0m\u001b[0;34m[\u001b[0m\u001b[0;34m\"Left triangular part of inferior frontal gyrus\"\u001b[0m\u001b[0;34m]\u001b[0m\u001b[0;34m)\u001b[0m\u001b[0;34m\u001b[0m\u001b[0m\n\u001b[0m",
      "\u001b[0;31mNameError\u001b[0m: name 'numpy' is not defined"
     ]
    }
   ],
   "source": [
    "numpy.where(df_R2[df_R2['Dysarthria Global Score']>=0][\"Left triangular part of inferior frontal gyrus\"])"
   ]
  },
  {
   "cell_type": "code",
   "execution_count": 51,
   "metadata": {
    "collapsed": false
   },
   "outputs": [
    {
     "name": "stdout",
     "output_type": "stream",
     "text": [
      "AxesSubplot(0.125,0.125;0.775x0.755)\n"
     ]
    }
   ],
   "source": [
    "test1=np.array(df_R2[df_R2['Dysarthria Global Score']>=0][\"Left triangular part of inferior frontal gyrus\"])\n",
    "test2=np.array(df_R2[df_R2['Dysarthria Global Score']<0][\"Left triangular part of inferior frontal gyrus\"])\n",
    "plt.violinplot([test1,test2],showextrema=False)\n",
    "plt.boxplot([test1,test2])\n",
    "plt.xticks([1,2],['Non-Dys','Dys'])\n",
    "axes = plt.gca() \n",
    "print(axes)\n",
    "#yt = plt.gca(gca, 'YTick')\n",
    "#print(yt)\n",
    "#axis([xlim    np.min(yt)  (max(yt)*1.2)])\n",
    "\n",
    "#locs, labels = plt.yticks() \n",
    "#print(locs)\n",
    "#plt.show()\n"
   ]
  }
 ],
 "metadata": {
  "anaconda-cloud": {},
  "kernelspec": {
   "display_name": "Python [default]",
   "language": "python",
   "name": "python3"
  },
  "language_info": {
   "codemirror_mode": {
    "name": "ipython",
    "version": 3
   },
   "file_extension": ".py",
   "mimetype": "text/x-python",
   "name": "python",
   "nbconvert_exporter": "python",
   "pygments_lexer": "ipython3",
   "version": "3.5.2"
  }
 },
 "nbformat": 4,
 "nbformat_minor": 1
}
