{
 "cells": [
  {
   "cell_type": "code",
   "execution_count": 2,
   "metadata": {
    "collapsed": true
   },
   "outputs": [],
   "source": [
    "import os\n",
    "import argparse\n",
    "import nibabel as nib\n",
    "import dipy as dp\n",
    "import numpy as np\n",
    "from nibabel.streamlines import Field"
   ]
  },
  {
   "cell_type": "code",
   "execution_count": 3,
   "metadata": {
    "collapsed": false
   },
   "outputs": [
    {
     "name": "stdout",
     "output_type": "stream",
     "text": [
      "1.1.1\n"
     ]
    }
   ],
   "source": [
    "print(dp.__version__)"
   ]
  },
  {
   "cell_type": "code",
   "execution_count": 4,
   "metadata": {
    "collapsed": true
   },
   "outputs": [],
   "source": [
    "bundle = nib.streamlines.load(\"/NAS/dumbo/protocoles/CogPhenoPark/TractSeg/100269SD100714/FOD_iFOD2_trackings/SLF_III_left.tck\")\n",
    "bundle2 = nib.streamlines.load(\"/NAS/dumbo/protocoles/CogPhenoPark/TractSeg_output/100269SD100714/FOD_iFOD2_trackings/SLF_III_left.tck\")"
   ]
  },
  {
   "cell_type": "code",
   "execution_count": 5,
   "metadata": {
    "collapsed": false
   },
   "outputs": [
    {
     "name": "stdout",
     "output_type": "stream",
     "text": [
      "<class 'nibabel.streamlines.tck.TckFile'>\n",
      "\n",
      "MAGIC NUMBER: b'mrtrix tracks'\n",
      "datatype: Float32LE\n",
      "roi: mask /tmp/870506.1.one_job_q/tmpzvm35i35/SLF_III_left.nii.gz\n",
      "lmax: 8\n",
      "nb_streamlines: 3515\n",
      "rk4: 0\n",
      "magic_number: b'mrtrix tracks'\n",
      "source: /NAS/dumbo/protocoles/CogPhenoPark/TractSeg_output/100269SD100714/WM_FODs.nii.gz\n",
      "threshold: 0.05\n",
      "samples_per_step: 4\n",
      "voxel_to_rasmm: [[1. 0. 0. 0.]\n",
      " [0. 1. 0. 0.]\n",
      " [0. 0. 1. 0.]\n",
      " [0. 0. 0. 1.]]\n",
      "unidirectional: 0\n",
      "sh_precomputed: 1\n",
      "max_dist: 250\n",
      "mrtrix_version: 3.0_RC3_latest-41-gd2d21a19\n",
      "file: . 1068\n",
      "method: iFOD2\n",
      "max_num_seeds: 200000\n",
      "init_threshold: 0.0500000007\n",
      "stop_on_all_include: 0\n",
      "downsample_factor: 3\n",
      "timestamp: 1578934310.2195401192\n",
      "count: 3515\n",
      "endianness: <\n",
      "min_dist: 40\n",
      "max_trials: 1000\n",
      "total_count: 200000\n",
      "output_step_size: 1\n",
      "step_size: 1\n",
      "fod_power: 0.25\n",
      "max_num_tracks: 1500000\n",
      "max_angle: 45\n",
      "max_seed_attempts: 1000\n"
     ]
    }
   ],
   "source": [
    "print(type(bundle))\n",
    "print(bundle2)"
   ]
  },
  {
   "cell_type": "code",
   "execution_count": null,
   "metadata": {
    "collapsed": false
   },
   "outputs": [],
   "source": [
    "from dipy.io.dpy import Dpy\n",
    "dpw = Dpy(\"/NAS/dumbo/protocoles/CogPhenoPark/TractSeg/100269SD100714/FOD_iFOD2_trackings/SLF_III_left.tck\", 'r')"
   ]
  },
  {
   "cell_type": "code",
   "execution_count": 30,
   "metadata": {
    "collapsed": false
   },
   "outputs": [],
   "source": [
    "from dipy.io.streamline import load_tck\n",
    "from dipy.io.streamline import load_tractogram\n",
    "\n",
    "bundle1=load_tck(\"/NAS/dumbo/protocoles/CogPhenoPark/TractSeg_output/100269SD100714/FOD_iFOD2_trackings/SLF_III_left.tck\",\"/NAS/dumbo/protocoles/CogPhenoPark/TractSeg_output/100269SD100714/FA.nii.gz\")\n",
    "bundle2=load_tck(\"/NAS/dumbo/protocoles/CogPhenoPark/TractSeg/100269SD100714/FOD_iFOD2_trackings/SLF_III_left.tck\",\"/NAS/dumbo/protocoles/CogPhenoPark/TractSeg/100269SD100714/FA.nii.gz\")"
   ]
  },
  {
   "cell_type": "code",
   "execution_count": 35,
   "metadata": {
    "collapsed": false
   },
   "outputs": [
    {
     "name": "stdout",
     "output_type": "stream",
     "text": [
      "<class 'nibabel.streamlines.array_sequence.ArraySequence'>\n",
      "3515\n",
      "(97, 3)\n"
     ]
    }
   ],
   "source": [
    "print(type(bundle1.streamlines))\n",
    "print(len(bundle1.streamlines))\n",
    "print((bundle1.streamlines[0].shape))"
   ]
  },
  {
   "cell_type": "code",
   "execution_count": 32,
   "metadata": {
    "collapsed": false
   },
   "outputs": [
    {
     "ename": "ValueError",
     "evalue": "All dimensions, except the first one, must match exactly",
     "output_type": "error",
     "traceback": [
      "\u001b[0;31m---------------------------------------------------------------------------\u001b[0m",
      "\u001b[0;31mValueError\u001b[0m                                Traceback (most recent call last)",
      "\u001b[0;32m<ipython-input-32-2f3cb65ef3b6>\u001b[0m in \u001b[0;36m<module>\u001b[0;34m()\u001b[0m\n\u001b[0;32m----> 1\u001b[0;31m \u001b[0mbundle1\u001b[0m\u001b[0;34m.\u001b[0m\u001b[0mstreamlines\u001b[0m\u001b[0;34m.\u001b[0m\u001b[0mextend\u001b[0m\u001b[0;34m(\u001b[0m\u001b[0mbundle2\u001b[0m\u001b[0;34m.\u001b[0m\u001b[0mstreamlines\u001b[0m\u001b[0;34m.\u001b[0m\u001b[0mget_data\u001b[0m\u001b[0;34m(\u001b[0m\u001b[0;34m)\u001b[0m\u001b[0;34m)\u001b[0m\u001b[0;34m\u001b[0m\u001b[0m\n\u001b[0m",
      "\u001b[0;32m/home/global/anaconda3/lib/python3.5/site-packages/nibabel/streamlines/array_sequence.py\u001b[0m in \u001b[0;36mextend\u001b[0;34m(self, elements)\u001b[0m\n\u001b[1;32m    309\u001b[0m             \u001b[0me0\u001b[0m \u001b[0;34m=\u001b[0m \u001b[0mnp\u001b[0m\u001b[0;34m.\u001b[0m\u001b[0masarray\u001b[0m\u001b[0;34m(\u001b[0m\u001b[0melements\u001b[0m\u001b[0;34m[\u001b[0m\u001b[0;36m0\u001b[0m\u001b[0;34m]\u001b[0m\u001b[0;34m)\u001b[0m\u001b[0;34m\u001b[0m\u001b[0m\n\u001b[1;32m    310\u001b[0m             \u001b[0mn_elements\u001b[0m \u001b[0;34m=\u001b[0m \u001b[0mnp\u001b[0m\u001b[0;34m.\u001b[0m\u001b[0msum\u001b[0m\u001b[0;34m(\u001b[0m\u001b[0;34m[\u001b[0m\u001b[0mlen\u001b[0m\u001b[0;34m(\u001b[0m\u001b[0me\u001b[0m\u001b[0;34m)\u001b[0m \u001b[0;32mfor\u001b[0m \u001b[0me\u001b[0m \u001b[0;32min\u001b[0m \u001b[0melements\u001b[0m\u001b[0;34m]\u001b[0m\u001b[0;34m)\u001b[0m\u001b[0;34m\u001b[0m\u001b[0m\n\u001b[0;32m--> 311\u001b[0;31m             \u001b[0mself\u001b[0m\u001b[0;34m.\u001b[0m\u001b[0m_build_cache\u001b[0m \u001b[0;34m=\u001b[0m \u001b[0m_BuildCache\u001b[0m\u001b[0;34m(\u001b[0m\u001b[0mself\u001b[0m\u001b[0;34m,\u001b[0m \u001b[0me0\u001b[0m\u001b[0;34m.\u001b[0m\u001b[0mshape\u001b[0m\u001b[0;34m[\u001b[0m\u001b[0;36m1\u001b[0m\u001b[0;34m:\u001b[0m\u001b[0;34m]\u001b[0m\u001b[0;34m,\u001b[0m \u001b[0me0\u001b[0m\u001b[0;34m.\u001b[0m\u001b[0mdtype\u001b[0m\u001b[0;34m)\u001b[0m\u001b[0;34m\u001b[0m\u001b[0m\n\u001b[0m\u001b[1;32m    312\u001b[0m             self._resize_data_to(self._get_next_offset() + n_elements,\n\u001b[1;32m    313\u001b[0m                                  self._build_cache)\n",
      "\u001b[0;32m/home/global/anaconda3/lib/python3.5/site-packages/nibabel/streamlines/array_sequence.py\u001b[0m in \u001b[0;36m__init__\u001b[0;34m(self, arr_seq, common_shape, dtype)\u001b[0m\n\u001b[1;32m     45\u001b[0m         \u001b[0;32mif\u001b[0m \u001b[0marr_seq\u001b[0m\u001b[0;34m.\u001b[0m\u001b[0mcommon_shape\u001b[0m \u001b[0;34m!=\u001b[0m \u001b[0;34m(\u001b[0m\u001b[0;34m)\u001b[0m \u001b[0;32mand\u001b[0m \u001b[0mcommon_shape\u001b[0m \u001b[0;34m!=\u001b[0m \u001b[0marr_seq\u001b[0m\u001b[0;34m.\u001b[0m\u001b[0mcommon_shape\u001b[0m\u001b[0;34m:\u001b[0m\u001b[0;34m\u001b[0m\u001b[0m\n\u001b[1;32m     46\u001b[0m             raise ValueError(\n\u001b[0;32m---> 47\u001b[0;31m                 \"All dimensions, except the first one, must match exactly\")\n\u001b[0m\u001b[1;32m     48\u001b[0m         \u001b[0mself\u001b[0m\u001b[0;34m.\u001b[0m\u001b[0mcommon_shape\u001b[0m \u001b[0;34m=\u001b[0m \u001b[0mcommon_shape\u001b[0m\u001b[0;34m\u001b[0m\u001b[0m\n\u001b[1;32m     49\u001b[0m         \u001b[0mn_in_row\u001b[0m \u001b[0;34m=\u001b[0m \u001b[0mreduce\u001b[0m\u001b[0;34m(\u001b[0m\u001b[0mmul\u001b[0m\u001b[0;34m,\u001b[0m \u001b[0mcommon_shape\u001b[0m\u001b[0;34m,\u001b[0m \u001b[0;36m1\u001b[0m\u001b[0;34m)\u001b[0m\u001b[0;34m\u001b[0m\u001b[0m\n",
      "\u001b[0;31mValueError\u001b[0m: All dimensions, except the first one, must match exactly"
     ]
    }
   ],
   "source": [
    "bundle1.streamlines.extend(bundle2.streamlines.get_data())"
   ]
  },
  {
   "cell_type": "code",
   "execution_count": 38,
   "metadata": {
    "collapsed": false
   },
   "outputs": [
    {
     "name": "stdout",
     "output_type": "stream",
     "text": [
      "(269046, 3)\n"
     ]
    }
   ],
   "source": [
    "print(bundle1.streamlines.get_data().shape)"
   ]
  },
  {
   "cell_type": "code",
   "execution_count": 39,
   "metadata": {
    "collapsed": true
   },
   "outputs": [],
   "source": [
    "import tractseg"
   ]
  },
  {
   "cell_type": "code",
   "execution_count": 41,
   "metadata": {
    "collapsed": true
   },
   "outputs": [],
   "source": [
    "dpw = dp.io.dpy.Dpy(\"/NAS/dumbo/protocoles/CogPhenoPark/TractSeg_output/100269SD100714/FOD_iFOD2_trackings/test.dpy\", 'w')                \n",
    "bundle = nib.streamlines.load(\"/NAS/dumbo/protocoles/CogPhenoPark/TractSeg_output/100269SD100714/FOD_iFOD2_trackings/SLF_III_left.tck\")\n",
    "dpw.write_tracks(bundle.streamlines)\n",
    "bundle = nib.streamlines.load(\"/NAS/dumbo/protocoles/CogPhenoPark/TractSeg/100269SD100714/FOD_iFOD2_trackings/SLF_III_left.tck\")\n",
    "dpw.write_tracks(bundle.streamlines)\n",
    "dpw.close()"
   ]
  },
  {
   "cell_type": "code",
   "execution_count": 42,
   "metadata": {
    "collapsed": true
   },
   "outputs": [],
   "source": [
    "from dipy.io.streamline import save_tck\n",
    "dpw = dp.io.dpy.Dpy(\"/NAS/dumbo/protocoles/CogPhenoPark/TractSeg_output/100269SD100714/FOD_iFOD2_trackings/test.dpy\", 'r')                \n",
    "strlines=dpw.read_tracks()\n"
   ]
  },
  {
   "cell_type": "code",
   "execution_count": 45,
   "metadata": {
    "collapsed": false
   },
   "outputs": [
    {
     "name": "stdout",
     "output_type": "stream",
     "text": [
      "<class 'dipy.io.dpy.Dpy'>\n"
     ]
    }
   ],
   "source": [
    "print(type(dpw))"
   ]
  },
  {
   "cell_type": "code",
   "execution_count": 43,
   "metadata": {
    "collapsed": false
   },
   "outputs": [
    {
     "ename": "AttributeError",
     "evalue": "'ArraySequence' object has no attribute 'is_bbox_in_vox_valid'",
     "output_type": "error",
     "traceback": [
      "\u001b[0;31m---------------------------------------------------------------------------\u001b[0m",
      "\u001b[0;31mAttributeError\u001b[0m                            Traceback (most recent call last)",
      "\u001b[0;32m<ipython-input-43-76dea24f164e>\u001b[0m in \u001b[0;36m<module>\u001b[0;34m()\u001b[0m\n\u001b[0;32m----> 1\u001b[0;31m \u001b[0msave_tck\u001b[0m\u001b[0;34m(\u001b[0m\u001b[0mstrlines\u001b[0m\u001b[0;34m,\u001b[0m\u001b[0;34m\"/NAS/dumbo/protocoles/CogPhenoPark/TractSeg_output/100269SD100714/FOD_iFOD2_trackings/test.tck\"\u001b[0m\u001b[0;34m)\u001b[0m\u001b[0;34m\u001b[0m\u001b[0m\n\u001b[0m",
      "\u001b[0;32m/home/global/anaconda3/lib/python3.5/site-packages/dipy/io/streamline.py\u001b[0m in \u001b[0;36mf_gen\u001b[0;34m(sft, filename, bbox_valid_check)\u001b[0m\n\u001b[1;32m    227\u001b[0m             raise ValueError('This function can only save {} file, for more'\n\u001b[1;32m    228\u001b[0m                              ' generability use save_tractogram instead.'.format(ttype))\n\u001b[0;32m--> 229\u001b[0;31m         \u001b[0msave_tractogram\u001b[0m\u001b[0;34m(\u001b[0m\u001b[0msft\u001b[0m\u001b[0;34m,\u001b[0m \u001b[0mfilename\u001b[0m\u001b[0;34m,\u001b[0m \u001b[0mbbox_valid_check\u001b[0m\u001b[0;34m=\u001b[0m\u001b[0mbbox_valid_check\u001b[0m\u001b[0;34m)\u001b[0m\u001b[0;34m\u001b[0m\u001b[0m\n\u001b[0m\u001b[1;32m    230\u001b[0m \u001b[0;34m\u001b[0m\u001b[0m\n\u001b[1;32m    231\u001b[0m     f_gen.__doc__ = save_tractogram.__doc__.replace(\n",
      "\u001b[0;32m/home/global/anaconda3/lib/python3.5/site-packages/dipy/io/streamline.py\u001b[0m in \u001b[0;36msave_tractogram\u001b[0;34m(sft, filename, bbox_valid_check)\u001b[0m\n\u001b[1;32m     39\u001b[0m         \u001b[0;32mraise\u001b[0m \u001b[0mTypeError\u001b[0m\u001b[0;34m(\u001b[0m\u001b[0;34m'Output filename is not one of the supported format'\u001b[0m\u001b[0;34m)\u001b[0m\u001b[0;34m\u001b[0m\u001b[0m\n\u001b[1;32m     40\u001b[0m \u001b[0;34m\u001b[0m\u001b[0m\n\u001b[0;32m---> 41\u001b[0;31m     \u001b[0;32mif\u001b[0m \u001b[0mbbox_valid_check\u001b[0m \u001b[0;32mand\u001b[0m \u001b[0;32mnot\u001b[0m \u001b[0msft\u001b[0m\u001b[0;34m.\u001b[0m\u001b[0mis_bbox_in_vox_valid\u001b[0m\u001b[0;34m(\u001b[0m\u001b[0;34m)\u001b[0m\u001b[0;34m:\u001b[0m\u001b[0;34m\u001b[0m\u001b[0m\n\u001b[0m\u001b[1;32m     42\u001b[0m         raise ValueError('Bounding box is not valid in voxel space, cannot '\n\u001b[1;32m     43\u001b[0m                          \u001b[0;34m'load a valid file if some coordinates are '\u001b[0m\u001b[0;34m\u001b[0m\u001b[0m\n",
      "\u001b[0;31mAttributeError\u001b[0m: 'ArraySequence' object has no attribute 'is_bbox_in_vox_valid'"
     ]
    }
   ],
   "source": [
    "save_tck(strlines,\"/NAS/dumbo/protocoles/CogPhenoPark/TractSeg_output/100269SD100714/FOD_iFOD2_trackings/test.tck\")"
   ]
  }
 ],
 "metadata": {
  "anaconda-cloud": {},
  "kernelspec": {
   "display_name": "Python [default]",
   "language": "python",
   "name": "python3"
  },
  "language_info": {
   "codemirror_mode": {
    "name": "ipython",
    "version": 3
   },
   "file_extension": ".py",
   "mimetype": "text/x-python",
   "name": "python",
   "nbconvert_exporter": "python",
   "pygments_lexer": "ipython3",
   "version": "3.5.2"
  }
 },
 "nbformat": 4,
 "nbformat_minor": 1
}
