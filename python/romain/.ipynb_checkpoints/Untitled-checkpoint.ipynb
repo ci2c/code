{
 "cells": [
  {
   "cell_type": "code",
   "execution_count": 1,
   "metadata": {
    "collapsed": true
   },
   "outputs": [],
   "source": [
    "import os,sys\n",
    "import argparse\n",
    "import nibabel as nib\n",
    "import numpy as np\n",
    "import nrrd\n",
    "from nibabel.freesurfer.mghformat import load\n",
    "from zipfile import ZipFile\n",
    "import csv\n",
    "\n",
    "from GroomUtils import *\n",
    "from OptimizeUtils import *\n",
    "from AnalyzeUtils import *"
   ]
  },
  {
   "cell_type": "code",
   "execution_count": 30,
   "metadata": {
    "collapsed": false
   },
   "outputs": [
    {
     "ename": "AttributeError",
     "evalue": "module 'GroomUtils' has no attribute '__version__'",
     "output_type": "error",
     "traceback": [
      "\u001b[0;31m---------------------------------------------------------------------------\u001b[0m",
      "\u001b[0;31mAttributeError\u001b[0m                            Traceback (most recent call last)",
      "\u001b[0;32m<ipython-input-30-e552b2c6a0a0>\u001b[0m in \u001b[0;36m<module>\u001b[0;34m()\u001b[0m\n\u001b[1;32m      1\u001b[0m \u001b[0;32mimport\u001b[0m \u001b[0mOptimizeUtils\u001b[0m\u001b[0;34m\u001b[0m\u001b[0m\n\u001b[0;32m----> 2\u001b[0;31m \u001b[0mGroomUtils\u001b[0m\u001b[0;34m.\u001b[0m\u001b[0m__version__\u001b[0m\u001b[0;34m\u001b[0m\u001b[0m\n\u001b[0m",
      "\u001b[0;31mAttributeError\u001b[0m: module 'GroomUtils' has no attribute '__version__'"
     ]
    }
   ],
   "source": [
    "import OptimizeUtils\n",
    "GroomUtils.__version__"
   ]
  },
  {
   "cell_type": "code",
   "execution_count": 46,
   "metadata": {
    "collapsed": false
   },
   "outputs": [
    {
     "ename": "IndentationError",
     "evalue": "unindent does not match any outer indentation level (<ipython-input-46-a73f5adcd19c>, line 5)",
     "output_type": "error",
     "traceback": [
      "\u001b[0;36m  File \u001b[0;32m\"<ipython-input-46-a73f5adcd19c>\"\u001b[0;36m, line \u001b[0;32m5\u001b[0m\n\u001b[0;31m    header['space origin']=[-25.5,-47.5,-58.]\u001b[0m\n\u001b[0m                                             ^\u001b[0m\n\u001b[0;31mIndentationError\u001b[0m\u001b[0;31m:\u001b[0m unindent does not match any outer indentation level\n"
     ]
    }
   ],
   "source": [
    "fileList = sorted(glob.glob(\"/NAS/dumbo/protocoles/CogPhenoPark/CortThick_Quentin/Shape/ShapeWorks/PrepOutput/G/groom_and_meshes/G[1-4]*_LeftCaudate.isores.pad.com.aligned.cropped.tpSmoothDT.nrrd\"))\n",
    "\n",
    "for ima in fileList :\n",
    "    readdata,header=nrrd.read(ima)\n",
    "    header['space origin']=[-25.5,-47.5,-58.]\n",
    "    nrrd.write(ima.replace(\"isores.pad.com.aligned.cropped.tpSmoothDT\",\"groomed\"),readdata,header)\n",
    "    \n"
   ]
  },
  {
   "cell_type": "code",
   "execution_count": 42,
   "metadata": {
    "collapsed": false
   },
   "outputs": [],
   "source": [
    "header['space origin']=[-25.5,-47.5,-58. ]"
   ]
  },
  {
   "cell_type": "code",
   "execution_count": 45,
   "metadata": {
    "collapsed": false
   },
   "outputs": [
    {
     "name": "stdout",
     "output_type": "stream",
     "text": [
      "OrderedDict([('type', 'float'), ('dimension', 3), ('space', 'left-posterior-superior'), ('sizes', array([112,  78,  83])), ('space directions', array([[1., 0., 0.],\n",
      "       [0., 1., 0.],\n",
      "       [0., 0., 1.]])), ('kinds', ['domain', 'domain', 'domain']), ('endian', 'little'), ('encoding', 'raw'), ('space origin', array([-25.5, -47.5, -58. ]))])\n"
     ]
    }
   ],
   "source": [
    "print(header)"
   ]
  },
  {
   "cell_type": "code",
   "execution_count": 2,
   "metadata": {
    "collapsed": true
   },
   "outputs": [],
   "source": [
    "installpath = \"/home/global/ShapeWork51/bin\"\n",
    "os.environ[\"PATH\"] = installpath + \":\" + os.environ[\"PATH\"]\n",
    "#repertoire à modifier pour la sortie \n",
    "parentDir=\"/NAS/dumbo/protocoles/CogPhenoPark/CortThick_Quentin/Shape/ShapeWorks/\"\n",
    "if not os.path.exists(parentDir):\n",
    "\tos.makedirs(parentDir)\n",
    "fileList = sorted(glob.glob(\"/NAS/dumbo/protocoles/CogPhenoPark/CortThick_Quentin/Shape/Data_Groupes/LeftCaudate/G[1-4]*_LeftCaudate.nii\"))\n"
   ]
  },
  {
   "cell_type": "code",
   "execution_count": 6,
   "metadata": {
    "collapsed": true
   },
   "outputs": [],
   "source": [
    "parentDir = parentDir+'/PrepOutput/G'\n",
    "pointDir = parentDir+'/PointFiles/'\n",
    "\n",
    "dtFiles = sorted(glob.glob(\"/NAS/dumbo/protocoles/CogPhenoPark/CortThick_Quentin/Shape/ShapeWorks/PrepOutput/G/distance_transforms/*.nrrd\"))\n",
    "localPointFiles = sorted(glob.glob(\"/NAS/dumbo/protocoles/CogPhenoPark/CortThick_Quentin/Shape/ShapeWorks/PrepOutput/G/MeshFiles-Local/*.particles\"))\n",
    "worldPointFiles = sorted(glob.glob(\"/NAS/dumbo/protocoles/CogPhenoPark/CortThick_Quentin/Shape/ShapeWorks/PrepOutput/G/MeshFiles-World/*.particles\"))"
   ]
  },
  {
   "cell_type": "code",
   "execution_count": 7,
   "metadata": {
    "collapsed": false
   },
   "outputs": [
    {
     "ename": "FileNotFoundError",
     "evalue": "[Errno 2] No such file or directory: '/NAS/dumbo/protocoles/CogPhenoPark/CortThick_Quentin/Shape/ShapeWorks//PrepOutput/G/PrepOutput/G/PrepOutput/G/PointFiles//shapeworksview2.xml'",
     "output_type": "error",
     "traceback": [
      "\u001b[0;31m---------------------------------------------------------------------------\u001b[0m",
      "\u001b[0;31mFileNotFoundError\u001b[0m                         Traceback (most recent call last)",
      "\u001b[0;32m<ipython-input-7-28eb9d45e667>\u001b[0m in \u001b[0;36m<module>\u001b[0;34m()\u001b[0m\n\u001b[0;32m----> 1\u001b[0;31m \u001b[0mlaunchShapeWorksView2\u001b[0m\u001b[0;34m(\u001b[0m\u001b[0mpointDir\u001b[0m\u001b[0;34m,\u001b[0m \u001b[0mdtFiles\u001b[0m\u001b[0;34m,\u001b[0m \u001b[0mlocalPointFiles\u001b[0m\u001b[0;34m,\u001b[0m \u001b[0mworldPointFiles\u001b[0m\u001b[0;34m)\u001b[0m\u001b[0;34m\u001b[0m\u001b[0m\n\u001b[0m",
      "\u001b[0;32m/home/romain/SVN/python/romain/AnalyzeUtils.py\u001b[0m in \u001b[0;36mlaunchShapeWorksView2\u001b[0;34m(parentDir, dtFiles, localPointFiles, worldPointFiles)\u001b[0m\n\u001b[1;32m     87\u001b[0m \u001b[0;32mdef\u001b[0m \u001b[0mlaunchShapeWorksView2\u001b[0m\u001b[0;34m(\u001b[0m\u001b[0mparentDir\u001b[0m\u001b[0;34m,\u001b[0m \u001b[0mdtFiles\u001b[0m\u001b[0;34m,\u001b[0m \u001b[0mlocalPointFiles\u001b[0m\u001b[0;34m,\u001b[0m \u001b[0mworldPointFiles\u001b[0m\u001b[0;34m)\u001b[0m\u001b[0;34m:\u001b[0m\u001b[0;34m\u001b[0m\u001b[0m\n\u001b[1;32m     88\u001b[0m         \u001b[0mxmlfilename\u001b[0m \u001b[0;34m=\u001b[0m \u001b[0mparentDir\u001b[0m \u001b[0;34m+\u001b[0m \u001b[0;34m'/shapeworksview2.xml'\u001b[0m\u001b[0;34m\u001b[0m\u001b[0m\n\u001b[0;32m---> 89\u001b[0;31m         \u001b[0mcreate_View2_xml\u001b[0m\u001b[0;34m(\u001b[0m\u001b[0mxmlfilename\u001b[0m\u001b[0;34m,\u001b[0m \u001b[0mdtFiles\u001b[0m\u001b[0;34m,\u001b[0m \u001b[0mlocalPointFiles\u001b[0m\u001b[0;34m,\u001b[0m \u001b[0mworldPointFiles\u001b[0m\u001b[0;34m)\u001b[0m\u001b[0;34m\u001b[0m\u001b[0m\n\u001b[0m\u001b[1;32m     90\u001b[0m         \u001b[0mcreate_cpp_xml\u001b[0m\u001b[0;34m(\u001b[0m\u001b[0mxmlfilename\u001b[0m\u001b[0;34m,\u001b[0m \u001b[0mxmlfilename\u001b[0m\u001b[0;34m)\u001b[0m\u001b[0;34m\u001b[0m\u001b[0m\n\u001b[1;32m     91\u001b[0m         \u001b[0mexecCommand\u001b[0m \u001b[0;34m=\u001b[0m \u001b[0;34m\"ShapeWorksView2 \"\u001b[0m \u001b[0;34m+\u001b[0m \u001b[0mxmlfilename\u001b[0m \u001b[0;34m+\u001b[0m \u001b[0;34m\" &\"\u001b[0m\u001b[0;34m\u001b[0m\u001b[0m\n",
      "\u001b[0;32m/home/romain/SVN/python/romain/AnalyzeUtils.py\u001b[0m in \u001b[0;36mcreate_View2_xml\u001b[0;34m(xmlfilename, dtFiles, localPointFiles, worldPointFiles)\u001b[0m\n\u001b[1;32m     54\u001b[0m \u001b[0;34m\u001b[0m\u001b[0m\n\u001b[1;32m     55\u001b[0m         \u001b[0mdata\u001b[0m \u001b[0;34m=\u001b[0m \u001b[0mET\u001b[0m\u001b[0;34m.\u001b[0m\u001b[0mtostring\u001b[0m\u001b[0;34m(\u001b[0m\u001b[0mroot\u001b[0m\u001b[0;34m,\u001b[0m \u001b[0mencoding\u001b[0m\u001b[0;34m=\u001b[0m\u001b[0;34m'unicode'\u001b[0m\u001b[0;34m)\u001b[0m\u001b[0;34m\u001b[0m\u001b[0m\n\u001b[0;32m---> 56\u001b[0;31m         \u001b[0mfile\u001b[0m \u001b[0;34m=\u001b[0m \u001b[0mopen\u001b[0m\u001b[0;34m(\u001b[0m\u001b[0mxmlfilename\u001b[0m\u001b[0;34m,\u001b[0m \u001b[0;34m\"w+\"\u001b[0m\u001b[0;34m)\u001b[0m\u001b[0;34m\u001b[0m\u001b[0m\n\u001b[0m\u001b[1;32m     57\u001b[0m         \u001b[0mfile\u001b[0m\u001b[0;34m.\u001b[0m\u001b[0mwrite\u001b[0m\u001b[0;34m(\u001b[0m\u001b[0mdata\u001b[0m\u001b[0;34m)\u001b[0m\u001b[0;34m\u001b[0m\u001b[0m\n\u001b[1;32m     58\u001b[0m \u001b[0;34m\u001b[0m\u001b[0m\n",
      "\u001b[0;31mFileNotFoundError\u001b[0m: [Errno 2] No such file or directory: '/NAS/dumbo/protocoles/CogPhenoPark/CortThick_Quentin/Shape/ShapeWorks//PrepOutput/G/PrepOutput/G/PrepOutput/G/PointFiles//shapeworksview2.xml'"
     ]
    }
   ],
   "source": [
    "launchShapeWorksView2(pointDir, dtFiles, localPointFiles, worldPointFiles)\n"
   ]
  },
  {
   "cell_type": "code",
   "execution_count": 10,
   "metadata": {
    "collapsed": false
   },
   "outputs": [],
   "source": [
    "pointDir=\"/NAS/dumbo/protocoles/CogPhenoPark/CortThick_Quentin/Shape/ShapeWorks//PrepOutput/G/PointFiles/\""
   ]
  },
  {
   "cell_type": "code",
   "execution_count": 14,
   "metadata": {
    "collapsed": false
   },
   "outputs": [],
   "source": [
    "launchShapeWorksView2(pointDir,list('/NAS/dumbo/protocoles/CogPhenoPark/CortThick_Quentin/Shape/ShapeWorks//PrepOutput/G/PointFiles/1024/G3_sub_T84010_LeftCaudate.isores.pad.com.aligned.cropped.tpSmoothDT_world.particles'),list('/NAS/dumbo/protocoles/CogPhenoPark/CortThick_Quentin/Shape/ShapeWorks//PrepOutput/G/PointFiles/1024/G3_sub_T84010_LeftCaudate.isores.pad.com.aligned.cropped.tpSmoothDT_local.particles'),list('/NAS/dumbo/protocoles/CogPhenoPark/CortThick_Quentin/Shape/ShapeWorks//PrepOutput/G/PointFiles/1024/G3_sub_T84010_LeftCaudate.isores.pad.com.aligned.cropped.tpSmoothDT_world.particles'))\n"
   ]
  },
  {
   "cell_type": "code",
   "execution_count": null,
   "metadata": {
    "collapsed": true
   },
   "outputs": [],
   "source": [
    "if not os.path.exists(parentDir):\n",
    "\tos.makedirs(parentDir)\n",
    "\n",
    "for ima in fileList :\n",
    "\timg = nib.load(ima)\n",
    "\tnrrd.write(ima.replace(\".nii\",\".nrrd\"), np.asanyarray(img.get_fdata()))\n",
    "\n",
    "fileList = sorted(glob.glob(\"/NAS/dumbo/protocoles/CogPhenoPark/CortThick_Quentin/Shape/Data_Groupes/LeftCaudate/G[1-4]*_LeftCaudate.nrrd\"))\n",
    "print(fileList)\n",
    "\n",
    "resampledFiles = applyIsotropicResampling(parentDir, fileList, 1)\n",
    "paddedFiles = applyPadding(parentDir, resampledFiles, 10)\n",
    "comFiles = applyCOMAlignment(parentDir, paddedFiles, paddedFiles)\n",
    "rigidFiles = applyRigidAlignment(parentDir, comFiles, comFiles[0])\n",
    "croppedFiles = applyCropping(parentDir, rigidFiles, rigidFiles)\n",
    "dtFiles = applyDistanceTransforms(parentDir, croppedFiles)\n",
    "\n",
    "pointDir = parentDir+'/PointFiles/'"
   ]
  }
 ],
 "metadata": {
  "kernelspec": {
   "display_name": "Python [default]",
   "language": "python",
   "name": "python3"
  },
  "language_info": {
   "codemirror_mode": {
    "name": "ipython",
    "version": 3
   },
   "file_extension": ".py",
   "mimetype": "text/x-python",
   "name": "python",
   "nbconvert_exporter": "python",
   "pygments_lexer": "ipython3",
   "version": "3.5.2"
  }
 },
 "nbformat": 4,
 "nbformat_minor": 1
}
