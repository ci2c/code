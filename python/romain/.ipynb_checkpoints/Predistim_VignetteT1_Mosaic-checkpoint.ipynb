{
 "cells": [
  {
   "cell_type": "code",
   "execution_count": 2,
   "metadata": {
    "collapsed": true
   },
   "outputs": [],
   "source": [
    "from dipy.io.image import load_nifti, save_nifti\n",
    "from dipy.viz import window, actor, ui\n",
    "import os\n",
    "import nibabel as nib\n",
    "import glob"
   ]
  },
  {
   "cell_type": "code",
   "execution_count": 59,
   "metadata": {
    "collapsed": true
   },
   "outputs": [],
   "source": [
    "file_list=glob.glob('/NAS/deathrow/protocoles/predistim/2018-07-30_t1_segmentations/06/*/*/freesurfer_nu.nii.gz')\n",
    "for ima in file_list :\n",
    "    data, affine = load_nifti(ima)\n",
    "    renderer = window.Renderer()\n",
    "    renderer.background((0.5, 0.5, 0.5))\n",
    "    mean, std = data[data > 0].mean(), data[data > 0].std()\n",
    "    mean, std = data[slice_actor2.shape[0]//2,:,:].mean(), data[slice_actor2.shape[0]//2,:,:].std()\n",
    "    value_range = (mean - 0.5 * std, mean + 1.5 * std)\n",
    "    slice_actor = actor.slicer(data, affine, value_range)\n",
    "    renderer.add(slice_actor)\n",
    "    slice_actor2 = slice_actor.copy()\n",
    "    slice_actor2.display(slice_actor2.shape[0]//2, None, None)\n",
    "    renderer.add(slice_actor2)\n",
    "    renderer.reset_camera()\n",
    "    renderer.zoom(1.4)\n",
    "    file_name=ima.split('/')[6]+'_'+ima.split('/')[7]+'.png'\n",
    "    window.record(renderer, out_path=file_name, size=(600, 600),reset_camera=False)"
   ]
  },
  {
   "cell_type": "code",
   "execution_count": 31,
   "metadata": {},
   "outputs": [
    {
     "name": "stdout",
     "output_type": "stream",
     "text": [
      "(256, 256, 256)\n",
      "0\n",
      "665.0\n",
      "266\n",
      "665.0\n",
      "532\n",
      "665.0\n",
      "798\n",
      "665.0\n",
      "1064\n",
      "665.0\n"
     ]
    }
   ],
   "source": [
    "cnt = 50\n",
    "renderer = window.Renderer()\n",
    "renderer.background((0.5, 0.5, 0.5))\n",
    "\n",
    "X, Y, Z = slice_actor.shape[:3]\n",
    "print slice_actor.shape[:3]\n",
    "rows = 1\n",
    "cols = 5\n",
    "border = 10\n",
    "\n",
    "for j in range(rows):\n",
    "    for i in range(cols):\n",
    "        slice_mosaic = slice_actor.copy()\n",
    "        slice_mosaic.display(None, None, cnt)\n",
    "        slice_mosaic.SetPosition((X + border) * i,0.5 * cols * (Y + border) - (Y + border) * j,0)\n",
    "        print((X + border) * i)\n",
    "        print(0.5 * cols * (Y + border) - (Y + border) * j)\n",
    "        slice_mosaic.SetInterpolate(False)\n",
    "        renderer.add(slice_mosaic)\n",
    "        cnt += 30\n",
    "        if cnt > Z:\n",
    "            break\n",
    "    if cnt > Z:\n",
    "        break\n",
    "\n",
    "renderer.reset_camera()\n",
    "renderer.zoom(1.0)\n",
    "window.record(renderer, out_path='mosaic2.png', size=(2000,400),reset_camera=False)\n",
    "#window.record(renderer, size=(2000,400),reset_camera=False)"
   ]
  },
  {
   "cell_type": "code",
   "execution_count": 13,
   "metadata": {},
   "outputs": [],
   "source": [
    "file_list=glob.glob('/NAS/deathrow/protocoles/predistim/2018-12-12_3dmultigre/19/*/QSM_matlab2019/wQSM.nii.gz')\n",
    "for ima in file_list :\n",
    "    data, affine = load_nifti(ima)\n",
    "    renderer = window.Renderer()\n",
    "    renderer.background((0.5, 0.5, 0.5))\n",
    "    value_range = (-1000, 1000)\n",
    "    slice_actor = actor.slicer(data, affine, value_range)\n",
    "    renderer.add(slice_actor)\n",
    "    slice_actor2 = slice_actor.copy()\n",
    "    slice_actor2.display(slice_actor2.shape[0]//2, None, None)\n",
    "    renderer.add(slice_actor2)\n",
    "    renderer.reset_camera()\n",
    "    renderer.zoom(1.4)\n",
    "    file_name=ima.split('/')[6]+'_'+ima.split('/')[7]+'.png'\n",
    "    window.record(renderer, out_path='''/NAS/deathrow/protocoles/predistim/screenshots/QSM_ind/'''+file_name, size=(600, 600),reset_camera=False)"
   ]
  }
 ],
 "metadata": {
  "kernelspec": {
   "display_name": "Python 2",
   "language": "python",
   "name": "python2"
  },
  "language_info": {
   "codemirror_mode": {
    "name": "ipython",
    "version": 2
   },
   "file_extension": ".py",
   "mimetype": "text/x-python",
   "name": "python",
   "nbconvert_exporter": "python",
   "pygments_lexer": "ipython2",
   "version": "2.7.13"
  }
 },
 "nbformat": 4,
 "nbformat_minor": 2
}
