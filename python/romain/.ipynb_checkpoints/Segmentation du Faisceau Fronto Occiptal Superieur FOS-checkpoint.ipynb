{
 "cells": [
  {
   "cell_type": "markdown",
   "metadata": {},
   "source": [
    "# Segmentation du Faisceau Fronto Occiptal Superieur FOS"
   ]
  },
  {
   "cell_type": "code",
   "execution_count": 1,
   "metadata": {
    "collapsed": true
   },
   "outputs": [],
   "source": [
    "SUBJ_ID=\"T02S01\"\n",
    "NAS=\"tupac\"\n",
    "protocole=\"healthy_volunteers\"\n",
    "DIR_PATH=\"/NAS/\"+NAS+\"/protocoles/\"+protocole\n",
    "FS_PATH=DIR_PATH+\"/FS53/\"\n",
    "DTI_PATH=FS_PATH+SUBJ_ID+\"/dti/\"\n",
    "TRACTO=\"whole_brain_6_1500000\"#\"LongueFibres_SIFT\"\n",
    "TRACTO_RES=\"FOS\"\n",
    "MESH=\"lh.white.ras\"\n",
    "ATLAS_FA=\"/home/global/fsl509/data/atlases/JHU/JHU-ICBM-FA-2mm.nii.gz\"\n",
    "ATLAS_LABEL=\"/home/global/fsl509/data/atlases/JHU/JHU-ICBM-labels-2mm.nii.gz\"\n",
    "SUBJ_FA=DTI_PATH+\"dti_finalcor_FA.nii.gz\"\n",
    "FDWI = DTI_PATH+\"dti.nii.gz\"\n",
    "FBVAL = DTI_PATH+\"dti.bval\"\n",
    "FBVEC = DTI_PATH+\"dti.bvec\"\n",
    "SEG = DTI_PATH+\"raparc+aseg.nii\""
   ]
  },
  {
   "cell_type": "code",
   "execution_count": null,
   "metadata": {
    "collapsed": true
   },
   "outputs": [],
   "source": [
    "from dipy.io.image import load_nifti, save_nifti\n",
    "from dipy.io import read_bvals_bvecs\n",
    "from dipy.core.gradients import gradient_table\n",
    "from dipy.reconst.dti import TensorModel\n",
    "from dipy.reconst.csdeconv import (ConstrainedSphericalDeconvModel,auto_response)\n",
    "from dipy.reconst.shm import CsaOdfModel\n",
    "from dipy.direction import ProbabilisticDirectionGetter\n",
    "from dipy.viz import fvtk\n",
    "from dipy.viz.colormap import line_colors\n",
    "from dipy.tracking.local import LocalTracking\n",
    "from dipy.tracking.local import ThresholdTissueClassifier\n",
    "from dipy.tracking import utils\n",
    "from dipy.data import default_sphere\n",
    "from dipy.direction import peaks_from_model\n",
    "\n",
    "from skimage import segmentation\n",
    "from skimage import morphology\n",
    "from skimage import measure\n",
    "\n",
    "import numpy as np\n",
    "import nipype.interfaces.mrtrix as mrt\n",
    "from nibabel import trackvis as tv\n",
    "from matplotlib import pyplot as plt"
   ]
  },
  {
   "cell_type": "code",
   "execution_count": null,
   "metadata": {
    "collapsed": true
   },
   "outputs": [],
   "source": [
    "data_dwi, affine = load_nifti(FDWI)\n",
    "data_fa, affine = load_nifti(SUBJ_FA)\n",
    "bvals, bvecs = read_bvals_bvecs(FBVAL,FBVEC)\n",
    "gtab = gradient_table(bvals,bvecs)\n",
    "data_seg, affine = load_nifti(SEG)"
   ]
  },
  {
   "cell_type": "code",
   "execution_count": 1,
   "metadata": {},
   "outputs": [
    {
     "ename": "NameError",
     "evalue": "name 'load_nifti' is not defined",
     "output_type": "error",
     "traceback": [
      "\u001b[0;31m---------------------------------------------------------------------------\u001b[0m",
      "\u001b[0;31mNameError\u001b[0m                                 Traceback (most recent call last)",
      "\u001b[0;32m<ipython-input-1-251e75ebdf88>\u001b[0m in \u001b[0;36m<module>\u001b[0;34m()\u001b[0m\n\u001b[0;32m----> 1\u001b[0;31m \u001b[0mdata_colorfa\u001b[0m\u001b[0;34m,\u001b[0m \u001b[0maffine\u001b[0m \u001b[0;34m=\u001b[0m \u001b[0mload_nifti\u001b[0m\u001b[0;34m(\u001b[0m\u001b[0mDTI_PATH\u001b[0m\u001b[0;34m+\u001b[0m\u001b[0;34m\"colorfa.nii.gz\"\u001b[0m\u001b[0;34m)\u001b[0m\u001b[0;34m\u001b[0m\u001b[0m\n\u001b[0m\u001b[1;32m      2\u001b[0m \u001b[0mplt\u001b[0m\u001b[0;34m.\u001b[0m\u001b[0mimshow\u001b[0m\u001b[0;34m(\u001b[0m\u001b[0mdata_colorfa\u001b[0m\u001b[0;34m[\u001b[0m\u001b[0;34m:\u001b[0m\u001b[0;34m,\u001b[0m\u001b[0;34m:\u001b[0m\u001b[0;34m,\u001b[0m\u001b[0;36m24\u001b[0m\u001b[0;34m,\u001b[0m\u001b[0;36m1\u001b[0m\u001b[0;34m]\u001b[0m\u001b[0;34m)\u001b[0m\u001b[0;34m\u001b[0m\u001b[0m\n\u001b[1;32m      3\u001b[0m \u001b[0mplt\u001b[0m\u001b[0;34m.\u001b[0m\u001b[0mcolorbar\u001b[0m\u001b[0;34m(\u001b[0m\u001b[0;34m)\u001b[0m\u001b[0;34m\u001b[0m\u001b[0m\n\u001b[1;32m      4\u001b[0m \u001b[0;32mprint\u001b[0m\u001b[0;34m(\u001b[0m\u001b[0;34m\"data_colorfa\"\u001b[0m\u001b[0;34m)\u001b[0m\u001b[0;34m\u001b[0m\u001b[0m\n\u001b[1;32m      5\u001b[0m \u001b[0mplt\u001b[0m\u001b[0;34m.\u001b[0m\u001b[0mshow\u001b[0m\u001b[0;34m(\u001b[0m\u001b[0;34m)\u001b[0m\u001b[0;34m\u001b[0m\u001b[0m\n",
      "\u001b[0;31mNameError\u001b[0m: name 'load_nifti' is not defined"
     ]
    }
   ],
   "source": [
    "data_colorfa, affine = load_nifti(DTI_PATH+\"colorfa.nii.gz\")\n",
    "plt.imshow(data_colorfa[:,:,24,1])\n",
    "plt.colorbar()\n",
    "print(\"data_colorfa\")\n",
    "plt.show()"
   ]
  },
  {
   "cell_type": "code",
   "execution_count": 7,
   "metadata": {},
   "outputs": [
    {
     "data": {
      "image/png": "[encoded data removed]",
      "text/plain": [
       "<matplotlib.figure.Figure at 0x7f3fd08c6e50>"
      ]
     },
     "metadata": {},
     "output_type": "display_data"
    }
   ],
   "source": [
    "white_matter = ((data_seg == 41) | (data_seg == 2)) \n",
    "plt.imshow(white_matter[:,:,24])\n",
    "plt.show()"
   ]
  },
  {
   "cell_type": "code",
   "execution_count": 8,
   "metadata": {},
   "outputs": [
    {
     "data": {
      "image/png": "[encoded data removed]",
      "text/plain": [
       "<matplotlib.figure.Figure at 0x7f404153f7d0>"
      ]
     },
     "metadata": {},
     "output_type": "display_data"
    }
   ],
   "source": [
    "val=0.5\n",
    "mask_cc=((data_seg == 41) & (data_colorfa[:,:,:,1] > val))\n",
    "filter_mask_cc = morphology.remove_small_objects(mask_cc)\n",
    "clear_image = segmentation.clear_border(filter_mask_cc)\n",
    "#filter_mask_cc_e = morphology.binary_erosion(clear_image)\n",
    "#filter_mask_cc_d = morphology.binary_dilation(filter_mask_cc_e);\n",
    "plt.imshow(clear_image[:,:,24])\n",
    "plt.show()\n",
    "#plt.imshow(filter_mask_cc_f[62,:,:])\n",
    "#plt.show()\n",
    "#dilated2_a = morphology.binary_dilation(eroded_a)"
   ]
  },
  {
   "cell_type": "code",
   "execution_count": 9,
   "metadata": {},
   "outputs": [
    {
     "name": "stdout",
     "output_type": "stream",
     "text": [
      "886\n",
      "(47.039503386004512, 47.629796839729117, 24.906320541760721)\n",
      "137\n",
      "(43.649635036496349, 58.416058394160586, 36.956204379562045)\n",
      "72\n",
      "(53.263888888888886, 90.916666666666671, 26.125)\n",
      "98\n",
      "(57.918367346938773, 64.775510204081627, 39.387755102040813)\n"
     ]
    }
   ],
   "source": [
    "labels = morphology.label(clear_image,background=0)\n",
    "props = measure.regionprops(labels)\n",
    "for prop in props:\n",
    "    print prop.area\n",
    "    print prop.centroid"
   ]
  },
  {
   "cell_type": "markdown",
   "metadata": {},
   "source": [
    "## Probabilistic Tracking"
   ]
  },
  {
   "cell_type": "code",
   "execution_count": 10,
   "metadata": {
    "collapsed": true
   },
   "outputs": [],
   "source": [
    "seed_mask1=(labels==1)\n",
    "seeds1 = utils.seeds_from_mask(seed_mask1, density=[2, 2, 2], affine=affine)\n",
    "seed_mask2=(labels==2)\n",
    "seeds2 = utils.seeds_from_mask(seed_mask2, density=[2, 2, 2], affine=affine)\n",
    "seed_mask3=(labels==3)\n",
    "seeds3 = utils.seeds_from_mask(seed_mask3, density=[2, 2, 2], affine=affine)\n",
    "seed_mask4=(labels==4)\n",
    "seeds4 = utils.seeds_from_mask(seed_mask2, density=[2, 2, 2], affine=affine)"
   ]
  },
  {
   "cell_type": "code",
   "execution_count": 11,
   "metadata": {
    "collapsed": true
   },
   "outputs": [],
   "source": [
    "response, ratio = auto_response(gtab, data_dwi, roi_radius=10, fa_thr=0.7)\n",
    "csd_model = ConstrainedSphericalDeconvModel(gtab, response, sh_order=6)\n",
    "csd_fit = csd_model.fit(data_dwi, mask=white_matter)\n",
    "prob_dg = ProbabilisticDirectionGetter.from_shcoeff(csd_fit.shm_coeff,max_angle=30.,sphere=default_sphere)\n",
    "\n",
    "csa_model = CsaOdfModel(gtab, sh_order=6)\n",
    "csa_peaks = peaks_from_model(csa_model, data_dwi, default_sphere,relative_peak_threshold=.8,min_separation_angle=45,mask=white_matter)\n",
    "classifier = ThresholdTissueClassifier(csa_peaks.gfa, .25)"
   ]
  },
  {
   "cell_type": "code",
   "execution_count": 14,
   "metadata": {
    "collapsed": true
   },
   "outputs": [],
   "source": [
    "streamlines1 = LocalTracking(prob_dg, classifier, seeds1, affine,step_size=.5, max_cross=1)\n",
    "streamlines2 = LocalTracking(prob_dg, classifier, seeds2, affine,step_size=.5, max_cross=1)\n",
    "streamlines3 = LocalTracking(prob_dg, classifier, seeds3, affine,step_size=.5, max_cross=1)\n",
    "streamlines4 = LocalTracking(prob_dg, classifier, seeds4, affine,step_size=.5, max_cross=1)\n",
    "\n",
    "# Compute streamlines and store as a list.\n",
    "streamlines1 = list(streamlines1)\n",
    "streamlines2 = list(streamlines2)\n",
    "streamlines3 = list(streamlines3)\n",
    "streamlines4 = list(streamlines4)"
   ]
  },
  {
   "cell_type": "code",
   "execution_count": 20,
   "metadata": {
    "collapsed": true
   },
   "outputs": [],
   "source": [
    "mask_cc, affine = load_nifti(DTI_PATH+\"filter_mask_cc_d.nii\")\n",
    "other_streamlines = utils.target(streamlines1, mask_cc, affine=affine,include=False)\n",
    "other_streamlines = list(other_streamlines)"
   ]
  },
  {
   "cell_type": "code",
   "execution_count": 21,
   "metadata": {
    "collapsed": true
   },
   "outputs": [],
   "source": [
    "#color = line_colors(streamlines)\n",
    "\n",
    "r = fvtk.ren()\n",
    "#streamlines_actor = fvtk.line(streamlines, line_colors(streamlines))\n",
    "#fvtk.add(r, streamlines_actor)\n",
    "fvtk.add(r, fvtk.streamtube(streamlines1,fvtk.colors.white,linewidth=0.2,opacity=0.1));\n",
    "fvtk.add(r, fvtk.streamtube(other_streamlines,fvtk.colors.red,linewidth=0.2,opacity=0.1));\n",
    "#fvtk.add(r, fvtk.streamtube(streamlines3,fvtk.colors.green,linewidth=0.2,opacity=0.1));\n",
    "#fvtk.add(r, fvtk.streamtube(streamlines3,fvtk.colors.blue,linewidth=0.2,opacity=0.1));\n",
    "#fvtk.record(r, n_frames=1, out_path='probabilistic.png',size=(800, 800))\n",
    "fvtk.show(r)"
   ]
  },
  {
   "cell_type": "markdown",
   "metadata": {},
   "source": [
    "## Sauvegarde ROI & Tracks"
   ]
  },
  {
   "cell_type": "code",
   "execution_count": 19,
   "metadata": {
    "collapsed": true
   },
   "outputs": [],
   "source": [
    "#save_nifti(DTI_PATH+\"seed_mask1.nii\",seed_mask1.astype(float),affine)\n",
    "#!tckedit -force -minlength 30 -include $DTI_PATH\"seed_mask1.nii\" $DTI_PATH$TRACTO\".tck\" $DTI_PATH\"seed_mask1.tck\"\n",
    "#!tckstats $DTI_PATH\"seed_mask1.tck\"\n",
    "!mrview -load $SUBJ_FA -load $SUBJ_FA -tractography.load $DTI_PATH\"seed_mask1.tck\""
   ]
  }
 ],
 "metadata": {
  "kernelspec": {
   "display_name": "Python 2",
   "language": "python",
   "name": "python2"
  },
  "language_info": {
   "codemirror_mode": {
    "name": "ipython",
    "version": 2
   },
   "file_extension": ".py",
   "mimetype": "text/x-python",
   "name": "python",
   "nbconvert_exporter": "python",
   "pygments_lexer": "ipython2",
   "version": "2.7.13"
  }
 },
 "nbformat": 4,
 "nbformat_minor": 2
}
