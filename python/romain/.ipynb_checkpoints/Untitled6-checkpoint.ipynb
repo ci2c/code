{
 "cells": [
  {
   "cell_type": "code",
   "execution_count": null,
   "metadata": {
    "collapsed": true
   },
   "outputs": [],
   "source": [
    "sliceorder = np.array([]);\n",
    "space = round(np.sqrt(40));\n",
    "for k in np.arange(1,space+1):\n",
    "    tmp=np.arange(k,40+1,space)\n",
    "    sliceorder=np.concatenate([sliceorder,tmp])\n",
    "TA = TRsec / Nslices\n",
    "slicetiming=sliceorder*TA-TA"
   ]
  }
 ],
 "metadata": {
  "kernelspec": {
   "display_name": "Python 2",
   "language": "python",
   "name": "python2"
  },
  "language_info": {
   "codemirror_mode": {
    "name": "ipython",
    "version": 2
   },
   "file_extension": ".py",
   "mimetype": "text/x-python",
   "name": "python",
   "nbconvert_exporter": "python",
   "pygments_lexer": "ipython2",
   "version": "2.7.13"
  }
 },
 "nbformat": 4,
 "nbformat_minor": 1
}
