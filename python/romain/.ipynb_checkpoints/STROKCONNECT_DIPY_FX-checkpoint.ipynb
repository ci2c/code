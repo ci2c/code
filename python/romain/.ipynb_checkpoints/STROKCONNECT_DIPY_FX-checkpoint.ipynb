{
 "cells": [
  {
   "cell_type": "code",
   "execution_count": null,
   "metadata": {
    "collapsed": true
   },
   "outputs": [],
   "source": [
    "import os\n",
    "import argparse\n",
    "import nibabel as nib\n",
    "import dipy as dp\n",
    "from nibabel.streamlines import Field\n",
    "from nibabel.orientations import aff2axcodes\n",
    "from dipy.viz import fvtk\n",
    "from dipy.segment.bundles import RecoBundles\n",
    "\n",
    "from dipy.segment.metric import ResampleFeature\n",
    "from dipy.segment.metric import AveragePointwiseEuclideanMetric\n",
    "from dipy.segment.metric import CenterOfMassFeature\n",
    "from dipy.segment.metric import EuclideanMetric\n",
    "from dipy.segment.metric import IdentityFeature\n",
    "from dipy.segment.clustering import QuickBundles\n",
    "from dipy.viz import actor, window\n",
    "from dipy.io.image import load_nifti, save_nifti\n",
    "import numpy as np\n",
    "\n",
    "from time import sleep\n",
    "from dipy.align.streamlinear import StreamlineLinearRegistration\n",
    "from dipy.tracking.streamline import transform_streamlines\n",
    "from dipy.tracking.streamline import set_number_of_points\n",
    "from scipy.interpolate import griddata,RegularGridInterpolator\n",
    "import matplotlib.pyplot as plt\n",
    "from dipy.tracking import utils\n",
    "\n",
    "from scipy import stats\n",
    "from dipy.io.streamline import load_trk, save_trk\n",
    "from dipy.tracking.streamline import Streamlines\n",
    "import statsmodels.stats.multitest as mt"
   ]
  },
  {
   "cell_type": "code",
   "execution_count": 3,
   "metadata": {},
   "outputs": [
    {
     "name": "stdout",
     "output_type": "stream",
     "text": [
      "13\n",
      "12\n",
      "26\n",
      "AUMONT^SEBASTIEN_I_CERE_2014-08-12 0 0 15 33\n",
      "BAILLIE^MARIE_PIERRE_STROKE_CONNECT_2014-09-10 0 0 15 59\n",
      "BOUMLIK^SAID_I_CERE_2014-09-03 2 0 14 59\n",
      "CHOPIN^JEAN_MARIE_STROKE_CONNECT_2016-02-29 9 9 13 7\n",
      "DE_RIEMAECKER^HENRI_I_CERE_2015-09-08 0 0 15 33\n",
      "DIAS^ANTHONY_I_CERE_2015-10-20 2 0 15 23\n",
      "FACON^PASCALE_I_CERE_2014-12-19 7 11 10 24\n",
      "GOSSEIN^JEAN_PIERRE_I_CERE_2014-08-13 8 7 14 11\n",
      "HERBIN^GERARD_I_CERE_2015-07-02 3 2 14 38\n",
      "NORO^JEAN_NOEL_STROKE_CONNECT_2015-06-05 4 5 12 60\n",
      "NOYON^THADEE_I_CERE_2015-07-03 6 4 15 6\n",
      "VANRENTERGHEM^DAVID_I_CERE_2015-10-06 0 0 15 62\n"
     ]
    }
   ],
   "source": [
    "NAS=\"dumbo\"\n",
    "protocole=\"strokconnect\"\n",
    "DIR_PATH=\"/NAS/\"+NAS+\"/protocoles/\"+protocole\n",
    "FS_PATH=DIR_PATH+\"/FS53/\"\n",
    "SUBJECT=\"AUMONT^SEBASTIEN_I_CERE_2014-08-12\" #\"DE_RIEMAECKER^HENRI_I_CERE_2015-09-08\"\n",
    "TCK_LOCATION=FS_PATH+SUBJECT+'''/dti/'''\n",
    "all_list=['AUMONT^SEBASTIEN_I_CERE_2014-08-12','BAILLIE^MARIE_PIERRE_STROKE_CONNECT_2014-09-10','BERTELOOT^DAMIEN_I_CERE_2015-03-17','BERTELOOT^PATRICE_I_CERE_2015-09-08','BLANC^HELENE_I_CERE_2014-12-18','BOUMLIK^SAID_I_CERE_2014-09-03','BOURDON^PAULETTE_I_CERE_2015-01-21','CARPENTIER^SANDRA_I_CERE_2014-11-28','CHOPIN^JEAN_MARIE_STROKE_CONNECT_2016-02-29','DAVELUY^WALTER_stroke_connect_2015-04-27','DE_RIEMAECKER^HENRI_I_CERE_2015-09-08','DIAS^ANTHONY_I_CERE_2015-10-20','DJEMAI^ALI_I_CERE_2015-11-16','EZELIN^ERIC_IRM_CEREBRALE_2014-12-10','FACON^PASCALE_I_CERE_2014-12-19','GOSSEIN^JEAN_PIERRE_I_CERE_2014-08-13','HEMARD^VERONIQUE_I_CERE_2016-02-24','HERBIN^GERARD_I_CERE_2015-07-02','KOLLIKER^ALAIN_IRM_CEREBRALE_2016-02-24','KOPCIUCH^FRANCOIS_I_CERE_2015-06-10','Le_Nestour_Christian_2015-07-07','NORO^JEAN_NOEL_STROKE_CONNECT_2015-06-05','NOYON^THADEE_I_CERE_2015-07-03','VANRENTERGHEM^DAVID_I_CERE_2015-10-06','VANTORRE^MICHELE_I_CERE_2015-09-25','VANTORRE^PIERRE_I_CERE_2015-09-25']\n",
    "pts_list=['AUMONT^SEBASTIEN_I_CERE_2014-08-12','BAILLIE^MARIE_PIERRE_STROKE_CONNECT_2014-09-10','BOUMLIK^SAID_I_CERE_2014-09-03','CHOPIN^JEAN_MARIE_STROKE_CONNECT_2016-02-29','DE_RIEMAECKER^HENRI_I_CERE_2015-09-08','DIAS^ANTHONY_I_CERE_2015-10-20','FACON^PASCALE_I_CERE_2014-12-19','GOSSEIN^JEAN_PIERRE_I_CERE_2014-08-13','HERBIN^GERARD_I_CERE_2015-07-02','NORO^JEAN_NOEL_STROKE_CONNECT_2015-06-05','NOYON^THADEE_I_CERE_2015-07-03','VANRENTERGHEM^DAVID_I_CERE_2015-10-06']#,'HEMARD^VERONIQUE_I_CERE_2016-02-24',\n",
    "Cloches=[0,0,2,9,0,2,7,8,3,4,6,0]\n",
    "ECB=[0,0,0,9,0,0,11,7,2,5,4,0]\n",
    "Fluff=[15,15,14,13,15,15,10,14,14,12,15,15]\n",
    "FuflMeyer=[33,59,59,7,33,23,24,11,38,60,6,62]\n",
    "\n",
    "ctrls_list=['BERTELOOT^DAMIEN_I_CERE_2015-03-17','BERTELOOT^PATRICE_I_CERE_2015-09-08','BLANC^HELENE_I_CERE_2014-12-18','BOURDON^PAULETTE_I_CERE_2015-01-21','CARPENTIER^SANDRA_I_CERE_2014-11-28','DAVELUY^WALTER_stroke_connect_2015-04-27','DJEMAI^ALI_I_CERE_2015-11-16','EZELIN^ERIC_IRM_CEREBRALE_2014-12-10','KOLLIKER^ALAIN_IRM_CEREBRALE_2016-02-24','KOPCIUCH^FRANCOIS_I_CERE_2015-06-10','Le_Nestour_Christian_2015-07-07','VANTORRE^MICHELE_I_CERE_2015-09-25','VANTORRE^PIERRE_I_CERE_2015-09-25']\n",
    "print(len(ctrls_list))\n",
    "print(len(pts_list))\n",
    "print(len(all_list))\n",
    "\n",
    "for i,j,k,l,m in zip(pts_list,Cloches,ECB,Fluff,FuflMeyer):\n",
    "    print i,j,k,l,m\n"
   ]
  },
  {
   "cell_type": "code",
   "execution_count": null,
   "metadata": {
    "collapsed": true
   },
   "outputs": [],
   "source": [
    "print(TCK_LOCATION+\"whole_brain_1500000.dpy\")\n",
    "dpw = dp.io.dpy.Dpy(TCK_LOCATION+\"whole_brain_1500000.dpy\", 'w')\n",
    "\n",
    "for root, dirs, files in os.walk(\"/NAS/dumbo/protocoles/strokconnect/QA_DTI/DE_RIEMAECKER^HENRI_I_CERE_2015-09-08/dti/\"):    \n",
    "    for file in files:\n",
    "        if file.startswith('whole_brain_6_1500000_part') :\n",
    "            print(file)\n",
    "            bundle = nib.streamlines.load(root+file)\n",
    "            dpw.write_tracks(bundle.streamlines)\n",
    "\n",
    "dpw.close()"
   ]
  },
  {
   "cell_type": "markdown",
   "metadata": {},
   "source": [
    "le code ci-dessous va rassembler les fichiers tck/trk d'un bundle dans un fichier dpy\n",
    "(avant j'ai utilisé BundleSeg afin de créer les fichiers tck/trk cf. fichier runBatch.sh) "
   ]
  },
  {
   "cell_type": "code",
   "execution_count": 25,
   "metadata": {
    "collapsed": true
   },
   "outputs": [],
   "source": [
    "for SUBJECT in pts_list:\n",
    "    TCK_LOCATION=FS_PATH+SUBJECT+'''/dti/'''\n",
    "#['extreme_capsule.left','extreme_capsule.right','internal_capsule_new.left','internal_capsule_new.right','slf_i.left','slf_i.right','ioff.left','ioff.right','soff.left','soff.right','mdlf.left','mdlf.right','ec.left','ec.right','cb.left','cb.right','cst.left','cst.right','thalamo_frontal.left','thalamo_frontal.right','thalamo_occipital.left','thalamo_occipital.right','thalamo_parietal.left','thalamo_parietal.right','uf.left','uf.right','af.left','af.right','cc_1','cc_2','cc_3','cc_4','cc_7','ilf.left','ilf.right','internal_capsule_new.left','slf_iii.left','slf_iii.right','slf_ii.left','slf_ii.right','striato_frontal.left','striato_frontal.right','striato_occipital.left','striato_occipital.right','striato_parietal.left','striato_parietal.right']:\n",
    "    for STR_FX in ['cc_parietal']:\n",
    "        #print(TCK_LOCATION+STR_FX+\".dpy\")\n",
    "        #if os.path.exists(TCK_LOCATION+STR_FX+\".dpy\"):\n",
    "        #    os.remove(TCK_LOCATION+STR_FX+\".dpy\")\n",
    "        dpw = dp.io.dpy.Dpy(TCK_LOCATION+STR_FX+\".dpy\", 'w')                \n",
    "        for root, dirs, files in os.walk(TCK_LOCATION):    \n",
    "            for file in files:\n",
    "                if file.startswith('whole_brain_6_1500000_part') & file.endswith(STR_FX+'.trk'):\n",
    "                    bundle = nib.streamlines.load(root+file)\n",
    "                    dpw.write_tracks(bundle.streamlines)\n",
    "                    os.remove(root+file)\n",
    "        dpw.close()"
   ]
  },
  {
   "cell_type": "markdown",
   "metadata": {},
   "source": [
    "## Visu bundle associatif (b)"
   ]
  },
  {
   "cell_type": "code",
   "execution_count": 7,
   "metadata": {},
   "outputs": [],
   "source": [
    "ren = window.ren()\n",
    "SUBJECT='AUMONT^SEBASTIEN_I_CERE_2014-08-12'#'DE_RIEMAECKER^HENRI_I_CERE_2015-09-08'#'BERTELOOT^DAMIEN_I_CERE_2015-03-17'\n",
    "TCK_LOCATION=FS_=FS_PATH+SUBJECT+'''/dti/'''  \n",
    "data, affine = load_nifti(FS_PATH+SUBJECT+\"/mri/raparc+aseg.nii.gz\")\n",
    "STR_FX='slf_i.left'\n",
    "dpw = dp.io.dpy.Dpy(TCK_LOCATION+STR_FX+\".dpy\", 'r')\n",
    "tracks=dpw.read_tracks();\n",
    "tracks_onFA = transform_streamlines(tracks, np.linalg.inv(affine))\n",
    "ren.add(actor.line(tracks_onFA,window.colors.red,linewidth=0.1))     \n",
    "STR_FX='slf_ii.left'\n",
    "dpw = dp.io.dpy.Dpy(TCK_LOCATION+STR_FX+\".dpy\", 'r')\n",
    "tracks=dpw.read_tracks();\n",
    "tracks_onFA = transform_streamlines(tracks, np.linalg.inv(affine))\n",
    "ren.add(actor.line(tracks_onFA,window.colors.green,linewidth=0.1)) \n",
    "STR_FX='slf_iii.left'\n",
    "dpw = dp.io.dpy.Dpy(TCK_LOCATION+STR_FX+\".dpy\", 'r')\n",
    "tracks=dpw.read_tracks();\n",
    "tracks_onFA = transform_streamlines(tracks, np.linalg.inv(affine))\n",
    "ren.add(actor.line(tracks_onFA,window.colors.blue,linewidth=0.1)) \n",
    "STR_FX='slf_i.right'\n",
    "dpw = dp.io.dpy.Dpy(TCK_LOCATION+STR_FX+\".dpy\", 'r')\n",
    "tracks=dpw.read_tracks();\n",
    "tracks_onFA = transform_streamlines(tracks, np.linalg.inv(affine))\n",
    "ren.add(actor.line(tracks_onFA,window.colors.red,linewidth=0.1))     \n",
    "STR_FX='slf_ii.right'\n",
    "dpw = dp.io.dpy.Dpy(TCK_LOCATION+STR_FX+\".dpy\", 'r')\n",
    "tracks=dpw.read_tracks();\n",
    "tracks_onFA = transform_streamlines(tracks, np.linalg.inv(affine))\n",
    "ren.add(actor.line(tracks_onFA,window.colors.green,linewidth=0.1)) \n",
    "STR_FX='slf_iii.right'\n",
    "dpw = dp.io.dpy.Dpy(TCK_LOCATION+STR_FX+\".dpy\", 'r')\n",
    "tracks=dpw.read_tracks();\n",
    "tracks_onFA = transform_streamlines(tracks, np.linalg.inv(affine))\n",
    "ren.add(actor.line(tracks_onFA,window.colors.blue,linewidth=0.1)) \n",
    "\n",
    "STR_FX='cc_parietal'\n",
    "if os.path.exists(TCK_LOCATION+STR_FX+\".dpy\"):\n",
    "    dpw = dp.io.dpy.Dpy(TCK_LOCATION+STR_FX+\".dpy\", 'r')\n",
    "    tracks=dpw.read_tracks();\n",
    "    tracks_onFA = transform_streamlines(tracks, np.linalg.inv(affine))\n",
    "    ren.add(actor.line(tracks_onFA,window.colors.white,linewidth=0.1))  \n",
    "    \n",
    "surface_opacity = 0.3\n",
    "surface_color = [0.75, 0.75, 0.75]\n",
    "v = np.array([[1, 0, 0, 0], [0, 1, 0, 0], [0, 0, 1, 0],[0, 0, 0, 1]])\n",
    "#ren.add(actor.contour_from_roi(data,v,surface_color, surface_opacity))\n",
    "#fvtk.add(ren,fvtk.axes())\n",
    "window.show(ren)"
   ]
  },
  {
   "cell_type": "markdown",
   "metadata": {},
   "source": [
    "# Pipeline c"
   ]
  },
  {
   "cell_type": "code",
   "execution_count": null,
   "metadata": {},
   "outputs": [],
   "source": [
    "ren = window.ren()\n",
    "STR_FX='whole_cc_parietal'\n",
    "bundle = nib.streamlines.load(FS_PATH+STR_FX+\".trk\")\n",
    "ren.add(actor.line(bundle.streamlines,window.colors.white,linewidth=0.1)) \n",
    "cluster_native = qb.cluster(bundle.streamlines)  \n",
    "ren.add(actor.line(cluster_native,window.colors.black,linewidth=1)) \n",
    "\n",
    "STR_FX='whole_slf_i.left'\n",
    "bundle = nib.streamlines.load(FS_PATH+STR_FX+\".trk\")\n",
    "ren.add(actor.line(bundle.streamlines,window.colors.red,linewidth=0.1)) \n",
    "\n",
    "STR_FX='whole_slf_i.right'\n",
    "bundle = nib.streamlines.load(FS_PATH+STR_FX+\".trk\")\n",
    "ren.add(actor.line(bundle.streamlines,window.colors.red,linewidth=0.1)) \n",
    "\n",
    "STR_FX='whole_slf_ii.left'\n",
    "bundle = nib.streamlines.load(FS_PATH+STR_FX+\".trk\")\n",
    "ren.add(actor.line(bundle.streamlines,window.colors.green,linewidth=0.1)) \n",
    "\n",
    "STR_FX='whole_slf_ii.right'\n",
    "bundle = nib.streamlines.load(FS_PATH+STR_FX+\".trk\")\n",
    "ren.add(actor.line(bundle.streamlines,window.colors.green,linewidth=0.1)) \n",
    "\n",
    "STR_FX='whole_slf_iii.left'\n",
    "bundle = nib.streamlines.load(FS_PATH+STR_FX+\".trk\")\n",
    "ren.add(actor.line(bundle.streamlines,window.colors.blue,linewidth=0.1)) \n",
    "\n",
    "STR_FX='whole_slf_iii.right'\n",
    "bundle = nib.streamlines.load(FS_PATH+STR_FX+\".trk\")\n",
    "ren.add(actor.line(bundle.streamlines,window.colors.blue,linewidth=0.1)) \n",
    "\n",
    "window.show(ren)"
   ]
  },
  {
   "cell_type": "code",
   "execution_count": 8,
   "metadata": {
    "collapsed": true
   },
   "outputs": [],
   "source": [
    "surface_opacity = 0.3\n",
    "surface_color = [0.75, 0.75, 0.75]\n",
    "v = np.array([[1, 0, 0, 0], [0, 1, 0, 0], [0, 0, 1, 0],[0, 0, 0, 1]])\n",
    "ren.add(actor.contour_from_roi(data,v,surface_color, surface_opacity))\n",
    "fvtk.add(ren,fvtk.axes())\n",
    "window.show(ren)"
   ]
  },
  {
   "cell_type": "markdown",
   "metadata": {},
   "source": [
    "## Visu bundle commisural"
   ]
  },
  {
   "cell_type": "code",
   "execution_count": 297,
   "metadata": {},
   "outputs": [
    {
     "ename": "FileNotFoundError",
     "evalue": "No such file: '/NAS/dumbo/protocoles/strokconnect/FS53/DIAS^ANTHONY_I_CERE_2015-10-20/mri/raparc+aseg.nii.gz'",
     "output_type": "error",
     "traceback": [
      "\u001b[0;31m---------------------------------------------------------------------------\u001b[0m",
      "\u001b[0;31mFileNotFoundError\u001b[0m                         Traceback (most recent call last)",
      "\u001b[0;32m<ipython-input-297-81b0f47f5f99>\u001b[0m in \u001b[0;36m<module>\u001b[0;34m()\u001b[0m\n\u001b[1;32m      2\u001b[0m \u001b[0mSUBJECT\u001b[0m\u001b[0;34m=\u001b[0m\u001b[0;34m'DIAS^ANTHONY_I_CERE_2015-10-20'\u001b[0m\u001b[0;34m\u001b[0m\u001b[0m\n\u001b[1;32m      3\u001b[0m \u001b[0mTCK_LOCATION\u001b[0m\u001b[0;34m=\u001b[0m\u001b[0mFS_\u001b[0m\u001b[0;34m=\u001b[0m\u001b[0mFS_PATH\u001b[0m\u001b[0;34m+\u001b[0m\u001b[0mSUBJECT\u001b[0m\u001b[0;34m+\u001b[0m\u001b[0;34m'''/dti/'''\u001b[0m\u001b[0;34m\u001b[0m\u001b[0m\n\u001b[0;32m----> 4\u001b[0;31m \u001b[0mdata\u001b[0m\u001b[0;34m,\u001b[0m \u001b[0maffine\u001b[0m \u001b[0;34m=\u001b[0m \u001b[0mload_nifti\u001b[0m\u001b[0;34m(\u001b[0m\u001b[0mFS_PATH\u001b[0m\u001b[0;34m+\u001b[0m\u001b[0mSUBJECT\u001b[0m\u001b[0;34m+\u001b[0m\u001b[0;34m\"/mri/raparc+aseg.nii.gz\"\u001b[0m\u001b[0;34m)\u001b[0m\u001b[0;34m\u001b[0m\u001b[0m\n\u001b[0m\u001b[1;32m      5\u001b[0m \u001b[0mSTR_FX\u001b[0m\u001b[0;34m=\u001b[0m\u001b[0;34m'cc_1'\u001b[0m\u001b[0;34m\u001b[0m\u001b[0m\n\u001b[1;32m      6\u001b[0m \u001b[0;32mif\u001b[0m \u001b[0mos\u001b[0m\u001b[0;34m.\u001b[0m\u001b[0mpath\u001b[0m\u001b[0;34m.\u001b[0m\u001b[0mexists\u001b[0m\u001b[0;34m(\u001b[0m\u001b[0mTCK_LOCATION\u001b[0m\u001b[0;34m+\u001b[0m\u001b[0mSTR_FX\u001b[0m\u001b[0;34m+\u001b[0m\u001b[0;34m\".dpy\"\u001b[0m\u001b[0;34m)\u001b[0m\u001b[0;34m:\u001b[0m\u001b[0;34m\u001b[0m\u001b[0m\n",
      "\u001b[0;32m/home/global/anaconda2/lib/python2.7/site-packages/dipy/io/image.pyc\u001b[0m in \u001b[0;36mload_nifti\u001b[0;34m(fname, return_img, return_voxsize, return_coords)\u001b[0m\n\u001b[1;32m      6\u001b[0m def load_nifti(fname, return_img=False, return_voxsize=False,\n\u001b[1;32m      7\u001b[0m                return_coords=False):\n\u001b[0;32m----> 8\u001b[0;31m     \u001b[0mimg\u001b[0m \u001b[0;34m=\u001b[0m \u001b[0mnib\u001b[0m\u001b[0;34m.\u001b[0m\u001b[0mload\u001b[0m\u001b[0;34m(\u001b[0m\u001b[0mfname\u001b[0m\u001b[0;34m)\u001b[0m\u001b[0;34m\u001b[0m\u001b[0m\n\u001b[0m\u001b[1;32m      9\u001b[0m     \u001b[0mdata\u001b[0m \u001b[0;34m=\u001b[0m \u001b[0mimg\u001b[0m\u001b[0;34m.\u001b[0m\u001b[0mget_data\u001b[0m\u001b[0;34m(\u001b[0m\u001b[0;34m)\u001b[0m\u001b[0;34m\u001b[0m\u001b[0m\n\u001b[1;32m     10\u001b[0m     \u001b[0mvox_size\u001b[0m \u001b[0;34m=\u001b[0m \u001b[0mimg\u001b[0m\u001b[0;34m.\u001b[0m\u001b[0mheader\u001b[0m\u001b[0;34m.\u001b[0m\u001b[0mget_zooms\u001b[0m\u001b[0;34m(\u001b[0m\u001b[0;34m)\u001b[0m\u001b[0;34m[\u001b[0m\u001b[0;34m:\u001b[0m\u001b[0;36m3\u001b[0m\u001b[0;34m]\u001b[0m\u001b[0;34m\u001b[0m\u001b[0m\n",
      "\u001b[0;32m/home/global/anaconda2/lib/python2.7/site-packages/nibabel/loadsave.pyc\u001b[0m in \u001b[0;36mload\u001b[0;34m(filename, **kwargs)\u001b[0m\n\u001b[1;32m     38\u001b[0m     '''\n\u001b[1;32m     39\u001b[0m     \u001b[0;32mif\u001b[0m \u001b[0;32mnot\u001b[0m \u001b[0mop\u001b[0m\u001b[0;34m.\u001b[0m\u001b[0mexists\u001b[0m\u001b[0;34m(\u001b[0m\u001b[0mfilename\u001b[0m\u001b[0;34m)\u001b[0m\u001b[0;34m:\u001b[0m\u001b[0;34m\u001b[0m\u001b[0m\n\u001b[0;32m---> 40\u001b[0;31m         \u001b[0;32mraise\u001b[0m \u001b[0mFileNotFoundError\u001b[0m\u001b[0;34m(\u001b[0m\u001b[0;34m\"No such file: '%s'\"\u001b[0m \u001b[0;34m%\u001b[0m \u001b[0mfilename\u001b[0m\u001b[0;34m)\u001b[0m\u001b[0;34m\u001b[0m\u001b[0m\n\u001b[0m\u001b[1;32m     41\u001b[0m     \u001b[0msniff\u001b[0m \u001b[0;34m=\u001b[0m \u001b[0mNone\u001b[0m\u001b[0;34m\u001b[0m\u001b[0m\n\u001b[1;32m     42\u001b[0m     \u001b[0;32mfor\u001b[0m \u001b[0mimage_klass\u001b[0m \u001b[0;32min\u001b[0m \u001b[0mall_image_classes\u001b[0m\u001b[0;34m:\u001b[0m\u001b[0;34m\u001b[0m\u001b[0m\n",
      "\u001b[0;31mFileNotFoundError\u001b[0m: No such file: '/NAS/dumbo/protocoles/strokconnect/FS53/DIAS^ANTHONY_I_CERE_2015-10-20/mri/raparc+aseg.nii.gz'"
     ]
    }
   ],
   "source": [
    "ren = window.ren()\n",
    "SUBJECT='DIAS^ANTHONY_I_CERE_2015-10-20'\n",
    "TCK_LOCATION=FS_=FS_PATH+SUBJECT+'''/dti/'''  \n",
    "data, affine = load_nifti(FS_PATH+SUBJECT+\"/mri/raparc+aseg.nii.gz\")  \n",
    "STR_FX='cc_1'\n",
    "if os.path.exists(TCK_LOCATION+STR_FX+\".dpy\"):\n",
    "    dpw = dp.io.dpy.Dpy(TCK_LOCATION+STR_FX+\".dpy\", 'r')\n",
    "    tracks=dpw.read_tracks();\n",
    "    tracks_onFA = transform_streamlines(tracks, np.linalg.inv(affine))\n",
    "    ren.add(actor.line(tracks_onFA,window.colors.green,linewidth=0.1)) \n",
    "STR_FX='cc_2'\n",
    "if os.path.exists(TCK_LOCATION+STR_FX+\".dpy\"):\n",
    "    dpw = dp.io.dpy.Dpy(TCK_LOCATION+STR_FX+\".dpy\", 'r')\n",
    "    tracks=dpw.read_tracks();\n",
    "    tracks_onFA = transform_streamlines(tracks, np.linalg.inv(affine))\n",
    "    ren.add(actor.line(tracks_onFA,window.colors.blue,linewidth=0.1)) \n",
    "STR_FX='cc_3'\n",
    "if os.path.exists(TCK_LOCATION+STR_FX+\".dpy\"):    \n",
    "    dpw = dp.io.dpy.Dpy(TCK_LOCATION+STR_FX+\".dpy\", 'r')\n",
    "    tracks=dpw.read_tracks();\n",
    "    tracks_onFA = transform_streamlines(tracks, np.linalg.inv(affine))\n",
    "    ren.add(actor.line(tracks_onFA,window.colors.red,linewidth=0.1))     \n",
    "STR_FX='cc_4'\n",
    "if os.path.exists(TCK_LOCATION+STR_FX+\".dpy\"):\n",
    "    dpw = dp.io.dpy.Dpy(TCK_LOCATION+STR_FX+\".dpy\", 'r')\n",
    "    tracks=dpw.read_tracks();\n",
    "    tracks_onFA = transform_streamlines(tracks, np.linalg.inv(affine))\n",
    "    ren.add(actor.line(tracks_onFA,window.colors.yellow,linewidth=0.1)) \n",
    "STR_FX='cc_5'\n",
    "if os.path.exists(TCK_LOCATION+STR_FX+\".dpy\"):\n",
    "    dpw = dp.io.dpy.Dpy(TCK_LOCATION+STR_FX+\".dpy\", 'r')\n",
    "    tracks=dpw.read_tracks();\n",
    "    tracks_onFA = transform_streamlines(tracks, np.linalg.inv(affine))\n",
    "    ren.add(actor.line(tracks_onFA,window.colors.magenta,linewidth=0.1)) \n",
    "STR_FX='cc_6'\n",
    "if os.path.exists(TCK_LOCATION+STR_FX+\".dpy\"):\n",
    "    dpw = dp.io.dpy.Dpy(TCK_LOCATION+STR_FX+\".dpy\", 'r')\n",
    "    tracks=dpw.read_tracks();\n",
    "    tracks_onFA = transform_streamlines(tracks, np.linalg.inv(affine))\n",
    "    ren.add(actor.line(tracks_onFA,window.colors.pink,linewidth=1)) \n",
    "STR_FX='cc_7'\n",
    "if os.path.exists(TCK_LOCATION+STR_FX+\".dpy\"):\n",
    "    dpw = dp.io.dpy.Dpy(TCK_LOCATION+STR_FX+\".dpy\", 'r')\n",
    "    tracks=dpw.read_tracks();\n",
    "    tracks_onFA = transform_streamlines(tracks, np.linalg.inv(affine))\n",
    "    ren.add(actor.line(tracks_onFA,window.colors.white,linewidth=0.1))  \n",
    "surface_opacity = 0.3\n",
    "surface_color = [0.75, 0.75, 0.75]\n",
    "v = np.array([[1, 0, 0, 0], [0, 1, 0, 0], [0, 0, 1, 0],[0, 0, 0, 1]])\n",
    "ren.add(actor.contour_from_roi(data,v,surface_color, surface_opacity))\n",
    "fvtk.add(ren,fvtk.axes())\n",
    "window.show(ren)"
   ]
  },
  {
   "cell_type": "markdown",
   "metadata": {},
   "source": [
    "## Visu en boucle sur patient et tracks"
   ]
  },
  {
   "cell_type": "code",
   "execution_count": 12,
   "metadata": {},
   "outputs": [
    {
     "name": "stdout",
     "output_type": "stream",
     "text": [
      "AUMONT^SEBASTIEN_I_CERE_2014-08-12 cc_parietal 2730\n",
      "AUMONT^SEBASTIEN_I_CERE_2014-08-12 slf_i.left 27\n",
      "AUMONT^SEBASTIEN_I_CERE_2014-08-12 slf_ii.left 3181\n",
      "AUMONT^SEBASTIEN_I_CERE_2014-08-12 slf_iii.left 867\n"
     ]
    }
   ],
   "source": [
    "feature = ResampleFeature(nb_points=200)\n",
    "metric = AveragePointwiseEuclideanMetric(feature=feature)  # a.k.a. MDF  \n",
    "qb = QuickBundles(threshold=10,metric=metric)\n",
    "qb.max_nb_clusters = 1\n",
    "\n",
    "for SUBJECT in ['AUMONT^SEBASTIEN_I_CERE_2014-08-12']: #,'BAILLIE^MARIE_PIERRE_STROKE_CONNECT_2014-09-10','BERTELOOT^DAMIEN_I_CERE_2015-03-17','BERTELOOT^PATRICE_I_CERE_2015-09-08','BLANC^HELENE_I_CERE_2014-12-18','BOUMLIK^SAID_I_CERE_2014-09-03','BOURDON^PAULETTE_I_CERE_2015-01-21','CARPENTIER^SANDRA_I_CERE_2014-11-28','CHOPIN^JEAN_MARIE_STROKE_CONNECT_2016-02-29','DAVELUY^WALTER_stroke_connect_2015-04-27','DE_RIEMAECKER^HENRI_I_CERE_2015-09-08','DIAS^ANTHONY_I_CERE_2015-10-20','DJEMAI^ALI_I_CERE_2015-11-16','EZELIN^ERIC_IRM_CEREBRALE_2014-12-10','FACON^PASCALE_I_CERE_2014-12-19','GOSSEIN^JEAN_PIERRE_I_CERE_2014-08-13','HEMARD^VERONIQUE_I_CERE_2016-02-24','HERBIN^GERARD_I_CERE_2015-07-02','KOLLIKER^ALAIN_IRM_CEREBRALE_2016-02-24','KOPCIUCH^FRANCOIS_I_CERE_2015-06-10','Le_Nestour_Christian_2015-07-07','NORO^JEAN_NOEL_STROKE_CONNECT_2015-06-05','NOYON^THADEE_I_CERE_2015-07-03','VANRENTERGHEM^DAVID_I_CERE_2015-10-06','VANTORRE^MICHELE_I_CERE_2015-09-25','VANTORRE^PIERRE_I_CERE_2015-09-25']:\n",
    "    #SUBJECT='BERTELOOT^DAMIEN_I_CERE_2015-03-17'\n",
    "    TCK_LOCATION=FS_PATH+SUBJECT+'''/dti/'''  \n",
    "    if os.path.exists(FS_PATH+SUBJECT+\"/mri/raparc+aseg.nii.gz\") & os.path.exists(TCK_LOCATION+\"dti_finalcor_FA.nii\"):\n",
    "        nii = nib.load(TCK_LOCATION+\"dti_finalcor_FA.nii\")\n",
    "        data, affine = load_nifti(FS_PATH+SUBJECT+\"/mri/raparc+aseg.nii.gz\")\n",
    "    #'ioff.left','slf_i.right','slf_ii.right','slf_iii.right','ioff.right','cc_1','cc_2','cc_3','cc_4','cc_5','cc_6','cc_7',\n",
    "        ren = window.ren()\n",
    "        for STR_FX in ['cc_parietal','slf_i.left','slf_ii.left','slf_iii.left']:\n",
    "            if os.path.exists(TCK_LOCATION+STR_FX+\".dpy\"):\n",
    "                dpw = dp.io.dpy.Dpy(TCK_LOCATION+STR_FX+\".dpy\", 'r')\n",
    "                tracks=dpw.read_tracks();\n",
    "                print(SUBJECT+\" \"+STR_FX +\" \"+str(len(tracks)))                 \n",
    "                if (len(tracks)>0):\n",
    "                    tracks_onFA = transform_streamlines(tracks, np.linalg.inv(affine))\n",
    "                    ren.add(actor.line(tracks_onFA,window.colors.red,linewidth=0.1,opacity=0.1))                                              \n",
    "                    cluster = qb.cluster(tracks)\n",
    "                    #ren.add(actor.line(cluster.centroids,window.colors.red,linewidth=10))\n",
    "                    cluster_native = transform_streamlines(cluster.centroids, np.linalg.inv(affine))\n",
    "                    data=nii.get_data()\n",
    "                    ren.add(actor.line(cluster_native,nii.get_data(),linewidth=1))\n",
    "                    surface_opacity = 0.3\n",
    "                    surface_color = [0.75, 0.75, 0.75]\n",
    "                    v = np.array([[1, 0, 0, 0], [0, 1, 0, 0], [0, 0, 1, 0],[0, 0, 0, 1]])\n",
    "                    ren.add(actor.contour_from_roi(data,v,surface_color, surface_opacity))\n",
    "                    fvtk.add(ren,fvtk.axes())\n",
    "            else :\n",
    "                print(SUBJECT+\" \"+STR_FX +\" No tracks\")\n",
    "        window.show(ren)\n"
   ]
  },
  {
   "cell_type": "markdown",
   "metadata": {},
   "source": [
    "# Avec un recalage linenaire dans atlas"
   ]
  },
  {
   "cell_type": "code",
   "execution_count": 77,
   "metadata": {},
   "outputs": [
    {
     "name": "stdout",
     "output_type": "stream",
     "text": [
      "AUMONT^SEBASTIEN_I_CERE_2014-08-12 cc_parietal 2730\n",
      "BAILLIE^MARIE_PIERRE_STROKE_CONNECT_2014-09-10 cc_parietal 853\n",
      "BOUMLIK^SAID_I_CERE_2014-09-03 cc_parietal 474\n",
      "CHOPIN^JEAN_MARIE_STROKE_CONNECT_2016-02-29 cc_parietal 2472\n",
      "DE_RIEMAECKER^HENRI_I_CERE_2015-09-08 cc_parietal 1176\n",
      "HERBIN^GERARD_I_CERE_2015-07-02 cc_parietal 496\n",
      "NORO^JEAN_NOEL_STROKE_CONNECT_2015-06-05 cc_parietal 1980\n",
      "NOYON^THADEE_I_CERE_2015-07-03 cc_parietal 935\n"
     ]
    }
   ],
   "source": [
    "feature = ResampleFeature(nb_points=200)\n",
    "metric = AveragePointwiseEuclideanMetric(feature=feature)  # a.k.a. MDF  \n",
    "qb = QuickBundles(threshold=10,metric=metric)\n",
    "qb.max_nb_clusters = 1\n",
    "    \n",
    "streams, hdr = load_trk('/home/romain/Téléchargements/tracks/association/SLF_L.trk.gz')\n",
    "fix_tracks = Streamlines(streams)\n",
    "fix_tracks = set_number_of_points(fix_tracks, 20)\n",
    "\n",
    "srr = StreamlineLinearRegistration()\n",
    "ren = window.ren()\n",
    "ren.add(actor.line(fix_tracks,window.colors.white,linewidth=0.1))\n",
    "wholeTracks = []\n",
    "\n",
    "for STR_FX in ['cc_parietal']:    \n",
    "    for SUBJECT in pts_list:\n",
    "        TCK_LOCATION=FS_=FS_PATH+SUBJECT+'''/dti/'''\n",
    "        if os.path.exists(FS_PATH+SUBJECT+\"/mri/raparc+aseg.nii.gz\") & os.path.exists(TCK_LOCATION+\"dti_finalcor_FA.nii\"):\n",
    "            nii = nib.load(TCK_LOCATION+\"dti_finalcor_FA.nii\")\n",
    "            data, affine = load_nifti(FS_PATH+SUBJECT+\"/mri/raparc+aseg.nii.gz\")\n",
    "            if os.path.exists(TCK_LOCATION+STR_FX+\".dpy\"):\n",
    "                dpw = dp.io.dpy.Dpy(TCK_LOCATION+STR_FX+\".dpy\", 'r')\n",
    "                tracks=dpw.read_tracks();\n",
    "                print(SUBJECT+\" \"+STR_FX +\" \"+str(len(tracks)))                   \n",
    "                if (len(tracks)>0):\n",
    "                    tracks = set_number_of_points(tracks, 20)                    \n",
    "                    srm = srr.optimize(static=fix_tracks, moving=tracks)\n",
    "                    tracks_aligned = srm.transform(tracks)                    \n",
    "                    for s in tracks_aligned:\n",
    "                        wholeTracks.append(s)                                                                                           \n",
    "            else :\n",
    "                print(SUBJECT+\" \"+STR_FX +\" No tracks\")\n",
    "ren.add(actor.line(wholeTracks,window.colors.blue,linewidth=0.1))                                                                                                 \n",
    "cluster_aligned = qb.cluster(wholeTracks)   \n",
    "ren.add(actor.line(cluster_aligned.centroids,window.colors.green,linewidth=1))                                                                                                 \n",
    "\n",
    "window.show(ren)"
   ]
  },
  {
   "cell_type": "code",
   "execution_count": 257,
   "metadata": {
    "collapsed": true
   },
   "outputs": [],
   "source": [
    "#dpw = dp.io.dpy.Dpy(FS_PATH+\"slf_ii.left.dpy\", 'w')\n",
    "#dpw.write_tracks([0])\n",
    "shape = nii.shape\n",
    "dm = utils.density_map(tracks, shape, affine=affine)\n",
    "ren.add(actor.line(cluster_native,dm,linewidth=1))\n",
    "...\n",
    "my_interpolating_function = RegularGridInterpolator((x, y, z), dm)\n",
    "save_trk(FS_PATH+\"slf_ii.left.trk\", streamlines=wholeTracks, affine=np.eye(4))"
   ]
  },
  {
   "cell_type": "markdown",
   "metadata": {},
   "source": [
    "# Stats dans espace native et Visu dans espace MNI "
   ]
  },
  {
   "cell_type": "code",
   "execution_count": 73,
   "metadata": {},
   "outputs": [
    {
     "name": "stdout",
     "output_type": "stream",
     "text": [
      "/NAS/dumbo/protocoles/strokconnect/FS53/AUMONT^SEBASTIEN_I_CERE_2014-08-12/dti/ cc_parietal 2730\n",
      "/NAS/dumbo/protocoles/strokconnect/FS53/BAILLIE^MARIE_PIERRE_STROKE_CONNECT_2014-09-10/dti/ cc_parietal 853\n",
      "/NAS/dumbo/protocoles/strokconnect/FS53/BOUMLIK^SAID_I_CERE_2014-09-03/dti/ cc_parietal 474\n",
      "/NAS/dumbo/protocoles/strokconnect/FS53/CHOPIN^JEAN_MARIE_STROKE_CONNECT_2016-02-29/dti/ cc_parietal 2472\n",
      "/NAS/dumbo/protocoles/strokconnect/FS53/DE_RIEMAECKER^HENRI_I_CERE_2015-09-08/dti/ cc_parietal 1176\n",
      "/NAS/dumbo/protocoles/strokconnect/FS53/DIAS^ANTHONY_I_CERE_2015-10-20/dti/ cc_parietal 0\n",
      "(5, 20)\n",
      "5\n"
     ]
    },
    {
     "ename": "NameError",
     "evalue": "name 'resu_list' is not defined",
     "output_type": "error",
     "traceback": [
      "\u001b[0;31m---------------------------------------------------------------------------\u001b[0m",
      "\u001b[0;31mNameError\u001b[0m                                 Traceback (most recent call last)",
      "\u001b[0;32m<ipython-input-73-efe04b765bd7>\u001b[0m in \u001b[0;36m<module>\u001b[0;34m()\u001b[0m\n\u001b[1;32m     65\u001b[0m \u001b[0mfig\u001b[0m \u001b[0;34m=\u001b[0m \u001b[0mplt\u001b[0m\u001b[0;34m.\u001b[0m\u001b[0mfigure\u001b[0m\u001b[0;34m(\u001b[0m\u001b[0;36m1\u001b[0m\u001b[0;34m,\u001b[0m \u001b[0mfigsize\u001b[0m\u001b[0;34m=\u001b[0m\u001b[0;34m(\u001b[0m\u001b[0;36m9\u001b[0m\u001b[0;34m,\u001b[0m \u001b[0;36m6\u001b[0m\u001b[0;34m)\u001b[0m\u001b[0;34m)\u001b[0m\u001b[0;34m\u001b[0m\u001b[0m\n\u001b[1;32m     66\u001b[0m \u001b[0max\u001b[0m \u001b[0;34m=\u001b[0m \u001b[0mfig\u001b[0m\u001b[0;34m.\u001b[0m\u001b[0madd_subplot\u001b[0m\u001b[0;34m(\u001b[0m\u001b[0;36m111\u001b[0m\u001b[0;34m)\u001b[0m\u001b[0;34m\u001b[0m\u001b[0m\n\u001b[0;32m---> 67\u001b[0;31m \u001b[0mbp\u001b[0m \u001b[0;34m=\u001b[0m \u001b[0max\u001b[0m\u001b[0;34m.\u001b[0m\u001b[0mboxplot\u001b[0m\u001b[0;34m(\u001b[0m\u001b[0mresu_list\u001b[0m\u001b[0;34m)\u001b[0m\u001b[0;34m\u001b[0m\u001b[0m\n\u001b[0m\u001b[1;32m     68\u001b[0m \u001b[0mplt\u001b[0m\u001b[0;34m.\u001b[0m\u001b[0mshow\u001b[0m\u001b[0;34m(\u001b[0m\u001b[0;34m)\u001b[0m\u001b[0;34m\u001b[0m\u001b[0m\n",
      "\u001b[0;31mNameError\u001b[0m: name 'resu_list' is not defined"
     ]
    }
   ],
   "source": [
    "nbValues=20\n",
    "\n",
    "feature = ResampleFeature(nb_points=nbValues)\n",
    "metric = AveragePointwiseEuclideanMetric(feature=feature)  # a.k.a. MDF  \n",
    "qb = QuickBundles(threshold=10,metric=metric)\n",
    "qb.max_nb_clusters = 1\n",
    "\n",
    "hue = [0.0, 0.0]  # red only\n",
    "saturation = [0.0, 1.0]  # white to red\n",
    "lut_cmap = actor.colormap_lookup_table(hue_range=hue,saturation_range=saturation)\n",
    "\n",
    "ren = window.ren()\n",
    "\n",
    "## Boucle sur les sujets\n",
    "\n",
    "for STR_FX in ['cc_parietal']:    \n",
    "    resu_FA=np.empty([0,nbValues])\n",
    "    list_FA=[]\n",
    "    Cloches_sub=[]\n",
    "    for SUBJECT in pts_list:    \n",
    "        TCK_LOCATION=FS_=FS_PATH+SUBJECT+'''/dti/'''\n",
    "        if os.path.exists(TCK_LOCATION+STR_FX+\".dpy\"):\n",
    "            dpw = dp.io.dpy.Dpy(TCK_LOCATION+STR_FX+\".dpy\", 'r')\n",
    "            tracks=dpw.read_tracks();\n",
    "            print(TCK_LOCATION+\" \"+STR_FX +\" \"+str(len(tracks)))                \n",
    "            if (len(tracks)>0):\n",
    "                cluster = qb.cluster(tracks)                \n",
    "            else:\n",
    "                break\n",
    "            if os.path.exists(TCK_LOCATION+\"dti_finalcor_L1.nii.gz\"):\n",
    "                data, affine = load_nifti(TCK_LOCATION+\"dti_finalcor_L1.nii.gz\")                    \n",
    "                cluster_native = transform_streamlines(cluster.centroids, np.linalg.inv(affine))       \n",
    "                x = np.linspace(1, data.shape[0], data.shape[0])\n",
    "                y = np.linspace(1, data.shape[1], data.shape[1])\n",
    "                z = np.linspace(1, data.shape[2], data.shape[2])\n",
    "                my_interpolating_function = RegularGridInterpolator((x, y, z), data)\n",
    "                tmp=my_interpolating_function(cluster_native)\n",
    "                resu_FA=np.concatenate((resu_FA, tmp), axis=0)\n",
    "                list_FA.append(SUBJECT+'_'+STR_FX)\n",
    "            else: \n",
    "                break\n",
    "        else:\n",
    "            print(SUBJECT+\" \"+STR_FX +\" No tracks\")\n",
    "    pval_FA=[]\n",
    "    for cpt1 in range(len(pts_list)):\n",
    "        for cpt2 in range(len(list_FA)):\n",
    "            if pts_list[cpt1] in list_FA[cpt2]:\n",
    "                Cloches_sub.append(Cloches[cpt1])\n",
    "    print(resu_FA.shape)\n",
    "    print(len(Cloches_sub))\n",
    "    for cpt in range(resu_FA.shape[1]):\n",
    "        rho,pval=stats.spearmanr(Cloches_sub,resu_FA[:,cpt],axis=0) \n",
    "        pval_FA.append(pval)\n",
    "    \n",
    "    ren.add(actor.line(cluster_native,pval_FA,linewidth=1,lookup_colormap=lut_cmap))\n",
    "\n",
    "bar2 = actor.scalar_bar(lut_cmap)\n",
    "ren.add(bar2)\n",
    "surface_opacity = 0.1\n",
    "surface_color = [0.75, 0.75, 0.75]\n",
    "v = np.array([[1, 0, 0, 0], [0, 1, 0, 0], [0, 0, 1, 0],[0, 0, 0, 1]])\n",
    "ren.add(actor.contour_from_roi(data,v,surface_color, surface_opacity))\n",
    "window.show(ren)            \n",
    "            \n",
    "fig = plt.figure(1, figsize=(9, 6))\n",
    "ax = fig.add_subplot(111)\n",
    "bp = ax.boxplot(resu_FA)\n",
    "plt.show()"
   ]
  },
  {
   "cell_type": "code",
   "execution_count": 76,
   "metadata": {},
   "outputs": [
    {
     "name": "stdout",
     "output_type": "stream",
     "text": [
      "[0.21516994256955005, 0.85794461760509932, 0.85794461760509932, 0.58109067282171079, 0.71768564421078607, 0.71768564421078607, 0.71768564421078607, 0.11761376087345808, 0.11761376087345808, 0.85794461760509932, 0.58109067282171079, 0.85794461760509932, 0.85794461760509932, 0.58109067282171079, 0.58109067282171079, 0.58109067282171079, 0.58109067282171079, 0.58109067282171079, 0.58109067282171079, 0.45018485575210093]\n"
     ]
    },
    {
     "data": {
      "image/png": "[encoded data removed]",
      "text/plain": [
       "<matplotlib.figure.Figure at 0x7fed72ecd590>"
      ]
     },
     "metadata": {},
     "output_type": "display_data"
    }
   ],
   "source": [
    "print(pval_FA)\n",
    "fig = plt.figure(1, figsize=(9, 6))\n",
    "ax = fig.add_subplot(111)\n",
    "bp = ax.boxplot(resu_FA)\n",
    "plt.show()"
   ]
  },
  {
   "cell_type": "code",
   "execution_count": 26,
   "metadata": {
    "collapsed": true
   },
   "outputs": [],
   "source": [
    "hue = [0.0, 0.0]  # red only\n",
    "saturation = [0.0, 1.0]  # white to red\n",
    "lut_cmap = actor.colormap_lookup_table(hue_range=hue,saturation_range=saturation)\n",
    "\n",
    "#streams, hdr = load_trk(FS_PATH+\"slf_ii.left.trk\")\n",
    "streams, hdr = load_trk('/home/romain/Téléchargements/tracks/association/SLF_L.trk.gz')\n",
    "fix_tracks = Streamlines(streams)\n",
    "\n",
    "ren = window.ren()\n",
    "data, affine = load_nifti(\"/home/global/fsl5011/data/standard/MNI152_T1_1mm_brain.nii.gz\")      \n",
    "ren.add(actor.line(fix_tracks,window.colors.white,linewidth=0.1))\n",
    "fix_tracks_MNI = transform_streamlines(fix_tracks,np.linalg.inv(affine))\n",
    "ren.add(actor.line(fix_tracks_MNI,window.colors.white,linewidth=0.1))\n",
    "surface_opacity = 0.1\n",
    "surface_color = [0.75, 0.75, 0.75]\n",
    "v = np.array([[1, 0, 0, 0], [0, 1, 0, 0], [0, 0, 1, 0],[0, 0, 0, 1]])\n",
    "ren.add(actor.contour_from_roi(data,affine,surface_color, surface_opacity))\n",
    "ren.add(actor.contour_from_roi(data,v,surface_color, surface_opacity))\n",
    "window.show(ren) "
   ]
  }
 ],
 "metadata": {
  "kernelspec": {
   "display_name": "Python 2",
   "language": "python",
   "name": "python2"
  },
  "language_info": {
   "codemirror_mode": {
    "name": "ipython",
    "version": 2
   },
   "file_extension": ".py",
   "mimetype": "text/x-python",
   "name": "python",
   "nbconvert_exporter": "python",
   "pygments_lexer": "ipython2",
   "version": "2.7.13"
  }
 },
 "nbformat": 4,
 "nbformat_minor": 2
}
