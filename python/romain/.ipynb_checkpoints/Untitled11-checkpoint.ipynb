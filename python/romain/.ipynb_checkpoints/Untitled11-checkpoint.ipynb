{
 "cells": [
  {
   "cell_type": "code",
   "execution_count": 14,
   "metadata": {
    "collapsed": false
   },
   "outputs": [
    {
     "name": "stdout",
     "output_type": "stream",
     "text": [
      "1.0.0\n"
     ]
    }
   ],
   "source": [
    "import os\n",
    "import argparse\n",
    "import nibabel as nib\n",
    "import numpy as np\n",
    "import dipy as dp\n",
    "print(dp.__version__)\n",
    "\n",
    "from dipy.io.streamline import load_tractogram, save_tractogram\n",
    "from dipy.io.utils import create_nifti_header,get_reference_info\n",
    "from dipy.io import read_bvals_bvecs\n",
    "\n",
    "from dipy.tracking.utils import density_map\n",
    "from dipy.tracking.streamline import transform_streamlines\n",
    "\n",
    "from dipy.segment.mask import median_otsu\n",
    "from dipy.core.gradients import gradient_table\n",
    "from dipy.viz import window, actor, ui\n",
    "\n",
    "#pour calculer la FA\n",
    "import dipy.reconst.dti as dti\n",
    "from dipy.reconst.dti import fractional_anisotropy, color_fa\n",
    "import dipy.tracking.life as life"
   ]
  },
  {
   "cell_type": "code",
   "execution_count": 44,
   "metadata": {
    "collapsed": false
   },
   "outputs": [
    {
     "name": "stdout",
     "output_type": "stream",
     "text": [
      "Bundle cleaned\n"
     ]
    }
   ],
   "source": [
    "renderer = window.Renderer()\n",
    "\n",
    "hue = (0.0,0.0)  # red density_post.jpg\n",
    "saturation = (0.0, 1.0)  \n",
    "lut_cmap = actor.colormap_lookup_table(hue_range=hue,saturation_range=saturation)\n",
    "bar2 = actor.scalar_bar(lut_cmap)\n",
    "bar = actor.scalar_bar()\n",
    "renderer.add(bar)\n",
    "\n",
    "world_coords=False\n",
    "\n",
    "#Chargement tck/b0/DTI\n",
    "reference_anatomy = nib.load('''/NAS/dumbo/protocoles/strokconnect/FS53/AUMONT^SEBASTIEN_I_CERE_2014-08-12/dti/dti_finalcor_FA.nii''')\n",
    "#reference_anatomy = nib.load('''/NAS/dumbo/protocoles/strokconnect/FS53/AUMONT^SEBASTIEN_I_CERE_2014-08-12/dti/tracto_pIPS.nii.gz''')\n",
    "reference_anatomy_data = reference_anatomy.get_data()\n",
    "affine, dimensions, voxel_sizes, voxel_order = get_reference_info(reference_anatomy)\n",
    "\n",
    "cc_sft = load_tractogram('''/NAS/dumbo/protocoles/strokconnect/FS53/AUMONT^SEBASTIEN_I_CERE_2014-08-12/dti/tracto_SPOC.tck''',reference_anatomy)\n",
    "streamlines=cc_sft.streamlines\n",
    "if not world_coords:\n",
    "    streamlines = transform_streamlines(streamlines, np.linalg.inv(reference_anatomy.affine))\n",
    "\n",
    "#Nettoyage du bundle\n",
    "img=nib.load('''/NAS/dumbo/protocoles/strokconnect/FS53/AUMONT^SEBASTIEN_I_CERE_2014-08-12/dti/dti.nii.gz''')\n",
    "FBVAL = '''/NAS/dumbo/protocoles/strokconnect/FS53/AUMONT^SEBASTIEN_I_CERE_2014-08-12/dti/dti.bval'''\n",
    "FBVEC = '''/NAS/dumbo/protocoles/strokconnect/FS53/AUMONT^SEBASTIEN_I_CERE_2014-08-12/dti/dti.bvec'''\n",
    "data = img.get_data()\n",
    "bvals, bvecs = read_bvals_bvecs(FBVAL,FBVEC)\n",
    "gtab = gradient_table(bvals,bvecs)\n",
    "fiber_model = life.FiberModel(gtab)\n",
    "fiber_fit = fiber_model.fit(data, streamlines, affine=np.eye(4))\n",
    "streamlines2 = streamlines[np.where(fiber_fit.beta < 0.001)[0]]\n",
    "print(\"Bundle cleaned\")\n",
    "cc_sft.to_vox()\n",
    "\n",
    "#density = density_map(streamlines, np.eye(4), dimensions)\n",
    "#stream_actor = actor.line(streamlines,density/np.max(density),linewidth=0.1)\n",
    "stream_actor = actor.line(streamlines2,reference_anatomy_data,opacity=0.8,linewidth=0.1)\n",
    "renderer.add(stream_actor)\n",
    "\n",
    "renderer.set_camera(position=(83.47, 30.40, 253.42),\n",
    "                    focal_point=(62.02, 55.56, 32.33),\n",
    "                    view_up=(0.16, 0.98, 0.10))\n",
    "\n",
    "window.record(renderer, out_path='''/NAS/dumbo/protocoles/strokconnect/FS53/AUMONT^SEBASTIEN_I_CERE_2014-08-12/dti/FAonSPOC.png''', size=(600, 600))\n",
    "        \n",
    "window.show(renderer, size=(600, 600), reset_camera=False)"
   ]
  },
  {
   "cell_type": "code",
   "execution_count": 41,
   "metadata": {
    "collapsed": false
   },
   "outputs": [
    {
     "name": "stdout",
     "output_type": "stream",
     "text": [
      "# Active Camera\n",
      "   Position (83.47, 30.40, 253.42)\n",
      "   Focal Point (62.02, 55.56, 32.33)\n",
      "   View Up (0.16, 0.98, 0.10)\n"
     ]
    }
   ],
   "source": [
    "renderer.camera_info()"
   ]
  },
  {
   "cell_type": "code",
   "execution_count": 40,
   "metadata": {
    "collapsed": false
   },
   "outputs": [],
   "source": [
    "renderer = window.Renderer()\n",
    "bar = actor.scalar_bar()\n",
    "renderer.add(bar)\n",
    "streamlines2 = streamlines[np.where(fiber_fit.beta < 0.001)[0]]\n",
    "cc_sft.to_vox()\n",
    "\n",
    "stream_actor = actor.line(streamlines2,reference_anatomy_data,opacity=0.8,linewidth=0.1)\n",
    "renderer.add(stream_actor)\n",
    "\n",
    "window.show(renderer, size=(600, 600), reset_camera=False)"
   ]
  }
 ],
 "metadata": {
  "anaconda-cloud": {},
  "kernelspec": {
   "display_name": "Python [default]",
   "language": "python",
   "name": "python3"
  },
  "language_info": {
   "codemirror_mode": {
    "name": "ipython",
    "version": 3
   },
   "file_extension": ".py",
   "mimetype": "text/x-python",
   "name": "python",
   "nbconvert_exporter": "python",
   "pygments_lexer": "ipython3",
   "version": "3.5.2"
  }
 },
 "nbformat": 4,
 "nbformat_minor": 1
}
