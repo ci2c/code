{
 "cells": [
  {
   "cell_type": "code",
   "execution_count": 7,
   "metadata": {},
   "outputs": [],
   "source": [
    "import cmath\n",
    "import scipy.io\n",
    "import nibabel as nib\n",
    "import numpy as np\n",
    "from joblib import parallel_backend\n",
    "import glob\n",
    "import os"
   ]
  },
  {
   "cell_type": "code",
   "execution_count": null,
   "metadata": {},
   "outputs": [],
   "source": [
    "print(np.eye(4))\n",
    "print(ori.affine)\n",
    "\n",
    "img = nib.Nifti1Image(matMagnitude['iMag'],ori.affine)\n",
    "nib.save(img,\"/NAS/deathrow/protocoles/HYPOTALAMUS/QSM/7T021/magnitudeWithAffine.nii\")\n",
    "\n",
    "test=np.flip(matFile['QSM'],(1,2))\n",
    "print(matFile['QSM'].shape)\n",
    "print(test.shape)\n",
    "\n",
    "img = nib.Nifti1Image(test,ori.affine)\n",
    "nib.save(img,\"/NAS/deathrow/protocoles/HYPOTALAMUS/QSM/7T021/QSM.nii\")\n",
    "\n",
    "print(matMagnitude.keys())\n",
    "print(matMagnitude['iMag'].shape)"
   ]
  },
  {
   "cell_type": "code",
   "execution_count": null,
   "metadata": {},
   "outputs": [],
   "source": [
    "matFile = scipy.io.matlab.loadmat('/NAS/deathrow/protocoles/HYPOTALAMUS/QSM/7T021/MEDI_default/qsm.mat')\n",
    "matFile.keys()\n",
    "ori = nib.load(\"/NAS/deathrow/protocoles/HYPOTALAMUS/7T_DCM/7T021/7T021103_20170126/US_20170126_13.58.07/Dicom/20170126_135807QSMs1301a1013.nii.gz\")\n",
    "print(ori)\n",
    "test=np.flip(matFile['QSM'],(1,2))\n",
    "print(matFile['QSM'].shape)\n",
    "print(test.shape)\n",
    "img = nib.Nifti1Image(test,ori.affine)\n",
    "nib.save(img,\"/NAS/deathrow/protocoles/HYPOTALAMUS/QSM/7T021/MEDI_default/QSM_laplacian_wMaskMOdified_woVent_LBV.nii\")\n",
    "#img = nib.Nifti1Image(matMagnitude['iMag'], np.eye(4))\n",
    "#nib.save(img,\"/NAS/deathrow/protocoles/HYPOTALAMUS/QSM/7T021/magnitude.nii\")"
   ]
  },
  {
   "cell_type": "code",
   "execution_count": 11,
   "metadata": {},
   "outputs": [
    {
     "name": "stdout",
     "output_type": "stream",
     "text": [
      "['/NAS/deathrow/protocoles/HYPOTALAMUS/7T_DCM/7T021/7T021103_20170126/US_20170126_13.58.07/Dicom/20170126135807_7T021103_1201_QSM.nii.gz', '/NAS/deathrow/protocoles/HYPOTALAMUS/7T_DCM/7T021/7T021103_20170126/US_20170126_13.58.07/Dicom/20170126135807_7T021103_1301_QSM.nii.gz']\n",
      "/NAS/deathrow/protocoles/HYPOTALAMUS/QSM/7T021103_20170126/qsm.mat\n",
      "['/NAS/deathrow/protocoles/HYPOTALAMUS/7T_DCM/7T021/7T021104_20170410/US_20170410_13.06.08/Dicom/20170410130608_7T021104_1101_QSM.nii.gz']\n",
      "/NAS/deathrow/protocoles/HYPOTALAMUS/QSM/7T021104_20170410/qsm.mat\n",
      "['/NAS/deathrow/protocoles/HYPOTALAMUS/7T_DCM/7T021/7T021105_20170316/US_20170316_12.59.59/Dicom/20170316125959_7T021105_1201_QSM.nii.gz']\n",
      "/NAS/deathrow/protocoles/HYPOTALAMUS/QSM/7T021105_20170316/qsm.mat\n",
      "['/NAS/deathrow/protocoles/HYPOTALAMUS/7T_DCM/7T021/7T021106_20170330/US_20170330_13.02.58/Dicom/20170330130258_7T021106_1201_QSM.nii.gz']\n",
      "/NAS/deathrow/protocoles/HYPOTALAMUS/QSM/7T021106_20170330/qsm.mat\n",
      "['/NAS/deathrow/protocoles/HYPOTALAMUS/7T_DCM/7T021/7T021107_20170403/US_20170403_13.10.59/Dicom/20170403131059_7T021107_1201_QSM.nii.gz']\n",
      "/NAS/deathrow/protocoles/HYPOTALAMUS/QSM/7T021107_20170403/qsm.mat\n",
      "['/NAS/deathrow/protocoles/HYPOTALAMUS/7T_DCM/7T021/7T021112_20170620/US_20170620_13.33.30/Dicom/20170620133330_7T021112_1201_QSM.nii.gz']\n",
      "/NAS/deathrow/protocoles/HYPOTALAMUS/QSM/7T021112_20170620/qsm.mat\n",
      "['/NAS/deathrow/protocoles/HYPOTALAMUS/7T_DCM/7T021/7T021113_20180206/US_20180206_12.50.54/Dicom/20180206125054_7T021113_1201_QSM.nii.gz']\n",
      "/NAS/deathrow/protocoles/HYPOTALAMUS/QSM/7T021113_20180206/qsm.mat\n",
      "['/NAS/deathrow/protocoles/HYPOTALAMUS/7T_DCM/7T021/7T021114_20171211/US_20171211_12.12.12/Dicom/20171211121212_7T021114_1201_QSM.nii.gz']\n",
      "/NAS/deathrow/protocoles/HYPOTALAMUS/QSM/7T021114_20171211/qsm.mat\n",
      "['/NAS/deathrow/protocoles/HYPOTALAMUS/7T_DCM/7T021/7T021115_20171204/US_20171204_10.53.49/Dicom/20171204105349_7T021115_1201_QSM.nii.gz']\n",
      "/NAS/deathrow/protocoles/HYPOTALAMUS/QSM/7T021115_20171204/qsm.mat\n",
      "['/NAS/deathrow/protocoles/HYPOTALAMUS/7T_DCM/7T021/7T021116_20171206/US_20171206_10.58.37/Dicom/20171206105837_7T021116_1201_QSM.nii.gz']\n",
      "/NAS/deathrow/protocoles/HYPOTALAMUS/QSM/7T021116_20171206/qsm.mat\n",
      "['/NAS/deathrow/protocoles/HYPOTALAMUS/7T_DCM/7T021/7T021117_20171107/US_20171107_12.43.15/Dicom/20171107124315_7T021117_1101_QSM.nii.gz']\n",
      "/NAS/deathrow/protocoles/HYPOTALAMUS/QSM/7T021117_20171107/qsm.mat\n",
      "['/NAS/deathrow/protocoles/HYPOTALAMUS/7T_DCM/7T021/7T021118_20170510/US_20170510_08.08.06/Dicom/20170510080806_7T021118_1301_QSM.nii.gz']\n",
      "/NAS/deathrow/protocoles/HYPOTALAMUS/QSM/7T021118_20170510/qsm.mat\n",
      "['/NAS/deathrow/protocoles/HYPOTALAMUS/7T_DCM/7T021/7T021119_20180312/US_20180312_11.08.30/Dicom/20180312110830_7T021119_1201_QSM.nii.gz']\n",
      "/NAS/deathrow/protocoles/HYPOTALAMUS/QSM/7T021119_20180312/qsm.mat\n",
      "['/NAS/deathrow/protocoles/HYPOTALAMUS/7T_DCM/7T021/7T021121_20180328/US_20180328_12.03.32/Dicom/20180328120332_7T021121_1201_QSM.nii.gz']\n",
      "/NAS/deathrow/protocoles/HYPOTALAMUS/QSM/7T021121_20180328/qsm.mat\n",
      "['/NAS/deathrow/protocoles/HYPOTALAMUS/7T_DCM/7T021/7T021122_20180511/US_20180511_08.20.51/Dicom/20180511082051_7T021122_1201_QSM.nii.gz']\n",
      "/NAS/deathrow/protocoles/HYPOTALAMUS/QSM/7T021122_20180511/qsm.mat\n",
      "['/NAS/deathrow/protocoles/HYPOTALAMUS/7T_DCM/7T021/7T021123_20180417/US_20180417_14.10.03/Dicom/20180417141003_7T021123_1301_QSM.nii.gz']\n",
      "/NAS/deathrow/protocoles/HYPOTALAMUS/QSM/7T021123_20180417/qsm.mat\n",
      "['/NAS/deathrow/protocoles/HYPOTALAMUS/7T_DCM/7T021/7T021124_20180502/US_20180502_12.18.11/Dicom/20180502121811_7T021124_1201_QSM.nii.gz']\n",
      "/NAS/deathrow/protocoles/HYPOTALAMUS/QSM/7T021124_20180502/qsm.mat\n",
      "['/NAS/deathrow/protocoles/HYPOTALAMUS/7T_DCM/7T021/7T021125_20180319/US_20180319_10.46.01/Dicom/20180319104601_7T021125_1201_QSM.nii.gz']\n",
      "/NAS/deathrow/protocoles/HYPOTALAMUS/QSM/7T021125_20180319/qsm.mat\n",
      "['/NAS/deathrow/protocoles/HYPOTALAMUS/7T_DCM/7T021/7T021126_20180313/US_20180313_12.42.53/Dicom/20180313124253_7T021126_1201_QSM.nii.gz']\n",
      "/NAS/deathrow/protocoles/HYPOTALAMUS/QSM/7T021126_20180313/qsm.mat\n",
      "['/NAS/deathrow/protocoles/HYPOTALAMUS/7T_DCM/7T021/7T021127_20180503/US_20180503_12.23.40/Dicom/20180503122340_7T021127_1201_QSM.nii.gz']\n",
      "/NAS/deathrow/protocoles/HYPOTALAMUS/QSM/7T021127_20180503/qsm.mat\n",
      "['/NAS/deathrow/protocoles/HYPOTALAMUS/7T_DCM/7T021/7T021128_20170615/US_20170615_13.54.13/Dicom/20170615135413_7T021128_1601_QSM.nii.gz']\n",
      "/NAS/deathrow/protocoles/HYPOTALAMUS/QSM/7T021128_20170615/qsm.mat\n",
      "['/NAS/deathrow/protocoles/HYPOTALAMUS/7T_DCM/7T021/7T021129_20180115/US_20180115_12.00.37/Dicom/20180115120037_7T021129_1201_QSM.nii.gz']\n",
      "/NAS/deathrow/protocoles/HYPOTALAMUS/QSM/7T021129_20180115/qsm.mat\n",
      "['/NAS/deathrow/protocoles/HYPOTALAMUS/7T_DCM/7T021/7T021130_20180116/US_20180116_11.51.18/Dicom/20180116115118_7T021130_1201_QSM.nii.gz']\n",
      "/NAS/deathrow/protocoles/HYPOTALAMUS/QSM/7T021130_20180116/qsm.mat\n",
      "['/NAS/deathrow/protocoles/HYPOTALAMUS/7T_DCM/7T021/7T021131_20180123/US_20180123_12.41.39/Dicom/20180123124139_7T021131_1201_QSM.nii.gz']\n",
      "/NAS/deathrow/protocoles/HYPOTALAMUS/QSM/7T021131_20180123/qsm.mat\n",
      "['/NAS/deathrow/protocoles/HYPOTALAMUS/7T_DCM/7T021/7T021132_20180220/US_20180220_13.37.31/Dicom/20180220133731_7T021132_1201_QSM.nii.gz']\n",
      "/NAS/deathrow/protocoles/HYPOTALAMUS/QSM/7T021132_20180220/qsm.mat\n",
      "['/NAS/deathrow/protocoles/HYPOTALAMUS/7T_DCM/7T021/7T021133_20180129/US_20180129_12.00.54/Dicom/20180129120054_7T021133_1201_QSM.nii.gz']\n",
      "/NAS/deathrow/protocoles/HYPOTALAMUS/QSM/7T021133_20180129/qsm.mat\n",
      "['/NAS/deathrow/protocoles/HYPOTALAMUS/7T_DCM/7T021/7T021134_20180206/US_20180206_10.49.12/Dicom/20180206104912_7T021134_1201_QSM.nii.gz']\n",
      "/NAS/deathrow/protocoles/HYPOTALAMUS/QSM/7T021134_20180206/qsm.mat\n",
      "['/NAS/deathrow/protocoles/HYPOTALAMUS/7T_DCM/7T021/7T021135_20180122/US_20180122_12.01.00/Dicom/20180122120100_7T021135_1301_QSM.nii.gz']\n",
      "/NAS/deathrow/protocoles/HYPOTALAMUS/QSM/7T021135_20180122/qsm.mat\n",
      "['/NAS/deathrow/protocoles/HYPOTALAMUS/7T_DCM/7T021/7T021136_20180117/US_20180117_12.04.20/Dicom/20180117120420_7T021136_1201_QSM.nii.gz']\n",
      "/NAS/deathrow/protocoles/HYPOTALAMUS/QSM/7T021136_20180117/qsm.mat\n",
      "['/NAS/deathrow/protocoles/HYPOTALAMUS/7T_DCM/7T021/7T021137_20170503/US_20170503_11.28.27/Dicom/20170503112827_7T021137_1101_QSM.nii.gz']\n",
      "/NAS/deathrow/protocoles/HYPOTALAMUS/QSM/7T021137_20170503/qsm.mat\n",
      "['/NAS/deathrow/protocoles/HYPOTALAMUS/7T_DCM/7T021/7T021138_20190130/US_20190130_13.31.23/Dicom/20190130133123_7T021138_1101_QSM.nii.gz']\n",
      "/NAS/deathrow/protocoles/HYPOTALAMUS/QSM/7T021138_20190130/qsm.mat\n",
      "['/NAS/deathrow/protocoles/HYPOTALAMUS/7T_DCM/7T021/7T021139_20190204/US_20190204_10.56.51/Dicom/20190204105651_7T021139_1301_QSM.nii.gz']\n",
      "/NAS/deathrow/protocoles/HYPOTALAMUS/QSM/7T021139_20190204/qsm.mat\n",
      "['/NAS/deathrow/protocoles/HYPOTALAMUS/7T_DCM/7T021/7T021140_20190404/US_20190404_12.37.22/Dicom/20190404123722_7T021140_1201_QSM.nii.gz']\n",
      "/NAS/deathrow/protocoles/HYPOTALAMUS/QSM/7T021140_20190404/qsm.mat\n",
      "['/NAS/deathrow/protocoles/HYPOTALAMUS/7T_DCM/7T021/7T021141_20190401/US_20190401_13.37.14/Dicom/20190401133714_7T021141_1101_QSM.nii.gz']\n",
      "/NAS/deathrow/protocoles/HYPOTALAMUS/QSM/7T021141_20190401/qsm.mat\n",
      "['/NAS/deathrow/protocoles/HYPOTALAMUS/7T_DCM/7T021/7T021142_20190318/US_20190318_13.16.48/Dicom/20190318131648_7T021142_1201_QSM.nii.gz']\n",
      "/NAS/deathrow/protocoles/HYPOTALAMUS/QSM/7T021142_20190318/qsm.mat\n",
      "['/NAS/deathrow/protocoles/HYPOTALAMUS/7T_DCM/7T021/7T021143_20190211/US_20190211_12.34.38/Dicom/20190211123438_7T021143_1201_QSM.nii.gz']\n",
      "/NAS/deathrow/protocoles/HYPOTALAMUS/QSM/7T021143_20190211/qsm.mat\n",
      "['/NAS/deathrow/protocoles/HYPOTALAMUS/7T_DCM/7T021/7T021144_20171108/US_20171108_12.51.33/Dicom/20171108125133_7T021144_1101_QSM.nii.gz']\n",
      "/NAS/deathrow/protocoles/HYPOTALAMUS/QSM/7T021144_20171108/qsm.mat\n",
      "['/NAS/deathrow/protocoles/HYPOTALAMUS/7T_DCM/7T021/7T021145_20180514/US_20180514_12.38.27/Dicom/20180514123827_7T021145_1301_QSM.nii.gz']\n",
      "/NAS/deathrow/protocoles/HYPOTALAMUS/QSM/7T021145_20180514/qsm.mat\n",
      "['/NAS/deathrow/protocoles/HYPOTALAMUS/7T_DCM/7T021/7T021146_20180516/US_20180516_12.54.21/Dicom/20180516125421_7T021146_1201_QSM.nii.gz']\n",
      "/NAS/deathrow/protocoles/HYPOTALAMUS/QSM/7T021146_20180516/qsm.mat\n",
      "['/NAS/deathrow/protocoles/HYPOTALAMUS/7T_DCM/7T021/7T021147_20180604/US_20180604_14.23.05/Dicom/20180604142305_7T021147_1101_QSM.nii.gz']\n",
      "/NAS/deathrow/protocoles/HYPOTALAMUS/QSM/7T021147_20180604/qsm.mat\n",
      "['/NAS/deathrow/protocoles/HYPOTALAMUS/7T_DCM/7T021/7T021148_20180604/US_20180604_13.01.26/Dicom/20180604130126_7T021148_1201_QSM.nii.gz']\n",
      "/NAS/deathrow/protocoles/HYPOTALAMUS/QSM/7T021148_20180604/qsm.mat\n",
      "['/NAS/deathrow/protocoles/HYPOTALAMUS/7T_DCM/7T021/7T021149_20180709/US_20180709_12.24.17/Dicom/20180709122417_7T021149_1201_QSM.nii.gz']\n",
      "/NAS/deathrow/protocoles/HYPOTALAMUS/QSM/7T021149_20180709/qsm.mat\n"
     ]
    }
   ],
   "source": [
    "for it in glob.iglob('/NAS/deathrow/protocoles/HYPOTALAMUS/QSM/7T021*/qsm.mat') :\n",
    "    subj= it.split('/')\n",
    "    file_QSM=sorted(glob.glob(\"/NAS/deathrow/protocoles/HYPOTALAMUS/7T_DCM/7T021/\"+subj[6]+\"/US_*/Dicom/*QSM.nii.gz\"))\n",
    "    print(file_QSM)\n",
    "    print(it)\n",
    "    ori = nib.load(file_QSM)\n",
    "    matfilestr=it    \n",
    "    niifilestr=it.replace('qsm.mat','QSM.nii')\n",
    "    if (not os.path.isfile(niifilestr)) :\n",
    "        matFile = scipy.io.matlab.loadmat(matfilestr)        \n",
    "        tmp_qsm=np.flip(matFile['QSM'],(1,2))\n",
    "        img_qsm = nib.Nifti1Image(tmp_qsm,ori.affine)\n",
    "        nib.save(img_qsm,niifilestr)\n",
    "        print(niifilestr)"
   ]
  },
  {
   "cell_type": "code",
   "execution_count": null,
   "metadata": {},
   "outputs": [],
   "source": [
    "\n"
   ]
  },
  {
   "cell_type": "code",
   "execution_count": null,
   "metadata": {},
   "outputs": [],
   "source": [
    "ori = nib.load(\"/NAS/deathrow/protocoles/HYPOTALAMUS/7T_DCM/7T021/7T021103_20170126/US_20170126_13.58.07/Dicom/20170126_135807QSMs1301a1013.nii.gz\")\n",
    "for it in glob.iglob('/NAS/deathrow/protocoles/HYPOTALAMUS/QSM/7T021/MEDI_*_*_[2468]/qsm.mat') :\n",
    "    matfilestr=it    \n",
    "    niifilestr=it.replace('qsm.mat','QSM.nii')\n",
    "    if (not os.path.isfile(niifilestr)) :\n",
    "        matFile = scipy.io.matlab.loadmat(matfilestr)        \n",
    "        tmp_qsm=np.flip(matFile['QSM'],(1,2))\n",
    "        img_qsm = nib.Nifti1Image(tmp_qsm,ori.affine)\n",
    "        nib.save(img_qsm,niifilestr)\n",
    "        print(niifilestr)"
   ]
  },
  {
   "cell_type": "code",
   "execution_count": 36,
   "metadata": {},
   "outputs": [],
   "source": [
    "ori = nib.load(\"/NAS/deathrow/protocoles/HYPOTALAMUS/7T_DCM/7T021/7T021103_20170126/US_20170126_13.58.07/Dicom/test.nii.gz\")"
   ]
  },
  {
   "cell_type": "code",
   "execution_count": 37,
   "metadata": {},
   "outputs": [
    {
     "name": "stdout",
     "output_type": "stream",
     "text": [
      "<class 'nibabel.nifti1.Nifti1Image'>\n",
      "data shape (543, 672, 672)\n",
      "affine: \n",
      "[[-1.89604065e+02  3.50605417e-03  1.10694552e-02  1.02666969e+05]\n",
      " [ 1.81896532e+00  3.60179603e-01 -1.75267924e-03 -1.10112988e+03]\n",
      " [ 5.83847141e+00  1.64562871e-03  3.60026032e-01 -3.29581421e+03]\n",
      " [ 0.00000000e+00  0.00000000e+00  0.00000000e+00  1.00000000e+00]]\n",
      "metadata:\n",
      "<class 'nibabel.nifti1.Nifti1Header'> object, endian='<'\n",
      "sizeof_hdr      : 348\n",
      "data_type       : b''\n",
      "db_name         : b''\n",
      "extents         : 16384\n",
      "session_error   : 0\n",
      "regular         : b'r'\n",
      "dim_info        : 0\n",
      "dim             : [  3 543 672 672   1   1   1   1]\n",
      "intent_p1       : 0.0\n",
      "intent_p2       : 0.0\n",
      "intent_p3       : 0.0\n",
      "intent_code     : none\n",
      "datatype        : float32\n",
      "bitpix          : 32\n",
      "slice_start     : 0\n",
      "pixdim          : [-1.0000000e+00  1.8970267e+02  3.6020043e-01  3.6020043e-01\n",
      "  8.0000004e-03  1.0000000e+00  1.0000000e+00  5.2154031e+04]\n",
      "vox_offset      : 0.0\n",
      "scl_slope       : nan\n",
      "scl_inter       : nan\n",
      "slice_end       : 0\n",
      "slice_code      : unknown\n",
      "xyzt_units      : 10\n",
      "cal_max         : 0.0\n",
      "cal_min         : 0.0\n",
      "slice_duration  : 0.0\n",
      "toffset         : 0.0\n",
      "glmax           : 0\n",
      "glmin           : 0\n",
      "descrip         : b'6.0.3:b862cdd5'\n",
      "aux_file        : b''\n",
      "qform_code      : scanner\n",
      "sform_code      : scanner\n",
      "quatern_b       : -0.004831146\n",
      "quatern_c       : -0.99986726\n",
      "quatern_d       : -0.002358924\n",
      "qoffset_x       : 102666.98\n",
      "qoffset_y       : -1101.1243\n",
      "qoffset_z       : -3295.8193\n",
      "srow_x          : [-1.8960406e+02  3.5060542e-03  1.1069455e-02  1.0266697e+05]\n",
      "srow_y          : [ 1.8189653e+00  3.6017960e-01 -1.7526792e-03 -1.1011299e+03]\n",
      "srow_z          : [ 5.8384714e+00  1.6456287e-03  3.6002603e-01 -3.2958142e+03]\n",
      "intent_name     : b''\n",
      "magic           : b'n+1'\n"
     ]
    }
   ],
   "source": [
    "print(ori)"
   ]
  },
  {
   "cell_type": "code",
   "execution_count": 38,
   "metadata": {},
   "outputs": [
    {
     "name": "stdout",
     "output_type": "stream",
     "text": [
      "[[-1.89604065e+02  3.50605417e-03  1.10694552e-02  1.02666969e+05]\n",
      " [ 1.81896532e+00  3.60179603e-01 -1.75267924e-03 -1.10112988e+03]\n",
      " [ 5.83847141e+00  1.64562871e-03  3.60026032e-01 -3.29581421e+03]\n",
      " [ 0.00000000e+00  0.00000000e+00  0.00000000e+00  1.00000000e+00]]\n"
     ]
    }
   ],
   "source": [
    "print(ori.affine)"
   ]
  },
  {
   "cell_type": "code",
   "execution_count": 33,
   "metadata": {},
   "outputs": [
    {
     "name": "stdout",
     "output_type": "stream",
     "text": [
      "[[0.35   0.     0.     0.    ]\n",
      " [0.     0.3602 0.     0.    ]\n",
      " [0.     0.     0.3602 0.    ]\n",
      " [0.     0.     0.     1.    ]]\n"
     ]
    }
   ],
   "source": [
    "new_hd=np.eye(4)\n",
    "new_hd[0,0]=0.35\n",
    "new_hd[1,1]=0.3602\n",
    "new_hd[2,2]=0.3602\n",
    "print(new_hd)"
   ]
  },
  {
   "cell_type": "code",
   "execution_count": 34,
   "metadata": {},
   "outputs": [],
   "source": [
    "img = nib.Nifti1Image(ori.get_fdata(),new_hd)\n",
    "nib.save(img,\"/NAS/deathrow/protocoles/HYPOTALAMUS/7T_DCM/7T021/7T021103_20170126/US_20170126_13.58.07/Dicom/test2.nii.gz\")"
   ]
  },
  {
   "cell_type": "code",
   "execution_count": 1,
   "metadata": {},
   "outputs": [],
   "source": [
    "import dicom2nifti"
   ]
  },
  {
   "cell_type": "code",
   "execution_count": 3,
   "metadata": {},
   "outputs": [
    {
     "data": {
      "text/plain": [
       "{'NII_FILE': '/NAS/deathrow/protocoles/HYPOTALAMUS/7T_DCM/7T021/7T021103_20170126/US_20170126_13.58.07/Dicom/test3.nii.gz',\n",
       " 'NII': <nibabel.nifti1.Nifti1Image at 0x7f7691579410>,\n",
       " 'MAX_SLICE_INCREMENT': 0.3500049195917372}"
      ]
     },
     "execution_count": 3,
     "metadata": {},
     "output_type": "execute_result"
    }
   ],
   "source": [
    "dicom2nifti.dicom_series_to_nifti(\"/NAS/deathrow/protocoles/HYPOTALAMUS/7T_DCM/7T021/7T021103_20170126/US_20170126_13.58.07/Dicom/701_WIP_T1_3D_TFE__0.7sag_SENSE_20170126_14.29.01/\",\"/NAS/deathrow/protocoles/HYPOTALAMUS/7T_DCM/7T021/7T021103_20170126/US_20170126_13.58.07/Dicom/test3.nii.gz\",reorient_nifti=True)"
   ]
  }
 ],
 "metadata": {
  "kernelspec": {
   "display_name": "Python 3",
   "language": "python",
   "name": "python3"
  },
  "language_info": {
   "codemirror_mode": {
    "name": "ipython",
    "version": 3
   },
   "file_extension": ".py",
   "mimetype": "text/x-python",
   "name": "python",
   "nbconvert_exporter": "python",
   "pygments_lexer": "ipython3",
   "version": "3.7.6"
  }
 },
 "nbformat": 4,
 "nbformat_minor": 4
}
