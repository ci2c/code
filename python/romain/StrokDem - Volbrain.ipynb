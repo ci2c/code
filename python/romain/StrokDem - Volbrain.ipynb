{
 "cells": [
  {
   "cell_type": "code",
   "execution_count": 69,
   "metadata": {},
   "outputs": [],
   "source": [
    "from selenium import webdriver\n",
    "from selenium.webdriver.common.keys import Keys\n",
    "from selenium.webdriver.firefox.options import Options\n",
    "from selenium.webdriver import Firefox\n",
    "from selenium.webdriver.support.ui import WebDriverWait\n",
    "import os,sys,datetime,random,re\n",
    "from collections import OrderedDict\n",
    "import csv\n",
    "import itertools\n",
    "import time\n",
    "from shutil import copyfile,move\n",
    "import glob\n",
    "import pandas as pd \n",
    "import urllib3\n",
    "import requests\n",
    "from clint.textui import progress"
   ]
  },
  {
   "cell_type": "code",
   "execution_count": 117,
   "metadata": {},
   "outputs": [],
   "source": [
    "STUDY_PATH='/NAS/tupac/protocoles/Strokdem/'\n",
    "BIDS_PATH='/NAS/deathrow/renaud/dti_disconnection/bids_db/'\n",
    "myDict = {\"romain.viard@chru-lille.fr\":\"romainviardchru\",\"a.viard@outlook.fr\":\"aviardoutlook\",\"j.viard@outlook.fr\":\"jviardoutlook\",\"romain_viard@yahoo.fr\":\"xIO52ts0UWm5\",\"juliette.mitjans@yahoo.fr\":\"mdpvolbrain\",\"rhumun@gmail.com\":\"EYyS9kx1UhWo\",\"renaud.lopes@gmail.com\":\"Ci2c@chru\",\"clement.bne@gmail.com\":\"ci2clille\",\"quentinvannodmichel@gmail.com\":\"p53q37rst\",\"gregkuch@msn.com\":\"greg2004\",\"e_nedeva@hotmail.com\":\"VolbrainMdp\",\"jbdavion@hotmail.fr\":\"neuro2309\",\"qdevignes@gmail.com\":\"ci2clille\"}\n",
    "myDictSorted=OrderedDict(sorted(myDict.items(), key=lambda t: t[0],reverse=True))"
   ]
  },
  {
   "cell_type": "code",
   "execution_count": 71,
   "metadata": {},
   "outputs": [
    {
     "name": "stdout",
     "output_type": "stream",
     "text": [
      "romain_viard@yahoo.fr xIO52ts0UWm5\n",
      "romain.viard@chru-lille.fr romainviardchru\n",
      "rhumun@gmail.com EYyS9kx1UhWo\n",
      "renaud.lopes@gmail.com Ci2c@chru\n",
      "quentinvannodmichel@gmail.com p53q37rst\n",
      "qdevignes@gmail.com ci2clille\n",
      "juliette.mitjans@yahoo.fr mdpvolbrain\n",
      "jbdavion@hotmail.fr neuro2309\n",
      "j.viard@outlook.fr jviardoutlook\n",
      "gregkuch@msn.com greg2004\n",
      "e_nedeva@hotmail.com VolbrainMdp\n",
      "clement.bne@gmail.com ci2clille\n",
      "a.viard@outlook.fr aviardoutlook\n"
     ]
    }
   ],
   "source": [
    "for cle,valeur in myDictSorted.items():\n",
    "    print(cle,valeur)"
   ]
  },
  {
   "cell_type": "code",
   "execution_count": null,
   "metadata": {},
   "outputs": [],
   "source": [
    "def getNbAvailable(idvb,pwd):\n",
    "    ladate=datetime.datetime.today().strftime('%Y-%m-%d')\n",
    "    options = Options()\n",
    "    options.headless = True\n",
    "    driver = Firefox(options=options)\n",
    "    driver.implicitly_wait(15)\n",
    "    #WebDriverWait(driver, timeout=5).until(document_initialised)\n",
    "    driver.get(\"http://volbrain.upv.es/index.php\")\n",
    "    elem = driver.find_element_by_name(\"email\")\n",
    "    elem.send_keys(idvb)\n",
    "    elem = driver.find_element_by_name(\"password\")\n",
    "    elem.send_keys(pwd)\n",
    "    elem = driver.find_element_by_name(\"sub\")\n",
    "    elem.click()   \n",
    "    elem = driver.find_element_by_name(\"job_list\")\n",
    "    html_tab_vol_brain=elem.get_attribute('innerHTML')\n",
    "    txt_tab_vol_brain=elem.text\n",
    "    driver.stop_client()       \n",
    "    driver.close()\n",
    "    deb=10\n",
    "    for m in re.finditer(\" \"+str(ladate)+\" \",txt_tab_vol_brain):\n",
    "        deb -= 1\n",
    "    return deb"
   ]
  },
  {
   "cell_type": "code",
   "execution_count": null,
   "metadata": {},
   "outputs": [],
   "source": [
    "def sendFileOnVB_volbrain(file,age,sexe,idvb,pwd):\n",
    "    options = Options()\n",
    "    options.headless = True\n",
    "    driver = Firefox(options=options)\n",
    "    driver.implicitly_wait(15)\n",
    "   #WebDriverWait(driver, timeout=5).until(document_initialised)\n",
    "    driver.get(\"https://volbrain.upv.es/index.php\")\n",
    "    #print(\"Web site reached\")\n",
    "    elem = driver.find_element_by_name(\"email\")\n",
    "    elem.send_keys(idvb)\n",
    "    elem = driver.find_element_by_name(\"password\")\n",
    "    elem.send_keys(pwd)\n",
    "    #print(\"Connected\")\n",
    "    elem = driver.find_element_by_name(\"sub\")\n",
    "    elem.click()\n",
    "    elem = driver.find_element_by_id(\"pipeline1\")\n",
    "    elem.click()\n",
    "    #print(\"Pipeline1 Ok\")\n",
    "    elem = driver.find_element_by_name(\"volbrain_t1_file\")\n",
    "    elem.send_keys(file)\n",
    "    elem = driver.find_element_by_name(\"volbrain_patientssex\")\n",
    "    elem.send_keys(sexe)\n",
    "    elem = driver.find_element_by_name(\"volbrain_patientsage\")\n",
    "    elem.send_keys(age)\n",
    "    elem = driver.find_element_by_name(\"button_volbrain\")\n",
    "    elem.click()\n",
    "    #print(\"Data sent\")\n",
    "    driver.stop_client()       \n",
    "    driver.close()"
   ]
  },
  {
   "cell_type": "code",
   "execution_count": 74,
   "metadata": {},
   "outputs": [
    {
     "data": {
      "text/plain": [
       "15"
      ]
     },
     "execution_count": 74,
     "metadata": {},
     "output_type": "execute_result"
    }
   ],
   "source": [
    "os.system('rm -rf /tmp/Temp-*')\n",
    "os.system('rm -rf /tmp/tmpaddon*')\n",
    "os.system('rm -rf /tmp/rust_mozprofile.*')\n",
    "os.system('''kill $(ps aux | grep 'firefox'| awk '{print $2}')''')"
   ]
  },
  {
   "cell_type": "code",
   "execution_count": 73,
   "metadata": {},
   "outputs": [],
   "source": [
    "RegNameFile=\"\"\n",
    "regex=\"https:\\/\\/files.volbrain.upv.es.{1,50}?\"+str(RegNameFile)+\".{1,10}?zip\"\n",
    "idvb=\"romain.viard@chru-lille.fr\"\n",
    "pwd=\"romainviardchru\""
   ]
  },
  {
   "cell_type": "code",
   "execution_count": 75,
   "metadata": {},
   "outputs": [
    {
     "name": "stdout",
     "output_type": "stream",
     "text": [
      "page :  2\n",
      "page :  3\n",
      "page :  4\n",
      "page :  5\n"
     ]
    }
   ],
   "source": [
    "#def checkIfAlreadySent(RegNameFileList,idvb,pwd):\n",
    "options = Options()\n",
    "options.headless = True\n",
    "driver = Firefox(options=options)\n",
    "driver.get(\"http://volbrain.upv.es/index.php\")\n",
    "elem = driver.find_element_by_name(\"email\")\n",
    "elem.send_keys(idvb)\n",
    "elem = driver.find_element_by_name(\"password\")\n",
    "elem.send_keys(pwd)\n",
    "elem = driver.find_element_by_name(\"sub\")\n",
    "elem.click()\n",
    "attempts = 0\n",
    "cpt=0\n",
    "time.sleep(10)\n",
    "elem = driver.find_element_by_name(\"job_list\")\n",
    "html_tab_vol_brain=elem.get_attribute('innerHTML')\n",
    "txt_tab_vol_brain=elem.text\n",
    "\n",
    "for n in range(2,6,1):\n",
    "    print(\"page : \",n)\n",
    "    driver.execute_script(\"loadJobList(\"+str(n)+\")\")\n",
    "    time.sleep(3)\n",
    "    elem = driver.find_element_by_name(\"job_list\")\n",
    "    html_tab_vol_brain=html_tab_vol_brain+elem.get_attribute('innerHTML')\n",
    "    txt_tab_vol_brain=txt_tab_vol_brain+elem.text"
   ]
  },
  {
   "cell_type": "code",
   "execution_count": 110,
   "metadata": {},
   "outputs": [],
   "source": [
    "del myDictSorted[\"romain.viard@chru-lille.fr\"]\n",
    "del myDictSorted[\"rhumun@gmail.com\"] \n",
    "del myDictSorted[\"renaud.lopes@gmail.com\"] \n",
    "del myDictSorted[\"quentinvannodmichel@gmail.com\"] \n",
    "del myDictSorted[\"jbdavion@hotmail.fr\"] \n",
    "del myDictSorted[\"qdevignes@gmail.com\"] \n",
    "del myDictSorted[\"juliette.mitjans@yahoo.fr\"]\n",
    "del myDictSorted[\"j.viard@outlook.fr\"] "
   ]
  },
  {
   "cell_type": "code",
   "execution_count": 103,
   "metadata": {},
   "outputs": [
    {
     "data": {
      "text/plain": [
       "162"
      ]
     },
     "execution_count": 103,
     "metadata": {},
     "output_type": "execute_result"
    }
   ],
   "source": [
    "len(RegNameFileList)"
   ]
  },
  {
   "cell_type": "code",
   "execution_count": 123,
   "metadata": {},
   "outputs": [
    {
     "name": "stdout",
     "output_type": "stream",
     "text": [
      "romain.viard@chru-lille.fr romainviardchru\n",
      "page :  2\n",
      "page :  3\n",
      "page :  4\n",
      "/NAS/tupac/protocoles/Strokdem/volbrain_wmh_36/native_sub_601224NLL_wmh_tmp.nii.gz_job218892120620150417.zip\n",
      "https://files.volbrain.upv.es/sub_601224NLL_wmh_tmp.nii.gz_job218892120620150417.zip\n",
      "/NAS/tupac/protocoles/Strokdem/volbrain_dl/sub_601224NLL_wmh_tmp.nii.gz_job218892120620150417.zip\n",
      "https://files.volbrain.upv.es/native_sub_601224NLL_wmh_tmp.nii.gz_job218892120620150417.zip\n",
      "/NAS/tupac/protocoles/Strokdem/volbrain_dl/native_sub_601224NLL_wmh_tmp.nii.gz_job218892120620150417.zip\n",
      "https://files.volbrain.upv.es/sub_601224NLL_wmh_tmp.nii.gz_job218892120620150417.zip\n",
      "/NAS/tupac/protocoles/Strokdem/volbrain_dl/sub_601224NLL_wmh_tmp.nii.gz_job218892120620150417.zip\n",
      "rhumun@gmail.com EYyS9kx1UhWo\n"
     ]
    },
    {
     "ename": "NoSuchElementException",
     "evalue": "Message: Unable to locate element: [name=\"job_list\"]\n",
     "output_type": "error",
     "traceback": [
      "\u001b[0;31m---------------------------------------------------------------------------\u001b[0m",
      "\u001b[0;31mNoSuchElementException\u001b[0m                    Traceback (most recent call last)",
      "\u001b[0;32m<ipython-input-123-af238d83d3e7>\u001b[0m in \u001b[0;36m<module>\u001b[0;34m\u001b[0m\n\u001b[1;32m     23\u001b[0m     \u001b[0mcpt\u001b[0m\u001b[0;34m=\u001b[0m\u001b[0;36m0\u001b[0m\u001b[0;34m\u001b[0m\u001b[0;34m\u001b[0m\u001b[0m\n\u001b[1;32m     24\u001b[0m     \u001b[0mtime\u001b[0m\u001b[0;34m.\u001b[0m\u001b[0msleep\u001b[0m\u001b[0;34m(\u001b[0m\u001b[0;36m50\u001b[0m\u001b[0;34m)\u001b[0m\u001b[0;34m\u001b[0m\u001b[0;34m\u001b[0m\u001b[0m\n\u001b[0;32m---> 25\u001b[0;31m     \u001b[0melem\u001b[0m \u001b[0;34m=\u001b[0m \u001b[0mdriver\u001b[0m\u001b[0;34m.\u001b[0m\u001b[0mfind_element_by_name\u001b[0m\u001b[0;34m(\u001b[0m\u001b[0;34m\"job_list\"\u001b[0m\u001b[0;34m)\u001b[0m\u001b[0;34m\u001b[0m\u001b[0;34m\u001b[0m\u001b[0m\n\u001b[0m\u001b[1;32m     26\u001b[0m     \u001b[0mhtml_tab_vol_brain\u001b[0m\u001b[0;34m=\u001b[0m\u001b[0melem\u001b[0m\u001b[0;34m.\u001b[0m\u001b[0mget_attribute\u001b[0m\u001b[0;34m(\u001b[0m\u001b[0;34m'innerHTML'\u001b[0m\u001b[0;34m)\u001b[0m\u001b[0;34m\u001b[0m\u001b[0;34m\u001b[0m\u001b[0m\n\u001b[1;32m     27\u001b[0m     \u001b[0mtxt_tab_vol_brain\u001b[0m\u001b[0;34m=\u001b[0m\u001b[0melem\u001b[0m\u001b[0;34m.\u001b[0m\u001b[0mtext\u001b[0m\u001b[0;34m\u001b[0m\u001b[0;34m\u001b[0m\u001b[0m\n",
      "\u001b[0;32m/home/global/anaconda37/lib/python3.7/site-packages/selenium/webdriver/remote/webdriver.py\u001b[0m in \u001b[0;36mfind_element_by_name\u001b[0;34m(self, name)\u001b[0m\n\u001b[1;32m    494\u001b[0m             \u001b[0melement\u001b[0m \u001b[0;34m=\u001b[0m \u001b[0mdriver\u001b[0m\u001b[0;34m.\u001b[0m\u001b[0mfind_element_by_name\u001b[0m\u001b[0;34m(\u001b[0m\u001b[0;34m'foo'\u001b[0m\u001b[0;34m)\u001b[0m\u001b[0;34m\u001b[0m\u001b[0;34m\u001b[0m\u001b[0m\n\u001b[1;32m    495\u001b[0m         \"\"\"\n\u001b[0;32m--> 496\u001b[0;31m         \u001b[0;32mreturn\u001b[0m \u001b[0mself\u001b[0m\u001b[0;34m.\u001b[0m\u001b[0mfind_element\u001b[0m\u001b[0;34m(\u001b[0m\u001b[0mby\u001b[0m\u001b[0;34m=\u001b[0m\u001b[0mBy\u001b[0m\u001b[0;34m.\u001b[0m\u001b[0mNAME\u001b[0m\u001b[0;34m,\u001b[0m \u001b[0mvalue\u001b[0m\u001b[0;34m=\u001b[0m\u001b[0mname\u001b[0m\u001b[0;34m)\u001b[0m\u001b[0;34m\u001b[0m\u001b[0;34m\u001b[0m\u001b[0m\n\u001b[0m\u001b[1;32m    497\u001b[0m \u001b[0;34m\u001b[0m\u001b[0m\n\u001b[1;32m    498\u001b[0m     \u001b[0;32mdef\u001b[0m \u001b[0mfind_elements_by_name\u001b[0m\u001b[0;34m(\u001b[0m\u001b[0mself\u001b[0m\u001b[0;34m,\u001b[0m \u001b[0mname\u001b[0m\u001b[0;34m)\u001b[0m\u001b[0;34m:\u001b[0m\u001b[0;34m\u001b[0m\u001b[0;34m\u001b[0m\u001b[0m\n",
      "\u001b[0;32m/home/global/anaconda37/lib/python3.7/site-packages/selenium/webdriver/remote/webdriver.py\u001b[0m in \u001b[0;36mfind_element\u001b[0;34m(self, by, value)\u001b[0m\n\u001b[1;32m    976\u001b[0m         return self.execute(Command.FIND_ELEMENT, {\n\u001b[1;32m    977\u001b[0m             \u001b[0;34m'using'\u001b[0m\u001b[0;34m:\u001b[0m \u001b[0mby\u001b[0m\u001b[0;34m,\u001b[0m\u001b[0;34m\u001b[0m\u001b[0;34m\u001b[0m\u001b[0m\n\u001b[0;32m--> 978\u001b[0;31m             'value': value})['value']\n\u001b[0m\u001b[1;32m    979\u001b[0m \u001b[0;34m\u001b[0m\u001b[0m\n\u001b[1;32m    980\u001b[0m     \u001b[0;32mdef\u001b[0m \u001b[0mfind_elements\u001b[0m\u001b[0;34m(\u001b[0m\u001b[0mself\u001b[0m\u001b[0;34m,\u001b[0m \u001b[0mby\u001b[0m\u001b[0;34m=\u001b[0m\u001b[0mBy\u001b[0m\u001b[0;34m.\u001b[0m\u001b[0mID\u001b[0m\u001b[0;34m,\u001b[0m \u001b[0mvalue\u001b[0m\u001b[0;34m=\u001b[0m\u001b[0;32mNone\u001b[0m\u001b[0;34m)\u001b[0m\u001b[0;34m:\u001b[0m\u001b[0;34m\u001b[0m\u001b[0;34m\u001b[0m\u001b[0m\n",
      "\u001b[0;32m/home/global/anaconda37/lib/python3.7/site-packages/selenium/webdriver/remote/webdriver.py\u001b[0m in \u001b[0;36mexecute\u001b[0;34m(self, driver_command, params)\u001b[0m\n\u001b[1;32m    319\u001b[0m         \u001b[0mresponse\u001b[0m \u001b[0;34m=\u001b[0m \u001b[0mself\u001b[0m\u001b[0;34m.\u001b[0m\u001b[0mcommand_executor\u001b[0m\u001b[0;34m.\u001b[0m\u001b[0mexecute\u001b[0m\u001b[0;34m(\u001b[0m\u001b[0mdriver_command\u001b[0m\u001b[0;34m,\u001b[0m \u001b[0mparams\u001b[0m\u001b[0;34m)\u001b[0m\u001b[0;34m\u001b[0m\u001b[0;34m\u001b[0m\u001b[0m\n\u001b[1;32m    320\u001b[0m         \u001b[0;32mif\u001b[0m \u001b[0mresponse\u001b[0m\u001b[0;34m:\u001b[0m\u001b[0;34m\u001b[0m\u001b[0;34m\u001b[0m\u001b[0m\n\u001b[0;32m--> 321\u001b[0;31m             \u001b[0mself\u001b[0m\u001b[0;34m.\u001b[0m\u001b[0merror_handler\u001b[0m\u001b[0;34m.\u001b[0m\u001b[0mcheck_response\u001b[0m\u001b[0;34m(\u001b[0m\u001b[0mresponse\u001b[0m\u001b[0;34m)\u001b[0m\u001b[0;34m\u001b[0m\u001b[0;34m\u001b[0m\u001b[0m\n\u001b[0m\u001b[1;32m    322\u001b[0m             response['value'] = self._unwrap_value(\n\u001b[1;32m    323\u001b[0m                 response.get('value', None))\n",
      "\u001b[0;32m/home/global/anaconda37/lib/python3.7/site-packages/selenium/webdriver/remote/errorhandler.py\u001b[0m in \u001b[0;36mcheck_response\u001b[0;34m(self, response)\u001b[0m\n\u001b[1;32m    240\u001b[0m                 \u001b[0malert_text\u001b[0m \u001b[0;34m=\u001b[0m \u001b[0mvalue\u001b[0m\u001b[0;34m[\u001b[0m\u001b[0;34m'alert'\u001b[0m\u001b[0;34m]\u001b[0m\u001b[0;34m.\u001b[0m\u001b[0mget\u001b[0m\u001b[0;34m(\u001b[0m\u001b[0;34m'text'\u001b[0m\u001b[0;34m)\u001b[0m\u001b[0;34m\u001b[0m\u001b[0;34m\u001b[0m\u001b[0m\n\u001b[1;32m    241\u001b[0m             \u001b[0;32mraise\u001b[0m \u001b[0mexception_class\u001b[0m\u001b[0;34m(\u001b[0m\u001b[0mmessage\u001b[0m\u001b[0;34m,\u001b[0m \u001b[0mscreen\u001b[0m\u001b[0;34m,\u001b[0m \u001b[0mstacktrace\u001b[0m\u001b[0;34m,\u001b[0m \u001b[0malert_text\u001b[0m\u001b[0;34m)\u001b[0m\u001b[0;34m\u001b[0m\u001b[0;34m\u001b[0m\u001b[0m\n\u001b[0;32m--> 242\u001b[0;31m         \u001b[0;32mraise\u001b[0m \u001b[0mexception_class\u001b[0m\u001b[0;34m(\u001b[0m\u001b[0mmessage\u001b[0m\u001b[0;34m,\u001b[0m \u001b[0mscreen\u001b[0m\u001b[0;34m,\u001b[0m \u001b[0mstacktrace\u001b[0m\u001b[0;34m)\u001b[0m\u001b[0;34m\u001b[0m\u001b[0;34m\u001b[0m\u001b[0m\n\u001b[0m\u001b[1;32m    243\u001b[0m \u001b[0;34m\u001b[0m\u001b[0m\n\u001b[1;32m    244\u001b[0m     \u001b[0;32mdef\u001b[0m \u001b[0m_value_or_default\u001b[0m\u001b[0;34m(\u001b[0m\u001b[0mself\u001b[0m\u001b[0;34m,\u001b[0m \u001b[0mobj\u001b[0m\u001b[0;34m,\u001b[0m \u001b[0mkey\u001b[0m\u001b[0;34m,\u001b[0m \u001b[0mdefault\u001b[0m\u001b[0;34m)\u001b[0m\u001b[0;34m:\u001b[0m\u001b[0;34m\u001b[0m\u001b[0;34m\u001b[0m\u001b[0m\n",
      "\u001b[0;31mNoSuchElementException\u001b[0m: Message: Unable to locate element: [name=\"job_list\"]\n"
     ]
    }
   ],
   "source": [
    "del myDictSorted[\"romain_viard@yahoo.fr\"]\n",
    "\n",
    "for cle,valeur in myDictSorted.items():\n",
    "    print(cle,valeur)\n",
    "\n",
    "    os.system('rm -rf /tmp/Temp-*')\n",
    "    os.system('rm -rf /tmp/tmpaddon*')\n",
    "    os.system('rm -rf /tmp/rust_mozprofile.*')\n",
    "    os.system('''kill $(ps aux | grep 'firefox'| awk '{print $2}')''')\n",
    "    \n",
    "    #def checkIfAlreadySent(RegNameFileList,idvb,pwd):\n",
    "    options = Options()\n",
    "    options.headless = True\n",
    "    driver = Firefox(options=options)\n",
    "    driver.get(\"http://volbrain.upv.es/index.php\")\n",
    "    elem = driver.find_element_by_name(\"email\")\n",
    "    elem.send_keys(cle)\n",
    "    elem = driver.find_element_by_name(\"password\")\n",
    "    elem.send_keys(valeur)\n",
    "    elem = driver.find_element_by_name(\"sub\")\n",
    "    elem.click()\n",
    "    attempts = 0\n",
    "    cpt=0\n",
    "    time.sleep(50)\n",
    "    elem = driver.find_element_by_name(\"job_list\")\n",
    "    html_tab_vol_brain=elem.get_attribute('innerHTML')\n",
    "    txt_tab_vol_brain=elem.text\n",
    "\n",
    "    for n in range(2,5,1):\n",
    "        print(\"page : \",n)\n",
    "        driver.execute_script(\"loadJobList(\"+str(n)+\")\")\n",
    "        time.sleep(3)\n",
    "        elem = driver.find_element_by_name(\"job_list\")\n",
    "        html_tab_vol_brain=html_tab_vol_brain+elem.get_attribute('innerHTML')\n",
    "        txt_tab_vol_brain=txt_tab_vol_brain+elem.text\n",
    "\n",
    "    #RegNameFileList=glob.glob(os.path.join(STUDY_PATH,'volbrain','[0-9]*.nii.gz_*.zip'))\n",
    "    RegNameFileList=glob.glob(os.path.join(STUDY_PATH,'volbrain_wmh_36','native_sub_601224NLL_wmh_tmp.nii.gz_job218892120620150417.zip'))    \n",
    "    for RegNameFile in RegNameFileList :\n",
    "        print(RegNameFile)\n",
    "        RegNameFileBaseName='sub_601224NLL_wmh_tmp.nii.gz_job218892120620150417.zip'#'native_'+os.path.basename(RegNameFile)          \n",
    "        regex=\"https:\\/\\/files.volbrain.upv.es.{1,50}?\"+RegNameFileBaseName\n",
    "        for it in re.finditer(regex,html_tab_vol_brain) :\n",
    "            mystr=html_tab_vol_brain[it.start():it.end()]\n",
    "            print(mystr)\n",
    "            filepath=os.path.join(STUDY_PATH,'volbrain_dl',mystr[30:])\n",
    "            print(filepath)\n",
    "            if not os.path.isfile(filepath) :\n",
    "                attempts = 0\n",
    "                while attempts < 3:\n",
    "                    try:\n",
    "                        r = requests.get(mystr, stream=True)\n",
    "                        with open(filepath, 'wb') as f:\n",
    "                            total_length = int(r.headers.get('content-length'))\n",
    "                            for chunk in progress.bar(r.iter_content(chunk_size=1024), expected_size=(total_length/1024) + 1): \n",
    "                                if chunk:\n",
    "                                    f.write(chunk)\n",
    "                                    f.flush()\n",
    "                        break\n",
    "                    except urllib3.exceptions.NewConnectionError: \n",
    "                        attempts += 1\n",
    "                        print(type(e)) \n",
    "    driver.stop_client()\n",
    "    driver.close()"
   ]
  }
 ],
 "metadata": {
  "kernelspec": {
   "display_name": "Python 3",
   "language": "python",
   "name": "python3"
  },
  "language_info": {
   "codemirror_mode": {
    "name": "ipython",
    "version": 3
   },
   "file_extension": ".py",
   "mimetype": "text/x-python",
   "name": "python",
   "nbconvert_exporter": "python",
   "pygments_lexer": "ipython3",
   "version": "3.7.6"
  }
 },
 "nbformat": 4,
 "nbformat_minor": 4
}
