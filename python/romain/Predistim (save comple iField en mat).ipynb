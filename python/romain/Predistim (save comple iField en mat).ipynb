{
 "cells": [
  {
   "cell_type": "code",
   "execution_count": 41,
   "metadata": {},
   "outputs": [],
   "source": [
    "import cmath\n",
    "import scipy.io\n",
    "import nibabel as nib\n",
    "import numpy as np\n",
    "from joblib import parallel_backend\n",
    "import glob\n",
    "import os"
   ]
  },
  {
   "cell_type": "markdown",
   "metadata": {},
   "source": [
    "NII2MAT"
   ]
  },
  {
   "cell_type": "code",
   "execution_count": 44,
   "metadata": {},
   "outputs": [],
   "source": [
    "name_ima_nii=\"/NAS/deathrow/protocoles/HYPOTALAMUS/7T_DCM/7T021/7T021103_20170126/US_20170126_13.58.07/Dicom/mask_mask.nii\"\n",
    "name_ima_mat=name_ima_nii.replace(\"nii.gz\",\"mat\").replace(\"nii\",\"mat\")\n",
    "ima = nib.load(name_ima_nii).get_fdata()\n",
    "ima_mat={'mask':ima}\n",
    "test=scipy.io.matlab.savemat(name_ima_mat,ima_mat)"
   ]
  },
  {
   "cell_type": "code",
   "execution_count": 35,
   "metadata": {},
   "outputs": [],
   "source": [
    "mat = scipy.io.matlab.loadmat('/NAS/deathrow/protocoles/predistim/2018-12-12_3dmultigre/01/01026AF/QSM_20190828/data.mat')\n",
    "phase = nib.load(\"/NAS/deathrow/protocoles/predistim/2018-12-12_3dmultigre/01/01026AF/M00/mri_3dmultigre_multigreph_geo_nifti.nii.gz\").get_fdata()\n",
    "magnitude = nib.load(\"/NAS/deathrow/protocoles/predistim/2018-12-12_3dmultigre/01/01026AF/M00/mri_3dmultigre_multigre_geo_nifti.nii.gz\").get_fdata()"
   ]
  },
  {
   "cell_type": "code",
   "execution_count": 141,
   "metadata": {},
   "outputs": [
    {
     "name": "stdout",
     "output_type": "stream",
     "text": [
      "62914560\n",
      "160\n",
      "(160, 256, 256, 6)\n",
      "<class 'numpy.ndarray'>\n",
      "dict_keys(['__version__', 'delta_TE', 'matrix_size', '__globals__', 'iField', 'B0_dir', 'CF', 'voxel_size', '__header__', 'TE'])\n"
     ]
    }
   ],
   "source": [
    "print(np.size(phase))\n",
    "print(len(phase))\n",
    "#print(mat['delta_TE'])\n",
    "print(phase.shape)\n",
    "print(type(phase))\n",
    "print(mat.keys())"
   ]
  },
  {
   "cell_type": "code",
   "execution_count": 127,
   "metadata": {},
   "outputs": [
    {
     "name": "stdout",
     "output_type": "stream",
     "text": [
      "(256, 256, 160, 6)\n",
      "complex64\n"
     ]
    }
   ],
   "source": [
    "print(mat['iField'].shape)\n",
    "#mat['delta_TE']=0.000002\n",
    "print(mat['iField'].dtype)"
   ]
  },
  {
   "cell_type": "code",
   "execution_count": 142,
   "metadata": {},
   "outputs": [
    {
     "name": "stdout",
     "output_type": "stream",
     "text": [
      "(160, 256, 256, 6)\n",
      "complex128\n",
      "(160, 256, 256, 6)\n",
      "complex64\n"
     ]
    }
   ],
   "source": [
    "#test=np.apply_along_axis(lambda x:cmath.rect(x[0],x[1]),0,np.stack((magnitude,phase), axis=0))\n",
    "print(test.shape)\n",
    "print(test.dtype)\n",
    "mat['iField']=np.complex64(test)\n",
    "print(mat['iField'].shape)\n",
    "print(mat['iField'].dtype)"
   ]
  },
  {
   "cell_type": "code",
   "execution_count": 144,
   "metadata": {
    "collapsed": true
   },
   "outputs": [],
   "source": [
    "mat = scipy.io.matlab.savemat('/NAS/deathrow/protocoles/predistim/2018-12-12_3dmultigre/01/01026AF/QSM_20190828/test.mat',mat,do_compression=True)\n"
   ]
  },
  {
   "cell_type": "code",
   "execution_count": 81,
   "metadata": {},
   "outputs": [],
   "source": [
    "res = np.zeros_like(phase)\n",
    "for x,y,z in zip(magnitude.flat,phase.flat,res.flat):\n",
    "    z=cmath.rect(x,y)\n",
    "\n",
    "res = np.dtype(np.complex) #zeros_like(phase)\n",
    "with np.nditer([res,magnitude,phase], op_flags=['readwrite']) as it:\n",
    "    for x,y,z in it : \n",
    "        z=cmath.rect(x,y)\n",
    "\n",
    "res = np.zeros_like(phase)\n",
    "with parallel_backend('threading', n_jobs=-1):\n",
    "    with np.nditer(magnitude) as itx:\n",
    "        with np.nditer(phase) as ity:\n",
    "            with np.nditer(res,op_flags=['writeonly']) as itz:\n",
    "                for x,y,z in zip(itx,ity,itz) : \n",
    "                    z[...]=cmath.rect(x,y)\n",
    "\n",
    "\n",
    "with np.nditer(res, op_flags=['readwrite']) as itz:\n",
    "    for z in itz: \n",
    "        z[...] = z + 1\n",
    "\n",
    "print(magnitude[108:110,200:203,200:205,3])\n",
    "print(phase[108:110,200:203,200:205,3])\n",
    "print(res[108:110,200:203,200:205,3])print(z)\n",
    "\n",
    "res = np.zeros_like(phase)\n",
    "with np.nditer(magnitude) as itx:\n",
    "    with np.nditer(phase) as ity:\n",
    "        with np.nditer(res, op_flags=['readwrite']) as itz:\n",
    "            for x,y,z in zip(itx,ity,itz) : \n",
    "                z[...] = cmath.rect(x,y)\n",
    "                \n",
    "print(res[108:110,200:203,200:205,3])\n",
    "\n",
    "\n",
    "\n",
    "test=np.apply_along_axis(lambda x:cmath.rect(x[0],x[1]),0,np.stack((magnitude,phase), axis=0))\n",
    "\n",
    "np.apply_along_axis(cmath.rect,4,lambda:x,y,z:(x,y,magnitude,x,y)np.stack((magnitude,phase,res), axis=4))\n",
    "\n",
    "res = np.dtype(np.complex128) #zeros_like(phase)\n",
    "for x,y in zip(magnitude,phase) : \n",
    "    z[...] = cmath.rect(x,y)\n",
    "\n",
    "resu = cmath.rect(magnitude.flat[1000],phase.flat[1000])\n",
    "print(type(resu))"
   ]
  }
 ],
 "metadata": {
  "kernelspec": {
   "display_name": "Python 3",
   "language": "python",
   "name": "python3"
  },
  "language_info": {
   "codemirror_mode": {
    "name": "ipython",
    "version": 3
   },
   "file_extension": ".py",
   "mimetype": "text/x-python",
   "name": "python",
   "nbconvert_exporter": "python",
   "pygments_lexer": "ipython3",
   "version": "3.7.6"
  }
 },
 "nbformat": 4,
 "nbformat_minor": 1
}
