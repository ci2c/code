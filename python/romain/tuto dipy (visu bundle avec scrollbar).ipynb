{
 "cells": [
  {
   "cell_type": "code",
   "execution_count": 1,
   "metadata": {
    "collapsed": true,
    "jupyter": {
     "outputs_hidden": true
    }
   },
   "outputs": [],
   "source": [
    "import numpy as np\n",
    "from dipy.viz import actor, window, ui"
   ]
  },
  {
   "cell_type": "code",
   "execution_count": 2,
   "metadata": {},
   "outputs": [
    {
     "name": "stdout",
     "output_type": "stream",
     "text": [
      "Data size is approximately 234MB\n",
      "Dataset is already in place. If you want to fetch it again please first remove the folder /home/romain/.dipy/exp_bundles_and_maps \n"
     ]
    },
    {
     "data": {
      "text/plain": [
       "({'bundles_2_subjects.tar.gz': ('https://digital.lib.washington.edu/researchworks/bitstream/handle/1773/38477/bundles_2_subjects.tar.gz',\n",
       "   '97756fbef11ce2df31f1bedf1fc7aac7')},\n",
       " '/home/romain/.dipy/exp_bundles_and_maps')"
      ]
     },
     "execution_count": 2,
     "metadata": {},
     "output_type": "execute_result"
    }
   ],
   "source": [
    "from dipy.data.fetcher import fetch_bundles_2_subjects, read_bundles_2_subjects\n",
    "fetch_bundles_2_subjects()"
   ]
  },
  {
   "cell_type": "code",
   "execution_count": 3,
   "metadata": {
    "collapsed": true,
    "jupyter": {
     "outputs_hidden": true
    }
   },
   "outputs": [],
   "source": [
    "res = read_bundles_2_subjects('subj_1', ['t1', 'fa'],\n",
    "                              ['af.left', 'cst.right', 'cc_1'])"
   ]
  },
  {
   "cell_type": "code",
   "execution_count": null,
   "metadata": {
    "collapsed": true,
    "jupyter": {
     "outputs_hidden": true
    }
   },
   "outputs": [],
   "source": []
  },
  {
   "cell_type": "code",
   "execution_count": 4,
   "metadata": {
    "collapsed": true,
    "jupyter": {
     "outputs_hidden": true
    }
   },
   "outputs": [],
   "source": [
    "streamlines = res['af.left'] + res['cst.right'] + res['cc_1']\n",
    "data = res['fa']\n",
    "shape = data.shape\n",
    "affine = res['affine']"
   ]
  },
  {
   "cell_type": "code",
   "execution_count": 5,
   "metadata": {
    "collapsed": true,
    "jupyter": {
     "outputs_hidden": true
    }
   },
   "outputs": [],
   "source": [
    "world_coords = True"
   ]
  },
  {
   "cell_type": "code",
   "execution_count": 6,
   "metadata": {
    "collapsed": true,
    "jupyter": {
     "outputs_hidden": true
    }
   },
   "outputs": [],
   "source": [
    "if not world_coords:\n",
    "    from dipy.tracking.streamline import transform_streamlines\n",
    "    streamlines = transform_streamlines(streamlines, np.linalg.inv(affine))"
   ]
  },
  {
   "cell_type": "code",
   "execution_count": 7,
   "metadata": {
    "collapsed": true,
    "jupyter": {
     "outputs_hidden": true
    }
   },
   "outputs": [],
   "source": [
    "ren = window.Renderer()\n",
    "stream_actor = actor.line(streamlines)\n",
    "\n",
    "if not world_coords:\n",
    "    image_actor_z = actor.slicer(data, affine=np.eye(4))\n",
    "else:\n",
    "    image_actor_z = actor.slicer(data, affine)"
   ]
  },
  {
   "cell_type": "code",
   "execution_count": 8,
   "metadata": {
    "collapsed": true,
    "jupyter": {
     "outputs_hidden": true
    }
   },
   "outputs": [],
   "source": [
    "slicer_opacity = 0.6\n",
    "image_actor_z.opacity(slicer_opacity)"
   ]
  },
  {
   "cell_type": "code",
   "execution_count": 9,
   "metadata": {
    "collapsed": true,
    "jupyter": {
     "outputs_hidden": true
    }
   },
   "outputs": [],
   "source": [
    "image_actor_x = image_actor_z.copy()\n",
    "image_actor_x.opacity(slicer_opacity)\n",
    "x_midpoint = int(np.round(shape[0] / 2))\n",
    "image_actor_x.display_extent(x_midpoint,\n",
    "                             x_midpoint, 0,\n",
    "                             shape[1] - 1,\n",
    "                             0,\n",
    "                             shape[2] - 1)\n",
    "\n",
    "image_actor_y = image_actor_z.copy()\n",
    "image_actor_y.opacity(slicer_opacity)\n",
    "y_midpoint = int(np.round(shape[1] / 2))\n",
    "image_actor_y.display_extent(0,\n",
    "                             shape[0] - 1,\n",
    "                             y_midpoint,\n",
    "                             y_midpoint,\n",
    "                             0,\n",
    "                             shape[2] - 1)"
   ]
  },
  {
   "cell_type": "code",
   "execution_count": 10,
   "metadata": {
    "collapsed": true,
    "jupyter": {
     "outputs_hidden": true
    }
   },
   "outputs": [],
   "source": [
    "ren.add(stream_actor)\n",
    "ren.add(image_actor_z)\n",
    "ren.add(image_actor_x)\n",
    "ren.add(image_actor_y)"
   ]
  },
  {
   "cell_type": "code",
   "execution_count": 11,
   "metadata": {
    "collapsed": true,
    "jupyter": {
     "outputs_hidden": true
    }
   },
   "outputs": [],
   "source": [
    "show_m = window.ShowManager(ren, size=(1200, 900))\n",
    "show_m.initialize()"
   ]
  },
  {
   "cell_type": "code",
   "execution_count": 12,
   "metadata": {
    "collapsed": true,
    "jupyter": {
     "outputs_hidden": true
    }
   },
   "outputs": [],
   "source": [
    "line_slider_z = ui.LineSlider2D(min_value=0,\n",
    "                                max_value=shape[2] - 1,\n",
    "                                initial_value=shape[2] / 2,\n",
    "                                text_template=\"{value:.0f}\")\n",
    "\n",
    "line_slider_x = ui.LineSlider2D(min_value=0,\n",
    "                                max_value=shape[0] - 1,\n",
    "                                initial_value=shape[0] / 2,\n",
    "                                text_template=\"{value:.0f}\")\n",
    "\n",
    "line_slider_y = ui.LineSlider2D(min_value=0,\n",
    "                                max_value=shape[1] - 1,\n",
    "                                initial_value=shape[1] / 2,\n",
    "                                text_template=\"{value:.0f}\")\n",
    "\n",
    "opacity_slider = ui.LineSlider2D(min_value=0.0,\n",
    "                                 max_value=1.0,\n",
    "                                 initial_value=slicer_opacity)"
   ]
  },
  {
   "cell_type": "code",
   "execution_count": 13,
   "metadata": {
    "collapsed": true,
    "jupyter": {
     "outputs_hidden": true
    }
   },
   "outputs": [],
   "source": [
    "def change_slice_z(i_ren, obj, slider):\n",
    "    z = int(np.round(slider.value))\n",
    "    image_actor_z.display_extent(0, shape[0] - 1, 0, shape[1] - 1, z, z)\n",
    "\n",
    "\n",
    "def change_slice_x(i_ren, obj, slider):\n",
    "    x = int(np.round(slider.value))\n",
    "    image_actor_x.display_extent(x, x, 0, shape[1] - 1, 0, shape[2] - 1)\n",
    "\n",
    "\n",
    "def change_slice_y(i_ren, obj, slider):\n",
    "    y = int(np.round(slider.value))\n",
    "    image_actor_y.display_extent(0, shape[0] - 1, y, y, 0, shape[2] - 1)\n",
    "\n",
    "\n",
    "def change_opacity(i_ren, obj, slider):\n",
    "    slicer_opacity = slider.value\n",
    "    image_actor_z.opacity(slicer_opacity)\n",
    "    image_actor_x.opacity(slicer_opacity)\n",
    "    image_actor_y.opacity(slicer_opacity)\n",
    "\n",
    "line_slider_z.add_callback(line_slider_z.slider_disk,\n",
    "                           \"MouseMoveEvent\",\n",
    "                           change_slice_z)\n",
    "line_slider_x.add_callback(line_slider_x.slider_disk,\n",
    "                           \"MouseMoveEvent\",\n",
    "                           change_slice_x)\n",
    "line_slider_y.add_callback(line_slider_y.slider_disk,\n",
    "                           \"MouseMoveEvent\",\n",
    "                           change_slice_y)\n",
    "opacity_slider.add_callback(opacity_slider.slider_disk,\n",
    "                            \"MouseMoveEvent\",\n",
    "                            change_opacity)"
   ]
  },
  {
   "cell_type": "code",
   "execution_count": 14,
   "metadata": {
    "collapsed": true,
    "jupyter": {
     "outputs_hidden": true
    }
   },
   "outputs": [],
   "source": [
    "line_slider_label_z = ui.TextBox2D(text=\"Z Slice\", width=50, height=20)\n",
    "line_slider_label_x = ui.TextBox2D(text=\"X Slice\", width=50, height=20)\n",
    "line_slider_label_y = ui.TextBox2D(text=\"Y Slicer\", width=50, height=20)\n",
    "opacity_slider_label = ui.TextBox2D(text=\"Opacity\", width=50, height=20)"
   ]
  },
  {
   "cell_type": "code",
   "execution_count": 15,
   "metadata": {
    "collapsed": true,
    "jupyter": {
     "outputs_hidden": true
    }
   },
   "outputs": [],
   "source": [
    "panel = ui.Panel2D(center=(1030, 120),\n",
    "                   size=(300, 200),\n",
    "                   color=(1, 1, 1),\n",
    "                   opacity=0.1,\n",
    "                   align=\"right\")\n",
    "\n",
    "panel.add_element(line_slider_label_x, 'relative', (0.1, 0.8))\n",
    "panel.add_element(line_slider_x, 'relative', (0.5, 0.8))\n",
    "panel.add_element(line_slider_label_y, 'relative', (0.1, 0.6))\n",
    "panel.add_element(line_slider_y, 'relative', (0.5, 0.6))\n",
    "panel.add_element(line_slider_label_z, 'relative', (0.1, 0.4))\n",
    "panel.add_element(line_slider_z, 'relative', (0.5, 0.4))\n",
    "panel.add_element(opacity_slider_label, 'relative', (0.1, 0.2))\n",
    "panel.add_element(opacity_slider, 'relative', (0.5, 0.2))\n",
    "\n",
    "show_m.ren.add(panel)"
   ]
  },
  {
   "cell_type": "code",
   "execution_count": null,
   "metadata": {
    "collapsed": true,
    "jupyter": {
     "outputs_hidden": true
    }
   },
   "outputs": [],
   "source": [
    "global size\n",
    "size = ren.GetSize()\n",
    "\n",
    "\n",
    "def win_callback(obj, event):\n",
    "    global size\n",
    "    if size != obj.GetSize():\n",
    "        size_old = size\n",
    "        size = obj.GetSize()\n",
    "        size_change = [size[0] - size_old[0], 0]\n",
    "        panel.re_align(size_change)\n",
    "\n",
    "show_m.initialize()"
   ]
  },
  {
   "cell_type": "code",
   "execution_count": null,
   "metadata": {
    "collapsed": true,
    "jupyter": {
     "outputs_hidden": true
    }
   },
   "outputs": [],
   "source": [
    "show_m.add_window_callback(win_callback)\n",
    "show_m.render()\n",
    "show_m.start()\n",
    "\n",
    "#ren.zoom(1.5)\n",
    "#ren.reset_clipping_range()\n",
    "\n",
    "#window.record(ren, out_path='bundles_and_a_slice.png', size=(1200, 900),reset_camera=False)"
   ]
  },
  {
   "cell_type": "code",
   "execution_count": null,
   "metadata": {
    "collapsed": true,
    "jupyter": {
     "outputs_hidden": true
    }
   },
   "outputs": [],
   "source": [
    "from dipy.viz import fvtk\n",
    "r=fvtk.ren()\n",
    "a=fvtk.axes()\n",
    "fvtk.add(r,a)\n",
    "fvtk.show(r)"
   ]
  }
 ],
 "metadata": {
  "kernelspec": {
   "display_name": "Python 2",
   "language": "python",
   "name": "python2"
  },
  "language_info": {
   "codemirror_mode": {
    "name": "ipython",
    "version": 3
   },
   "file_extension": ".py",
   "mimetype": "text/x-python",
   "name": "python",
   "nbconvert_exporter": "python",
   "pygments_lexer": "ipython3",
   "version": "3.7.6"
  }
 },
 "nbformat": 4,
 "nbformat_minor": 4
}
