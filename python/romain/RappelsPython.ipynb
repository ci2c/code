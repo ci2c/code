{
 "cells": [
  {
   "cell_type": "markdown",
   "metadata": {},
   "source": [
    "## Les types de données \n",
    "\n",
    "### Les nombres\n",
    "\n",
    "1. Créer une variable x contenant l'entier 7\n",
    "2. Créer une variable y contenant l'entier 2\n",
    "3. Diviser x par y\n",
    "4. Réaliser une division entière entre x et y\n",
    "5. Calculer le modulo de la division de x par y"
   ]
  },
  {
   "cell_type": "code",
   "execution_count": 5,
   "metadata": {},
   "outputs": [
    {
     "name": "stdout",
     "output_type": "stream",
     "text": [
      "3.5\n",
      "3\n",
      "1\n"
     ]
    }
   ],
   "source": [
    "# Correction\n",
    "\n",
    "# 1 \n",
    "x = 7\n",
    "y = 2\n",
    "print(x/y)\n",
    "print(x//y)\n",
    "print(x%y)"
   ]
  },
  {
   "cell_type": "markdown",
   "metadata": {},
   "source": [
    "### Mutable et non mutable \n",
    "\n",
    "Pour chacune des variables suivantes indiquer si elle est mutable ou non mutable \n",
    "```python\n",
    "l = [2, 3]\n",
    "t = (2, 3)\n",
    "d = {'a':2, 'b':3}\n",
    "s = 'toto'\n",
    "```"
   ]
  },
  {
   "cell_type": "code",
   "execution_count": 6,
   "metadata": {
    "collapsed": true
   },
   "outputs": [],
   "source": [
    "# Correction \n",
    "\n",
    "l = [2, 3] # mutable\n",
    "t = (2, 3) # non mutable\n",
    "d = {'a':2, 'b':3} # mutable\n",
    "s = 'toto' # non mutable "
   ]
  },
  {
   "cell_type": "markdown",
   "metadata": {},
   "source": [
    "## Les structures de contrôles \n",
    "\n",
    "Qu'affiche le code suivant ? "
   ]
  },
  {
   "cell_type": "code",
   "execution_count": 8,
   "metadata": {},
   "outputs": [
    {
     "name": "stdout",
     "output_type": "stream",
     "text": [
      "- 10\n",
      "- 9\n",
      "- 8\n",
      "- 7\n",
      "- 6\n",
      "- 5\n",
      "- 4\n",
      "- 3\n",
      "- 2\n",
      "- 1\n",
      "  0\n",
      "+ 1\n",
      "+ 2\n",
      "+ 3\n",
      "+ 4\n",
      "+ 5\n",
      "+ 6\n",
      "+ 7\n",
      "+ 8\n",
      "+ 9\n"
     ]
    }
   ],
   "source": [
    "for i in range(-10, 10):\n",
    "    if i < 0:\n",
    "        print('-', -1*i )\n",
    "    elif i==0:\n",
    "        print(' ', i)\n",
    "    else:\n",
    "        print('+', i)"
   ]
  },
  {
   "cell_type": "markdown",
   "metadata": {},
   "source": [
    "Que se passe-t-il avec le code suivante ?"
   ]
  },
  {
   "cell_type": "code",
   "execution_count": 9,
   "metadata": {},
   "outputs": [
    {
     "name": "stdout",
     "output_type": "stream",
     "text": [
      "0\n",
      "0\n",
      "0\n",
      "0\n",
      "0\n",
      "0\n"
     ]
    }
   ],
   "source": [
    "i = 0\n",
    "j = 0 \n",
    "while(i < 10):\n",
    "    print('i :', i)\n",
    "    if(j == 5):\n",
    "        break\n",
    "    else:\n",
    "        j += 1"
   ]
  },
  {
   "cell_type": "markdown",
   "metadata": {},
   "source": [
    "## Les fonctions \n",
    "\n",
    "1. Ecrire une fonction qui calcule le carre d'une variable **x**\n",
    "2. Ecrire une fonction qui la somme des carres des éléments d'une liste **l**"
   ]
  },
  {
   "cell_type": "code",
   "execution_count": 13,
   "metadata": {},
   "outputs": [
    {
     "data": {
      "text/plain": [
       "14"
      ]
     },
     "execution_count": 13,
     "metadata": {},
     "output_type": "execute_result"
    }
   ],
   "source": [
    "# Correction\n",
    "\n",
    "# 1\n",
    "def square(x):\n",
    "    return x*x\n",
    "\n",
    "# 2\n",
    "\n",
    "def sum_square(l):\n",
    "    res = 0\n",
    "    for e in l:\n",
    "        res += square(e)\n",
    "    return res\n",
    "\n",
    "sum_square([1, 2, 3])"
   ]
  },
  {
   "cell_type": "markdown",
   "metadata": {},
   "source": [
    "## La programmation orientée object\n",
    "\n",
    "1. À l'aide du code suivant, calculer la factorielle de 5\n",
    "2. Que se passe-t-il si on essaie de calculer la factorielle de -1 ? "
   ]
  },
  {
   "cell_type": "code",
   "execution_count": 20,
   "metadata": {},
   "outputs": [
    {
     "name": "stdout",
     "output_type": "stream",
     "text": [
      "factorielle de  5 : 125\n"
     ]
    },
    {
     "ename": "Exception",
     "evalue": "Give a number greater than 0",
     "output_type": "error",
     "traceback": [
      "\u001b[0;31m---------------------------------------------------------------------------\u001b[0m",
      "\u001b[0;31mException\u001b[0m                                 Traceback (most recent call last)",
      "\u001b[0;32m<ipython-input-20-de32935376f1>\u001b[0m in \u001b[0;36m<module>\u001b[0;34m()\u001b[0m\n\u001b[1;32m     14\u001b[0m \u001b[0mf5\u001b[0m \u001b[0;34m=\u001b[0m \u001b[0mFactorielle\u001b[0m\u001b[0;34m(\u001b[0m\u001b[0;36m5\u001b[0m\u001b[0;34m)\u001b[0m\u001b[0;34m\u001b[0m\u001b[0m\n\u001b[1;32m     15\u001b[0m \u001b[0mprint\u001b[0m\u001b[0;34m(\u001b[0m\u001b[0;34m'factorielle de  5 :'\u001b[0m\u001b[0;34m,\u001b[0m \u001b[0mf5\u001b[0m\u001b[0;34m.\u001b[0m\u001b[0mcompute\u001b[0m\u001b[0;34m(\u001b[0m\u001b[0;34m)\u001b[0m\u001b[0;34m)\u001b[0m\u001b[0;34m\u001b[0m\u001b[0m\n\u001b[0;32m---> 16\u001b[0;31m \u001b[0mf1\u001b[0m \u001b[0;34m=\u001b[0m \u001b[0mFactorielle\u001b[0m\u001b[0;34m(\u001b[0m\u001b[0;34m-\u001b[0m\u001b[0;36m1\u001b[0m\u001b[0;34m)\u001b[0m\u001b[0;34m\u001b[0m\u001b[0m\n\u001b[0m",
      "\u001b[0;32m<ipython-input-20-de32935376f1>\u001b[0m in \u001b[0;36m__init__\u001b[0;34m(self, n)\u001b[0m\n\u001b[1;32m      4\u001b[0m             \u001b[0mself\u001b[0m\u001b[0;34m.\u001b[0m\u001b[0mn\u001b[0m \u001b[0;34m=\u001b[0m \u001b[0mn\u001b[0m\u001b[0;34m\u001b[0m\u001b[0m\n\u001b[1;32m      5\u001b[0m         \u001b[0;32melse\u001b[0m\u001b[0;34m:\u001b[0m\u001b[0;34m\u001b[0m\u001b[0m\n\u001b[0;32m----> 6\u001b[0;31m             \u001b[0;32mraise\u001b[0m \u001b[0mException\u001b[0m\u001b[0;34m(\u001b[0m\u001b[0;34m'Give a number greater than 0'\u001b[0m\u001b[0;34m)\u001b[0m\u001b[0;34m\u001b[0m\u001b[0m\n\u001b[0m\u001b[1;32m      7\u001b[0m     \u001b[0;32mdef\u001b[0m \u001b[0mcompute\u001b[0m\u001b[0;34m(\u001b[0m\u001b[0mself\u001b[0m\u001b[0;34m)\u001b[0m\u001b[0;34m:\u001b[0m\u001b[0;34m\u001b[0m\u001b[0m\n\u001b[1;32m      8\u001b[0m         \u001b[0mres\u001b[0m \u001b[0;34m=\u001b[0m \u001b[0;36m1\u001b[0m\u001b[0;34m\u001b[0m\u001b[0m\n",
      "\u001b[0;31mException\u001b[0m: Give a number greater than 0"
     ]
    }
   ],
   "source": [
    "class Factorielle:\n",
    "    def __init__(self, n = 1):\n",
    "        if n > 0:\n",
    "            self.n = n\n",
    "        else:\n",
    "            raise Exception('Give a number greater than 0')\n",
    "    def compute(self):\n",
    "        res = 1\n",
    "        for i in range(2, self.n):\n",
    "            res *= self.n\n",
    "        return res\n",
    "    \n",
    "\n",
    "f5 = Factorielle(5)\n",
    "print('factorielle de  5 :', f5.compute())\n",
    "f1 = Factorielle(-1)"
   ]
  },
  {
   "cell_type": "markdown",
   "metadata": {},
   "source": [
    "## Les générateurs\n",
    "\n",
    "Quel est le type de **g** ? "
   ]
  },
  {
   "cell_type": "code",
   "execution_count": 23,
   "metadata": {},
   "outputs": [
    {
     "name": "stdout",
     "output_type": "stream",
     "text": [
      "range(0, 10)\n"
     ]
    }
   ],
   "source": [
    "g = range(10)\n",
    "\n",
    "# Correction\n",
    "print(g) "
   ]
  },
  {
   "cell_type": "markdown",
   "metadata": {},
   "source": [
    "## Packages et modules\n",
    "\n",
    "1. Installer le package [faker](https://faker.readthedocs.io/en/master/)\n",
    "```bash\n",
    "conda install -c anaconda faker\n",
    "```\n",
    "2. Importer ce package \n",
    "3. Vous en servir pour générer un faux nom et une fausse adresse"
   ]
  },
  {
   "cell_type": "code",
   "execution_count": 29,
   "metadata": {},
   "outputs": [
    {
     "name": "stdout",
     "output_type": "stream",
     "text": [
      "Sheri Castro\n",
      "6635 Phillips Knolls Apt. 604\n",
      "Katherinemouth, VT 21065-8386\n"
     ]
    }
   ],
   "source": [
    "# Correction\n",
    "\n",
    "import faker\n",
    "\n",
    "f1 = faker.Faker()\n",
    "print(f1.name())\n",
    "print(f1.address())"
   ]
  }
 ],
 "metadata": {
  "kernelspec": {
   "display_name": "Python 2",
   "language": "python",
   "name": "python2"
  },
  "language_info": {
   "codemirror_mode": {
    "name": "ipython",
    "version": 2
   },
   "file_extension": ".py",
   "mimetype": "text/x-python",
   "name": "python",
   "nbconvert_exporter": "python",
   "pygments_lexer": "ipython2",
   "version": "2.7.13"
  }
 },
 "nbformat": 4,
 "nbformat_minor": 2
}
