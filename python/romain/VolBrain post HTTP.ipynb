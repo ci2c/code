{
 "cells": [
  {
   "cell_type": "code",
   "execution_count": 4,
   "metadata": {
    "collapsed": true
   },
   "outputs": [],
   "source": [
    "import socket\n",
    "import logging\n",
    "import sys,re,urllib\n",
    "import mechanize\n",
    "from bs4 import BeautifulSoup\n",
    "from selenium import webdriver\n",
    "from selenium.webdriver.common.keys import Keys"
   ]
  },
  {
   "cell_type": "code",
   "execution_count": 5,
   "metadata": {},
   "outputs": [
    {
     "name": "stdout",
     "output_type": "stream",
     "text": [
      "<Browser visiting http://volbrain.upv.es/index.php\n",
      " selected form:\n",
      " <login_form post http://volbrain.upv.es/login.php application/x-www-form-urlencoded\n",
      "  <TextControl(email=)>\n",
      "  <PasswordControl(password=)>\n",
      "  <IgnoreControl(sub=<None>)>>\n",
      ">\n"
     ]
    },
    {
     "data": {
      "text/plain": [
       "<response_seek_wrapper at 0x7f3a5000d5a8 whose wrapped object = <closeable_response at 0x7f3a41c5cf80 whose fp = <socket._fileobject object at 0x7f3a50040350>>>"
      ]
     },
     "execution_count": 5,
     "metadata": {},
     "output_type": "execute_result"
    }
   ],
   "source": [
    "browser = mechanize.Browser()\n",
    "browser.set_handle_robots(False)\n",
    "browser.open(\"http://volbrain.upv.es/index.php\")\n",
    "browser.select_form(nr=0)\n",
    "print(browser)\n",
    "#http://volbrain.upv.es/members.php\n",
    "#http://volbrain.upv.es/uploadaction2.php \n",
    "browser[\"email\"] = \"romain_viard@yahoo.fr\"\n",
    "browser[\"password\"] = \"xIO52ts0UWm5\"\n",
    "browser.submit()\n",
    "#browser.select_form(nr=0)"
   ]
  },
  {
   "cell_type": "code",
   "execution_count": 6,
   "metadata": {},
   "outputs": [
    {
     "name": "stdout",
     "output_type": "stream",
     "text": [
      "<Browser visiting http://volbrain.upv.es/members.php\n",
      " selected form:\n",
      " <upload_form post http://volbrain.upv.es/uploadaction2.php multipart/form-data\n",
      "  <HiddenControl(pipeline=2) (readonly)>\n",
      "  <RadioControl(pipeline=[1, 3, 4])>\n",
      "  <FileControl(volbrain_t1_file=<No files added>)>\n",
      "  <SelectControl(volbrain_patientssex=[*--, Male, Female])>\n",
      "  <TextControl(volbrain_patientsage=)>\n",
      "  <IgnoreControl(button_volbrain=<None>)>\n",
      "  <FileControl(ceres_t1_file=<No files added>)>\n",
      "  <SelectControl(ceres_patientssex=[*--, Male, Female])>\n",
      "  <TextControl(ceres_patientsage=)>\n",
      "  <IgnoreControl(button_ceres=<None>)>\n",
      "  <FileControl(lesionbrain_t1_file=<No files added>)>\n",
      "  <SelectControl(lesionbrain_patientssex=[*--, Male, Female])>\n",
      "  <TextControl(lesionbrain_patientsage=)>\n",
      "  <IgnoreControl(button_lesionbrain=<None>)>\n",
      "  <FileControl(lesionbrain_flair_file=<No files added>)>\n",
      "  <RadioControl(modality=[1, 2, 3])>\n",
      "  <FileControl(hips_mt1_file=<No files added>)>\n",
      "  <SelectControl(hips_patientssex_t1=[*--, Male, Female])>\n",
      "  <TextControl(hips_patientsage_t1=)>\n",
      "  <IgnoreControl(button_hips_t1=<None>)>\n",
      "  <RadioControl(protocol_t1=[W, K])>\n",
      "  <FileControl(hips_mt2_file=<No files added>)>\n",
      "  <SelectControl(hips_patientssex_t2=[*--, Male, Female])>\n",
      "  <TextControl(hips_patientsage_t2=)>\n",
      "  <IgnoreControl(button_hips_t2=<None>)>\n",
      "  <RadioControl(protocol_t2=[W, K])>\n",
      "  <FileControl(hips_t1_file=<No files added>)>\n",
      "  <SelectControl(hips_patientssex_m=[*--, Male, Female])>\n",
      "  <TextControl(hips_patientsage_m=)>\n",
      "  <IgnoreControl(button_hips_m=<None>)>\n",
      "  <FileControl(hips_t2_file=<No files added>)>\n",
      "  <RadioControl(protocol_m=[W, K])>>\n",
      ">\n",
      "<Browser visiting http://volbrain.upv.es/members.php\n",
      " selected form:\n",
      " <upload_form post http://volbrain.upv.es/uploadaction2.php multipart/form-data\n",
      "  <HiddenControl(pipeline=2) (readonly)>\n",
      "  <RadioControl(pipeline=[1, 3, 4])>\n",
      "  <FileControl(volbrain_t1_file=/NAS/tupac/protocoles/healthy_volunteers/data/T02S02/20160418_145116WIP3DT1CLEARs201a1002.nii.gz)>\n",
      "  <SelectControl(volbrain_patientssex=[--, *Male, Female])>\n",
      "  <TextControl(volbrain_patientsage=18)>\n",
      "  <IgnoreControl(button_volbrain=<None>)>\n",
      "  <FileControl(ceres_t1_file=<No files added>)>\n",
      "  <SelectControl(ceres_patientssex=[*--, Male, Female])>\n",
      "  <TextControl(ceres_patientsage=)>\n",
      "  <IgnoreControl(button_ceres=<None>)>\n",
      "  <FileControl(lesionbrain_t1_file=<No files added>)>\n",
      "  <SelectControl(lesionbrain_patientssex=[*--, Male, Female])>\n",
      "  <TextControl(lesionbrain_patientsage=)>\n",
      "  <IgnoreControl(button_lesionbrain=<None>)>\n",
      "  <FileControl(lesionbrain_flair_file=<No files added>)>\n",
      "  <RadioControl(modality=[1, 2, 3])>\n",
      "  <FileControl(hips_mt1_file=<No files added>)>\n",
      "  <SelectControl(hips_patientssex_t1=[*--, Male, Female])>\n",
      "  <TextControl(hips_patientsage_t1=)>\n",
      "  <IgnoreControl(button_hips_t1=<None>)>\n",
      "  <RadioControl(protocol_t1=[W, K])>\n",
      "  <FileControl(hips_mt2_file=<No files added>)>\n",
      "  <SelectControl(hips_patientssex_t2=[*--, Male, Female])>\n",
      "  <TextControl(hips_patientsage_t2=)>\n",
      "  <IgnoreControl(button_hips_t2=<None>)>\n",
      "  <RadioControl(protocol_t2=[W, K])>\n",
      "  <FileControl(hips_t1_file=<No files added>)>\n",
      "  <SelectControl(hips_patientssex_m=[*--, Male, Female])>\n",
      "  <TextControl(hips_patientsage_m=)>\n",
      "  <IgnoreControl(button_hips_m=<None>)>\n",
      "  <FileControl(hips_t2_file=<No files added>)>\n",
      "  <RadioControl(protocol_m=[W, K])>>\n",
      ">\n"
     ]
    }
   ],
   "source": [
    "#browser.open(\"http://volbrain.upv.es/uploadaction2.php\")\n",
    "browser.select_form(nr=0)\n",
    "print(browser)\n",
    "browser[\"volbrain_patientsage\"]=\"18\"\n",
    "item = browser.find_control(name=\"volbrain_patientssex\").get(\"Male\")\n",
    "item.selected = True\n",
    "browser.form.add_file(open(\"/NAS/tupac/protocoles/healthy_volunteers/data/T02S02/20160418_145116WIP3DT1CLEARs201a1002.nii.gz\"), 'text/plain', \"/NAS/tupac/protocoles/healthy_volunteers/data/T02S02/20160418_145116WIP3DT1CLEARs201a1002.nii.gz\", name='volbrain_t1_file')\n",
    "print(browser)"
   ]
  },
  {
   "cell_type": "code",
   "execution_count": 10,
   "metadata": {},
   "outputs": [
    {
     "name": "stdout",
     "output_type": "stream",
     "text": [
      "{u'type': u'button', u'name': u'button_volbrain', u'value': u'Submit', u'onclick': u\"javascript:uploadData('volbrain');\"}\n"
     ]
    },
    {
     "data": {
      "text/plain": [
       "<response_seek_wrapper at 0x7fef24262dd0 whose wrapped object = <closeable_response at 0x7fef240cd2d8 whose fp = <socket._fileobject object at 0x7fef240d6350>>>"
      ]
     },
     "execution_count": 10,
     "metadata": {},
     "output_type": "execute_result"
    }
   ],
   "source": [
    "item = browser.find_control(name=\"button_volbrain\")\n",
    "print(item.attrs)\n",
    "browser.submit()\n",
    "\n",
    "browser.select_form(nr=0)\n",
    "browser.viewing_html()\n",
    "resp=browser.response()\n",
    "html = resp.read()\n",
    "soup = BeautifulSoup(html)\n",
    "print(soup)"
   ]
  },
  {
   "cell_type": "markdown",
   "metadata": {},
   "source": [
    "# telecharge le fichier zip du fichier nifti en parametre "
   ]
  },
  {
   "cell_type": "code",
   "execution_count": 11,
   "metadata": {},
   "outputs": [
    {
     "name": "stdout",
     "output_type": "stream",
     "text": [
      "--2018-07-24 15:09:32--  http://files.volbrain.upv.es/native_01022FZ20160323M003DT1_S002.nii.gz_job89681250618195522.zip\n",
      "Connexion à 10.50.2.2:3128… connecté.\n",
      "requête Proxy transmise, en attente de la réponse… 200 OK\n",
      "Taille : 3607937 (3,4M) [application/zip]\n",
      "Enregistre : «native_01022FZ20160323M003DT1_S002.nii.gz_job89681250618195522.zip»\n",
      "\n",
      "100%[======================================>] 3 607 937    137KB/s   ds 37s    \n",
      "\n",
      "2018-07-24 15:10:10 (95,1 KB/s) - «native_01022FZ20160323M003DT1_S002.nii.gz_job89681250618195522.zip» enregistré [3607937/3607937]\n",
      "\n"
     ]
    },
    {
     "ename": "BadStatusLine",
     "evalue": "''",
     "output_type": "error",
     "traceback": [
      "\u001b[0;31m---------------------------------------------------------------------------\u001b[0m",
      "\u001b[0;31mBadStatusLine\u001b[0m                             Traceback (most recent call last)",
      "\u001b[0;32m<ipython-input-11-0b7410436fa7>\u001b[0m in \u001b[0;36m<module>\u001b[0;34m()\u001b[0m\n\u001b[1;32m     40\u001b[0m                 \u001b[0mnot_fund\u001b[0m\u001b[0;34m=\u001b[0m\u001b[0mFalse\u001b[0m\u001b[0;34m\u001b[0m\u001b[0m\n\u001b[1;32m     41\u001b[0m                 \u001b[0;32mbreak\u001b[0m\u001b[0;34m\u001b[0m\u001b[0m\n\u001b[0;32m---> 42\u001b[0;31m         \u001b[0mdriver\u001b[0m\u001b[0;34m.\u001b[0m\u001b[0mclose\u001b[0m\u001b[0;34m(\u001b[0m\u001b[0;34m)\u001b[0m\u001b[0;34m\u001b[0m\u001b[0m\n\u001b[0m\u001b[1;32m     43\u001b[0m \u001b[0;31m#iter_length = len(list(myIterator))\u001b[0m\u001b[0;34m\u001b[0m\u001b[0;34m\u001b[0m\u001b[0m\n\u001b[1;32m     44\u001b[0m \u001b[0;31m#print iter_length\u001b[0m\u001b[0;34m\u001b[0m\u001b[0;34m\u001b[0m\u001b[0m\n",
      "\u001b[0;32m/home/global/anaconda2/lib/python2.7/site-packages/selenium/webdriver/remote/webdriver.pyc\u001b[0m in \u001b[0;36mclose\u001b[0;34m(self)\u001b[0m\n\u001b[1;32m    679\u001b[0m             \u001b[0mdriver\u001b[0m\u001b[0;34m.\u001b[0m\u001b[0mclose\u001b[0m\u001b[0;34m(\u001b[0m\u001b[0;34m)\u001b[0m\u001b[0;34m\u001b[0m\u001b[0m\n\u001b[1;32m    680\u001b[0m         \"\"\"\n\u001b[0;32m--> 681\u001b[0;31m         \u001b[0mself\u001b[0m\u001b[0;34m.\u001b[0m\u001b[0mexecute\u001b[0m\u001b[0;34m(\u001b[0m\u001b[0mCommand\u001b[0m\u001b[0;34m.\u001b[0m\u001b[0mCLOSE\u001b[0m\u001b[0;34m)\u001b[0m\u001b[0;34m\u001b[0m\u001b[0m\n\u001b[0m\u001b[1;32m    682\u001b[0m \u001b[0;34m\u001b[0m\u001b[0m\n\u001b[1;32m    683\u001b[0m     \u001b[0;32mdef\u001b[0m \u001b[0mquit\u001b[0m\u001b[0;34m(\u001b[0m\u001b[0mself\u001b[0m\u001b[0;34m)\u001b[0m\u001b[0;34m:\u001b[0m\u001b[0;34m\u001b[0m\u001b[0m\n",
      "\u001b[0;32m/home/global/anaconda2/lib/python2.7/site-packages/selenium/webdriver/remote/webdriver.pyc\u001b[0m in \u001b[0;36mexecute\u001b[0;34m(self, driver_command, params)\u001b[0m\n\u001b[1;32m    310\u001b[0m \u001b[0;34m\u001b[0m\u001b[0m\n\u001b[1;32m    311\u001b[0m         \u001b[0mparams\u001b[0m \u001b[0;34m=\u001b[0m \u001b[0mself\u001b[0m\u001b[0;34m.\u001b[0m\u001b[0m_wrap_value\u001b[0m\u001b[0;34m(\u001b[0m\u001b[0mparams\u001b[0m\u001b[0;34m)\u001b[0m\u001b[0;34m\u001b[0m\u001b[0m\n\u001b[0;32m--> 312\u001b[0;31m         \u001b[0mresponse\u001b[0m \u001b[0;34m=\u001b[0m \u001b[0mself\u001b[0m\u001b[0;34m.\u001b[0m\u001b[0mcommand_executor\u001b[0m\u001b[0;34m.\u001b[0m\u001b[0mexecute\u001b[0m\u001b[0;34m(\u001b[0m\u001b[0mdriver_command\u001b[0m\u001b[0;34m,\u001b[0m \u001b[0mparams\u001b[0m\u001b[0;34m)\u001b[0m\u001b[0;34m\u001b[0m\u001b[0m\n\u001b[0m\u001b[1;32m    313\u001b[0m         \u001b[0;32mif\u001b[0m \u001b[0mresponse\u001b[0m\u001b[0;34m:\u001b[0m\u001b[0;34m\u001b[0m\u001b[0m\n\u001b[1;32m    314\u001b[0m             \u001b[0mself\u001b[0m\u001b[0;34m.\u001b[0m\u001b[0merror_handler\u001b[0m\u001b[0;34m.\u001b[0m\u001b[0mcheck_response\u001b[0m\u001b[0;34m(\u001b[0m\u001b[0mresponse\u001b[0m\u001b[0;34m)\u001b[0m\u001b[0;34m\u001b[0m\u001b[0m\n",
      "\u001b[0;32m/home/global/anaconda2/lib/python2.7/site-packages/selenium/webdriver/remote/remote_connection.pyc\u001b[0m in \u001b[0;36mexecute\u001b[0;34m(self, command, params)\u001b[0m\n\u001b[1;32m    470\u001b[0m         \u001b[0mdata\u001b[0m \u001b[0;34m=\u001b[0m \u001b[0mutils\u001b[0m\u001b[0;34m.\u001b[0m\u001b[0mdump_json\u001b[0m\u001b[0;34m(\u001b[0m\u001b[0mparams\u001b[0m\u001b[0;34m)\u001b[0m\u001b[0;34m\u001b[0m\u001b[0m\n\u001b[1;32m    471\u001b[0m         \u001b[0murl\u001b[0m \u001b[0;34m=\u001b[0m \u001b[0;34m'%s%s'\u001b[0m \u001b[0;34m%\u001b[0m \u001b[0;34m(\u001b[0m\u001b[0mself\u001b[0m\u001b[0;34m.\u001b[0m\u001b[0m_url\u001b[0m\u001b[0;34m,\u001b[0m \u001b[0mpath\u001b[0m\u001b[0;34m)\u001b[0m\u001b[0;34m\u001b[0m\u001b[0m\n\u001b[0;32m--> 472\u001b[0;31m         \u001b[0;32mreturn\u001b[0m \u001b[0mself\u001b[0m\u001b[0;34m.\u001b[0m\u001b[0m_request\u001b[0m\u001b[0;34m(\u001b[0m\u001b[0mcommand_info\u001b[0m\u001b[0;34m[\u001b[0m\u001b[0;36m0\u001b[0m\u001b[0;34m]\u001b[0m\u001b[0;34m,\u001b[0m \u001b[0murl\u001b[0m\u001b[0;34m,\u001b[0m \u001b[0mbody\u001b[0m\u001b[0;34m=\u001b[0m\u001b[0mdata\u001b[0m\u001b[0;34m)\u001b[0m\u001b[0;34m\u001b[0m\u001b[0m\n\u001b[0m\u001b[1;32m    473\u001b[0m \u001b[0;34m\u001b[0m\u001b[0m\n\u001b[1;32m    474\u001b[0m     \u001b[0;32mdef\u001b[0m \u001b[0m_request\u001b[0m\u001b[0;34m(\u001b[0m\u001b[0mself\u001b[0m\u001b[0;34m,\u001b[0m \u001b[0mmethod\u001b[0m\u001b[0;34m,\u001b[0m \u001b[0murl\u001b[0m\u001b[0;34m,\u001b[0m \u001b[0mbody\u001b[0m\u001b[0;34m=\u001b[0m\u001b[0mNone\u001b[0m\u001b[0;34m)\u001b[0m\u001b[0;34m:\u001b[0m\u001b[0;34m\u001b[0m\u001b[0m\n",
      "\u001b[0;32m/home/global/anaconda2/lib/python2.7/site-packages/selenium/webdriver/remote/remote_connection.pyc\u001b[0m in \u001b[0;36m_request\u001b[0;34m(self, method, url, body)\u001b[0m\n\u001b[1;32m    494\u001b[0m             \u001b[0;32mtry\u001b[0m\u001b[0;34m:\u001b[0m\u001b[0;34m\u001b[0m\u001b[0m\n\u001b[1;32m    495\u001b[0m                 \u001b[0mself\u001b[0m\u001b[0;34m.\u001b[0m\u001b[0m_conn\u001b[0m\u001b[0;34m.\u001b[0m\u001b[0mrequest\u001b[0m\u001b[0;34m(\u001b[0m\u001b[0mmethod\u001b[0m\u001b[0;34m,\u001b[0m \u001b[0mparsed_url\u001b[0m\u001b[0;34m.\u001b[0m\u001b[0mpath\u001b[0m\u001b[0;34m,\u001b[0m \u001b[0mbody\u001b[0m\u001b[0;34m,\u001b[0m \u001b[0mheaders\u001b[0m\u001b[0;34m)\u001b[0m\u001b[0;34m\u001b[0m\u001b[0m\n\u001b[0;32m--> 496\u001b[0;31m                 \u001b[0mresp\u001b[0m \u001b[0;34m=\u001b[0m \u001b[0mself\u001b[0m\u001b[0;34m.\u001b[0m\u001b[0m_conn\u001b[0m\u001b[0;34m.\u001b[0m\u001b[0mgetresponse\u001b[0m\u001b[0;34m(\u001b[0m\u001b[0;34m)\u001b[0m\u001b[0;34m\u001b[0m\u001b[0m\n\u001b[0m\u001b[1;32m    497\u001b[0m             \u001b[0;32mexcept\u001b[0m \u001b[0;34m(\u001b[0m\u001b[0mhttplib\u001b[0m\u001b[0;34m.\u001b[0m\u001b[0mHTTPException\u001b[0m\u001b[0;34m,\u001b[0m \u001b[0msocket\u001b[0m\u001b[0;34m.\u001b[0m\u001b[0merror\u001b[0m\u001b[0;34m)\u001b[0m\u001b[0;34m:\u001b[0m\u001b[0;34m\u001b[0m\u001b[0m\n\u001b[1;32m    498\u001b[0m                 \u001b[0mself\u001b[0m\u001b[0;34m.\u001b[0m\u001b[0m_conn\u001b[0m\u001b[0;34m.\u001b[0m\u001b[0mclose\u001b[0m\u001b[0;34m(\u001b[0m\u001b[0;34m)\u001b[0m\u001b[0;34m\u001b[0m\u001b[0m\n",
      "\u001b[0;32m/home/global/anaconda2/lib/python2.7/httplib.pyc\u001b[0m in \u001b[0;36mgetresponse\u001b[0;34m(self, buffering)\u001b[0m\n\u001b[1;32m   1119\u001b[0m \u001b[0;34m\u001b[0m\u001b[0m\n\u001b[1;32m   1120\u001b[0m         \u001b[0;32mtry\u001b[0m\u001b[0;34m:\u001b[0m\u001b[0;34m\u001b[0m\u001b[0m\n\u001b[0;32m-> 1121\u001b[0;31m             \u001b[0mresponse\u001b[0m\u001b[0;34m.\u001b[0m\u001b[0mbegin\u001b[0m\u001b[0;34m(\u001b[0m\u001b[0;34m)\u001b[0m\u001b[0;34m\u001b[0m\u001b[0m\n\u001b[0m\u001b[1;32m   1122\u001b[0m             \u001b[0;32massert\u001b[0m \u001b[0mresponse\u001b[0m\u001b[0;34m.\u001b[0m\u001b[0mwill_close\u001b[0m \u001b[0;34m!=\u001b[0m \u001b[0m_UNKNOWN\u001b[0m\u001b[0;34m\u001b[0m\u001b[0m\n\u001b[1;32m   1123\u001b[0m             \u001b[0mself\u001b[0m\u001b[0;34m.\u001b[0m\u001b[0m__state\u001b[0m \u001b[0;34m=\u001b[0m \u001b[0m_CS_IDLE\u001b[0m\u001b[0;34m\u001b[0m\u001b[0m\n",
      "\u001b[0;32m/home/global/anaconda2/lib/python2.7/httplib.pyc\u001b[0m in \u001b[0;36mbegin\u001b[0;34m(self)\u001b[0m\n\u001b[1;32m    436\u001b[0m         \u001b[0;31m# read until we get a non-100 response\u001b[0m\u001b[0;34m\u001b[0m\u001b[0;34m\u001b[0m\u001b[0m\n\u001b[1;32m    437\u001b[0m         \u001b[0;32mwhile\u001b[0m \u001b[0mTrue\u001b[0m\u001b[0;34m:\u001b[0m\u001b[0;34m\u001b[0m\u001b[0m\n\u001b[0;32m--> 438\u001b[0;31m             \u001b[0mversion\u001b[0m\u001b[0;34m,\u001b[0m \u001b[0mstatus\u001b[0m\u001b[0;34m,\u001b[0m \u001b[0mreason\u001b[0m \u001b[0;34m=\u001b[0m \u001b[0mself\u001b[0m\u001b[0;34m.\u001b[0m\u001b[0m_read_status\u001b[0m\u001b[0;34m(\u001b[0m\u001b[0;34m)\u001b[0m\u001b[0;34m\u001b[0m\u001b[0m\n\u001b[0m\u001b[1;32m    439\u001b[0m             \u001b[0;32mif\u001b[0m \u001b[0mstatus\u001b[0m \u001b[0;34m!=\u001b[0m \u001b[0mCONTINUE\u001b[0m\u001b[0;34m:\u001b[0m\u001b[0;34m\u001b[0m\u001b[0m\n\u001b[1;32m    440\u001b[0m                 \u001b[0;32mbreak\u001b[0m\u001b[0;34m\u001b[0m\u001b[0m\n",
      "\u001b[0;32m/home/global/anaconda2/lib/python2.7/httplib.pyc\u001b[0m in \u001b[0;36m_read_status\u001b[0;34m(self)\u001b[0m\n\u001b[1;32m    400\u001b[0m             \u001b[0;31m# Presumably, the server closed the connection before\u001b[0m\u001b[0;34m\u001b[0m\u001b[0;34m\u001b[0m\u001b[0m\n\u001b[1;32m    401\u001b[0m             \u001b[0;31m# sending a valid response.\u001b[0m\u001b[0;34m\u001b[0m\u001b[0;34m\u001b[0m\u001b[0m\n\u001b[0;32m--> 402\u001b[0;31m             \u001b[0;32mraise\u001b[0m \u001b[0mBadStatusLine\u001b[0m\u001b[0;34m(\u001b[0m\u001b[0mline\u001b[0m\u001b[0;34m)\u001b[0m\u001b[0;34m\u001b[0m\u001b[0m\n\u001b[0m\u001b[1;32m    403\u001b[0m         \u001b[0;32mtry\u001b[0m\u001b[0;34m:\u001b[0m\u001b[0;34m\u001b[0m\u001b[0m\n\u001b[1;32m    404\u001b[0m             \u001b[0;34m[\u001b[0m\u001b[0mversion\u001b[0m\u001b[0;34m,\u001b[0m \u001b[0mstatus\u001b[0m\u001b[0;34m,\u001b[0m \u001b[0mreason\u001b[0m\u001b[0;34m]\u001b[0m \u001b[0;34m=\u001b[0m \u001b[0mline\u001b[0m\u001b[0;34m.\u001b[0m\u001b[0msplit\u001b[0m\u001b[0;34m(\u001b[0m\u001b[0mNone\u001b[0m\u001b[0;34m,\u001b[0m \u001b[0;36m2\u001b[0m\u001b[0;34m)\u001b[0m\u001b[0;34m\u001b[0m\u001b[0m\n",
      "\u001b[0;31mBadStatusLine\u001b[0m: ''"
     ]
    }
   ],
   "source": [
    "from selenium import webdriver\n",
    "from selenium.webdriver.common.keys import Keys\n",
    "from selenium.webdriver.firefox.options import Options\n",
    "from selenium.webdriver import Firefox\n",
    "import datetime\n",
    "not_fund=True\n",
    "wanted_file=\"01022FZ20160323M003DT1_S002.nii.gz\"\n",
    "ladate=datetime.datetime.today().strftime('%Y-%m-%d')\n",
    "myDict = {\"romain_viard@yahoo.fr\":\"xIO52ts0UWm5\",\"juliette.mitjans@yahoo.fr\":\"mdpvolbrain\",\"rhumun@gmail.com\":\"EYyS9kx1UhWo\",\"renaud.lopes@gmail.com\":\"Ci2c@chru\"}\n",
    "\n",
    "for cle,valeur in myDict.items() :\n",
    "    if not_fund : \n",
    "        options = Options()\n",
    "        options.add_argument(\"--headless\")\n",
    "        driver = Firefox(firefox_options=options)\n",
    "        #driver = webdriver.Firefox()                \n",
    "        driver.get(\"http://volbrain.upv.es/index.php\")\n",
    "        elem = driver.find_element_by_name(\"email\")\n",
    "        elem.send_keys(cle)\n",
    "        elem = driver.find_element_by_name(\"password\")\n",
    "        elem.send_keys(valeur)\n",
    "        elem = driver.find_element_by_name(\"sub\")\n",
    "        elem.click()\n",
    "        elem = driver.find_element_by_name(\"job_list\")\n",
    "        html_tab_vol_brain=elem.get_attribute('innerHTML')\n",
    "        txt_tab_vol_brain=elem.text\n",
    "        #myIterator = re.finditer(\"http:\\/\\/files.volbrain.upv.es\\/native.*?zip\",tab_vol_brain,re.MULTILINE)\n",
    "        for cpt in range(2,9999) :\n",
    "            mytxtIterator = re.search(\" \"+str(cpt)+\" \",txt_tab_vol_brain,re.MULTILINE)\n",
    "            if mytxtIterator :\n",
    "                myvar=\"loadJobList(\"+str(cpt)+\")\"\n",
    "                driver.execute_script(myvar)\n",
    "                elem = driver.find_element_by_name(\"job_list\")\n",
    "                html_tab_vol_brain=html_tab_vol_brain+elem.get_attribute('innerHTML')\n",
    "                txt_tab_vol_brain=txt_tab_vol_brain+elem.text\n",
    "            else :\n",
    "                break\n",
    "        myIterator = re.finditer(\"http:\\/\\/files.volbrain.upv.es\\/native.*?zip\",html_tab_vol_brain,re.MULTILINE)\n",
    "        for it in myIterator :\n",
    "            mystr=html_tab_vol_brain[it.start():it.end()]\n",
    "            myfile = re.search(\"native_(.*nii.gz)\",mystr,re.MULTILINE)\n",
    "            if myfile.group(1) == wanted_file :\n",
    "                #print urllib.urlopen(mystr).read() \n",
    "                !wget {mystr}\n",
    "                not_fund=False\n",
    "                break\n",
    "        driver.close()\n",
    "#iter_length = len(list(myIterator))\n",
    "#print iter_length\n",
    "#driver.execute_script(\"loadJobList(2)\")"
   ]
  },
  {
   "cell_type": "code",
   "execution_count": 100,
   "metadata": {},
   "outputs": [
    {
     "name": "stdout",
     "output_type": "stream",
     "text": [
      "Nombre de fichiers dans le repertoire :\n",
      "3\n",
      "/NAS/tupac/romain/test_docker/send_vb_docker/out/T1_infile.nii.gz.txt\n",
      "/NAS/tupac/romain/test_docker/send_vb_docker/out/01020VM20160120M003DT1_S002.nii.gz.txt\n",
      "/NAS/tupac/romain/test_docker/send_vb_docker/out/01008GM20141022M003DT1_noCLEAR_GEO_S002.nii.gz.txt\n",
      "T1_infile.nii.gz\n",
      "3\n",
      "\n",
      "01020VM20160120M003DT1_S002.nii.gz\n",
      "2\n",
      "\n",
      "01008GM20141022M003DT1_noCLEAR_GEO_S002.nii.gz\n",
      "3\n"
     ]
    }
   ],
   "source": [
    "import glob,os,wget\n",
    "\n",
    "Fileliste = glob.glob(\"/NAS/tupac/romain/test_docker/send_vb_docker/out/*.nii.gz.txt\")\n",
    "Fileliste.sort(key=os.path.getmtime)\n",
    "\n",
    "myDict = {\"romain_viard@yahoo.fr\":\"xIO52ts0UWm5\",\"juliette.mitjans@yahoo.fr\":\"mdpvolbrain\",\"rhumun@gmail.com\":\"EYyS9kx1UhWo\",\"renaud.lopes@gmail.com\":\"Ci2c@chru\"}\n",
    "\n",
    "print \"Nombre de fichiers dans le repertoire :\"\n",
    "print len(Fileliste)\n",
    "print(\"\\n\".join(Fileliste))\n",
    "\n",
    "for item in Fileliste :\n",
    "\tinputFile = open(item)\n",
    "\tidNumber = inputFile.readline()\n",
    "\tfullFileName = os.path.basename(item)\n",
    "\tprint fullFileName[:-4]\n",
    "\tprint idNumber"
   ]
  },
  {
   "cell_type": "code",
   "execution_count": 74,
   "metadata": {},
   "outputs": [
    {
     "name": "stdout",
     "output_type": "stream",
     "text": [
      "3\n",
      "renaud.lopes@gmail.com\n",
      "Ci2c@chru\n",
      "1\n",
      "romain_viard@yahoo.fr\n",
      "xIO52ts0UWm5\n",
      "1\n",
      "rhumun@gmail.com\n",
      "EYyS9kx1UhWo\n",
      "1\n",
      "juliette.mitjans@yahoo.fr\n",
      "mdpvolbrain\n"
     ]
    }
   ],
   "source": [
    "from selenium import webdriver\n",
    "from selenium.webdriver.common.keys import Keys\n",
    "from selenium.webdriver.firefox.options import Options\n",
    "from selenium.webdriver import Firefox\n",
    "import datetime\n",
    "import random\n",
    "ladate=datetime.datetime.today().strftime('%Y-%m-%d')\n",
    "myDict = {\"romain_viard@yahoo.fr\":\"xIO52ts0UWm5\",\"juliette.mitjans@yahoo.fr\":\"mdpvolbrain\",\"rhumun@gmail.com\":\"EYyS9kx1UhWo\",\"renaud.lopes@gmail.com\":\"Ci2c@chru\"}\n",
    "ladate=datetime.datetime.today().strftime('%Y-%m-%d')\n",
    "\n",
    "tmp_order=range(len(myDict))\n",
    "random.shuffle(tmp_order)\n",
    "\n",
    "for eval_order in tmp_order :\n",
    "    cle = myDict.items()[eval_order][0]\n",
    "    valeur = myDict.items()[eval_order][1]  \n",
    "    options = Options()\n",
    "    options.add_argument(\"--headless\")\n",
    "    driver = Firefox(firefox_options=options)\n",
    "    #driver = webdriver.Firefox()\n",
    "    driver.get(\"http://volbrain.upv.es/index.php\")\n",
    "    elem = driver.find_element_by_name(\"email\")\n",
    "    elem.send_keys(cle)\n",
    "    elem = driver.find_element_by_name(\"password\")\n",
    "    elem.send_keys(valeur)\n",
    "    elem = driver.find_element_by_name(\"sub\")\n",
    "    elem.click()\n",
    "    elem = driver.find_element_by_name(\"job_list\")\n",
    "    html_tab_vol_brain=elem.get_attribute('innerHTML')\n",
    "    txt_tab_vol_brain=elem.text\n",
    "    for cpt in range(2,9999) :\n",
    "        mytxtIterator = re.search(\" \"+str(cpt)+\" \",txt_tab_vol_brain,re.MULTILINE)\n",
    "        if mytxtIterator :\n",
    "            myvar=\"loadJobList(\"+str(cpt)+\")\"\n",
    "            driver.execute_script(myvar)\n",
    "            elem = driver.find_element_by_name(\"job_list\")\n",
    "            html_tab_vol_brain=html_tab_vol_brain+elem.get_attribute('innerHTML')\n",
    "            txt_tab_vol_brain=txt_tab_vol_brain+elem.text\n",
    "        else :\n",
    "            break\n",
    "    cpt=0\n",
    "    for m in re.finditer(\" \"+str(ladate)+\" \",txt_tab_vol_brain):\n",
    "        cpt += 1\n",
    "    print cpt\n",
    "    print cle\n",
    "    print valeur "
   ]
  },
  {
   "cell_type": "code",
   "execution_count": null,
   "metadata": {
    "collapsed": true
   },
   "outputs": [],
   "source": [
    "\n",
    "        #myIterator = re.finditer(\"http:\\/\\/files.volbrain.upv.es\\/native.*?zip\",tab_vol_brain,re.MULTILINE)\n",
    "        for cpt in range(2,9999) :\n",
    "            mytxtIterator = re.search(\" \"+str(cpt)+\" \",txt_tab_vol_brain,re.MULTILINE)\n",
    "            if mytxtIterator :\n",
    "                myvar=\"loadJobList(\"+str(cpt)+\")\"\n",
    "                driver.execute_script(myvar)\n",
    "                elem = driver.find_element_by_name(\"job_list\")\n",
    "                html_tab_vol_brain=html_tab_vol_brain+elem.get_attribute('innerHTML')\n",
    "                txt_tab_vol_brain=txt_tab_vol_brain+elem.text\n",
    "            else :\n",
    "                break\n",
    "        myIterator = re.finditer(\"http:\\/\\/files.volbrain.upv.es\\/native.*?zip\",html_tab_vol_brain,re.MULTILINE)\n",
    "        for it in myIterator :\n",
    "            mystr=html_tab_vol_brain[it.start():it.end()]\n",
    "            myfile = re.search(\"native_(.*nii.gz)\",mystr,re.MULTILINE)\n",
    "            print myfile.group(1)\n",
    "        driver.close()\n",
    "#iter_length = len(list(myIterator))\n",
    "#print iter_length\n",
    "#driver.execute_script(\"loadJobList(2)\")"
   ]
  },
  {
   "cell_type": "code",
   "execution_count": 259,
   "metadata": {},
   "outputs": [
    {
     "name": "stdout",
     "output_type": "stream",
     "text": [
      "01022FZ20160323M003DT1_S002.nii.gz\n",
      "01020VM20160120M003DT1_S002.nii.gz\n",
      "01008GM20141022M003DT1_noCLEAR_GEO_S002.nii.gz\n",
      "01007HC20140917M003DT1_noCLEAR_GEO_S002.nii.gz\n",
      "01004DJ20140514M003DT1_noCLEAR_GEO_S001.nii.gz\n",
      "01017TA20150923M003DT1_S002.nii.gz\n",
      "01010VD20150311M003DT1_S003.nii.gz\n",
      "01031FB20170118M003DT1_S002.nii.gz\n",
      "01011BB20150506M003DT1_S002.nii.gz\n",
      "01011BB20150909M003DT1_S002.nii.gz\n",
      "01028SA20160525M003DT1_noCLEAR_GEO_S002.nii.gz\n",
      "01025AF20160420M003DT1_S002.nii.gz\n",
      "20151125_103646WIP3DT1ipatSENSEs201a1002.nii.gz\n",
      "01014DE20151001M003DT1_S002.nii.gz\n",
      "01002TM20140115M003DT1_noCLEAR_GEO_S002.nii.gz\n",
      "01005LB20140618M003DT1_noCLEAR_GEO_S002.nii.gz\n",
      "01023CF20160330M003DT1_S002.nii.gz\n",
      "01012BB20150506M003DT1_S002.nii.gz\n",
      "01030DM20170104M003DT1_S002.nii.gz\n",
      "01009WF20141105M003DT1_noCLEAR_GEO_S002.nii.gz\n"
     ]
    }
   ],
   "source": [
    "for item in myList :\n",
    "    if (len(item)>1) :\n",
    "        mystr=item[2]\n",
    "        myIterator = re.search(\"\\/[^\\/]+nii.gz$\",mystr)\n",
    "        print(mystr[myIterator.start()+1:myIterator.end()])"
   ]
  },
  {
   "cell_type": "code",
   "execution_count": 263,
   "metadata": {
    "collapsed": true
   },
   "outputs": [],
   "source": [
    "myIterator = re.finditer(\"\\/[^\\/]+nii.gz$\",html_tab_vol_brain,re.MULTILINE)\n",
    "for it in myIterator :\n",
    "    print(html_tab_vol_brain[it.start():it.end()])"
   ]
  },
  {
   "cell_type": "code",
   "execution_count": 10,
   "metadata": {},
   "outputs": [
    {
     "name": "stdout",
     "output_type": "stream",
     "text": [
      "<selenium.webdriver.firefox.webdriver.WebDriver (session=\"72c6ce29-67d6-4940-91a0-6ba0b2d3d091\")>\n"
     ]
    }
   ],
   "source": [
    "#elems = driver.find_elements_by_class_name(\"par\")\n",
    "#for eleme_par in elems :\n",
    "#    print(eleme_par.text)\n",
    "\n",
    "from selenium import webdriver\n",
    "from selenium.webdriver.common.keys import Keys\n",
    "import datetime\n",
    "\n",
    "ladate=datetime.datetime.today().strftime('%Y-%m-%d')\n",
    "\n",
    "driver = webdriver.Firefox()\n",
    "driver.get(\"http://volbrain.upv.es/index.php\")\n",
    "elem = driver.find_element_by_name(\"email\")\n",
    "elem.send_keys(\"renaud.lopes@gmail.com\")\n",
    "elem = driver.find_element_by_name(\"password\")\n",
    "elem.send_keys(\"Ci2c@chru\")\n",
    "elem = driver.find_element_by_name(\"sub\")\n",
    "elem.click()\n",
    "\n",
    "print(driver)\n",
    "driver.execute_script(\"return 5\")\n",
    "driver.execute_script(\"loadJobList(2)\")"
   ]
  },
  {
   "cell_type": "markdown",
   "metadata": {},
   "source": [
    "# Permet d'envoyer un T1 associé à un age/sexe sur un compte  "
   ]
  },
  {
   "cell_type": "code",
   "execution_count": 192,
   "metadata": {},
   "outputs": [
    {
     "name": "stdout",
     "output_type": "stream",
     "text": [
      "20\n",
      "21\n",
      "22\n",
      "23\n",
      "24\n",
      "25\n",
      "26\n",
      "27\n",
      "28\n",
      "29\n"
     ]
    }
   ],
   "source": [
    "import socket\n",
    "import logging\n",
    "import sys,re\n",
    "import mechanize\n",
    "import time\n",
    "from bs4 import BeautifulSoup\n",
    "from selenium import webdriver\n",
    "from selenium.webdriver.common.keys import Keys\n",
    "import re\n",
    "#\"romain_viard@yahoo.fr\":\"xIO52ts0UWm5\"\n",
    "#\"juliette.mitjans@yahoo.fr\":\"mdpvolbrain\"\n",
    "#\"renaud.lopes@gmail.com\":\"Ci2c@chu\"\n",
    "myDict = {\"rhumun@gmail.com\":\"EYyS9kx1UhWo\"}\n",
    "#par defaut '''55''','''Male'''\n",
    "myList=[['''58''','''Female''','''/NAS/tupac/protocoles/predistim/CATI_data/Lille/convertData/01022FZ/M00/NIFTI/3DT1_S002/01022FZ20160323M003DT1_S002.nii.gz'''],\n",
    "['''55''','''Male''','''/NAS/tupac/protocoles/predistim/CATI_data/Lille/convertData/01020VM/M00/NIFTI/3DT1_S002/01020VM20160120M003DT1_S002.nii.gz'''],\n",
    "['''45''','''Female''','''/NAS/tupac/protocoles/predistim/CATI_data/Lille/convertData/01008GM/M00/NIFTI/3DT1_noCLEAR_GEO_S002/01008GM20141022M003DT1_noCLEAR_GEO_S002.nii.gz'''],\n",
    "['''67''','''Male''','''/NAS/tupac/protocoles/predistim/CATI_data/Lille/convertData/01007HC/M00/NIFTI/3DT1_noCLEAR_GEO_S002/01007HC20140917M003DT1_noCLEAR_GEO_S002.nii.gz'''],\n",
    "['''55''','''Male''','''/NAS/tupac/protocoles/predistim/CATI_data/Lille/convertData/01004DJ/M00/NIFTI/3DT1_noCLEAR_GEO_S001/01004DJ20140514M003DT1_noCLEAR_GEO_S001.nii.gz'''],\n",
    "['''56''','''Male''','''/NAS/tupac/protocoles/predistim/CATI_data/Lille/convertData/01017TA/M00/NIFTI/3DT1_S002/01017TA20150923M003DT1_S002.nii.gz'''],\n",
    "['''55''','''Male''','''/NAS/tupac/protocoles/predistim/CATI_data/Lille/convertData/01010VD/M00/NIFTI/3DT1_S003/01010VD20150311M003DT1_S003.nii.gz'''],\n",
    "['''54''','''Male''','''/NAS/tupac/protocoles/predistim/CATI_data/Lille/convertData/001_031FB/M00/NIFTI/3DT1_S002/01031FB20170118M003DT1_S002.nii.gz'''],\n",
    "['''53''','''Female''','''/NAS/tupac/protocoles/predistim/CATI_data/Lille/convertData/01011BB/M00/NIFTI/3DT1_S002/01011BB20150506M003DT1_S002.nii.gz'''],\n",
    "['''53''','''Female''','''/NAS/tupac/protocoles/predistim/CATI_data/Lille/convertData/01011BB/M00/NIFTI/3DT1_rescan_S002/01011BB20150909M003DT1_S002.nii.gz'''],\n",
    "['''55''','''Male''','''/NAS/tupac/protocoles/predistim/CATI_data/Lille/convertData/01028SA/M00/NIFTI/3DT1_noCLEAR_GEO_S002/01028SA20160525M003DT1_noCLEAR_GEO_S002.nii.gz'''],\n",
    "['''64''','''Male''','''/NAS/tupac/protocoles/predistim/CATI_data/Lille/convertData/01025AF/M00/NIFTI/3DT1_S002/01025AF20160420M003DT1_S002.nii.gz'''],\n",
    "['''50''','''Male''','''/NAS/tupac/protocoles/predistim/CATI_data/Lille/convertData/01018MT/20151125_103646WIP3DT1ipatSENSEs201a1002.nii.gz'''],\n",
    "['''58''','''Female''','''/NAS/tupac/protocoles/predistim/CATI_data/Lille/convertData/01014DE/M00/NIFTI/3DT1_S002/01014DE20151001M003DT1_S002.nii.gz'''],\n",
    "['''55''','''Male''','''/NAS/tupac/protocoles/predistim/CATI_data/Lille/convertData/01002TM/M00/NIFTI/3DT1_noCLEAR_GEO_S002/01002TM20140115M003DT1_noCLEAR_GEO_S002.nii.gz'''],\n",
    "['''55''','''Male''','''/NAS/tupac/protocoles/predistim/CATI_data/Lille/convertData/01005LB/M00/NIFTI/3DT1_noCLEAR_GEO_S002/01005LB20140618M003DT1_noCLEAR_GEO_S002.nii.gz'''],\n",
    "['''59''','''Female''','''/NAS/tupac/protocoles/predistim/CATI_data/Lille/convertData/01023CF/M00/NIFTI/3DT1_S002/01023CF20160330M003DT1_S002.nii.gz'''],\n",
    "['''58''','''Female''','''/NAS/tupac/protocoles/predistim/CATI_data/Lille/convertData/01012BB/M00/NIFTI/3DT1_S002/01012BB20150506M003DT1_S002.nii.gz'''],\n",
    "['''66''','''Female''','''/NAS/tupac/protocoles/predistim/CATI_data/Lille/convertData/001_030DM/NIFTI/3DT1_S002/01030DM20170104M003DT1_S002.nii.gz'''],\n",
    "['''64''','''Female''','''/NAS/tupac/protocoles/predistim/CATI_data/Lille/convertData/01009WF/M00/NIFTI/3DT1_noCLEAR_GEO_S002/01009WF20141105M003DT1_noCLEAR_GEO_S002.nii.gz'''],\n",
    "['''55''','''Male''','''/NAS/tupac/protocoles/predistim/CATI_data/Lille/convertData/01013RP/M00/NIFTI/3DT1_S002/01013RP20150520M003DT1_S002.nii.gz'''],\n",
    "['''55''','''Male''','''/NAS/tupac/protocoles/predistim/CATI_data/Lille/convertData/01029LL/M00/NIFTI/3DT1_S002/01029LL20160706M003DT1_S002.nii.gz'''],\n",
    "['''55''','''Male''','''/NAS/tupac/protocoles/predistim/CATI_data/Lille/convertData/01021CT/M00/NIFTI/3DT1_S002/01021CT20160203M003DT1_S002.nii.gz'''],\n",
    "['''61''','''Male''','''/NAS/tupac/protocoles/predistim/CATI_data/Lille/convertData/01003SJ/M00/NIFTI/3DT1_noCLEAR_GEO_S002/01003SJ20140304M003DT1_noCLEAR_GEO_S002.nii.gz'''],\n",
    "['''53''','''Feale''','''/NAS/tupac/protocoles/predistim/CATI_data/Lille/convertData/01016BP/M00/NIFTI/3DT1_S002/01016BP20150916M003DT1_S002.nii.gz'''],\n",
    "['''46''','''Male''','''/NAS/tupac/protocoles/predistim/CATI_data/Lille/convertData/01019LJ/M00/NIFTI/3DT1_S002/01019LJ20151209M003DT1_S002.nii.gz'''],\n",
    "['''53''','''Female''','''/NAS/tupac/protocoles/predistim/CATI_data/Lille/convertData/01015HC/M00/NIFTI/3DT1_S002/01015HC20150902M003DT1_S002.nii.gz'''],\n",
    "['''55''','''Male''','''/NAS/tupac/protocoles/predistim/CATI_data/Lille/convertData/01006DF/M00/NIFTI/3DT1_noCLEAR_GEO_S002/01006DF20140827M003DT1_noCLEAR_GEO_S002.nii.gz'''],\n",
    "['''59''','''Female''','''/NAS/tupac/protocoles/predistim/CATI_data/Lille/convertData/01024DC/M00/NIFTI/3DT1_S002/01024DC20160406M003DT1_S002.nii.gz'''],\n",
    "['''55''','''Male''','''/NAS/tupac/protocoles/predistim/CATI_data/Lille/convertData/01001SR/M00/NIFTI/3DT1_S002/01001SR20131120M003DT1_S002.nii.gz''']]\n",
    "j=20\n",
    "for cle,valeur in myDict.items() :\n",
    "    for i in range(10) :\n",
    "            item=myList[j]\n",
    "            driver = webdriver.Firefox()\n",
    "            driver.get(\"http://volbrain.upv.es/index.php\")\n",
    "            elem = driver.find_element_by_name(\"email\")\n",
    "            elem.send_keys(cle)\n",
    "            elem = driver.find_element_by_name(\"password\")\n",
    "            elem.send_keys(valeur)\n",
    "            elem = driver.find_element_by_name(\"sub\")\n",
    "            elem.click()\n",
    "            elem = driver.find_element_by_id(\"pipeline1\")\n",
    "            elem.click()\n",
    "            elem = driver.find_element_by_name(\"volbrain_t1_file\")\n",
    "            elem.send_keys(item.pop())\n",
    "            elem = driver.find_element_by_name(\"volbrain_patientssex\")\n",
    "            elem.send_keys(item.pop())\n",
    "            elem = driver.find_element_by_name(\"volbrain_patientsage\")\n",
    "            elem.send_keys(item.pop())\n",
    "            elem = driver.find_element_by_name(\"button_volbrain\")\n",
    "            elem.click()\n",
    "            print j\n",
    "            if j>=(len(myList)-1) :\n",
    "                break\n",
    "            else :\n",
    "                j=j+1\n",
    "                time.sleep(5)"
   ]
  }
 ],
 "metadata": {
  "kernelspec": {
   "display_name": "Python 2",
   "language": "python",
   "name": "python2"
  },
  "language_info": {
   "codemirror_mode": {
    "name": "ipython",
    "version": 2
   },
   "file_extension": ".py",
   "mimetype": "text/x-python",
   "name": "python",
   "nbconvert_exporter": "python",
   "pygments_lexer": "ipython2",
   "version": "2.7.13"
  }
 },
 "nbformat": 4,
 "nbformat_minor": 1
}
