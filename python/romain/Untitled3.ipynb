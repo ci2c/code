{
 "cells": [
  {
   "cell_type": "code",
   "execution_count": 1,
   "metadata": {
    "collapsed": true
   },
   "outputs": [],
   "source": [
    "QRY_PATH=\"/home/global/anaconda2/tract_querier/queries/freesurfer_queries.qry\"\n",
    "#SUBJ_ID=\"T02S01\"\n",
    "SUBJ_ID=\"p_DG21_a\"\n",
    "NAS=\"tupac\"\n",
    "#protocole=\"healthy_volunteers\"\n",
    "protocole=\"alexcis\"\n",
    "DIR_PATH=\"/NAS/\"+NAS+\"/protocoles/\"+protocole\n",
    "FS_PATH=DIR_PATH+\"/FS53/\"\n",
    "DTI_PATH=FS_PATH+SUBJ_ID+\"/dti/\"\n",
    "TRACTO=\"whole_brain_6_1500000\"\n",
    "#SEG = DTI_PATH+\"raparc+aseg.nii\"\n",
    "SEG = DTI_PATH+\"raparc.a2009s+aseg.nii\"\n",
    "MESH = \"lh.white.ras\""
   ]
  },
  {
   "cell_type": "code",
   "execution_count": 2,
   "metadata": {
    "collapsed": true
   },
   "outputs": [],
   "source": [
    "from nibabel import trackvis as tv\n",
    "from dipy.viz import fvtk\n",
    "from dipy.segment.metric import ResampleFeature\n",
    "from dipy.segment.metric import AveragePointwiseEuclideanMetric\n",
    "from dipy.segment.metric import CenterOfMassFeature\n",
    "from dipy.segment.metric import EuclideanMetric\n",
    "from dipy.segment.metric import IdentityFeature\n",
    "from dipy.segment.clustering import QuickBundles\n",
    "from dipy.io.image import load_nifti, save_nifti\n",
    "from dipy.tracking.streamline import set_number_of_points\n",
    "\n",
    "from dipy.tracking import utils\n",
    "\n",
    "from nibabel import freesurfer as fs\n",
    "from dipy.utils.optpkg import optional_package\n",
    "import dipy.io.vtk as io_vtk\n",
    "import dipy.viz.utils as ut_vtk\n",
    "from dipy.viz import window, actor, ui\n",
    "from dipy.tracking import utils\n",
    "import nipype.interfaces.mrtrix as mrt\n",
    "from dipy.tracking.streamline import select_random_set_of_streamlines\n",
    "import numpy as np\n",
    "import matplotlib.pyplot as plt\n",
    "import nibabel as nib\n",
    "import random\n",
    "from dipy.tracking.streamline import transform_streamlines\n",
    "from dipy.denoise.enhancement_kernel import EnhancementKernel\n",
    "from dipy.tracking.fbcmeasures import FBCMeasures\n",
    "from nibabel.streamlines import Field\n",
    "from dipy.io import read_bvals_bvecs\n",
    "from dipy.core.gradients import gradient_table\n",
    "from dipy.reconst.dti import TensorModel\n",
    "from dipy.viz import colormap\n",
    "from dipy.reconst.dti import fractional_anisotropy, color_fa, lower_triangular\n",
    "import matplotlib.pyplot as plt\n",
    "import pandas as pd\n"
   ]
  },
  {
   "cell_type": "code",
   "execution_count": 3,
   "metadata": {
    "collapsed": true
   },
   "outputs": [],
   "source": [
    "#labelconvert dti/aparc.a2009s+aseg.nii /home/global//freesurfer6_0//FreeSurferColorLUT.txt /home/global/mrtrix3_RC2/mrtrix3/share/mrtrix3/labelconvert/fs_default.txt dti/label.nii.gz\n",
    "bundle = nib.streamlines.load(FS_PATH+\"p_AR28_na/bundle_cc_4.trk\")\n",
    "data, affine = load_nifti(FS_PATH+\"p_AR28_na/dti/dti.nii.gz\")\n",
    "#label, affineLabel = load_nifti(FS_PATH+\"p_AR28_na/dti/label.nii.gz\")\n",
    "label, affineLabel = load_nifti(FS_PATH+\"p_AR28_na/dti/aparc.a2009s+aseg.nii\")"
   ]
  },
  {
   "cell_type": "code",
   "execution_count": 4,
   "metadata": {},
   "outputs": [
    {
     "data": {
      "image/png": "[encoded data removed]",
      "text/plain": [
       "<matplotlib.figure.Figure at 0x7f14f451ba10>"
      ]
     },
     "metadata": {},
     "output_type": "display_data"
    },
    {
     "name": "stderr",
     "output_type": "stream",
     "text": [
      "/home/global/anaconda2/lib/python2.7/site-packages/matplotlib/axes/_axes.py:545: UserWarning: No labelled objects found. Use label='...' kwarg on individual plots.\n",
      "  warnings.warn(\"No labelled objects found. \"\n"
     ]
    }
   ],
   "source": [
    "#print(bundle.affine)\n",
    "#trk_shifted = transform_streamlines(trk4.tractogram.streamlines,np.linalg.inv(affine))\n",
    "lengths = list(utils.length(bundle.tractogram.streamlines))\n",
    "#print(lengths)\n",
    "fig_hist, ax = plt.subplots(1)\n",
    "ax.hist(lengths, color='burlywood')\n",
    "ax.set_xlabel('Length')\n",
    "ax.set_ylabel('Count')\n",
    "plt.show()\n",
    "plt.legend()"
   ]
  },
  {
   "cell_type": "code",
   "execution_count": 46,
   "metadata": {
    "collapsed": true
   },
   "outputs": [],
   "source": [
    "test = utils.density_map(trk4.tractogram.streamlines,data.shape[0:3],affine=affine)\n",
    "#save_nifti(FS_PATH+\"p_AR28_na/density_map.nii.gz\",test, affine)\n",
    "dm_img = nib.Nifti1Image(test.astype(\"int16\"),affine)\n",
    "dm_img.to_filename(FS_PATH+\"p_AR28_na/density_map.nii.gz\")"
   ]
  },
  {
   "cell_type": "code",
   "execution_count": 54,
   "metadata": {
    "collapsed": true
   },
   "outputs": [],
   "source": [
    "feature = ResampleFeature(nb_points=24)\n",
    "metric = AveragePointwiseEuclideanMetric(feature=feature)  # a.k.a. MDF  \n",
    "qb = QuickBundles(threshold=100, metric=metric)\n",
    "qb.max_nb_clusters = 1\n",
    "cluster = qb.cluster(trk4.tractogram.streamlines)"
   ]
  },
  {
   "cell_type": "code",
   "execution_count": 57,
   "metadata": {},
   "outputs": [
    {
     "name": "stdout",
     "output_type": "stream",
     "text": [
      "('Nb. clusters:', 1)\n",
      "('Cluster sizes:', [9851])\n",
      "[array([[ 28.1553421 , -10.45228195,  52.32127762],\n",
      "       [ 26.67933846, -10.64287853,  48.97660065],\n",
      "       [ 25.08213234, -10.36063957,  45.59922028],\n",
      "       [ 23.66619682,  -9.91308784,  42.27915955],\n",
      "       [ 22.40568352,  -9.38051605,  38.93884277],\n",
      "       [ 21.021492  ,  -8.67530537,  35.61710739],\n",
      "       [ 19.16176224,  -7.92659044,  32.29608536],\n",
      "       [ 16.65177917,  -7.20066881,  29.03641701],\n",
      "       [ 13.51764107,  -6.55988312,  26.03774071],\n",
      "       [  9.86507511,  -6.05448627,  23.46230698],\n",
      "       [  5.81796503,  -5.68745422,  21.48469543],\n",
      "       [  1.45281267,  -5.54299116,  20.43599319],\n",
      "       [ -2.99236274,  -5.88275242,  20.54062653],\n",
      "       [ -7.25824642,  -6.73351765,  21.66708374],\n",
      "       [-11.22260094,  -7.81360054,  23.45122528],\n",
      "       [-14.9135828 ,  -8.8866148 ,  25.53538322],\n",
      "       [-18.24248695,  -9.93323612,  27.74658966],\n",
      "       [-21.00098038, -11.06754875,  30.14574051],\n",
      "       [-23.08922386, -12.13308144,  32.77323151],\n",
      "       [-24.67723083, -12.829072  ,  35.60696411],\n",
      "       [-26.25829315, -13.13572979,  38.65122604],\n",
      "       [-27.85184479, -13.29295826,  41.84967422],\n",
      "       [-29.27256775, -13.3071928 ,  45.0565567 ],\n",
      "       [-30.57798386, -13.31979752,  48.20365143]], dtype=float32)]\n"
     ]
    }
   ],
   "source": [
    "print(\"Nb. clusters:\", len(cluster))\n",
    "print(\"Cluster sizes:\", map(len, cluster))\n",
    "clus=list(cluster.centroids)\n",
    "print(clus)"
   ]
  },
  {
   "cell_type": "code",
   "execution_count": 69,
   "metadata": {
    "collapsed": true
   },
   "outputs": [],
   "source": [
    "r = fvtk.ren()\n",
    "#test = utils.density_map(trk4.tractogram.streamlines,data.shape[0:3],affine=affine)\n",
    "#bundle_native = transform_streamlines(trk4.tractogram.streamlines,np.linalg.inv(affine))\n",
    "#fvtk.add(r, actor.line(bundle_native,test,linewidth=0.1,opacity=0.3));\n",
    "fvtk.add(r, actor.line(trk4.tractogram.streamlines,linewidth=0.1,opacity=0.3));\n",
    "\n",
    "bar = actor.scalar_bar()\n",
    "fvtk.add(r,bar)\n",
    "a=fvtk.axes()\n",
    "fvtk.add(r,a)\n",
    "\n",
    "#fvtk.add(r,fvtk.streamtube(trk3.streamlines,raparc.get,linewidth=1))\n",
    "\n",
    "#fvtk.add(r, actor.line(fbc_sl_orig, clrs_orig, linewidth=0.2))\n",
    "#fvtk.add(r, actor.line(fbc_sl_thres, clrs_thres, linewidth=0.2))\n",
    "fvtk.show(r)"
   ]
  },
  {
   "cell_type": "code",
   "execution_count": 53,
   "metadata": {},
   "outputs": [
    {
     "ename": "IndexError",
     "evalue": "index 88 is out of bounds for axis 0 with size 81",
     "output_type": "error",
     "traceback": [
      "\u001b[0;31m---------------------------------------------------------------------------\u001b[0m",
      "\u001b[0;31mIndexError\u001b[0m                                Traceback (most recent call last)",
      "\u001b[0;32m<ipython-input-53-dc49f2c2f5c1>\u001b[0m in \u001b[0;36m<module>\u001b[0;34m()\u001b[0m\n\u001b[1;32m      1\u001b[0m \u001b[0;31m#M, grouping =\u001b[0m\u001b[0;34m\u001b[0m\u001b[0;34m\u001b[0m\u001b[0m\n\u001b[0;32m----> 2\u001b[0;31m \u001b[0mutils\u001b[0m\u001b[0;34m.\u001b[0m\u001b[0mconnectivity_matrix\u001b[0m\u001b[0;34m(\u001b[0m\u001b[0mtrk4\u001b[0m\u001b[0;34m.\u001b[0m\u001b[0mstreamlines\u001b[0m\u001b[0;34m,\u001b[0m\u001b[0mlabels\u001b[0m\u001b[0;34m,\u001b[0m\u001b[0maffine\u001b[0m\u001b[0;34m=\u001b[0m\u001b[0maffine\u001b[0m\u001b[0;34m)\u001b[0m\u001b[0;34m\u001b[0m\u001b[0m\n\u001b[0m\u001b[1;32m      3\u001b[0m                           \u001b[0;31m#,return_mapping=True,mapping_as_streamlines=True)\u001b[0m\u001b[0;34m\u001b[0m\u001b[0;34m\u001b[0m\u001b[0m\n\u001b[1;32m      4\u001b[0m \u001b[0;31m#M[:3, :] = 0\u001b[0m\u001b[0;34m\u001b[0m\u001b[0;34m\u001b[0m\u001b[0m\n\u001b[1;32m      5\u001b[0m \u001b[0;31m#M[:, :3] = 0\u001b[0m\u001b[0;34m\u001b[0m\u001b[0;34m\u001b[0m\u001b[0m\n",
      "\u001b[0;32m/home/global/anaconda2/lib/python2.7/site-packages/dipy/tracking/utils.pyc\u001b[0m in \u001b[0;36mconnectivity_matrix\u001b[0;34m(streamlines, label_volume, voxel_size, affine, symmetric, return_mapping, mapping_as_streamlines)\u001b[0m\n\u001b[1;32m    201\u001b[0m     \u001b[0;31m# get labels for label_volume\u001b[0m\u001b[0;34m\u001b[0m\u001b[0;34m\u001b[0m\u001b[0m\n\u001b[1;32m    202\u001b[0m     \u001b[0mi\u001b[0m\u001b[0;34m,\u001b[0m \u001b[0mj\u001b[0m\u001b[0;34m,\u001b[0m \u001b[0mk\u001b[0m \u001b[0;34m=\u001b[0m \u001b[0mendpoints\u001b[0m\u001b[0;34m.\u001b[0m\u001b[0mT\u001b[0m\u001b[0;34m\u001b[0m\u001b[0m\n\u001b[0;32m--> 203\u001b[0;31m     \u001b[0mendlabels\u001b[0m \u001b[0;34m=\u001b[0m \u001b[0mlabel_volume\u001b[0m\u001b[0;34m[\u001b[0m\u001b[0mi\u001b[0m\u001b[0;34m,\u001b[0m \u001b[0mj\u001b[0m\u001b[0;34m,\u001b[0m \u001b[0mk\u001b[0m\u001b[0;34m]\u001b[0m\u001b[0;34m\u001b[0m\u001b[0m\n\u001b[0m\u001b[1;32m    204\u001b[0m     \u001b[0;32mif\u001b[0m \u001b[0msymmetric\u001b[0m\u001b[0;34m:\u001b[0m\u001b[0;34m\u001b[0m\u001b[0m\n\u001b[1;32m    205\u001b[0m         \u001b[0mendlabels\u001b[0m\u001b[0;34m.\u001b[0m\u001b[0msort\u001b[0m\u001b[0;34m(\u001b[0m\u001b[0;36m0\u001b[0m\u001b[0;34m)\u001b[0m\u001b[0;34m\u001b[0m\u001b[0m\n",
      "\u001b[0;31mIndexError\u001b[0m: index 88 is out of bounds for axis 0 with size 81"
     ]
    }
   ],
   "source": [
    "#M, grouping = \n",
    "utils.connectivity_matrix(trk4.tractogram.streamlines,labels,affine=affine)\n",
    "                          #,return_mapping=True,mapping_as_streamlines=True)\n",
    "#M[:3, :] = 0\n",
    "#M[:, :3] = 0"
   ]
  }
 ],
 "metadata": {
  "kernelspec": {
   "display_name": "Python 2",
   "language": "python",
   "name": "python2"
  },
  "language_info": {
   "codemirror_mode": {
    "name": "ipython",
    "version": 2
   },
   "file_extension": ".py",
   "mimetype": "text/x-python",
   "name": "python",
   "nbconvert_exporter": "python",
   "pygments_lexer": "ipython2",
   "version": "2.7.13"
  }
 },
 "nbformat": 4,
 "nbformat_minor": 2
}
