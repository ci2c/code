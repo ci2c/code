{
 "cells": [
  {
   "cell_type": "markdown",
   "metadata": {},
   "source": [
    "https://gitter.im/ShapeWorks/ShapeWorks?source=orgpage\n",
    "\n",
    "python /home/global/ShapeWork51/examples/ellipsoid/ellipsoidMain.py --interactive 1 --start_with_prepped_data 1"
   ]
  },
  {
   "cell_type": "code",
   "execution_count": 1,
   "metadata": {},
   "outputs": [
    {
     "name": "stdout",
     "output_type": "stream",
     "text": [
      "/NAS/dumbo/protocoles/CogPhenoPark/CortThick_Quentin/Shape/Data_Groupes/LeftPutamen/G[1234]_*_LeftPutamen.nii\n",
      "['/NAS/dumbo/protocoles/CogPhenoPark/CortThick_Quentin/Shape/Data_Groupes/LeftPutamen/G1_sub_380304JM130613_LeftPutamen.nrrd', '/NAS/dumbo/protocoles/CogPhenoPark/CortThick_Quentin/Shape/Data_Groupes/LeftPutamen/G1_sub_420901MW051213_LeftPutamen.nrrd', '/NAS/dumbo/protocoles/CogPhenoPark/CortThick_Quentin/Shape/Data_Groupes/LeftPutamen/G1_sub_430702JG100214_LeftPutamen.nrrd', '/NAS/dumbo/protocoles/CogPhenoPark/CortThick_Quentin/Shape/Data_Groupes/LeftPutamen/G1_sub_460829CC090913_LeftPutamen.nrrd', '/NAS/dumbo/protocoles/CogPhenoPark/CortThick_Quentin/Shape/Data_Groupes/LeftPutamen/G1_sub_490128JBD171013_LeftPutamen.nrrd', '/NAS/dumbo/protocoles/CogPhenoPark/CortThick_Quentin/Shape/Data_Groupes/LeftPutamen/G1_sub_491029AS010813_LeftPutamen.nrrd', '/NAS/dumbo/protocoles/CogPhenoPark/CortThick_Quentin/Shape/Data_Groupes/LeftPutamen/G1_sub_500425EF100314_LeftPutamen.nrrd', '/NAS/dumbo/protocoles/CogPhenoPark/CortThick_Quentin/Shape/Data_Groupes/LeftPutamen/G1_sub_501204YV100913_LeftPutamen.nrrd', '/NAS/dumbo/protocoles/CogPhenoPark/CortThick_Quentin/Shape/Data_Groupes/LeftPutamen/G1_sub_501218DB251113_LeftPutamen.nrrd', '/NAS/dumbo/protocoles/CogPhenoPark/CortThick_Quentin/Shape/Data_Groupes/LeftPutamen/G1_sub_530802JV130114PB_LeftPutamen.nrrd', '/NAS/dumbo/protocoles/CogPhenoPark/CortThick_Quentin/Shape/Data_Groupes/LeftPutamen/G1_sub_590305CF211113_LeftPutamen.nrrd', '/NAS/dumbo/protocoles/CogPhenoPark/CortThick_Quentin/Shape/Data_Groupes/LeftPutamen/G1_sub_T84003_LeftPutamen.nrrd', '/NAS/dumbo/protocoles/CogPhenoPark/CortThick_Quentin/Shape/Data_Groupes/LeftPutamen/G1_sub_T84005_LeftPutamen.nrrd', '/NAS/dumbo/protocoles/CogPhenoPark/CortThick_Quentin/Shape/Data_Groupes/LeftPutamen/G1_sub_T84012_LeftPutamen.nrrd', '/NAS/dumbo/protocoles/CogPhenoPark/CortThick_Quentin/Shape/Data_Groupes/LeftPutamen/G1_sub_T84014_LeftPutamen.nrrd', '/NAS/dumbo/protocoles/CogPhenoPark/CortThick_Quentin/Shape/Data_Groupes/LeftPutamen/G1_sub_T84015_LeftPutamen.nrrd', '/NAS/dumbo/protocoles/CogPhenoPark/CortThick_Quentin/Shape/Data_Groupes/LeftPutamen/G1_sub_T84022_LeftPutamen.nrrd', '/NAS/dumbo/protocoles/CogPhenoPark/CortThick_Quentin/Shape/Data_Groupes/LeftPutamen/G1_sub_T84023_LeftPutamen.nrrd', '/NAS/dumbo/protocoles/CogPhenoPark/CortThick_Quentin/Shape/Data_Groupes/LeftPutamen/G1_sub_T84026_LeftPutamen.nrrd', '/NAS/dumbo/protocoles/CogPhenoPark/CortThick_Quentin/Shape/Data_Groupes/LeftPutamen/G1_sub_T84028_LeftPutamen.nrrd', '/NAS/dumbo/protocoles/CogPhenoPark/CortThick_Quentin/Shape/Data_Groupes/LeftPutamen/G1_sub_T84029_LeftPutamen.nrrd', '/NAS/dumbo/protocoles/CogPhenoPark/CortThick_Quentin/Shape/Data_Groupes/LeftPutamen/G1_sub_T84030_LeftPutamen.nrrd', '/NAS/dumbo/protocoles/CogPhenoPark/CortThick_Quentin/Shape/Data_Groupes/LeftPutamen/G1_sub_T84031_LeftPutamen.nrrd', '/NAS/dumbo/protocoles/CogPhenoPark/CortThick_Quentin/Shape/Data_Groupes/LeftPutamen/G1_sub_T84032_LeftPutamen.nrrd', '/NAS/dumbo/protocoles/CogPhenoPark/CortThick_Quentin/Shape/Data_Groupes/LeftPutamen/G1_sub_T84036_LeftPutamen.nrrd', '/NAS/dumbo/protocoles/CogPhenoPark/CortThick_Quentin/Shape/Data_Groupes/LeftPutamen/G1_sub_T84040_LeftPutamen.nrrd', '/NAS/dumbo/protocoles/CogPhenoPark/CortThick_Quentin/Shape/Data_Groupes/LeftPutamen/G1_sub_T84044_LeftPutamen.nrrd', '/NAS/dumbo/protocoles/CogPhenoPark/CortThick_Quentin/Shape/Data_Groupes/LeftPutamen/G1_sub_T84047_LeftPutamen.nrrd', '/NAS/dumbo/protocoles/CogPhenoPark/CortThick_Quentin/Shape/Data_Groupes/LeftPutamen/G1_sub_T84052_LeftPutamen.nrrd', '/NAS/dumbo/protocoles/CogPhenoPark/CortThick_Quentin/Shape/Data_Groupes/LeftPutamen/G1_sub_T84053_LeftPutamen.nrrd', '/NAS/dumbo/protocoles/CogPhenoPark/CortThick_Quentin/Shape/Data_Groupes/LeftPutamen/G1_sub_T84057_LeftPutamen.nrrd', '/NAS/dumbo/protocoles/CogPhenoPark/CortThick_Quentin/Shape/Data_Groupes/LeftPutamen/G1_sub_T84058_LeftPutamen.nrrd', '/NAS/dumbo/protocoles/CogPhenoPark/CortThick_Quentin/Shape/Data_Groupes/LeftPutamen/G1_sub_T84063_LeftPutamen.nrrd', '/NAS/dumbo/protocoles/CogPhenoPark/CortThick_Quentin/Shape/Data_Groupes/LeftPutamen/G1_sub_T84064_LeftPutamen.nrrd', '/NAS/dumbo/protocoles/CogPhenoPark/CortThick_Quentin/Shape/Data_Groupes/LeftPutamen/G1_sub_T84065_LeftPutamen.nrrd', '/NAS/dumbo/protocoles/CogPhenoPark/CortThick_Quentin/Shape/Data_Groupes/LeftPutamen/G1_sub_T84066_LeftPutamen.nrrd', '/NAS/dumbo/protocoles/CogPhenoPark/CortThick_Quentin/Shape/Data_Groupes/LeftPutamen/G1_sub_T84072_LeftPutamen.nrrd', '/NAS/dumbo/protocoles/CogPhenoPark/CortThick_Quentin/Shape/Data_Groupes/LeftPutamen/G1_sub_T84074_LeftPutamen.nrrd', '/NAS/dumbo/protocoles/CogPhenoPark/CortThick_Quentin/Shape/Data_Groupes/LeftPutamen/G1_sub_T84075_LeftPutamen.nrrd', '/NAS/dumbo/protocoles/CogPhenoPark/CortThick_Quentin/Shape/Data_Groupes/LeftPutamen/G1_sub_T84076_LeftPutamen.nrrd', '/NAS/dumbo/protocoles/CogPhenoPark/CortThick_Quentin/Shape/Data_Groupes/LeftPutamen/G2_sub_181037MB070714_LeftPutamen.nrrd', '/NAS/dumbo/protocoles/CogPhenoPark/CortThick_Quentin/Shape/Data_Groupes/LeftPutamen/G2_sub_381103AD070414_LeftPutamen.nrrd', '/NAS/dumbo/protocoles/CogPhenoPark/CortThick_Quentin/Shape/Data_Groupes/LeftPutamen/G2_sub_480412JL141113_LeftPutamen.nrrd', '/NAS/dumbo/protocoles/CogPhenoPark/CortThick_Quentin/Shape/Data_Groupes/LeftPutamen/G2_sub_581109PF281113_LeftPutamen.nrrd', '/NAS/dumbo/protocoles/CogPhenoPark/CortThick_Quentin/Shape/Data_Groupes/LeftPutamen/G2_sub_710624PD121213_LeftPutamen.nrrd', '/NAS/dumbo/protocoles/CogPhenoPark/CortThick_Quentin/Shape/Data_Groupes/LeftPutamen/G2_sub_T84002_LeftPutamen.nrrd', '/NAS/dumbo/protocoles/CogPhenoPark/CortThick_Quentin/Shape/Data_Groupes/LeftPutamen/G2_sub_T84006_LeftPutamen.nrrd', '/NAS/dumbo/protocoles/CogPhenoPark/CortThick_Quentin/Shape/Data_Groupes/LeftPutamen/G2_sub_T84027_LeftPutamen.nrrd', '/NAS/dumbo/protocoles/CogPhenoPark/CortThick_Quentin/Shape/Data_Groupes/LeftPutamen/G2_sub_T84034_LeftPutamen.nrrd', '/NAS/dumbo/protocoles/CogPhenoPark/CortThick_Quentin/Shape/Data_Groupes/LeftPutamen/G2_sub_T84041_LeftPutamen.nrrd', '/NAS/dumbo/protocoles/CogPhenoPark/CortThick_Quentin/Shape/Data_Groupes/LeftPutamen/G2_sub_T84054_LeftPutamen.nrrd', '/NAS/dumbo/protocoles/CogPhenoPark/CortThick_Quentin/Shape/Data_Groupes/LeftPutamen/G2_sub_T84055_LeftPutamen.nrrd', '/NAS/dumbo/protocoles/CogPhenoPark/CortThick_Quentin/Shape/Data_Groupes/LeftPutamen/G2_sub_T84059_LeftPutamen.nrrd', '/NAS/dumbo/protocoles/CogPhenoPark/CortThick_Quentin/Shape/Data_Groupes/LeftPutamen/G2_sub_T84067_LeftPutamen.nrrd', '/NAS/dumbo/protocoles/CogPhenoPark/CortThick_Quentin/Shape/Data_Groupes/LeftPutamen/G2_sub_T84077_LeftPutamen.nrrd', '/NAS/dumbo/protocoles/CogPhenoPark/CortThick_Quentin/Shape/Data_Groupes/LeftPutamen/G2_sub_T84078_LeftPutamen.nrrd', '/NAS/dumbo/protocoles/CogPhenoPark/CortThick_Quentin/Shape/Data_Groupes/LeftPutamen/G3_sub_340910RL270314_LeftPutamen.nrrd', '/NAS/dumbo/protocoles/CogPhenoPark/CortThick_Quentin/Shape/Data_Groupes/LeftPutamen/G3_sub_360210FG230513_LeftPutamen.nrrd', '/NAS/dumbo/protocoles/CogPhenoPark/CortThick_Quentin/Shape/Data_Groupes/LeftPutamen/G3_sub_370217OD260913_LeftPutamen.nrrd', '/NAS/dumbo/protocoles/CogPhenoPark/CortThick_Quentin/Shape/Data_Groupes/LeftPutamen/G3_sub_420620AC050813_LeftPutamen.nrrd', '/NAS/dumbo/protocoles/CogPhenoPark/CortThick_Quentin/Shape/Data_Groupes/LeftPutamen/G3_sub_450723AS270114PB_LeftPutamen.nrrd', '/NAS/dumbo/protocoles/CogPhenoPark/CortThick_Quentin/Shape/Data_Groupes/LeftPutamen/G3_sub_460616BC240314_LeftPutamen.nrrd', '/NAS/dumbo/protocoles/CogPhenoPark/CortThick_Quentin/Shape/Data_Groupes/LeftPutamen/G3_sub_461119BA31102013_LeftPutamen.nrrd', '/NAS/dumbo/protocoles/CogPhenoPark/CortThick_Quentin/Shape/Data_Groupes/LeftPutamen/G3_sub_471204PD270513_LeftPutamen.nrrd', '/NAS/dumbo/protocoles/CogPhenoPark/CortThick_Quentin/Shape/Data_Groupes/LeftPutamen/G3_sub_490815MPD280313_LeftPutamen.nrrd', '/NAS/dumbo/protocoles/CogPhenoPark/CortThick_Quentin/Shape/Data_Groupes/LeftPutamen/G3_sub_500325DK190913_LeftPutamen.nrrd', '/NAS/dumbo/protocoles/CogPhenoPark/CortThick_Quentin/Shape/Data_Groupes/LeftPutamen/G3_sub_511209MT030414_LeftPutamen.nrrd', '/NAS/dumbo/protocoles/CogPhenoPark/CortThick_Quentin/Shape/Data_Groupes/LeftPutamen/G3_sub_521205MD190214_LeftPutamen.nrrd', '/NAS/dumbo/protocoles/CogPhenoPark/CortThick_Quentin/Shape/Data_Groupes/LeftPutamen/G3_sub_530516NL100414_LeftPutamen.nrrd', '/NAS/dumbo/protocoles/CogPhenoPark/CortThick_Quentin/Shape/Data_Groupes/LeftPutamen/G3_sub_550129PB170714_LeftPutamen.nrrd', '/NAS/dumbo/protocoles/CogPhenoPark/CortThick_Quentin/Shape/Data_Groupes/LeftPutamen/G3_sub_560826AR050913_LeftPutamen.nrrd', '/NAS/dumbo/protocoles/CogPhenoPark/CortThick_Quentin/Shape/Data_Groupes/LeftPutamen/G3_sub_590529AT130314_LeftPutamen.nrrd', '/NAS/dumbo/protocoles/CogPhenoPark/CortThick_Quentin/Shape/Data_Groupes/LeftPutamen/G3_sub_T84010_LeftPutamen.nrrd', '/NAS/dumbo/protocoles/CogPhenoPark/CortThick_Quentin/Shape/Data_Groupes/LeftPutamen/G3_sub_T84013_LeftPutamen.nrrd', '/NAS/dumbo/protocoles/CogPhenoPark/CortThick_Quentin/Shape/Data_Groupes/LeftPutamen/G3_sub_T84018_LeftPutamen.nrrd', '/NAS/dumbo/protocoles/CogPhenoPark/CortThick_Quentin/Shape/Data_Groupes/LeftPutamen/G3_sub_T84024_LeftPutamen.nrrd', '/NAS/dumbo/protocoles/CogPhenoPark/CortThick_Quentin/Shape/Data_Groupes/LeftPutamen/G3_sub_T84039_LeftPutamen.nrrd', '/NAS/dumbo/protocoles/CogPhenoPark/CortThick_Quentin/Shape/Data_Groupes/LeftPutamen/G3_sub_T84043_LeftPutamen.nrrd', '/NAS/dumbo/protocoles/CogPhenoPark/CortThick_Quentin/Shape/Data_Groupes/LeftPutamen/G3_sub_T84046_LeftPutamen.nrrd', '/NAS/dumbo/protocoles/CogPhenoPark/CortThick_Quentin/Shape/Data_Groupes/LeftPutamen/G3_sub_T84049_LeftPutamen.nrrd', '/NAS/dumbo/protocoles/CogPhenoPark/CortThick_Quentin/Shape/Data_Groupes/LeftPutamen/G3_sub_T84079_LeftPutamen.nrrd', '/NAS/dumbo/protocoles/CogPhenoPark/CortThick_Quentin/Shape/Data_Groupes/LeftPutamen/G4_sub_160858ZFK130321_LeftPutamen.nrrd', '/NAS/dumbo/protocoles/CogPhenoPark/CortThick_Quentin/Shape/Data_Groupes/LeftPutamen/G4_sub_340531NS060613_LeftPutamen.nrrd', '/NAS/dumbo/protocoles/CogPhenoPark/CortThick_Quentin/Shape/Data_Groupes/LeftPutamen/G4_sub_360108LW050214_LeftPutamen.nrrd', '/NAS/dumbo/protocoles/CogPhenoPark/CortThick_Quentin/Shape/Data_Groupes/LeftPutamen/G4_sub_380614TM060314_LeftPutamen.nrrd', '/NAS/dumbo/protocoles/CogPhenoPark/CortThick_Quentin/Shape/Data_Groupes/LeftPutamen/G4_sub_420123JO160614_LeftPutamen.nrrd', '/NAS/dumbo/protocoles/CogPhenoPark/CortThick_Quentin/Shape/Data_Groupes/LeftPutamen/G4_sub_420428MM091213_LeftPutamen.nrrd', '/NAS/dumbo/protocoles/CogPhenoPark/CortThick_Quentin/Shape/Data_Groupes/LeftPutamen/G4_sub_440404JPT240214_LeftPutamen.nrrd', '/NAS/dumbo/protocoles/CogPhenoPark/CortThick_Quentin/Shape/Data_Groupes/LeftPutamen/G4_sub_470130MY220513_LeftPutamen.nrrd', '/NAS/dumbo/protocoles/CogPhenoPark/CortThick_Quentin/Shape/Data_Groupes/LeftPutamen/G4_sub_470214CP110413_LeftPutamen.nrrd', '/NAS/dumbo/protocoles/CogPhenoPark/CortThick_Quentin/Shape/Data_Groupes/LeftPutamen/G4_sub_480227MS04042013_LeftPutamen.nrrd', '/NAS/dumbo/protocoles/CogPhenoPark/CortThick_Quentin/Shape/Data_Groupes/LeftPutamen/G4_sub_480524NB130214_LeftPutamen.nrrd', '/NAS/dumbo/protocoles/CogPhenoPark/CortThick_Quentin/Shape/Data_Groupes/LeftPutamen/G4_sub_480604JH160114PB_LeftPutamen.nrrd', '/NAS/dumbo/protocoles/CogPhenoPark/CortThick_Quentin/Shape/Data_Groupes/LeftPutamen/G4_sub_480628EH250713_LeftPutamen.nrrd', '/NAS/dumbo/protocoles/CogPhenoPark/CortThick_Quentin/Shape/Data_Groupes/LeftPutamen/G4_sub_490526RD170613_LeftPutamen.nrrd', '/NAS/dumbo/protocoles/CogPhenoPark/CortThick_Quentin/Shape/Data_Groupes/LeftPutamen/G4_sub_501009DL030714_LeftPutamen.nrrd', '/NAS/dumbo/protocoles/CogPhenoPark/CortThick_Quentin/Shape/Data_Groupes/LeftPutamen/G4_sub_511223MD241013_LeftPutamen.nrrd', '/NAS/dumbo/protocoles/CogPhenoPark/CortThick_Quentin/Shape/Data_Groupes/LeftPutamen/G4_sub_520818CL110713_LeftPutamen.nrrd', '/NAS/dumbo/protocoles/CogPhenoPark/CortThick_Quentin/Shape/Data_Groupes/LeftPutamen/G4_sub_540424GD290114PB_LeftPutamen.nrrd', '/NAS/dumbo/protocoles/CogPhenoPark/CortThick_Quentin/Shape/Data_Groupes/LeftPutamen/G4_sub_540626CR180713_LeftPutamen.nrrd', '/NAS/dumbo/protocoles/CogPhenoPark/CortThick_Quentin/Shape/Data_Groupes/LeftPutamen/G4_sub_541227MN050614_LeftPutamen.nrrd', '/NAS/dumbo/protocoles/CogPhenoPark/CortThick_Quentin/Shape/Data_Groupes/LeftPutamen/G4_sub_631221AM300614_LeftPutamen.nrrd', '/NAS/dumbo/protocoles/CogPhenoPark/CortThick_Quentin/Shape/Data_Groupes/LeftPutamen/G4_sub_640524MB240413_LeftPutamen.nrrd', '/NAS/dumbo/protocoles/CogPhenoPark/CortThick_Quentin/Shape/Data_Groupes/LeftPutamen/G4_sub_T84001_LeftPutamen.nrrd', '/NAS/dumbo/protocoles/CogPhenoPark/CortThick_Quentin/Shape/Data_Groupes/LeftPutamen/G4_sub_T84008_LeftPutamen.nrrd', '/NAS/dumbo/protocoles/CogPhenoPark/CortThick_Quentin/Shape/Data_Groupes/LeftPutamen/G4_sub_T84011_LeftPutamen.nrrd', '/NAS/dumbo/protocoles/CogPhenoPark/CortThick_Quentin/Shape/Data_Groupes/LeftPutamen/G4_sub_T84017_LeftPutamen.nrrd', '/NAS/dumbo/protocoles/CogPhenoPark/CortThick_Quentin/Shape/Data_Groupes/LeftPutamen/G4_sub_T84021_LeftPutamen.nrrd', '/NAS/dumbo/protocoles/CogPhenoPark/CortThick_Quentin/Shape/Data_Groupes/LeftPutamen/G4_sub_T84025_LeftPutamen.nrrd', '/NAS/dumbo/protocoles/CogPhenoPark/CortThick_Quentin/Shape/Data_Groupes/LeftPutamen/G4_sub_T84042_LeftPutamen.nrrd', '/NAS/dumbo/protocoles/CogPhenoPark/CortThick_Quentin/Shape/Data_Groupes/LeftPutamen/G4_sub_T84045_LeftPutamen.nrrd', '/NAS/dumbo/protocoles/CogPhenoPark/CortThick_Quentin/Shape/Data_Groupes/LeftPutamen/G4_sub_T84061_LeftPutamen.nrrd', '/NAS/dumbo/protocoles/CogPhenoPark/CortThick_Quentin/Shape/Data_Groupes/LeftPutamen/G4_sub_T84062_LeftPutamen.nrrd']\n"
     ]
    },
    {
     "name": "stdout",
     "output_type": "stream",
     "text": [
      "\n",
      "########### Resampling ###############\n",
      "\u001b[36m('Input Filename : ', '/NAS/dumbo/protocoles/CogPhenoPark/CortThick_Quentin/Shape/Data_Groupes/LeftPutamen/G1_sub_380304JM130613_LeftPutamen.nrrd')\u001b[0m\n",
      "\u001b[33m('Output Filename : ', '/NAS/dumbo/protocoles/CogPhenoPark/ShapeWork_by_RV2//PrepOutput/LeftPutamen/resampled/G1_sub_380304JM130613_LeftPutamen.isores.nrrd')\u001b[0m\n",
      "######################################\n",
      "\n",
      "Calling cmd:\n",
      "shapeworks read-image --name /NAS/dumbo/protocoles/CogPhenoPark/CortThick_Quentin/Shape/Data_Groupes/LeftPutamen/G1_sub_380304JM130613_LeftPutamen.nrrd antialias isoresample --isospacing 1.0 binarize recenter-image write-image --name /NAS/dumbo/protocoles/CogPhenoPark/ShapeWork_by_RV2//PrepOutput/LeftPutamen/resampled/G1_sub_380304JM130613_LeftPutamen.isores.nrrd\n"
     ]
    },
    {
     "ename": "CalledProcessError",
     "evalue": "Command '['shapeworks', 'read-image', '--name', '/NAS/dumbo/protocoles/CogPhenoPark/CortThick_Quentin/Shape/Data_Groupes/LeftPutamen/G1_sub_380304JM130613_LeftPutamen.nrrd', 'antialias', 'isoresample', '--isospacing', '1.0', 'binarize', 'recenter-image', 'write-image', '--name', '/NAS/dumbo/protocoles/CogPhenoPark/ShapeWork_by_RV2//PrepOutput/LeftPutamen/resampled/G1_sub_380304JM130613_LeftPutamen.isores.nrrd']' returned non-zero exit status 127.",
     "output_type": "error",
     "traceback": [
      "\u001b[0;31m---------------------------------------------------------------------------\u001b[0m",
      "\u001b[0;31mCalledProcessError\u001b[0m                        Traceback (most recent call last)",
      "\u001b[0;32m<ipython-input-1-42b2cf3735ba>\u001b[0m in \u001b[0;36m<module>\u001b[0;34m\u001b[0m\n\u001b[1;32m     32\u001b[0m     \u001b[0mfileList\u001b[0m \u001b[0;34m=\u001b[0m \u001b[0msorted\u001b[0m\u001b[0;34m(\u001b[0m\u001b[0mglob\u001b[0m\u001b[0;34m.\u001b[0m\u001b[0mglob\u001b[0m\u001b[0;34m(\u001b[0m\u001b[0;34m\"/NAS/dumbo/protocoles/CogPhenoPark/CortThick_Quentin/Shape/Data_Groupes/\"\u001b[0m\u001b[0;34m+\u001b[0m\u001b[0mstruct\u001b[0m\u001b[0;34m+\u001b[0m\u001b[0;34m\"/G[1234]_*\"\u001b[0m\u001b[0;34m+\u001b[0m\u001b[0mstruct\u001b[0m\u001b[0;34m+\u001b[0m\u001b[0;34m\".nrrd\"\u001b[0m\u001b[0;34m)\u001b[0m\u001b[0;34m)\u001b[0m\u001b[0;34m\u001b[0m\u001b[0;34m\u001b[0m\u001b[0m\n\u001b[1;32m     33\u001b[0m     \u001b[0mprint\u001b[0m\u001b[0;34m(\u001b[0m\u001b[0mfileList\u001b[0m\u001b[0;34m)\u001b[0m\u001b[0;34m\u001b[0m\u001b[0;34m\u001b[0m\u001b[0m\n\u001b[0;32m---> 34\u001b[0;31m     \u001b[0mresampledFiles\u001b[0m \u001b[0;34m=\u001b[0m \u001b[0mapplyIsotropicResampling\u001b[0m\u001b[0;34m(\u001b[0m\u001b[0mparentDir\u001b[0m\u001b[0;34m+\u001b[0m\u001b[0;34m\"/resampled\"\u001b[0m\u001b[0;34m,\u001b[0m\u001b[0mfileList\u001b[0m\u001b[0;34m,\u001b[0m\u001b[0mrecenter\u001b[0m\u001b[0;34m=\u001b[0m\u001b[0;32mTrue\u001b[0m\u001b[0;34m,\u001b[0m\u001b[0misBinary\u001b[0m\u001b[0;34m=\u001b[0m\u001b[0;32mTrue\u001b[0m\u001b[0;34m)\u001b[0m\u001b[0;34m\u001b[0m\u001b[0;34m\u001b[0m\u001b[0m\n\u001b[0m\u001b[1;32m     35\u001b[0m     \u001b[0mpaddedFiles\u001b[0m \u001b[0;34m=\u001b[0m \u001b[0mapplyPadding\u001b[0m\u001b[0;34m(\u001b[0m\u001b[0mparentDir\u001b[0m\u001b[0;34m+\u001b[0m \u001b[0;34m\"/padded\"\u001b[0m\u001b[0;34m,\u001b[0m \u001b[0mresampledFiles\u001b[0m\u001b[0;34m,\u001b[0m \u001b[0;36m10\u001b[0m\u001b[0;34m)\u001b[0m\u001b[0;34m\u001b[0m\u001b[0;34m\u001b[0m\u001b[0m\n\u001b[1;32m     36\u001b[0m     \u001b[0mcomFiles\u001b[0m \u001b[0;34m=\u001b[0m \u001b[0mapplyCOMAlignment\u001b[0m\u001b[0;34m(\u001b[0m\u001b[0mparentDir\u001b[0m\u001b[0;34m+\u001b[0m \u001b[0;34m\"/com_aligned\"\u001b[0m\u001b[0;34m,\u001b[0m \u001b[0mpaddedFiles\u001b[0m\u001b[0;34m)\u001b[0m\u001b[0;34m\u001b[0m\u001b[0;34m\u001b[0m\u001b[0m\n",
      "\u001b[0;32m~/SVN/python/romain/GroomUtils.py\u001b[0m in \u001b[0;36mapplyIsotropicResampling\u001b[0;34m(outDir, inDataList, isoSpacing, recenter, isBinary)\u001b[0m\n\u001b[1;32m     58\u001b[0m         \u001b[0mcmd\u001b[0m\u001b[0;34m.\u001b[0m\u001b[0mextend\u001b[0m\u001b[0;34m(\u001b[0m\u001b[0;34m[\u001b[0m\u001b[0;34m\"write-image\"\u001b[0m\u001b[0;34m,\u001b[0m \u001b[0;34m\"--name\"\u001b[0m\u001b[0;34m,\u001b[0m \u001b[0moutname\u001b[0m\u001b[0;34m]\u001b[0m\u001b[0;34m)\u001b[0m\u001b[0;34m\u001b[0m\u001b[0;34m\u001b[0m\u001b[0m\n\u001b[1;32m     59\u001b[0m         \u001b[0mprint\u001b[0m\u001b[0;34m(\u001b[0m\u001b[0;34m\"Calling cmd:\\n\"\u001b[0m\u001b[0;34m+\u001b[0m\u001b[0;34m\" \"\u001b[0m\u001b[0;34m.\u001b[0m\u001b[0mjoin\u001b[0m\u001b[0;34m(\u001b[0m\u001b[0mcmd\u001b[0m\u001b[0;34m)\u001b[0m\u001b[0;34m)\u001b[0m\u001b[0;34m\u001b[0m\u001b[0;34m\u001b[0m\u001b[0m\n\u001b[0;32m---> 60\u001b[0;31m         \u001b[0msubprocess\u001b[0m\u001b[0;34m.\u001b[0m\u001b[0mcheck_call\u001b[0m\u001b[0;34m(\u001b[0m\u001b[0mcmd\u001b[0m\u001b[0;34m)\u001b[0m\u001b[0;34m\u001b[0m\u001b[0;34m\u001b[0m\u001b[0m\n\u001b[0m\u001b[1;32m     61\u001b[0m     \u001b[0;32mreturn\u001b[0m \u001b[0moutDataList\u001b[0m\u001b[0;34m\u001b[0m\u001b[0;34m\u001b[0m\u001b[0m\n\u001b[1;32m     62\u001b[0m \u001b[0;34m\u001b[0m\u001b[0m\n",
      "\u001b[0;32m/home/global/anaconda37/lib/python3.7/subprocess.py\u001b[0m in \u001b[0;36mcheck_call\u001b[0;34m(*popenargs, **kwargs)\u001b[0m\n\u001b[1;32m    361\u001b[0m         \u001b[0;32mif\u001b[0m \u001b[0mcmd\u001b[0m \u001b[0;32mis\u001b[0m \u001b[0;32mNone\u001b[0m\u001b[0;34m:\u001b[0m\u001b[0;34m\u001b[0m\u001b[0;34m\u001b[0m\u001b[0m\n\u001b[1;32m    362\u001b[0m             \u001b[0mcmd\u001b[0m \u001b[0;34m=\u001b[0m \u001b[0mpopenargs\u001b[0m\u001b[0;34m[\u001b[0m\u001b[0;36m0\u001b[0m\u001b[0;34m]\u001b[0m\u001b[0;34m\u001b[0m\u001b[0;34m\u001b[0m\u001b[0m\n\u001b[0;32m--> 363\u001b[0;31m         \u001b[0;32mraise\u001b[0m \u001b[0mCalledProcessError\u001b[0m\u001b[0;34m(\u001b[0m\u001b[0mretcode\u001b[0m\u001b[0;34m,\u001b[0m \u001b[0mcmd\u001b[0m\u001b[0;34m)\u001b[0m\u001b[0;34m\u001b[0m\u001b[0;34m\u001b[0m\u001b[0m\n\u001b[0m\u001b[1;32m    364\u001b[0m     \u001b[0;32mreturn\u001b[0m \u001b[0;36m0\u001b[0m\u001b[0;34m\u001b[0m\u001b[0;34m\u001b[0m\u001b[0m\n\u001b[1;32m    365\u001b[0m \u001b[0;34m\u001b[0m\u001b[0m\n",
      "\u001b[0;31mCalledProcessError\u001b[0m: Command '['shapeworks', 'read-image', '--name', '/NAS/dumbo/protocoles/CogPhenoPark/CortThick_Quentin/Shape/Data_Groupes/LeftPutamen/G1_sub_380304JM130613_LeftPutamen.nrrd', 'antialias', 'isoresample', '--isospacing', '1.0', 'binarize', 'recenter-image', 'write-image', '--name', '/NAS/dumbo/protocoles/CogPhenoPark/ShapeWork_by_RV2//PrepOutput/LeftPutamen/resampled/G1_sub_380304JM130613_LeftPutamen.isores.nrrd']' returned non-zero exit status 127."
     ]
    }
   ],
   "source": [
    "import os,sys\n",
    "import argparse\n",
    "import nibabel as nib\n",
    "import numpy as np\n",
    "import nrrd\n",
    "from nibabel.freesurfer.mghformat import load\n",
    "from zipfile import ZipFile\n",
    "import csv\n",
    "\n",
    "from GroomUtils import *\n",
    "from OptimizeUtils import *\n",
    "from AnalyzeUtils import *\n",
    "\n",
    "for struct in (['''LeftPutamen''','''RightCaudate''','''LeftCaudate''','''LeftHippocampus''','''RightPutamen''','''RightHippocampus''','''LeftThalamus''','''LeftThalamus''']):\n",
    "    installpath = \"/home/global/ShapeWork531/bin\"\n",
    "    os.environ[\"PATH\"] = installpath + \":\" + os.environ[\"PATH\"]\n",
    "    #repertoire à modifier pour la sortie \n",
    "    parentDir=\"/NAS/dumbo/protocoles/CogPhenoPark/ShapeWork_by_RV2/\"\n",
    "    if not os.path.exists(parentDir):\n",
    "        os.makedirs(parentDir)  \n",
    "    print(\"/NAS/dumbo/protocoles/CogPhenoPark/CortThick_Quentin/Shape/Data_Groupes/\"+struct+\"/G[1234]_*_\"+struct+\".nii\")\n",
    "    fileList = sorted(glob.glob(\"/NAS/dumbo/protocoles/CogPhenoPark/CortThick_Quentin/Shape/Data_Groupes/\"+struct+\"/G[1234]_*_\"+struct+\".nii\"))\n",
    "\n",
    "    parentDir = parentDir+'/PrepOutput/'+struct\n",
    "    if not os.path.exists(parentDir):\n",
    "        os.makedirs(parentDir)\n",
    "\n",
    "    for ima in fileList :\n",
    "        img = nib.load(ima)\n",
    "        nrrd.write(ima.replace(\".nii\",\".nrrd\"), np.asanyarray(img.get_fdata()))\n",
    "\n",
    "    fileList = sorted(glob.glob(\"/NAS/dumbo/protocoles/CogPhenoPark/CortThick_Quentin/Shape/Data_Groupes/\"+struct+\"/G[1234]_*\"+struct+\".nrrd\"))\n",
    "    print(fileList)\n",
    "    resampledFiles = applyIsotropicResampling(parentDir+\"/resampled\",fileList,recenter=True,isBinary=True)\n",
    "    paddedFiles = applyPadding(parentDir+ \"/padded\", resampledFiles, 10)\n",
    "    comFiles = applyCOMAlignment(parentDir+ \"/com_aligned\", paddedFiles)\n",
    "    centerFiles = center(parentDir + \"/centered\", comFiles)\n",
    "    medianFile = FindReferenceImage(centerFiles)\n",
    "    rigidFiles = applyRigidAlignment(parentDir, centerFiles, None,medianFile,processRaw = False)\n",
    "\n",
    "    croppedFiles = applyCropping(parentDir, rigidFiles,None,processRaw=False)\n",
    "    dtFiles = applyDistanceTransforms(parentDir, croppedFiles)    \n",
    "\n",
    "    pointDir = parentDir+'/PointFiles/'\n",
    "    if not os.path.exists(pointDir):\n",
    "        os.makedirs(pointDir)\n",
    "\n",
    "    parameterDictionary = {\n",
    "        \"starting_particles\" : 64,\n",
    "        \"number_of_particles\" : 512,\n",
    "        \"number_of_levels\" : 4, \n",
    "        \"use_normals\": 0,\n",
    "        \"normal_weight\": 10.0,\n",
    "        \"checkpointing_interval\" : 200,\n",
    "        \"keep_checkpoints\" : 0,\n",
    "        \"iterations_per_split\" : 400,\n",
    "        \"optimization_iterations\" : 400,\n",
    "        \"starting_regularization\" : 1000,\n",
    "        \"ending_regularization\" : 1,\n",
    "        \"recompute_regularization_interval\" : 2,\n",
    "        \"domains_per_shape\" : 1,\n",
    "        \"relative_weighting\" : 10,\n",
    "        \"initial_relative_weighting\" : 0.01,\n",
    "        \"procrustes_interval\" : 0,\n",
    "        \"procrustes_scaling\" : 0,\n",
    "        \"save_init_splits\" : 0,\n",
    "        \"debug_projection\" : 0,\n",
    "        \"mesh_based_attributes\" : 0,\n",
    "        \"verbosity\" : 3\n",
    "    }\n",
    "\n",
    "    \"\"\"\n",
    "    Now we execute a multi-scale (or single-scale) particle optimization function.\n",
    "    \"\"\"\n",
    "    [localPointFiles, worldPointFiles] = runShapeWorksOptimize_MultiScale(pointDir, dtFiles, parameterDictionary)\n",
    "    #[localPointFiles, worldPointFiles] = runShapeWorksOptimize_SingleScale(pointDir,dtFiles, parameterDictionary)\n",
    "\n",
    "    #launchShapeWorksStudio(pointDir, dtFiles, localPointFiles, worldPointFiles)"
   ]
  },
  {
   "cell_type": "code",
   "execution_count": 14,
   "metadata": {},
   "outputs": [
    {
     "name": "stdout",
     "output_type": "stream",
     "text": [
      "0\n",
      "1\n",
      "2\n",
      "3\n",
      "4\n",
      "5\n",
      "6\n",
      "7\n"
     ]
    }
   ],
   "source": [
    "for idx,test in enumerate(fileList):\n",
    "    print(idx)\n",
    "    if idx-2 >= 5:\n",
    "        break\n",
    "    \n",
    "\n",
    "    "
   ]
  },
  {
   "cell_type": "code",
   "execution_count": 169,
   "metadata": {},
   "outputs": [
    {
     "name": "stdout",
     "output_type": "stream",
     "text": [
      "\n",
      "########### Resampling ###############\n",
      "\u001b[36m('Input Filename : ', '/NAS/dumbo/protocoles/CogPhenoPark/CortThick_Quentin/Shape/Data_Groupes/LeftPutamen/G1_sub_100269SD100714_LeftPutamen.nrrd')\u001b[0m\n",
      "\u001b[33m('Output Filename : ', '/NAS/dumbo/protocoles/CogPhenoPark/ShapeWork_by_RV//PrepOutput/LeftPutamen/resampled/G1_sub_100269SD100714_LeftPutamen.isores.nrrd')\u001b[0m\n",
      "######################################\n",
      "\n",
      "Calling cmd:\n",
      "shapeworks read-image --name /NAS/dumbo/protocoles/CogPhenoPark/CortThick_Quentin/Shape/Data_Groupes/LeftPutamen/G1_sub_100269SD100714_LeftPutamen.nrrd antialias isoresample --isospacing 1.0 binarize recenter-image write-image --name /NAS/dumbo/protocoles/CogPhenoPark/ShapeWork_by_RV//PrepOutput/LeftPutamen/resampled/G1_sub_100269SD100714_LeftPutamen.isores.nrrd\n"
     ]
    },
    {
     "ename": "CalledProcessError",
     "evalue": "Command '['shapeworks', 'read-image', '--name', '/NAS/dumbo/protocoles/CogPhenoPark/CortThick_Quentin/Shape/Data_Groupes/LeftPutamen/G1_sub_100269SD100714_LeftPutamen.nrrd', 'antialias', 'isoresample', '--isospacing', '1.0', 'binarize', 'recenter-image', 'write-image', '--name', '/NAS/dumbo/protocoles/CogPhenoPark/ShapeWork_by_RV//PrepOutput/LeftPutamen/resampled/G1_sub_100269SD100714_LeftPutamen.isores.nrrd']' returned non-zero exit status 127.",
     "output_type": "error",
     "traceback": [
      "\u001b[0;31m---------------------------------------------------------------------------\u001b[0m",
      "\u001b[0;31mCalledProcessError\u001b[0m                        Traceback (most recent call last)",
      "\u001b[0;32m<ipython-input-169-03e6e590696b>\u001b[0m in \u001b[0;36m<module>\u001b[0;34m\u001b[0m\n\u001b[1;32m      1\u001b[0m \u001b[0;32mtry\u001b[0m\u001b[0;34m:\u001b[0m\u001b[0;34m\u001b[0m\u001b[0;34m\u001b[0m\u001b[0m\n\u001b[0;32m----> 2\u001b[0;31m     \u001b[0mresampledFiles\u001b[0m \u001b[0;34m=\u001b[0m \u001b[0mapplyIsotropicResampling\u001b[0m\u001b[0;34m(\u001b[0m\u001b[0mparentDir\u001b[0m\u001b[0;34m+\u001b[0m\u001b[0;34m\"/resampled\"\u001b[0m\u001b[0;34m,\u001b[0m\u001b[0mfileList\u001b[0m\u001b[0;34m,\u001b[0m\u001b[0mrecenter\u001b[0m\u001b[0;34m=\u001b[0m\u001b[0;32mTrue\u001b[0m\u001b[0;34m,\u001b[0m\u001b[0misBinary\u001b[0m\u001b[0;34m=\u001b[0m\u001b[0;32mTrue\u001b[0m\u001b[0;34m)\u001b[0m\u001b[0;34m\u001b[0m\u001b[0;34m\u001b[0m\u001b[0m\n\u001b[0m\u001b[1;32m      3\u001b[0m \u001b[0;32mexcept\u001b[0m \u001b[0mValueError\u001b[0m\u001b[0;34m:\u001b[0m\u001b[0;34m\u001b[0m\u001b[0;34m\u001b[0m\u001b[0m\n\u001b[1;32m      4\u001b[0m     \u001b[0mprint\u001b[0m\u001b[0;34m(\u001b[0m\u001b[0;34m\"Oops!  That was no valid number.  Try again...\"\u001b[0m\u001b[0;34m)\u001b[0m\u001b[0;34m\u001b[0m\u001b[0;34m\u001b[0m\u001b[0m\n",
      "\u001b[0;32m~/SVN/python/romain/GroomUtils.py\u001b[0m in \u001b[0;36mapplyIsotropicResampling\u001b[0;34m(outDir, inDataList, isoSpacing, recenter, isBinary)\u001b[0m\n\u001b[1;32m     58\u001b[0m         \u001b[0mcmd\u001b[0m\u001b[0;34m.\u001b[0m\u001b[0mextend\u001b[0m\u001b[0;34m(\u001b[0m\u001b[0;34m[\u001b[0m\u001b[0;34m\"write-image\"\u001b[0m\u001b[0;34m,\u001b[0m \u001b[0;34m\"--name\"\u001b[0m\u001b[0;34m,\u001b[0m \u001b[0moutname\u001b[0m\u001b[0;34m]\u001b[0m\u001b[0;34m)\u001b[0m\u001b[0;34m\u001b[0m\u001b[0;34m\u001b[0m\u001b[0m\n\u001b[1;32m     59\u001b[0m         \u001b[0mprint\u001b[0m\u001b[0;34m(\u001b[0m\u001b[0;34m\"Calling cmd:\\n\"\u001b[0m\u001b[0;34m+\u001b[0m\u001b[0;34m\" \"\u001b[0m\u001b[0;34m.\u001b[0m\u001b[0mjoin\u001b[0m\u001b[0;34m(\u001b[0m\u001b[0mcmd\u001b[0m\u001b[0;34m)\u001b[0m\u001b[0;34m)\u001b[0m\u001b[0;34m\u001b[0m\u001b[0;34m\u001b[0m\u001b[0m\n\u001b[0;32m---> 60\u001b[0;31m         \u001b[0msubprocess\u001b[0m\u001b[0;34m.\u001b[0m\u001b[0mcheck_call\u001b[0m\u001b[0;34m(\u001b[0m\u001b[0mcmd\u001b[0m\u001b[0;34m)\u001b[0m\u001b[0;34m\u001b[0m\u001b[0;34m\u001b[0m\u001b[0m\n\u001b[0m\u001b[1;32m     61\u001b[0m     \u001b[0;32mreturn\u001b[0m \u001b[0moutDataList\u001b[0m\u001b[0;34m\u001b[0m\u001b[0;34m\u001b[0m\u001b[0m\n\u001b[1;32m     62\u001b[0m \u001b[0;34m\u001b[0m\u001b[0m\n",
      "\u001b[0;32m/home/global/anaconda37/lib/python3.7/subprocess.py\u001b[0m in \u001b[0;36mcheck_call\u001b[0;34m(*popenargs, **kwargs)\u001b[0m\n\u001b[1;32m    361\u001b[0m         \u001b[0;32mif\u001b[0m \u001b[0mcmd\u001b[0m \u001b[0;32mis\u001b[0m \u001b[0;32mNone\u001b[0m\u001b[0;34m:\u001b[0m\u001b[0;34m\u001b[0m\u001b[0;34m\u001b[0m\u001b[0m\n\u001b[1;32m    362\u001b[0m             \u001b[0mcmd\u001b[0m \u001b[0;34m=\u001b[0m \u001b[0mpopenargs\u001b[0m\u001b[0;34m[\u001b[0m\u001b[0;36m0\u001b[0m\u001b[0;34m]\u001b[0m\u001b[0;34m\u001b[0m\u001b[0;34m\u001b[0m\u001b[0m\n\u001b[0;32m--> 363\u001b[0;31m         \u001b[0;32mraise\u001b[0m \u001b[0mCalledProcessError\u001b[0m\u001b[0;34m(\u001b[0m\u001b[0mretcode\u001b[0m\u001b[0;34m,\u001b[0m \u001b[0mcmd\u001b[0m\u001b[0;34m)\u001b[0m\u001b[0;34m\u001b[0m\u001b[0;34m\u001b[0m\u001b[0m\n\u001b[0m\u001b[1;32m    364\u001b[0m     \u001b[0;32mreturn\u001b[0m \u001b[0;36m0\u001b[0m\u001b[0;34m\u001b[0m\u001b[0;34m\u001b[0m\u001b[0m\n\u001b[1;32m    365\u001b[0m \u001b[0;34m\u001b[0m\u001b[0m\n",
      "\u001b[0;31mCalledProcessError\u001b[0m: Command '['shapeworks', 'read-image', '--name', '/NAS/dumbo/protocoles/CogPhenoPark/CortThick_Quentin/Shape/Data_Groupes/LeftPutamen/G1_sub_100269SD100714_LeftPutamen.nrrd', 'antialias', 'isoresample', '--isospacing', '1.0', 'binarize', 'recenter-image', 'write-image', '--name', '/NAS/dumbo/protocoles/CogPhenoPark/ShapeWork_by_RV//PrepOutput/LeftPutamen/resampled/G1_sub_100269SD100714_LeftPutamen.isores.nrrd']' returned non-zero exit status 127."
     ]
    }
   ],
   "source": [
    "try:\n",
    "    resampledFiles = applyIsotropicResampling(parentDir+\"/resampled\",fileList,recenter=True,isBinary=True)\n",
    "except ValueError:\n",
    "    print(\"Oops!  That was no valid number.  Try again...\")"
   ]
  },
  {
   "cell_type": "code",
   "execution_count": 167,
   "metadata": {},
   "outputs": [
    {
     "name": "stdout",
     "output_type": "stream",
     "text": [
      "\n",
      "########### Resampling ###############\n",
      "\u001b[36m('Input Filename : ', '/NAS/dumbo/protocoles/CogPhenoPark/CortThick_Quentin/Shape/Data_Groupes/LeftPutamen/G1_sub_100269SD100714_LeftPutamen.nrrd')\u001b[0m\n",
      "\u001b[33m('Output Filename : ', '/NAS/dumbo/protocoles/CogPhenoPark/ShapeWork_by_RV//PrepOutput/LeftPutamen/resampled/G1_sub_100269SD100714_LeftPutamen.isores.nrrd')\u001b[0m\n",
      "######################################\n",
      "\n",
      "Calling cmd:\n",
      "shapeworks read-image --name /NAS/dumbo/protocoles/CogPhenoPark/CortThick_Quentin/Shape/Data_Groupes/LeftPutamen/G1_sub_100269SD100714_LeftPutamen.nrrd antialias isoresample --isospacing 1.0 binarize recenter-image write-image --name /NAS/dumbo/protocoles/CogPhenoPark/ShapeWork_by_RV//PrepOutput/LeftPutamen/resampled/G1_sub_100269SD100714_LeftPutamen.isores.nrrd\n"
     ]
    },
    {
     "ename": "CalledProcessError",
     "evalue": "Command '['shapeworks', 'read-image', '--name', '/NAS/dumbo/protocoles/CogPhenoPark/CortThick_Quentin/Shape/Data_Groupes/LeftPutamen/G1_sub_100269SD100714_LeftPutamen.nrrd', 'antialias', 'isoresample', '--isospacing', '1.0', 'binarize', 'recenter-image', 'write-image', '--name', '/NAS/dumbo/protocoles/CogPhenoPark/ShapeWork_by_RV//PrepOutput/LeftPutamen/resampled/G1_sub_100269SD100714_LeftPutamen.isores.nrrd']' returned non-zero exit status 127.",
     "output_type": "error",
     "traceback": [
      "\u001b[0;31m---------------------------------------------------------------------------\u001b[0m",
      "\u001b[0;31mCalledProcessError\u001b[0m                        Traceback (most recent call last)",
      "\u001b[0;32m<ipython-input-167-667a121bbe80>\u001b[0m in \u001b[0;36m<module>\u001b[0;34m\u001b[0m\n\u001b[0;32m----> 1\u001b[0;31m \u001b[0mresampledFiles\u001b[0m \u001b[0;34m=\u001b[0m \u001b[0mapplyIsotropicResampling\u001b[0m\u001b[0;34m(\u001b[0m\u001b[0mparentDir\u001b[0m\u001b[0;34m+\u001b[0m\u001b[0;34m\"/resampled\"\u001b[0m\u001b[0;34m,\u001b[0m\u001b[0mfileList\u001b[0m\u001b[0;34m,\u001b[0m\u001b[0mrecenter\u001b[0m\u001b[0;34m=\u001b[0m\u001b[0;32mTrue\u001b[0m\u001b[0;34m,\u001b[0m\u001b[0misBinary\u001b[0m\u001b[0;34m=\u001b[0m\u001b[0;32mTrue\u001b[0m\u001b[0;34m)\u001b[0m\u001b[0;34m\u001b[0m\u001b[0;34m\u001b[0m\u001b[0m\n\u001b[0m",
      "\u001b[0;32m~/SVN/python/romain/GroomUtils.py\u001b[0m in \u001b[0;36mapplyIsotropicResampling\u001b[0;34m(outDir, inDataList, isoSpacing, recenter, isBinary)\u001b[0m\n\u001b[1;32m     58\u001b[0m         \u001b[0mcmd\u001b[0m\u001b[0;34m.\u001b[0m\u001b[0mextend\u001b[0m\u001b[0;34m(\u001b[0m\u001b[0;34m[\u001b[0m\u001b[0;34m\"write-image\"\u001b[0m\u001b[0;34m,\u001b[0m \u001b[0;34m\"--name\"\u001b[0m\u001b[0;34m,\u001b[0m \u001b[0moutname\u001b[0m\u001b[0;34m]\u001b[0m\u001b[0;34m)\u001b[0m\u001b[0;34m\u001b[0m\u001b[0;34m\u001b[0m\u001b[0m\n\u001b[1;32m     59\u001b[0m         \u001b[0mprint\u001b[0m\u001b[0;34m(\u001b[0m\u001b[0;34m\"Calling cmd:\\n\"\u001b[0m\u001b[0;34m+\u001b[0m\u001b[0;34m\" \"\u001b[0m\u001b[0;34m.\u001b[0m\u001b[0mjoin\u001b[0m\u001b[0;34m(\u001b[0m\u001b[0mcmd\u001b[0m\u001b[0;34m)\u001b[0m\u001b[0;34m)\u001b[0m\u001b[0;34m\u001b[0m\u001b[0;34m\u001b[0m\u001b[0m\n\u001b[0;32m---> 60\u001b[0;31m         \u001b[0msubprocess\u001b[0m\u001b[0;34m.\u001b[0m\u001b[0mcheck_call\u001b[0m\u001b[0;34m(\u001b[0m\u001b[0mcmd\u001b[0m\u001b[0;34m)\u001b[0m\u001b[0;34m\u001b[0m\u001b[0;34m\u001b[0m\u001b[0m\n\u001b[0m\u001b[1;32m     61\u001b[0m     \u001b[0;32mreturn\u001b[0m \u001b[0moutDataList\u001b[0m\u001b[0;34m\u001b[0m\u001b[0;34m\u001b[0m\u001b[0m\n\u001b[1;32m     62\u001b[0m \u001b[0;34m\u001b[0m\u001b[0m\n",
      "\u001b[0;32m/home/global/anaconda37/lib/python3.7/subprocess.py\u001b[0m in \u001b[0;36mcheck_call\u001b[0;34m(*popenargs, **kwargs)\u001b[0m\n\u001b[1;32m    361\u001b[0m         \u001b[0;32mif\u001b[0m \u001b[0mcmd\u001b[0m \u001b[0;32mis\u001b[0m \u001b[0;32mNone\u001b[0m\u001b[0;34m:\u001b[0m\u001b[0;34m\u001b[0m\u001b[0;34m\u001b[0m\u001b[0m\n\u001b[1;32m    362\u001b[0m             \u001b[0mcmd\u001b[0m \u001b[0;34m=\u001b[0m \u001b[0mpopenargs\u001b[0m\u001b[0;34m[\u001b[0m\u001b[0;36m0\u001b[0m\u001b[0;34m]\u001b[0m\u001b[0;34m\u001b[0m\u001b[0;34m\u001b[0m\u001b[0m\n\u001b[0;32m--> 363\u001b[0;31m         \u001b[0;32mraise\u001b[0m \u001b[0mCalledProcessError\u001b[0m\u001b[0;34m(\u001b[0m\u001b[0mretcode\u001b[0m\u001b[0;34m,\u001b[0m \u001b[0mcmd\u001b[0m\u001b[0;34m)\u001b[0m\u001b[0;34m\u001b[0m\u001b[0;34m\u001b[0m\u001b[0m\n\u001b[0m\u001b[1;32m    364\u001b[0m     \u001b[0;32mreturn\u001b[0m \u001b[0;36m0\u001b[0m\u001b[0;34m\u001b[0m\u001b[0;34m\u001b[0m\u001b[0m\n\u001b[1;32m    365\u001b[0m \u001b[0;34m\u001b[0m\u001b[0m\n",
      "\u001b[0;31mCalledProcessError\u001b[0m: Command '['shapeworks', 'read-image', '--name', '/NAS/dumbo/protocoles/CogPhenoPark/CortThick_Quentin/Shape/Data_Groupes/LeftPutamen/G1_sub_100269SD100714_LeftPutamen.nrrd', 'antialias', 'isoresample', '--isospacing', '1.0', 'binarize', 'recenter-image', 'write-image', '--name', '/NAS/dumbo/protocoles/CogPhenoPark/ShapeWork_by_RV//PrepOutput/LeftPutamen/resampled/G1_sub_100269SD100714_LeftPutamen.isores.nrrd']' returned non-zero exit status 127."
     ]
    }
   ],
   "source": []
  },
  {
   "cell_type": "code",
   "execution_count": 149,
   "metadata": {},
   "outputs": [
    {
     "name": "stdout",
     "output_type": "stream",
     "text": [
      "/NAS/dumbo/protocoles/CogPhenoPark/ShapeWork_by_RV/PrepOutput/G1234/PointFiles/correspondence_1024.xml\n"
     ]
    },
    {
     "ename": "KeyboardInterrupt",
     "evalue": "",
     "output_type": "error",
     "traceback": [
      "\u001b[0;31m---------------------------------------------------------------------------\u001b[0m",
      "\u001b[0;31mKeyboardInterrupt\u001b[0m                         Traceback (most recent call last)",
      "\u001b[0;32m<ipython-input-149-ff1996fecc8a>\u001b[0m in \u001b[0;36m<module>\u001b[0;34m\u001b[0m\n\u001b[1;32m     26\u001b[0m \u001b[0;32mdel\u001b[0m \u001b[0mdtFiles\u001b[0m\u001b[0;34m[\u001b[0m\u001b[0;36m82\u001b[0m\u001b[0;34m:\u001b[0m\u001b[0;36m83\u001b[0m\u001b[0;34m]\u001b[0m\u001b[0;34m\u001b[0m\u001b[0;34m\u001b[0m\u001b[0m\n\u001b[1;32m     27\u001b[0m \u001b[0;31m#[localPointFiles, worldPointFiles] = runShapeWorksOptimize_MultiScale(pointDir,dtFiles, parameterDictionary)\u001b[0m\u001b[0;34m\u001b[0m\u001b[0;34m\u001b[0m\u001b[0;34m\u001b[0m\u001b[0m\n\u001b[0;32m---> 28\u001b[0;31m \u001b[0;34m[\u001b[0m\u001b[0mlocalPointFiles\u001b[0m\u001b[0;34m,\u001b[0m \u001b[0mworldPointFiles\u001b[0m\u001b[0;34m]\u001b[0m \u001b[0;34m=\u001b[0m \u001b[0mrunShapeWorksOptimize_SingleScale\u001b[0m\u001b[0;34m(\u001b[0m\u001b[0mpointDir\u001b[0m\u001b[0;34m,\u001b[0m\u001b[0mdtFiles\u001b[0m\u001b[0;34m,\u001b[0m \u001b[0mparameterDictionary\u001b[0m\u001b[0;34m)\u001b[0m\u001b[0;34m\u001b[0m\u001b[0;34m\u001b[0m\u001b[0m\n\u001b[0m",
      "\u001b[0;32m~/SVN/python/romain/OptimizeUtils.py\u001b[0m in \u001b[0;36mrunShapeWorksOptimize_SingleScale\u001b[0;34m(parentDir, inDataFiles, parameterDictionary)\u001b[0m\n\u001b[1;32m    233\u001b[0m     \u001b[0mprint\u001b[0m\u001b[0;34m(\u001b[0m\u001b[0mparameterFile\u001b[0m\u001b[0;34m)\u001b[0m\u001b[0;34m\u001b[0m\u001b[0;34m\u001b[0m\u001b[0m\n\u001b[1;32m    234\u001b[0m     \u001b[0mexecCommand\u001b[0m \u001b[0;34m=\u001b[0m \u001b[0;34m[\u001b[0m\u001b[0;34m\"ShapeWorksRun\"\u001b[0m \u001b[0;34m,\u001b[0m \u001b[0mparameterFile\u001b[0m\u001b[0;34m]\u001b[0m\u001b[0;34m\u001b[0m\u001b[0;34m\u001b[0m\u001b[0m\n\u001b[0;32m--> 235\u001b[0;31m     \u001b[0msubprocess\u001b[0m\u001b[0;34m.\u001b[0m\u001b[0mcheck_call\u001b[0m\u001b[0;34m(\u001b[0m\u001b[0mexecCommand\u001b[0m \u001b[0;34m)\u001b[0m\u001b[0;34m\u001b[0m\u001b[0;34m\u001b[0m\u001b[0m\n\u001b[0m\u001b[1;32m    236\u001b[0m     \u001b[0moutPointsWorld\u001b[0m \u001b[0;34m=\u001b[0m \u001b[0;34m[\u001b[0m\u001b[0;34m]\u001b[0m\u001b[0;34m\u001b[0m\u001b[0;34m\u001b[0m\u001b[0m\n\u001b[1;32m    237\u001b[0m     \u001b[0moutPointsLocal\u001b[0m \u001b[0;34m=\u001b[0m \u001b[0;34m[\u001b[0m\u001b[0;34m]\u001b[0m\u001b[0;34m\u001b[0m\u001b[0;34m\u001b[0m\u001b[0m\n",
      "\u001b[0;32m/home/global/anaconda37/lib/python3.7/subprocess.py\u001b[0m in \u001b[0;36mcheck_call\u001b[0;34m(*popenargs, **kwargs)\u001b[0m\n\u001b[1;32m    356\u001b[0m     \u001b[0mcheck_call\u001b[0m\u001b[0;34m(\u001b[0m\u001b[0;34m[\u001b[0m\u001b[0;34m\"ls\"\u001b[0m\u001b[0;34m,\u001b[0m \u001b[0;34m\"-l\"\u001b[0m\u001b[0;34m]\u001b[0m\u001b[0;34m)\u001b[0m\u001b[0;34m\u001b[0m\u001b[0;34m\u001b[0m\u001b[0m\n\u001b[1;32m    357\u001b[0m     \"\"\"\n\u001b[0;32m--> 358\u001b[0;31m     \u001b[0mretcode\u001b[0m \u001b[0;34m=\u001b[0m \u001b[0mcall\u001b[0m\u001b[0;34m(\u001b[0m\u001b[0;34m*\u001b[0m\u001b[0mpopenargs\u001b[0m\u001b[0;34m,\u001b[0m \u001b[0;34m**\u001b[0m\u001b[0mkwargs\u001b[0m\u001b[0;34m)\u001b[0m\u001b[0;34m\u001b[0m\u001b[0;34m\u001b[0m\u001b[0m\n\u001b[0m\u001b[1;32m    359\u001b[0m     \u001b[0;32mif\u001b[0m \u001b[0mretcode\u001b[0m\u001b[0;34m:\u001b[0m\u001b[0;34m\u001b[0m\u001b[0;34m\u001b[0m\u001b[0m\n\u001b[1;32m    360\u001b[0m         \u001b[0mcmd\u001b[0m \u001b[0;34m=\u001b[0m \u001b[0mkwargs\u001b[0m\u001b[0;34m.\u001b[0m\u001b[0mget\u001b[0m\u001b[0;34m(\u001b[0m\u001b[0;34m\"args\"\u001b[0m\u001b[0;34m)\u001b[0m\u001b[0;34m\u001b[0m\u001b[0;34m\u001b[0m\u001b[0m\n",
      "\u001b[0;32m/home/global/anaconda37/lib/python3.7/subprocess.py\u001b[0m in \u001b[0;36mcall\u001b[0;34m(timeout, *popenargs, **kwargs)\u001b[0m\n\u001b[1;32m    339\u001b[0m     \u001b[0;32mwith\u001b[0m \u001b[0mPopen\u001b[0m\u001b[0;34m(\u001b[0m\u001b[0;34m*\u001b[0m\u001b[0mpopenargs\u001b[0m\u001b[0;34m,\u001b[0m \u001b[0;34m**\u001b[0m\u001b[0mkwargs\u001b[0m\u001b[0;34m)\u001b[0m \u001b[0;32mas\u001b[0m \u001b[0mp\u001b[0m\u001b[0;34m:\u001b[0m\u001b[0;34m\u001b[0m\u001b[0;34m\u001b[0m\u001b[0m\n\u001b[1;32m    340\u001b[0m         \u001b[0;32mtry\u001b[0m\u001b[0;34m:\u001b[0m\u001b[0;34m\u001b[0m\u001b[0;34m\u001b[0m\u001b[0m\n\u001b[0;32m--> 341\u001b[0;31m             \u001b[0;32mreturn\u001b[0m \u001b[0mp\u001b[0m\u001b[0;34m.\u001b[0m\u001b[0mwait\u001b[0m\u001b[0;34m(\u001b[0m\u001b[0mtimeout\u001b[0m\u001b[0;34m=\u001b[0m\u001b[0mtimeout\u001b[0m\u001b[0;34m)\u001b[0m\u001b[0;34m\u001b[0m\u001b[0;34m\u001b[0m\u001b[0m\n\u001b[0m\u001b[1;32m    342\u001b[0m         \u001b[0;32mexcept\u001b[0m\u001b[0;34m:\u001b[0m  \u001b[0;31m# Including KeyboardInterrupt, wait handled that.\u001b[0m\u001b[0;34m\u001b[0m\u001b[0;34m\u001b[0m\u001b[0m\n\u001b[1;32m    343\u001b[0m             \u001b[0mp\u001b[0m\u001b[0;34m.\u001b[0m\u001b[0mkill\u001b[0m\u001b[0;34m(\u001b[0m\u001b[0;34m)\u001b[0m\u001b[0;34m\u001b[0m\u001b[0;34m\u001b[0m\u001b[0m\n",
      "\u001b[0;32m/home/global/anaconda37/lib/python3.7/subprocess.py\u001b[0m in \u001b[0;36mwait\u001b[0;34m(self, timeout)\u001b[0m\n\u001b[1;32m   1017\u001b[0m             \u001b[0mendtime\u001b[0m \u001b[0;34m=\u001b[0m \u001b[0m_time\u001b[0m\u001b[0;34m(\u001b[0m\u001b[0;34m)\u001b[0m \u001b[0;34m+\u001b[0m \u001b[0mtimeout\u001b[0m\u001b[0;34m\u001b[0m\u001b[0;34m\u001b[0m\u001b[0m\n\u001b[1;32m   1018\u001b[0m         \u001b[0;32mtry\u001b[0m\u001b[0;34m:\u001b[0m\u001b[0;34m\u001b[0m\u001b[0;34m\u001b[0m\u001b[0m\n\u001b[0;32m-> 1019\u001b[0;31m             \u001b[0;32mreturn\u001b[0m \u001b[0mself\u001b[0m\u001b[0;34m.\u001b[0m\u001b[0m_wait\u001b[0m\u001b[0;34m(\u001b[0m\u001b[0mtimeout\u001b[0m\u001b[0;34m=\u001b[0m\u001b[0mtimeout\u001b[0m\u001b[0;34m)\u001b[0m\u001b[0;34m\u001b[0m\u001b[0;34m\u001b[0m\u001b[0m\n\u001b[0m\u001b[1;32m   1020\u001b[0m         \u001b[0;32mexcept\u001b[0m \u001b[0mKeyboardInterrupt\u001b[0m\u001b[0;34m:\u001b[0m\u001b[0;34m\u001b[0m\u001b[0;34m\u001b[0m\u001b[0m\n\u001b[1;32m   1021\u001b[0m             \u001b[0;31m# https://bugs.python.org/issue25942\u001b[0m\u001b[0;34m\u001b[0m\u001b[0;34m\u001b[0m\u001b[0;34m\u001b[0m\u001b[0m\n",
      "\u001b[0;32m/home/global/anaconda37/lib/python3.7/subprocess.py\u001b[0m in \u001b[0;36m_wait\u001b[0;34m(self, timeout)\u001b[0m\n\u001b[1;32m   1651\u001b[0m                         \u001b[0;32mif\u001b[0m \u001b[0mself\u001b[0m\u001b[0;34m.\u001b[0m\u001b[0mreturncode\u001b[0m \u001b[0;32mis\u001b[0m \u001b[0;32mnot\u001b[0m \u001b[0;32mNone\u001b[0m\u001b[0;34m:\u001b[0m\u001b[0;34m\u001b[0m\u001b[0;34m\u001b[0m\u001b[0m\n\u001b[1;32m   1652\u001b[0m                             \u001b[0;32mbreak\u001b[0m  \u001b[0;31m# Another thread waited.\u001b[0m\u001b[0;34m\u001b[0m\u001b[0;34m\u001b[0m\u001b[0m\n\u001b[0;32m-> 1653\u001b[0;31m                         \u001b[0;34m(\u001b[0m\u001b[0mpid\u001b[0m\u001b[0;34m,\u001b[0m \u001b[0msts\u001b[0m\u001b[0;34m)\u001b[0m \u001b[0;34m=\u001b[0m \u001b[0mself\u001b[0m\u001b[0;34m.\u001b[0m\u001b[0m_try_wait\u001b[0m\u001b[0;34m(\u001b[0m\u001b[0;36m0\u001b[0m\u001b[0;34m)\u001b[0m\u001b[0;34m\u001b[0m\u001b[0;34m\u001b[0m\u001b[0m\n\u001b[0m\u001b[1;32m   1654\u001b[0m                         \u001b[0;31m# Check the pid and loop as waitpid has been known to\u001b[0m\u001b[0;34m\u001b[0m\u001b[0;34m\u001b[0m\u001b[0;34m\u001b[0m\u001b[0m\n\u001b[1;32m   1655\u001b[0m                         \u001b[0;31m# return 0 even without WNOHANG in odd situations.\u001b[0m\u001b[0;34m\u001b[0m\u001b[0;34m\u001b[0m\u001b[0;34m\u001b[0m\u001b[0m\n",
      "\u001b[0;32m/home/global/anaconda37/lib/python3.7/subprocess.py\u001b[0m in \u001b[0;36m_try_wait\u001b[0;34m(self, wait_flags)\u001b[0m\n\u001b[1;32m   1609\u001b[0m             \u001b[0;34m\"\"\"All callers to this function MUST hold self._waitpid_lock.\"\"\"\u001b[0m\u001b[0;34m\u001b[0m\u001b[0;34m\u001b[0m\u001b[0m\n\u001b[1;32m   1610\u001b[0m             \u001b[0;32mtry\u001b[0m\u001b[0;34m:\u001b[0m\u001b[0;34m\u001b[0m\u001b[0;34m\u001b[0m\u001b[0m\n\u001b[0;32m-> 1611\u001b[0;31m                 \u001b[0;34m(\u001b[0m\u001b[0mpid\u001b[0m\u001b[0;34m,\u001b[0m \u001b[0msts\u001b[0m\u001b[0;34m)\u001b[0m \u001b[0;34m=\u001b[0m \u001b[0mos\u001b[0m\u001b[0;34m.\u001b[0m\u001b[0mwaitpid\u001b[0m\u001b[0;34m(\u001b[0m\u001b[0mself\u001b[0m\u001b[0;34m.\u001b[0m\u001b[0mpid\u001b[0m\u001b[0;34m,\u001b[0m \u001b[0mwait_flags\u001b[0m\u001b[0;34m)\u001b[0m\u001b[0;34m\u001b[0m\u001b[0;34m\u001b[0m\u001b[0m\n\u001b[0m\u001b[1;32m   1612\u001b[0m             \u001b[0;32mexcept\u001b[0m \u001b[0mChildProcessError\u001b[0m\u001b[0;34m:\u001b[0m\u001b[0;34m\u001b[0m\u001b[0;34m\u001b[0m\u001b[0m\n\u001b[1;32m   1613\u001b[0m                 \u001b[0;31m# This happens if SIGCLD is set to be ignored or waiting\u001b[0m\u001b[0;34m\u001b[0m\u001b[0;34m\u001b[0m\u001b[0;34m\u001b[0m\u001b[0m\n",
      "\u001b[0;31mKeyboardInterrupt\u001b[0m: "
     ]
    }
   ],
   "source": [
    "parameterDictionary = {\n",
    "    \"starting_particles\" : 16,\n",
    "    \"number_of_particles\" : 16,\n",
    "    \"number_of_levels\" : 1, \n",
    "    \"use_normals\": 0,\n",
    "    \"normal_weight\": 10.0,\n",
    "    \"checkpointing_interval\" : 200,\n",
    "    \"keep_checkpoints\" : 0,\n",
    "    \"iterations_per_split\" : 4,\n",
    "    \"optimization_iterations\" : 4,\n",
    "    \"starting_regularization\" : 5000,\n",
    "    \"ending_regularization\" : 0.1,\n",
    "    \"recompute_regularization_interval\" : 2,\n",
    "    \"domains_per_shape\" : 1,\n",
    "    \"relative_weighting\" : 10,\n",
    "    \"initial_relative_weighting\" : 0.01,\n",
    "    \"procrustes_interval\" : 0,\n",
    "    \"procrustes_scaling\" : 0,\n",
    "    \"save_init_splits\" : 0,\n",
    "    \"debug_projection\" : 0,\n",
    "    \"mesh_based_attributes\" : 0,\n",
    "    \"verbosity\" : 3\n",
    "}\n",
    "pointDir=\"/NAS/dumbo/protocoles/CogPhenoPark/ShapeWork_by_RV/PrepOutput/G1234/PointFiles/\"\n",
    "dtFiles = sorted(glob.glob(\"/NAS/dumbo/protocoles/CogPhenoPark/ShapeWork_by_RV//PrepOutput/G1234/distance_transforms/G[1234]*_LeftCaudate.isores.pad.com.center.aligned.cropped.tpSmoothDT.nrrd\"))\n",
    "del dtFiles[82:83]\n",
    "#[localPointFiles, worldPointFiles] = runShapeWorksOptimize_MultiScale(pointDir,dtFiles, parameterDictionary)\n",
    "[localPointFiles, worldPointFiles] = runShapeWorksOptimize_SingleScale(pointDir,dtFiles, parameterDictionary)"
   ]
  },
  {
   "cell_type": "code",
   "execution_count": null,
   "metadata": {},
   "outputs": [],
   "source": [
    "\n",
    "\n",
    "    meanDir   = parentDir+'/MeanReconstruction/'\n",
    "    if not os.path.exists(meanDir):\n",
    "        os.makedirs(meanDir)\n",
    "\n",
    "    parameterDictionary = {\n",
    "        \"number_of_particles\" : 128,\n",
    "        \"out_prefix\" : meanDir + 'ellipsoid',\n",
    "        \"do_procrustes\" : 0,\n",
    "        \"do_procrustes_scaling\" : 0,\n",
    "        \"levelsetValue\" : 0.0,\n",
    "       \"targetReduction\" : 0.0,\n",
    "       \"featureAngle\" : 30,\n",
    "       \"lsSmootherIterations\" : 1,\n",
    "       \"meshSmootherIterations\" : 1,\n",
    "       \"preserveTopology\" : 1,\n",
    "       \"qcFixWinding\" : 1,\n",
    "       \"qcDoLaplacianSmoothingBeforeDecimation\" : 1,\n",
    "       \"qcDoLaplacianSmoothingAfterDecimation\" : 1,\n",
    "       \"qcSmoothingLambda\" : 0.5,\n",
    "       \"qcSmoothingIterations\" : 3,\n",
    "       \"qcDecimationPercentage\" : 0.9,\n",
    "       \"normalAngle\" : 90,\n",
    "       \"use_tps_transform\" : 0,\n",
    "       \"use_bspline_interpolation\" : 0,\n",
    "       \"display\" : 0,\n",
    "       \"glyph_radius\" : 1\n",
    "    }\n",
    "\n",
    "    runReconstructMeanSurface(dtFiles, localPointFiles, worldPointFiles, parameterDictionary)\n",
    "\n",
    "    meshDir_local   = parentDir+'/MeshFiles-Local/'\n",
    "    if not os.path.exists(meshDir_local):\n",
    "        os.makedirs(meshDir_local)\n",
    "\n",
    "    \"\"\"\n",
    "    Parameter dictionary for ReconstructSurface cmd tool.\n",
    "    \"\"\"\n",
    "    parameterDictionary = {\n",
    "        \"number_of_particles\" : 128,\n",
    "        \"mean_prefix\" : meanDir + 'ellipsoid',\n",
    "        \"out_prefix\" : meshDir_local + 'ellipsoid', \n",
    "        \"use_tps_transform\" : 0,\n",
    "        \"use_bspline_interpolation\" : 0,\n",
    "        \"display\" : 0,\n",
    "        \"glyph_radius\" : 1\n",
    "    }\n",
    "\n",
    "    localDensePointFiles = runReconstructSurface(localPointFiles, parameterDictionary)\n",
    "\n",
    "    meshDir_global   = parentDir+'/MeshFiles-World/'\n",
    "    if not os.path.exists(meshDir_global):\n",
    "        os.makedirs(meshDir_global)\n",
    "\n",
    "    \"\"\"\n",
    "    Parameter dictionary for ReconstructSurface cmd tool.\n",
    "    \"\"\"\n",
    "    parameterDictionary = {\n",
    "        \"number_of_particles\" : 128,\n",
    "        \"mean_prefix\" : meanDir + 'ellipsoid',\n",
    "        \"out_prefix\" : meshDir_global + 'ellipsoid',\n",
    "        \"use_tps_transform\" : 0,\n",
    "        \"use_bspline_interpolation\" : 0,\n",
    "        \"display\" : 0,\n",
    "        \"glyph_radius\" : 1\n",
    "    }\n",
    "\n",
    "    worldDensePointFiles = runReconstructSurface(worldPointFiles, parameterDictionary)\n",
    "\n",
    "    pcaDir   = parentDir+'/PCAModesFiles/'\n",
    "    if not os.path.exists(pcaDir):\n",
    "        os.makedirs(pcaDir)\n",
    "\n",
    "    \"\"\"\n",
    "    Parameter dictionary for ReconstructSamplesAlongPCAModes cmd tool.\n",
    "    \"\"\"\n",
    "    parameterDictionary = {\n",
    "        \"number_of_particles\" : 128,\n",
    "        \"mean_prefix\" : meanDir + 'ellipsoid',\n",
    "        \"out_prefix\" : pcaDir + 'ellipsoid', \n",
    "        \"use_tps_transform\" : 0,\n",
    "        \"use_bspline_interpolation\" : 0,\n",
    "        \"display\" : 0,\n",
    "        \"glyph_radius\" : 1,\n",
    "        \"maximum_variance_captured\" : 0.95,\n",
    "        \"maximum_std_dev\" : 2,\n",
    "        \"number_of_samples_per_mode\" : 10\n",
    "    }\n",
    "\n",
    "    runReconstructSamplesAlongPCAModes(worldPointFiles, parameterDictionary)\n",
    "\n",
    "    print(\"\\nStep 9. Analysis - Launch ShapeWorksView2 - sparse correspondence model.\\n\")\n",
    "    print(pointDir, dtFiles, localPointFiles, worldPointFiles)\n",
    "    #launchShapeWorksView2(pointDir, dtFiles, localPointFiles, worldPointFiles)\n",
    "    print(\"\\nShapeworks Pipeline Complete!\")"
   ]
  },
  {
   "cell_type": "markdown",
   "metadata": {},
   "source": [
    "ANOVA sur les diff des 4 groupes "
   ]
  },
  {
   "cell_type": "code",
   "execution_count": 97,
   "metadata": {},
   "outputs": [],
   "source": [
    "NR_POINTS=256*3\n",
    "G1=np.empty([NR_POINTS,1])\n",
    "for it in glob.iglob('/NAS/dumbo/protocoles/CogPhenoPark/ShapeWork_by_RV/PrepOutput/G1234/PointFiles/256/G1_*_LeftCaudate.isores.pad.com.center.aligned.cropped.tpSmoothDT_world.particles') :\n",
    "    data = np.loadtxt(it)\n",
    "    G1=np.concatenate((G1, data.reshape(NR_POINTS,1)),axis=1)\n",
    "\n",
    "G2=np.empty([NR_POINTS,1])\n",
    "for it in glob.iglob('/NAS/dumbo/protocoles/CogPhenoPark/ShapeWork_by_RV/PrepOutput/G1234/PointFiles/256/G2_*_LeftCaudate.isores.pad.com.center.aligned.cropped.tpSmoothDT_world.particles') :\n",
    "    data = np.loadtxt(it)\n",
    "    G2=np.concatenate((G2, data.reshape(NR_POINTS,1)),axis=1)\n",
    "\n",
    "G3=np.empty([NR_POINTS,1])\n",
    "for it in glob.iglob('/NAS/dumbo/protocoles/CogPhenoPark/ShapeWork_by_RV/PrepOutput/G1234/PointFiles/256/G3_*_LeftCaudate.isores.pad.com.center.aligned.cropped.tpSmoothDT_world.particles') :\n",
    "    data = np.loadtxt(it)\n",
    "    G3=np.concatenate((G3, data.reshape(NR_POINTS,1)),axis=1)\n",
    "\n",
    "G4=np.empty([NR_POINTS,1])\n",
    "for it in glob.iglob('/NAS/dumbo/protocoles/CogPhenoPark/ShapeWork_by_RV/PrepOutput/G1234/PointFiles/256/G4_*_LeftCaudate.isores.pad.com.center.aligned.cropped.tpSmoothDT_world.particles') :\n",
    "    data = np.loadtxt(it)\n",
    "    G4=np.concatenate((G4, data.reshape(NR_POINTS,1)),axis=1)"
   ]
  },
  {
   "cell_type": "code",
   "execution_count": 125,
   "metadata": {},
   "outputs": [],
   "source": [
    "from scipy import stats \n",
    "from mpl_toolkits.mplot3d import Axes3D\n",
    "import matplotlib.pyplot as plt\n",
    "#import numpy as np"
   ]
  },
  {
   "cell_type": "code",
   "execution_count": 126,
   "metadata": {},
   "outputs": [],
   "source": [
    "pvalues = np.zeros(NR_POINTS)\n",
    "statsval = np.zeros(NR_POINTS)\n",
    "for jdx in range(NR_POINTS):\n",
    "    values_A = G1[jdx,:].tolist()\n",
    "    values_B = G2[jdx,:].tolist()\n",
    "    values_C = G3[jdx,:].tolist()\n",
    "    values_D = G4[jdx,:].tolist()\n",
    "    statsval[jdx], pvalues[jdx] = stats.kruskal(values_A,values_B,values_C,values_D)"
   ]
  },
  {
   "cell_type": "code",
   "execution_count": 164,
   "metadata": {},
   "outputs": [
    {
     "name": "stdout",
     "output_type": "stream",
     "text": [
      "[  0  12  18  35  38  38  52  71  95 100 116 129 130 131 146 154 159 160\n",
      " 167 167 172 173 182 186 192 203 210 220 231 252]\n"
     ]
    },
    {
     "data": {
      "image/png": "[encoded data removed]",
      "text/plain": [
       "<Figure size 432x288 with 1 Axes>"
      ]
     },
     "metadata": {
      "needs_background": "light"
     },
     "output_type": "display_data"
    }
   ],
   "source": [
    "fig = plt.figure()\n",
    "ax = fig.add_subplot(111, projection='3d')\n",
    "\n",
    "#ax.scatter(data[:,0], data[:,1], data[:,2], c='r', marker='o')\n",
    "#pvalues[np.where(pvalues<0.05)]\n",
    "#np.extract(pvalues<0.05,pvalues)\n",
    "selX,selY=np.where(pvalues.reshape(256,3)<0.05)\n",
    "print(selX)\n",
    "ax.scatter(data[selX,0], data[selX,1], data[selX,2], c='b', marker='^')\n",
    "\n",
    "ax.set_xlabel('X Label')\n",
    "ax.set_ylabel('Y Label')\n",
    "ax.set_zlabel('Z Label')\n",
    "\n",
    "plt.show()"
   ]
  }
 ],
 "metadata": {
  "anaconda-cloud": {},
  "kernelspec": {
   "display_name": "Python 3",
   "language": "python",
   "name": "python3"
  },
  "language_info": {
   "codemirror_mode": {
    "name": "ipython",
    "version": 3
   },
   "file_extension": ".py",
   "mimetype": "text/x-python",
   "name": "python",
   "nbconvert_exporter": "python",
   "pygments_lexer": "ipython3",
   "version": "3.7.6"
  }
 },
 "nbformat": 4,
 "nbformat_minor": 1
}
