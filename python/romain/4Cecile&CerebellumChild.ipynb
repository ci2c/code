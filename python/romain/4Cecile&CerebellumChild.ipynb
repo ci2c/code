{
 "cells": [
  {
   "cell_type": "code",
   "execution_count": 1,
   "metadata": {
    "collapsed": true
   },
   "outputs": [],
   "source": [
    "from nibabel import trackvis as tv\n",
    "from dipy.viz import fvtk\n",
    "from dipy.segment.metric import ResampleFeature\n",
    "from dipy.segment.metric import AveragePointwiseEuclideanMetric\n",
    "from dipy.segment.metric import CenterOfMassFeature\n",
    "from dipy.segment.metric import EuclideanMetric\n",
    "from dipy.segment.metric import IdentityFeature\n",
    "from dipy.segment.clustering import QuickBundles\n",
    "from dipy.io.image import load_nifti, save_nifti\n",
    "from dipy.tracking.streamline import set_number_of_points\n",
    "from nibabel import freesurfer as fs\n",
    "from dipy.utils.optpkg import optional_package\n",
    "import dipy.io.vtk as io_vtk\n",
    "import dipy.viz.utils as ut_vtk\n",
    "from dipy.viz import window, actor, ui\n",
    "from dipy.tracking import utils\n",
    "import nipype.interfaces.mrtrix as mrt\n",
    "from dipy.tracking.streamline import select_random_set_of_streamlines\n",
    "import numpy as np\n",
    "import matplotlib.pyplot as plt\n",
    "import nibabel as nib"
   ]
  },
  {
   "cell_type": "code",
   "execution_count": 6,
   "metadata": {},
   "outputs": [
    {
     "ename": "ImportError",
     "evalue": "cannot import name load_tck",
     "output_type": "error",
     "traceback": [
      "\u001b[0;31m---------------------------------------------------------------------------\u001b[0m",
      "\u001b[0;31mImportError\u001b[0m                               Traceback (most recent call last)",
      "\u001b[0;32m<ipython-input-6-99af841a9963>\u001b[0m in \u001b[0;36m<module>\u001b[0;34m()\u001b[0m\n\u001b[1;32m      1\u001b[0m \u001b[0;32mimport\u001b[0m \u001b[0mdipy\u001b[0m\u001b[0;34m.\u001b[0m\u001b[0mio\u001b[0m\u001b[0;34m.\u001b[0m\u001b[0mstreamline\u001b[0m \u001b[0;32mas\u001b[0m \u001b[0mtckStream\u001b[0m\u001b[0;34m\u001b[0m\u001b[0m\n\u001b[0;32m----> 2\u001b[0;31m \u001b[0;32mfrom\u001b[0m \u001b[0mdipy\u001b[0m\u001b[0;34m.\u001b[0m\u001b[0mio\u001b[0m\u001b[0;34m.\u001b[0m\u001b[0mstreamline\u001b[0m \u001b[0;32mimport\u001b[0m \u001b[0mload_tck\u001b[0m\u001b[0;34m\u001b[0m\u001b[0m\n\u001b[0m\u001b[1;32m      3\u001b[0m \u001b[0mtck\u001b[0m\u001b[0;34m=\u001b[0m\u001b[0mtckStream\u001b[0m\u001b[0;34m.\u001b[0m\u001b[0mload\u001b[0m\u001b[0;34m(\u001b[0m\u001b[0;34m'/NAS/tupac/protocoles/alexcis/FS53/p_AR28/dti/uneLongueFibres.tck'\u001b[0m\u001b[0;34m)\u001b[0m\u001b[0;34m\u001b[0m\u001b[0m\n",
      "\u001b[0;31mImportError\u001b[0m: cannot import name load_tck"
     ]
    }
   ],
   "source": [
    "import dipy.io.streamline as tckStream\n",
    "from dipy.io.streamline import load_tck\n",
    "tck=tckStream.load('/NAS/tupac/protocoles/alexcis/FS53/p_AR28/dti/uneLongueFibres.tck')\n"
   ]
  },
  {
   "cell_type": "code",
   "execution_count": null,
   "metadata": {
    "collapsed": true
   },
   "outputs": [],
   "source": [
    "figure;\n",
    "plot3(tck.fiber.xyzFiberCoord(:,1),tck.fiber.xyzFiberCoord(:,2),tck.fiber.xyzFiberCoord(:,3),'r')\n",
    "hold on;"
   ]
  },
  {
   "cell_type": "code",
   "execution_count": 4,
   "metadata": {},
   "outputs": [
    {
     "name": "stdout",
     "output_type": "stream",
     "text": [
      "[0.0, 0.1536, 0.3072, 0.4608, 0.6144, 0.768, 0.9216, 1.0752, 1.2288, 1.3824, 1.536, 1.68, 1.824, 1.968, 2.112, 2.256, 0.0096, 0.1632, 0.3168, 0.4704, 0.624, 0.7776, 0.9312, 1.0848, 1.2384, 1.392, 1.5456, 1.6896, 1.8336, 1.9776, 2.1216, 2.2656, 0.0192, 0.1728, 0.3264, 0.48, 0.6336, 0.7872, 0.9408, 1.0944, 1.248, 1.4016, 1.5552, 1.6992, 1.8432, 1.9872, 2.1312, 2.2752]\n"
     ]
    }
   ],
   "source": [
    "import sys\n",
    "import os\n",
    "import json\n",
    "import glob\n",
    "import numpy as np\n",
    "\n",
    "TRsec = 2.4\n",
    "Nslices = 250\n",
    "\n",
    "sliceorder = np.array([]);\n",
    "space = round(np.sqrt(Nslices));\n",
    "for k in np.arange(1,space+1):\n",
    "    tmp=np.arange(k,Nslices+1,space)\n",
    "    sliceorder=np.concatenate([sliceorder,tmp])\n",
    "    \n",
    "TA = TRsec / Nslices\n",
    "slicetiming = np.arange(0,2.4,TA)\n",
    "stc=[]\n",
    "for k in np.arange(1,48+1):\n",
    "    stc.append(round(slicetiming[np.where(sliceorder==k)][0],10))\n",
    "\n",
    "print stc"
   ]
  },
  {
   "cell_type": "code",
   "execution_count": 6,
   "metadata": {},
   "outputs": [
    {
     "name": "stdout",
     "output_type": "stream",
     "text": [
      "[  1.   8.  15.  22.  29.  36.  43.   2.   9.  16.  23.  30.  37.  44.   3.\n",
      "  10.  17.  24.  31.  38.  45.   4.  11.  18.  25.  32.  39.   5.  12.  19.\n",
      "  26.  33.  40.   6.  13.  20.  27.  34.  41.   7.  14.  21.  28.  35.  42.]\n"
     ]
    }
   ],
   "source": [
    "TRsec = 2.4\n",
    "Nslices = 45\n",
    "\n",
    "sliceorder = np.array([]);\n",
    "space = round(np.sqrt(Nslices));\n",
    "for k in np.arange(1,space+1):\n",
    "    tmp=np.arange(k,Nslices+1,space)\n",
    "    sliceorder=np.concatenate([sliceorder,tmp])\n",
    "\n",
    "print sliceorder"
   ]
  }
 ],
 "metadata": {
  "kernelspec": {
   "display_name": "Python 2",
   "language": "python",
   "name": "python2"
  },
  "language_info": {
   "codemirror_mode": {
    "name": "ipython",
    "version": 2
   },
   "file_extension": ".py",
   "mimetype": "text/x-python",
   "name": "python",
   "nbconvert_exporter": "python",
   "pygments_lexer": "ipython2",
   "version": "2.7.13"
  }
 },
 "nbformat": 4,
 "nbformat_minor": 2
}
