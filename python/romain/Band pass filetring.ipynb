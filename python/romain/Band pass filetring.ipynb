{
 "cells": [
  {
   "cell_type": "code",
   "execution_count": 73,
   "metadata": {
    "collapsed": true
   },
   "outputs": [],
   "source": [
    "import os\n",
    "import fnmatch\n",
    "import numpy as np\n",
    "import nibabel as nb\n",
    "from nipype.interfaces import afni\n",
    "from nipype.utils.filemanip import split_filename\n",
    "#fs=1./6.9698 #1/TR\n",
    "fs=1./23.2 #1/DynScanTime (résolution temporelle different du TR car pas comme en EPI)\n",
    "\n",
    "p='/NAS/dumbo/protocoles/CAR-T-Cell/process/DERYCKE_CORINNEE_fsl_mc/rdyn.nii.gz'\n",
    "path, name, ext = split_filename(p)\n",
    "out_file = os.path.join(path, 'f' + name + ext)\n",
    "img = nb.load(p)"
   ]
  },
  {
   "cell_type": "code",
   "execution_count": 78,
   "metadata": {
    "collapsed": false
   },
   "outputs": [
    {
     "name": "stdout",
     "output_type": "stream",
     "text": [
      "16.0\n",
      "7.0\n",
      "7.0\n",
      "0.0\n",
      "[1 1 1 1 1 1 1 0 0 0 0 0 0 0 0 0 0 0 0 0 0 0 0 1 1 1 1 1 1 1]\n"
     ]
    }
   ],
   "source": [
    "highpass_freq = 0.0000000001\n",
    "lowpass_freq = 0.01\n",
    "timepoints = img.shape[-1]\n",
    "F = np.zeros((timepoints))\n",
    "lowidx = timepoints/2 + 1\n",
    "print(lowidx)\n",
    "if lowpass_freq > 0:\n",
    "    lowidx = np.round(float(lowpass_freq) / fs * timepoints)\n",
    "print(lowidx)\n",
    "highidx = 0\n",
    "if highpass_freq > 0:\n",
    "    highidx = np.round(float(highpass_freq) / fs * timepoints)\n",
    "F[int(highidx):int(lowidx)] = 1\n",
    "F = ((F + F[::-1]) > 0).astype(int)\n",
    "print(lowidx)\n",
    "print(highidx)\n",
    "print(F)"
   ]
  },
  {
   "cell_type": "code",
   "execution_count": 71,
   "metadata": {
    "collapsed": false
   },
   "outputs": [
    {
     "name": "stdout",
     "output_type": "stream",
     "text": [
      "start filtering\n",
      "finish filtering\n"
     ]
    }
   ],
   "source": [
    "data = img.get_data()\n",
    "print('start filtering')\n",
    "if np.all(F == 1):\n",
    "    filtered_data = data\n",
    "else:\n",
    "    filtered_data = np.real(np.fft.ifftn(np.fft.fftn(data) * F))+np.repeat(np.mean(data, (3))[:, :,:, np.newaxis], data.shape[3], axis=3)\n",
    "print('finish filtering')"
   ]
  },
  {
   "cell_type": "code",
   "execution_count": 72,
   "metadata": {
    "collapsed": false
   },
   "outputs": [
    {
     "name": "stdout",
     "output_type": "stream",
     "text": [
      "saved /NAS/dumbo/protocoles/CAR-T-Cell/process/DERYCKE_CORINNEE_fsl_mc/frdyn.nii.gz\n"
     ]
    }
   ],
   "source": [
    "img_out = nb.Nifti1Image(filtered_data, img.affine,img.header)\n",
    "img_out.to_filename(out_file)\n",
    "print('saved %s'%(out_file))"
   ]
  }
 ],
 "metadata": {
  "anaconda-cloud": {},
  "kernelspec": {
   "display_name": "Python [default]",
   "language": "python",
   "name": "python3"
  },
  "language_info": {
   "codemirror_mode": {
    "name": "ipython",
    "version": 3
   },
   "file_extension": ".py",
   "mimetype": "text/x-python",
   "name": "python",
   "nbconvert_exporter": "python",
   "pygments_lexer": "ipython3",
   "version": "3.5.2"
  }
 },
 "nbformat": 4,
 "nbformat_minor": 1
}
