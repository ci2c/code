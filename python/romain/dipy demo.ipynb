{
 "cells": [
  {
   "cell_type": "code",
   "execution_count": 2,
   "metadata": {
    "collapsed": true
   },
   "outputs": [],
   "source": [
    "# DIPY & MRTRIX tracto extratcion\n",
    "## Variables initialisation \n",
    "import nilearn "
   ]
  },
  {
   "cell_type": "code",
   "execution_count": 1,
   "metadata": {},
   "outputs": [
    {
     "name": "stdout",
     "output_type": "stream",
     "text": [
      "/NAS/tupac/protocoles/alexcis/FS53/p_AR28/dti/\n",
      "/NAS/tupac/protocoles/alexcis/FS53/p_AR28/dti/\r\n"
     ]
    }
   ],
   "source": [
    "SUBJ_ID=\"p_AR28\"\n",
    "NAS=\"tupac\"\n",
    "protocole=\"alexcis\"\n",
    "DIR_PATH=\"/NAS/\"+NAS+\"/protocoles/\"+protocole\n",
    "FS_PATH=DIR_PATH+\"/FS53/\"\n",
    "DTI_PATH=FS_PATH+SUBJ_ID+\"/dti/\"\n",
    "TRACTO=\"whole_brain_6_1500000\"#\"LongueFibres_SIFT\"\n",
    "TRACTO=\"LongueFibres\"\n",
    "MESH=\"lh.white.ras\"\n",
    "print DTI_PATH\n",
    "!echo $DTI_PATH"
   ]
  },
  {
   "cell_type": "code",
   "execution_count": 2,
   "metadata": {
    "collapsed": true
   },
   "outputs": [],
   "source": [
    "fdwi = DTI_PATH+\"20180323_100530WIPs3DT1ISO1mmHRSENSEs201a1002.nii.gz\"\n",
    "fbval = DTI_PATH+\"20180323_100530WIPDTI64dir2mmSENSEs301a1003.bval\"\n",
    "fbvec = DTI_PATH+\"20180323_100530WIPDTI64dir2mmSENSEs301a1003.bvec\"\n",
    "\n",
    "from dipy.io.image import load_nifti, save_nifti\n",
    "from dipy.io import read_bvals_bvecs\n",
    "from dipy.core.gradients import gradient_table\n",
    "from dipy.reconst.dti import TensorModel\n",
    "\n",
    "data, affine = load_nifti(fdwi)\n",
    "bvals, bvecs = read_bvals_bvecs(fbval, fbvec)\n",
    "gtab = gradient_table(bvals, bvecs)\n",
    "\n",
    "tenmodel = TensorModel(gtab)\n",
    "tenfit = tenmodel.fit(data)\n",
    "\n",
    "save_nifti(DTI_PATH+\"colorfa.nii.gz\", tenfit.color_fa, affine)"
   ]
  },
  {
   "cell_type": "code",
   "execution_count": 3,
   "metadata": {},
   "outputs": [
    {
     "name": "stdout",
     "output_type": "stream",
     "text": [
      "[[  -2.            0.            0.          128.34214783]\n",
      " [   0.            2.            0.         -129.92842102]\n",
      " [   0.            0.            2.          -58.10770035]\n",
      " [   0.            0.            0.            1.        ]]\n"
     ]
    }
   ],
   "source": [
    "print affine"
   ]
  },
  {
   "cell_type": "markdown",
   "metadata": {},
   "source": [
    "##  ROI for exclusion with freesurfer"
   ]
  },
  {
   "cell_type": "code",
   "execution_count": 3,
   "metadata": {},
   "outputs": [
    {
     "name": "stdout",
     "output_type": "stream",
     "text": [
      "reading volume from /NAS/tupac/protocoles/alexcis/FS53/p_AR28/dti/raparc.a2009s+aseg.nii...\n",
      "extracting label 46 (Right_Cerebellum_White_Matter)\n",
      "extracting label 47 (Right_Cerebellum_Cortex)\n",
      "extracting label 7 (Left_Cerebellum_White_Matter)\n",
      "extracting label 8 (Left_Cerebellum_Cortex)\n",
      "extracting label 15 (Fourth_Ventricle)\n",
      "extracting label 16 (Brain_Stem)\n",
      "extracting label 251 (CC_Posterior)\n",
      "extracting label 252 (CC_Mid_Posterior)\n",
      "extracting label 253 (CC_Central)\n",
      "extracting label 254 (CC_Mid_Anterior)\n",
      "extracting label 255 (CC_Anterior)\n",
      "writing output to /NAS/tupac/protocoles/alexcis/FS53/p_AR28/dti/exclude_mask.nii.\n"
     ]
    }
   ],
   "source": [
    "!mri_extract_label $DTI_PATH\"raparc.a2009s+aseg.nii\" 46 47 7 8 15 16 251 252 253 254 255 $DTI_PATH\"exclude_mask.nii\""
   ]
  },
  {
   "cell_type": "code",
   "execution_count": null,
   "metadata": {
    "collapsed": true
   },
   "outputs": [],
   "source": []
  },
  {
   "cell_type": "markdown",
   "metadata": {},
   "source": [
    "## MRtrix"
   ]
  },
  {
   "cell_type": "code",
   "execution_count": 8,
   "metadata": {},
   "outputs": [
    {
     "name": "stdout",
     "output_type": "stream",
     "text": [
      "tckedit: \u001b[00;31m[WARNING] existing output files will be overwritten\u001b[0m\n",
      "tckedit: [done]  1500000 read,  1173117 written\u001b[0K\n"
     ]
    }
   ],
   "source": [
    "!tckedit -force -exclude $DTI_PATH\"exclude_mask.nii\" $DTI_PATH$TRACTO\".tck\" $DTI_PATH\"LongueFibres.tck\"\n"
   ]
  },
  {
   "cell_type": "code",
   "execution_count": 10,
   "metadata": {},
   "outputs": [
    {
     "name": "stdout",
     "output_type": "stream",
     "text": [
      "tckconvert: \u001b[00;31m[WARNING] existing output files will be overwritten\u001b[0m\n",
      "^C\n"
     ]
    }
   ],
   "source": [
    "!tckconvert -force $DTI_PATH$TRACTO\".tck\" $DTI_PATH$TRACTO\".vtk\""
   ]
  },
  {
   "cell_type": "markdown",
   "metadata": {},
   "source": [
    "## Nipype\n",
    "conversion tck2trk "
   ]
  },
  {
   "cell_type": "code",
   "execution_count": 5,
   "metadata": {},
   "outputs": [
    {
     "name": "stdout",
     "output_type": "stream",
     "text": [
      "170922-09:35:49,738 interface INFO:\n",
      "\t Reading header data...\n",
      "170922-09:35:49,788 interface INFO:\n",
      "\t ...adding \"0.3.15-264-g7372ab22\" to header for key \"mrtrix_version\"\n",
      "170922-09:35:49,789 interface INFO:\n",
      "\t ...adding \"1506064273.8148462772\" to header for key \"timestamp\"\n",
      "170922-09:35:49,790 interface INFO:\n",
      "\t ...adding \"exclude /NAS/tupac/protocoles/alexcis/FS53/p_AR28/dti/exclude_mask.nii\" to header for key \"roi\"\n",
      "170922-09:35:49,790 interface INFO:\n",
      "\t ...adding \"Float32LE\" to header for key \"datatype\"\n",
      "170922-09:35:49,791 interface INFO:\n",
      "\t ...adding \". 252\" to header for key \"file\"\n",
      "170922-09:35:49,791 interface INFO:\n",
      "\t ...adding \"1173117\" to header for key \"count\"\n",
      "170922-09:35:49,792 interface INFO:\n",
      "\t ...adding \"1500000\" to header for key \"total_count\"\n",
      "170922-09:35:49,792 interface INFO:\n",
      "\t Reached the end of the header!\n",
      "170922-09:35:49,793 interface INFO:\n",
      "\t Identifying the number of points per tract...\n",
      "170922-09:36:25,857 interface INFO:\n",
      "\t MRTrix Header:\n",
      "170922-09:36:25,857 interface INFO:\n",
      "\t {u'count': 1173117, u'roi': u'exclude /NAS/tupac/protocoles/alexcis/FS53/p_AR28/dti/exclude_mask.nii', u'mrtrix_version': u'0.3.15-264-g7372ab22', u'datatype': u'Float32LE', u'timestamp': u'1506064273.8148462772', u'offset': 252, u'file': u'. 252', u'total_count': u'1500000'}\n",
      "170922-09:36:25,858 interface INFO:\n",
      "\t Applying transformation from scanner coordinates to /NAS/tupac/protocoles/alexcis/FS53/p_AR28/dti//b0.nii\n",
      "170922-09:36:26,191 interface INFO:\n",
      "\t Reading tracks...\n",
      "170922-09:36:27,473 interface INFO:\n",
      "\t 0% : 11731 tracks read\n",
      "170922-09:36:28,756 interface INFO:\n",
      "\t 1% : 23462 tracks read\n",
      "170922-09:36:30,25 interface INFO:\n",
      "\t 2% : 35193 tracks read\n",
      "170922-09:36:31,316 interface INFO:\n",
      "\t 3% : 46924 tracks read\n",
      "170922-09:36:32,598 interface INFO:\n",
      "\t 4% : 58655 tracks read\n",
      "170922-09:36:33,869 interface INFO:\n",
      "\t 5% : 70386 tracks read\n",
      "170922-09:36:35,153 interface INFO:\n",
      "\t 6% : 82117 tracks read\n",
      "170922-09:36:36,430 interface INFO:\n",
      "\t 7% : 93848 tracks read\n",
      "170922-09:36:37,736 interface INFO:\n",
      "\t 8% : 105579 tracks read\n",
      "170922-09:36:39,0 interface INFO:\n",
      "\t 9% : 117310 tracks read\n",
      "170922-09:36:40,241 interface INFO:\n",
      "\t 10% : 129041 tracks read\n",
      "170922-09:36:41,521 interface INFO:\n",
      "\t 11% : 140772 tracks read\n",
      "170922-09:36:42,789 interface INFO:\n",
      "\t 12% : 152503 tracks read\n",
      "170922-09:36:44,51 interface INFO:\n",
      "\t 13% : 164234 tracks read\n",
      "170922-09:36:45,350 interface INFO:\n",
      "\t 14% : 175965 tracks read\n",
      "170922-09:36:46,720 interface INFO:\n",
      "\t 15% : 187696 tracks read\n",
      "170922-09:36:47,998 interface INFO:\n",
      "\t 16% : 199427 tracks read\n",
      "170922-09:36:49,273 interface INFO:\n",
      "\t 17% : 211158 tracks read\n",
      "170922-09:36:50,566 interface INFO:\n",
      "\t 18% : 222889 tracks read\n",
      "170922-09:36:51,840 interface INFO:\n",
      "\t 19% : 234620 tracks read\n",
      "170922-09:36:53,108 interface INFO:\n",
      "\t 20% : 246351 tracks read\n",
      "170922-09:36:54,390 interface INFO:\n",
      "\t 21% : 258082 tracks read\n",
      "170922-09:36:55,658 interface INFO:\n",
      "\t 22% : 269813 tracks read\n",
      "170922-09:36:56,946 interface INFO:\n",
      "\t 23% : 281544 tracks read\n",
      "170922-09:36:58,237 interface INFO:\n",
      "\t 24% : 293275 tracks read\n",
      "170922-09:36:59,503 interface INFO:\n",
      "\t 25% : 305006 tracks read\n",
      "170922-09:37:00,761 interface INFO:\n",
      "\t 26% : 316737 tracks read\n",
      "170922-09:37:02,37 interface INFO:\n",
      "\t 27% : 328468 tracks read\n",
      "170922-09:37:03,319 interface INFO:\n",
      "\t 28% : 340199 tracks read\n",
      "170922-09:37:04,613 interface INFO:\n",
      "\t 29% : 351930 tracks read\n",
      "170922-09:37:05,897 interface INFO:\n",
      "\t 30% : 363661 tracks read\n",
      "170922-09:37:07,197 interface INFO:\n",
      "\t 31% : 375392 tracks read\n",
      "170922-09:37:08,449 interface INFO:\n",
      "\t 32% : 387123 tracks read\n",
      "170922-09:37:09,736 interface INFO:\n",
      "\t 33% : 398854 tracks read\n",
      "170922-09:37:11,24 interface INFO:\n",
      "\t 34% : 410585 tracks read\n",
      "170922-09:37:12,307 interface INFO:\n",
      "\t 35% : 422316 tracks read\n",
      "170922-09:37:13,590 interface INFO:\n",
      "\t 36% : 434047 tracks read\n",
      "170922-09:37:14,879 interface INFO:\n",
      "\t 37% : 445778 tracks read\n",
      "170922-09:37:16,168 interface INFO:\n",
      "\t 38% : 457509 tracks read\n",
      "170922-09:37:17,445 interface INFO:\n",
      "\t 39% : 469240 tracks read\n",
      "170922-09:37:18,705 interface INFO:\n",
      "\t 40% : 480971 tracks read\n",
      "170922-09:37:20,2 interface INFO:\n",
      "\t 41% : 492702 tracks read\n",
      "170922-09:37:21,287 interface INFO:\n",
      "\t 42% : 504433 tracks read\n",
      "170922-09:37:22,570 interface INFO:\n",
      "\t 43% : 516164 tracks read\n",
      "170922-09:37:23,855 interface INFO:\n",
      "\t 44% : 527895 tracks read\n",
      "170922-09:37:25,147 interface INFO:\n",
      "\t 45% : 539626 tracks read\n",
      "170922-09:37:26,429 interface INFO:\n",
      "\t 46% : 551357 tracks read\n",
      "170922-09:37:27,728 interface INFO:\n",
      "\t 47% : 563088 tracks read\n",
      "170922-09:37:29,130 interface INFO:\n",
      "\t 48% : 574819 tracks read\n",
      "170922-09:37:30,539 interface INFO:\n",
      "\t 49% : 586550 tracks read\n",
      "170922-09:37:31,835 interface INFO:\n",
      "\t 50% : 598281 tracks read\n",
      "170922-09:37:33,106 interface INFO:\n",
      "\t 51% : 610012 tracks read\n",
      "170922-09:37:34,379 interface INFO:\n",
      "\t 52% : 621743 tracks read\n",
      "170922-09:37:35,695 interface INFO:\n",
      "\t 53% : 633474 tracks read\n",
      "170922-09:37:37,58 interface INFO:\n",
      "\t 54% : 645205 tracks read\n",
      "170922-09:37:38,341 interface INFO:\n",
      "\t 55% : 656936 tracks read\n",
      "170922-09:37:39,644 interface INFO:\n",
      "\t 56% : 668667 tracks read\n",
      "170922-09:37:40,928 interface INFO:\n",
      "\t 57% : 680398 tracks read\n",
      "170922-09:37:42,221 interface INFO:\n",
      "\t 58% : 692129 tracks read\n",
      "170922-09:37:43,504 interface INFO:\n",
      "\t 59% : 703860 tracks read\n",
      "170922-09:37:44,804 interface INFO:\n",
      "\t 60% : 715591 tracks read\n",
      "170922-09:37:46,102 interface INFO:\n",
      "\t 61% : 727322 tracks read\n",
      "170922-09:37:47,396 interface INFO:\n",
      "\t 62% : 739053 tracks read\n",
      "170922-09:37:48,686 interface INFO:\n",
      "\t 63% : 750784 tracks read\n",
      "170922-09:37:49,961 interface INFO:\n",
      "\t 64% : 762515 tracks read\n",
      "170922-09:37:51,344 interface INFO:\n",
      "\t 65% : 774246 tracks read\n",
      "170922-09:37:52,626 interface INFO:\n",
      "\t 66% : 785977 tracks read\n",
      "170922-09:37:54,42 interface INFO:\n",
      "\t 67% : 797708 tracks read\n",
      "170922-09:37:55,326 interface INFO:\n",
      "\t 68% : 809439 tracks read\n",
      "170922-09:37:56,685 interface INFO:\n",
      "\t 69% : 821170 tracks read\n",
      "170922-09:37:57,968 interface INFO:\n",
      "\t 70% : 832901 tracks read\n",
      "170922-09:37:59,251 interface INFO:\n",
      "\t 71% : 844632 tracks read\n",
      "170922-09:38:00,554 interface INFO:\n",
      "\t 72% : 856363 tracks read\n",
      "170922-09:38:01,858 interface INFO:\n",
      "\t 73% : 868094 tracks read\n",
      "170922-09:38:03,161 interface INFO:\n",
      "\t 74% : 879825 tracks read\n",
      "170922-09:38:04,469 interface INFO:\n",
      "\t 75% : 891556 tracks read\n",
      "170922-09:38:05,729 interface INFO:\n",
      "\t 76% : 903287 tracks read\n",
      "170922-09:38:07,6 interface INFO:\n",
      "\t 77% : 915018 tracks read\n",
      "170922-09:38:08,299 interface INFO:\n",
      "\t 78% : 926749 tracks read\n",
      "170922-09:38:09,609 interface INFO:\n",
      "\t 79% : 938480 tracks read\n",
      "170922-09:38:10,881 interface INFO:\n",
      "\t 80% : 950211 tracks read\n",
      "170922-09:38:12,590 interface INFO:\n",
      "\t 81% : 961942 tracks read\n",
      "170922-09:38:13,882 interface INFO:\n",
      "\t 82% : 973673 tracks read\n",
      "170922-09:38:15,180 interface INFO:\n",
      "\t 83% : 985404 tracks read\n",
      "170922-09:38:16,460 interface INFO:\n",
      "\t 84% : 997135 tracks read\n",
      "170922-09:38:17,793 interface INFO:\n",
      "\t 85% : 1008866 tracks read\n",
      "170922-09:38:19,79 interface INFO:\n",
      "\t 86% : 1020597 tracks read\n",
      "170922-09:38:20,370 interface INFO:\n",
      "\t 87% : 1032328 tracks read\n",
      "170922-09:38:21,668 interface INFO:\n",
      "\t 88% : 1044059 tracks read\n",
      "170922-09:38:23,17 interface INFO:\n",
      "\t 89% : 1055790 tracks read\n",
      "170922-09:38:24,307 interface INFO:\n",
      "\t 90% : 1067521 tracks read\n",
      "170922-09:38:25,648 interface INFO:\n",
      "\t 91% : 1079252 tracks read\n",
      "170922-09:38:26,951 interface INFO:\n",
      "\t 92% : 1090983 tracks read\n",
      "170922-09:38:28,249 interface INFO:\n",
      "\t 93% : 1102714 tracks read\n",
      "170922-09:38:29,541 interface INFO:\n",
      "\t 94% : 1114445 tracks read\n",
      "170922-09:38:30,920 interface INFO:\n",
      "\t 95% : 1126176 tracks read\n",
      "170922-09:38:32,196 interface INFO:\n",
      "\t 96% : 1137907 tracks read\n",
      "170922-09:38:33,472 interface INFO:\n",
      "\t 97% : 1149638 tracks read\n",
      "170922-09:38:34,820 interface INFO:\n",
      "\t 98% : 1161369 tracks read\n",
      "170922-09:38:36,124 interface INFO:\n",
      "\t 99% : 1173100 tracks read\n",
      "170922-09:38:36,126 interface INFO:\n",
      "\t 100% : 1173117 tracks read\n",
      "170922-09:38:36,137 interface INFO:\n",
      "\t Saving Trackvis file as /NAS/tupac/protocoles/alexcis/FS53/p_AR28/dti/LongueFibres.trk\n",
      "170922-09:38:36,137 interface INFO:\n",
      "\t TrackVis Header:\n",
      "170922-09:38:36,138 interface INFO:\n",
      "\t ('TRACK', [128, 128,  66], [ 2.,  2.,  2.], [ 0.,  0.,  0.], 0, ['', '', '', '', '', '', '', '', '', ''], 0, ['', '', '', '', '', '', '', '', '', ''], [[  -2.        ,    0.        ,    0.        ,  128.34214783], [   0.        ,    2.        ,    0.        , -129.92842102], [   0.        ,    0.        ,    2.        ,  -58.10770035], [   0.        ,    0.        ,    0.        ,    1.        ]], '', 'LAS', '', [ 0.,  0.,  0.,  0.,  0.,  0.], '', '', '', '', '', '', '', 1173117, 2, 1000)\n"
     ]
    },
    {
     "data": {
      "text/plain": [
       "<nipype.interfaces.base.InterfaceResult at 0x7f264df67d50>"
      ]
     },
     "execution_count": 5,
     "metadata": {},
     "output_type": "execute_result"
    }
   ],
   "source": [
    "TRACTO=\"LongueFibres\"\n",
    "import nipype.interfaces.mrtrix as mrt\n",
    "\n",
    "tck2trk = mrt.MRTrix2TrackVis()\n",
    "# whole_brain_6_1500000.tck eq .1.5M_SIFT.tck\n",
    "tck2trk.inputs.in_file = DTI_PATH+TRACTO+\".tck\"\n",
    "tck2trk.inputs.image_file = DTI_PATH+\"/b0.nii\"\n",
    "tck2trk.inputs.out_filename = DTI_PATH+TRACTO+\".trk\"\n",
    "tck2trk.run() "
   ]
  },
  {
   "cell_type": "markdown",
   "metadata": {},
   "source": [
    "## Nibabel\n",
    "fibers loading"
   ]
  },
  {
   "cell_type": "code",
   "execution_count": 4,
   "metadata": {
    "collapsed": true
   },
   "outputs": [],
   "source": [
    "from nibabel import trackvis as tv\n",
    "streams, hdr = tv.read(DTI_PATH+TRACTO+\".trk\")\n",
    "streamlines = [i[0] for i in streams]"
   ]
  },
  {
   "cell_type": "markdown",
   "metadata": {
    "collapsed": true
   },
   "source": [
    "lecture d'un volume mesh"
   ]
  },
  {
   "cell_type": "code",
   "execution_count": 4,
   "metadata": {
    "collapsed": true
   },
   "outputs": [],
   "source": [
    "from nibabel import freesurfer as fs\n",
    "white_mesh=fs.read_geometry(FS_PATH+SUBJ_ID+\"/surf/\"+MESH)"
   ]
  },
  {
   "cell_type": "code",
   "execution_count": 5,
   "metadata": {
    "collapsed": true
   },
   "outputs": [],
   "source": [
    "from dipy.utils.optpkg import optional_package\n",
    "vtk, have_vtk, setup_module = optional_package('vtk')"
   ]
  },
  {
   "cell_type": "code",
   "execution_count": 6,
   "metadata": {},
   "outputs": [
    {
     "data": {
      "text/plain": [
       "(vtkCommonDataModelPython.vtkPolyData)0x7f96efcfd188"
      ]
     },
     "execution_count": 6,
     "metadata": {},
     "output_type": "execute_result"
    }
   ],
   "source": [
    "import dipy.io.vtk as io_vtk\n",
    "import dipy.viz.utils as ut_vtk\n",
    "from dipy.viz import window, actor\n",
    "\n",
    "my_polydata = vtk.vtkPolyData()\n",
    "ut_vtk.set_polydata_vertices(my_polydata, white_mesh[0])\n",
    "ut_vtk.set_polydata_triangles(my_polydata, white_mesh[1])"
   ]
  },
  {
   "cell_type": "code",
   "execution_count": 12,
   "metadata": {},
   "outputs": [
    {
     "name": "stdout",
     "output_type": "stream",
     "text": [
      "Surface saved in /NAS/tupac/protocoles/alexcis/FS53/p_AR28/dti/white_matter.vtk\n"
     ]
    }
   ],
   "source": [
    "file_name = DTI_PATH+\"white_matter.vtk\"\n",
    "io_vtk.save_polydata(my_polydata, file_name)\n",
    "print(\"Surface saved in \" + file_name)"
   ]
  },
  {
   "cell_type": "code",
   "execution_count": 141,
   "metadata": {},
   "outputs": [
    {
     "data": {
      "image/png": "[encoded data removed]",
      "text/plain": [
       "<matplotlib.figure.Figure at 0x7f309119d9d0>"
      ]
     },
     "metadata": {},
     "output_type": "display_data"
    }
   ],
   "source": [
    "%matplotlib inline\n",
    "from mpl_toolkits.mplot3d import Axes3D\n",
    "import matplotlib.pyplot as plt\n",
    "fig = plt.figure()\n",
    "ax = fig.add_subplot(111, projection='3d')\n",
    "ax.scatter(streamlines[0][:,0], streamlines[0][:,1],streamlines[0][:,2], c='r', marker='o')\n",
    "ax.set_xlabel('X Label')\n",
    "ax.set_ylabel('Y Label')\n",
    "ax.set_zlabel('Z Label')\n",
    "plt.show()"
   ]
  },
  {
   "cell_type": "code",
   "execution_count": 1,
   "metadata": {},
   "outputs": [
    {
     "ename": "NameError",
     "evalue": "name 'ut_vtk' is not defined",
     "output_type": "error",
     "traceback": [
      "\u001b[0;31m---------------------------------------------------------------------------\u001b[0m",
      "\u001b[0;31mNameError\u001b[0m                                 Traceback (most recent call last)",
      "\u001b[0;32m<ipython-input-1-5e288426f594>\u001b[0m in \u001b[0;36m<module>\u001b[0;34m()\u001b[0m\n\u001b[1;32m      9\u001b[0m \u001b[0;31m#print(ut_vtk.get_polydata_colors(cube_polydata))\u001b[0m\u001b[0;34m\u001b[0m\u001b[0;34m\u001b[0m\u001b[0m\n\u001b[1;32m     10\u001b[0m \u001b[0;31m# get vtkActor\u001b[0m\u001b[0;34m\u001b[0m\u001b[0;34m\u001b[0m\u001b[0m\n\u001b[0;32m---> 11\u001b[0;31m \u001b[0mcube_actor\u001b[0m \u001b[0;34m=\u001b[0m \u001b[0mut_vtk\u001b[0m\u001b[0;34m.\u001b[0m\u001b[0mget_actor_from_polydata\u001b[0m\u001b[0;34m(\u001b[0m\u001b[0mmy_polydata\u001b[0m\u001b[0;34m)\u001b[0m\u001b[0;34m\u001b[0m\u001b[0m\n\u001b[0m\u001b[1;32m     12\u001b[0m \u001b[0;34m\u001b[0m\u001b[0m\n\u001b[1;32m     13\u001b[0m \u001b[0;31m# renderer and scene\u001b[0m\u001b[0;34m\u001b[0m\u001b[0;34m\u001b[0m\u001b[0m\n",
      "\u001b[0;31mNameError\u001b[0m: name 'ut_vtk' is not defined"
     ]
    }
   ],
   "source": [
    "#cube_vertices = ut_vtk.get_polydata_vertices(my_polydata)\n",
    "#colors = cube_vertices * 255\n",
    "#ut_vtk.set_polydata_colors(cube_polydata, colors)\n",
    "#print type(my_polydata)\n",
    "#sphere1Tri = vtk.vtkTriangleFilter()\n",
    "#sphere1Tri.SetInputData(my_polydata)\n",
    "\n",
    "#print(\"new surface colors\")\n",
    "#print(ut_vtk.get_polydata_colors(cube_polydata))\n",
    "# get vtkActor\n",
    "cube_actor = ut_vtk.get_actor_from_polydata(my_polydata)\n",
    "\n",
    "# renderer and scene\n",
    "renderer = window.Renderer()\n",
    "renderer.add(cube_actor)\n",
    "renderer.set_camera(position=(0, 0, 0), focal_point=(0.5, 0.5, 0.5))\n",
    "renderer.zoom(3)\n",
    "\n",
    "#stream_actor = actor.line(streamlines)\n",
    "#renderer.add(stream_actor)\n",
    "\n",
    "#stream_vtk = io_vtk.load_polydata(DTI_PATH+TRACTO+\".vtk\")\n",
    "#stream_actor = ut_vtk.get_actor_from_polydata(stream_vtk)\n",
    "#renderer.add(stream_actor)\n",
    "#sphere2Tri = vtk.vtkTriangleFilter()\n",
    "#sphere2Tri.SetInputData(stream_vtk)\n",
    "\n",
    "# create a transform that rotates the cone\n",
    "#transform = vtk.vtkTransform()\n",
    "#transform.Translate(100,-200,500)\n",
    "#transform.RotateWXYZ(45,0,1,0)\n",
    "#transformFilter=vtk.vtkTransformPolyDataFilter()\n",
    "#transformFilter.SetTransform(transform)\n",
    "#transformFilter.SetInputConnection(my_polydata.GetPro\n",
    "#transformFilter.Update()\n",
    "\n",
    "# mapper for original cone\n",
    "#coneMapper1 = vtk.vtkPolyDataMapper()\n",
    "#coneMapper1.SetInput(transformFilter.GetOutput())\n",
    "#renderer.add(coneMapper1)\n",
    "\n",
    "\n",
    "#booleanOperation = vtk.vtkBooleanOperationPolyDataFilter()\n",
    "#booleanOperation.SetOperationToIntersection()\n",
    "#booleanOperation.SetInputConnection(0, sphere1Tri.GetOutputPort())\n",
    "#booleanOperation.SetInputConnection(1, sphere2Tri.GetOutputPort())\n",
    "#booleanOperation.Update()\n",
    "\n",
    "# display\n",
    "window.show(renderer, size=(600, 600), reset_camera=False)\n",
    "#window.record(renderer, out_path='cube.png', size=(600, 600))"
   ]
  },
  {
   "cell_type": "code",
   "execution_count": 6,
   "metadata": {},
   "outputs": [
    {
     "ename": "ImportError",
     "evalue": "No module named pyopencl",
     "output_type": "error",
     "traceback": [
      "\u001b[0;31m---------------------------------------------------------------------------\u001b[0m",
      "\u001b[0;31mImportError\u001b[0m                               Traceback (most recent call last)",
      "\u001b[0;32m<ipython-input-6-3b8cbd2bb052>\u001b[0m in \u001b[0;36m<module>\u001b[0;34m()\u001b[0m\n\u001b[0;32m----> 1\u001b[0;31m \u001b[0;32mimport\u001b[0m \u001b[0mpyopencl\u001b[0m\u001b[0;34m\u001b[0m\u001b[0m\n\u001b[0m\u001b[1;32m      2\u001b[0m \u001b[0;32mprint\u001b[0m \u001b[0mlen\u001b[0m\u001b[0;34m(\u001b[0m\u001b[0mstreamlines\u001b[0m\u001b[0;34m[\u001b[0m\u001b[0;36m0\u001b[0m\u001b[0;34m]\u001b[0m\u001b[0;34m)\u001b[0m\u001b[0;34m\u001b[0m\u001b[0m\n\u001b[1;32m      3\u001b[0m \u001b[0;32mprint\u001b[0m \u001b[0mnp\u001b[0m\u001b[0;34m.\u001b[0m\u001b[0mmin\u001b[0m\u001b[0;34m(\u001b[0m\u001b[0mstreamlines\u001b[0m\u001b[0;34m[\u001b[0m\u001b[0;36m0\u001b[0m\u001b[0;34m]\u001b[0m\u001b[0;34m[\u001b[0m\u001b[0;34m:\u001b[0m\u001b[0;34m,\u001b[0m\u001b[0;36m0\u001b[0m\u001b[0;34m]\u001b[0m\u001b[0;34m)\u001b[0m\u001b[0;34m\u001b[0m\u001b[0m\n\u001b[1;32m      4\u001b[0m \u001b[0;32mprint\u001b[0m \u001b[0mnp\u001b[0m\u001b[0;34m.\u001b[0m\u001b[0mmax\u001b[0m\u001b[0;34m(\u001b[0m\u001b[0mstreamlines\u001b[0m\u001b[0;34m[\u001b[0m\u001b[0;36m0\u001b[0m\u001b[0;34m]\u001b[0m\u001b[0;34m[\u001b[0m\u001b[0;34m:\u001b[0m\u001b[0;34m,\u001b[0m\u001b[0;36m0\u001b[0m\u001b[0;34m]\u001b[0m\u001b[0;34m)\u001b[0m\u001b[0;34m\u001b[0m\u001b[0m\n\u001b[1;32m      5\u001b[0m \u001b[0;34m\u001b[0m\u001b[0m\n",
      "\u001b[0;31mImportError\u001b[0m: No module named pyopencl"
     ]
    }
   ],
   "source": [
    "print len(streamlines[0])\n",
    "print np.min(streamlines[0][:,0])\n",
    "print np.max(streamlines[0][:,0])\n",
    "\n",
    "print np.min(streamlines[0][:,1])\n",
    "print np.max(streamlines[0][:,1])\n",
    "\n",
    "print np.min(streamlines[0][:,2])\n",
    "print np.max(streamlines[0][:,2])\n",
    "\n",
    "print streamlines[0][0,:]-streamlines[0][1,:]"
   ]
  },
  {
   "cell_type": "code",
   "execution_count": 1,
   "metadata": {},
   "outputs": [
    {
     "ename": "NameError",
     "evalue": "name 'streamlines' is not defined",
     "output_type": "error",
     "traceback": [
      "\u001b[0;31m---------------------------------------------------------------------------\u001b[0m",
      "\u001b[0;31mNameError\u001b[0m                                 Traceback (most recent call last)",
      "\u001b[0;32m<ipython-input-1-5ed3c1d5a995>\u001b[0m in \u001b[0;36m<module>\u001b[0;34m()\u001b[0m\n\u001b[1;32m      8\u001b[0m \u001b[0mZmax\u001b[0m\u001b[0;34m=\u001b[0m\u001b[0;34m[\u001b[0m\u001b[0;34m]\u001b[0m\u001b[0;34m;\u001b[0m\u001b[0;34m\u001b[0m\u001b[0m\n\u001b[1;32m      9\u001b[0m \u001b[0;34m\u001b[0m\u001b[0m\n\u001b[0;32m---> 10\u001b[0;31m \u001b[0;32mfor\u001b[0m \u001b[0mcpt\u001b[0m \u001b[0;32min\u001b[0m \u001b[0mnp\u001b[0m\u001b[0;34m.\u001b[0m\u001b[0marange\u001b[0m\u001b[0;34m(\u001b[0m\u001b[0;36m1\u001b[0m\u001b[0;34m,\u001b[0m\u001b[0mlen\u001b[0m\u001b[0;34m(\u001b[0m\u001b[0mstreamlines\u001b[0m\u001b[0;34m)\u001b[0m\u001b[0;34m)\u001b[0m\u001b[0;34m:\u001b[0m\u001b[0;34m\u001b[0m\u001b[0m\n\u001b[0m\u001b[1;32m     11\u001b[0m     \u001b[0mXmax\u001b[0m\u001b[0;34m.\u001b[0m\u001b[0mappend\u001b[0m\u001b[0;34m(\u001b[0m\u001b[0mnp\u001b[0m\u001b[0;34m.\u001b[0m\u001b[0mmax\u001b[0m\u001b[0;34m(\u001b[0m\u001b[0mstreamlines\u001b[0m\u001b[0;34m[\u001b[0m\u001b[0mcpt\u001b[0m\u001b[0;34m]\u001b[0m\u001b[0;34m[\u001b[0m\u001b[0;34m:\u001b[0m\u001b[0;34m,\u001b[0m\u001b[0;36m0\u001b[0m\u001b[0;34m]\u001b[0m\u001b[0;34m)\u001b[0m\u001b[0;34m)\u001b[0m\u001b[0;34m\u001b[0m\u001b[0m\n\u001b[1;32m     12\u001b[0m     \u001b[0mXmin\u001b[0m\u001b[0;34m.\u001b[0m\u001b[0mappend\u001b[0m\u001b[0;34m(\u001b[0m\u001b[0mnp\u001b[0m\u001b[0;34m.\u001b[0m\u001b[0mmin\u001b[0m\u001b[0;34m(\u001b[0m\u001b[0mstreamlines\u001b[0m\u001b[0;34m[\u001b[0m\u001b[0mcpt\u001b[0m\u001b[0;34m]\u001b[0m\u001b[0;34m[\u001b[0m\u001b[0;34m:\u001b[0m\u001b[0;34m,\u001b[0m\u001b[0;36m0\u001b[0m\u001b[0;34m]\u001b[0m\u001b[0;34m)\u001b[0m\u001b[0;34m)\u001b[0m\u001b[0;34m\u001b[0m\u001b[0m\n",
      "\u001b[0;31mNameError\u001b[0m: name 'streamlines' is not defined"
     ]
    }
   ],
   "source": [
    "import numpy as np\n",
    "\n",
    "Xmin=[];\n",
    "Xmax=[];\n",
    "Ymin=[];\n",
    "Ymax=[];\n",
    "Zmin=[];\n",
    "Zmax=[];\n",
    "\n",
    "for cpt in np.arange(1,len(streamlines)):\n",
    "    Xmax.append(np.max(streamlines[cpt][:,0]))\n",
    "    Xmin.append(np.min(streamlines[cpt][:,0]))\n",
    "    Ymax.append(np.max(streamlines[cpt][:,1]))\n",
    "    Ymin.append(np.min(streamlines[cpt][:,1]))\n",
    "    Zmax.append(np.max(streamlines[cpt][:,2]))\n",
    "    Zmin.append(np.min(streamlines[cpt][:,2]))\n",
    "\n",
    "print np.max(Xmax)\n",
    "print np.min(Xmin)\n",
    "print np.max(Ymax)\n",
    "print np.min(Ymin)\n",
    "print np.max(Zmax)\n",
    "print np.min(Zmin)\n",
    "\n",
    "print np.max(white_mesh[0][:,0])\n",
    "print np.min(white_mesh[0][:,0])\n",
    "print np.max(white_mesh[0][:,1])\n",
    "print np.min(white_mesh[0][:,1])\n",
    "print np.max(white_mesh[0][:,2])\n",
    "print np.min(white_mesh[0][:,2])\n",
    "\n",
    "T=np.array([[0.9993,-0.0243,-0.0289,-0.1074],[0.0237,0.9995,-0.0224,-0.0150],[0.0294,0.0217,0.9993,1.7368],[0,0,0,1.0000]])\n",
    "x=np.ones((len(white_mesh[0]),1),dtype=float);\n",
    "test=np.concatenate((white_mesh[0],x),axis=1)\n",
    "print test.shape\n",
    "X=np.dot(test,T)"
   ]
  },
  {
   "cell_type": "code",
   "execution_count": null,
   "metadata": {
    "collapsed": true
   },
   "outputs": [],
   "source": [
    "print type(cube_polydata)\n",
    "print cube_polydata\n",
    "print type(cube_vertices)\n"
   ]
  },
  {
   "cell_type": "code",
   "execution_count": 103,
   "metadata": {},
   "outputs": [
    {
     "name": "stdout",
     "output_type": "stream",
     "text": [
      "(99490, 3)\n",
      "(99490, 1)\n",
      "(99490, 4)\n"
     ]
    }
   ],
   "source": [
    "import numpy as np\n",
    "mat = np.mat(white_mesh[0][:])\n",
    "print (white_mesh[0][:]).shape\n",
    "print np.ones((99490,1)).shape\n",
    "cool = np.concatenate((white_mesh[0][:],np.ones((99490,1))),axis=1)\n",
    "print cool.shape\n"
   ]
  },
  {
   "cell_type": "code",
   "execution_count": 59,
   "metadata": {},
   "outputs": [
    {
     "ename": "NameError",
     "evalue": "name 'get_affine_trackvis_to_rasmm' is not defined",
     "output_type": "error",
     "traceback": [
      "\u001b[0;31m---------------------------------------------------------------------------\u001b[0m",
      "\u001b[0;31mNameError\u001b[0m                                 Traceback (most recent call last)",
      "\u001b[0;32m<ipython-input-59-837e622b4fda>\u001b[0m in \u001b[0;36m<module>\u001b[0;34m()\u001b[0m\n\u001b[0;32m----> 1\u001b[0;31m \u001b[0mtest2\u001b[0m\u001b[0;34m=\u001b[0m\u001b[0mget_affine_trackvis_to_rasmm\u001b[0m\u001b[0;34m(\u001b[0m\u001b[0mstreamlines\u001b[0m\u001b[0;34m)\u001b[0m\u001b[0;34m\u001b[0m\u001b[0m\n\u001b[0m",
      "\u001b[0;31mNameError\u001b[0m: name 'get_affine_trackvis_to_rasmm' is not defined"
     ]
    }
   ],
   "source": [
    "test2=get_affine_trackvis_to_rasmm(streamlines)\n"
   ]
  },
  {
   "cell_type": "code",
   "execution_count": 54,
   "metadata": {},
   "outputs": [
    {
     "name": "stdout",
     "output_type": "stream",
     "text": [
      "/NAS/tupac/protocoles/alexcis/FS53/t_AD25/dti/LongueFibres_SIFT.tck\n"
     ]
    },
    {
     "ename": "AttributeError",
     "evalue": "'module' object has no attribute 'is_correct_format'",
     "output_type": "error",
     "traceback": [
      "\u001b[0;31m---------------------------------------------------------------------------\u001b[0m",
      "\u001b[0;31mAttributeError\u001b[0m                            Traceback (most recent call last)",
      "\u001b[0;32m<ipython-input-54-7427cda356aa>\u001b[0m in \u001b[0;36m<module>\u001b[0;34m()\u001b[0m\n\u001b[1;32m      1\u001b[0m \u001b[0;32mimport\u001b[0m \u001b[0mnibabel\u001b[0m \u001b[0;32mas\u001b[0m \u001b[0mnib\u001b[0m\u001b[0;34m\u001b[0m\u001b[0m\n\u001b[1;32m      2\u001b[0m \u001b[0;32mprint\u001b[0m \u001b[0mDTI_PATH\u001b[0m\u001b[0;34m+\u001b[0m\u001b[0;34m\"LongueFibres_SIFT.tck\"\u001b[0m\u001b[0;34m\u001b[0m\u001b[0m\n\u001b[0;32m----> 3\u001b[0;31m \u001b[0mtck\u001b[0m \u001b[0;34m=\u001b[0m \u001b[0mnib\u001b[0m\u001b[0;34m.\u001b[0m\u001b[0mstreamlines\u001b[0m\u001b[0;34m.\u001b[0m\u001b[0mis_correct_format\u001b[0m\u001b[0;34m(\u001b[0m\u001b[0mDTI_PATH\u001b[0m\u001b[0;34m+\u001b[0m\u001b[0;34m\"LongueFibres_SIFT.tck\"\u001b[0m\u001b[0;34m)\u001b[0m\u001b[0;34m;\u001b[0m\u001b[0;34m\u001b[0m\u001b[0m\n\u001b[0m\u001b[1;32m      4\u001b[0m \u001b[0;32mprint\u001b[0m \u001b[0mtck\u001b[0m\u001b[0;34m\u001b[0m\u001b[0m\n",
      "\u001b[0;31mAttributeError\u001b[0m: 'module' object has no attribute 'is_correct_format'"
     ]
    }
   ],
   "source": [
    "import nibabel as nib\n",
    "print DTI_PATH+\"LongueFibres_SIFT.tck\"\n",
    "tck = nib.streamlines.is_correct_format(DTI_PATH+\"LongueFibres_SIFT.tck\");\n",
    "print tck\n",
    "\n",
    "import nipype.interfaces.mrtrix as mrt\n",
    "filt = mrt.FilterTracks()\n",
    "filt.inputs.in_file = DTI_PATH+'LongueFibres_SIFT.tck'\n",
    "filt.run()   "
   ]
  },
  {
   "cell_type": "markdown",
   "metadata": {},
   "source": [
    "## DIPY\n",
    "QuickBundles"
   ]
  },
  {
   "cell_type": "code",
   "execution_count": 17,
   "metadata": {},
   "outputs": [
    {
     "name": "stdout",
     "output_type": "stream",
     "text": [
      "[ 146.12109375   65.11854553   54.90721512]\n"
     ]
    }
   ],
   "source": [
    "from dipy.segment.metric import ResampleFeature\n",
    "from dipy.segment.metric import AveragePointwiseEuclideanMetric\n",
    "from dipy.segment.metric import CenterOfMassFeature\n",
    "from dipy.segment.metric import EuclideanMetric\n",
    "from dipy.segment.metric import IdentityFeature\n",
    "from dipy.segment.clustering import QuickBundles\n",
    "from dipy.tracking.streamline import set_number_of_points\n",
    "\n",
    "# Make sure our streamlines have the same number of points.\n",
    "#streamlines = set_number_of_points(streamlines, nb_points=12)\n",
    "\n",
    "feature = ResampleFeature(nb_points=240)\n",
    "#feature = IdentityFeature()\n",
    "#feature = CenterOfMassFeature()\n",
    "#metric = EuclideanMetric(feature)\n",
    "metric = AveragePointwiseEuclideanMetric(feature=feature)  # a.k.a. MDF\n",
    "qb = QuickBundles(threshold=10, metric=metric)\n",
    "qb.max_nb_clusters = 8\n",
    "clusters = qb.cluster(streamlines)\n",
    "print clusters.centroids[0][1]"
   ]
  },
  {
   "cell_type": "code",
   "execution_count": 15,
   "metadata": {},
   "outputs": [
    {
     "name": "stdout",
     "output_type": "stream",
     "text": [
      "('Nb. clusters:', 4)\n",
      "('Cluster sizes:', [252823, 250402, 341347, 328545])\n",
      "[252823, 250402, 341347, 328545]\n",
      "3\n"
     ]
    },
    {
     "data": {
      "image/png": "[encoded data removed]",
      "text/plain": [
       "<matplotlib.figure.Figure at 0x7f1a23caa4d0>"
      ]
     },
     "metadata": {},
     "output_type": "display_data"
    },
    {
     "data": {
      "image/png": "[encoded data removed]",
      "text/plain": [
       "<matplotlib.figure.Figure at 0x7f1a23cd50d0>"
      ]
     },
     "metadata": {},
     "output_type": "display_data"
    }
   ],
   "source": [
    "import matplotlib.pyplot as plt\n",
    "print(\"Nb. clusters:\", len(clusters))\n",
    "test=map(len, clusters)\n",
    "print(\"Cluster sizes:\", test)\n",
    "print clusters.clusters_sizes()\n",
    "print len(streamlines[0:3]) \n",
    "plt.hist(test, bins='auto')  \n",
    "plt.title(\"Histogram with 'auto' bins\")\n",
    "plt.show()\n",
    "\n",
    "plt.hist(clusters.clusters_sizes(), bins='auto',range=(100,7000))  \n",
    "plt.title(\"Histogram with 'auto' bins\")\n",
    "plt.show()"
   ]
  },
  {
   "cell_type": "markdown",
   "metadata": {
    "collapsed": true
   },
   "source": [
    "visualisation"
   ]
  },
  {
   "cell_type": "code",
   "execution_count": 2,
   "metadata": {},
   "outputs": [
    {
     "ename": "NameError",
     "evalue": "name 'clusters' is not defined",
     "output_type": "error",
     "traceback": [
      "\u001b[0;31m---------------------------------------------------------------------------\u001b[0m",
      "\u001b[0;31mNameError\u001b[0m                                 Traceback (most recent call last)",
      "\u001b[0;32m<ipython-input-2-afa9e5ff62e5>\u001b[0m in \u001b[0;36m<module>\u001b[0;34m()\u001b[0m\n\u001b[1;32m      7\u001b[0m \u001b[0;31m#fvtk.add(ren, fvtk.streamtube(clusters[2],fvtk.colors.green,linewidth=0.2,opacity=0.1));\u001b[0m\u001b[0;34m\u001b[0m\u001b[0;34m\u001b[0m\u001b[0m\n\u001b[1;32m      8\u001b[0m \u001b[0;31m#fvtk.add(ren, fvtk.streamtube(clusters[3],fvtk.colors.blue,linewidth=0.2,opacity=0.1));\u001b[0m\u001b[0;34m\u001b[0m\u001b[0;34m\u001b[0m\u001b[0m\n\u001b[0;32m----> 9\u001b[0;31m \u001b[0mfvtk\u001b[0m\u001b[0;34m.\u001b[0m\u001b[0madd\u001b[0m\u001b[0;34m(\u001b[0m\u001b[0mren\u001b[0m\u001b[0;34m,\u001b[0m \u001b[0mfvtk\u001b[0m\u001b[0;34m.\u001b[0m\u001b[0mstreamtube\u001b[0m\u001b[0;34m(\u001b[0m\u001b[0mclusters\u001b[0m\u001b[0;34m.\u001b[0m\u001b[0mcentroids\u001b[0m\u001b[0;34m,\u001b[0m\u001b[0mlinewidth\u001b[0m\u001b[0;34m=\u001b[0m\u001b[0;36m1\u001b[0m\u001b[0;34m)\u001b[0m\u001b[0;34m)\u001b[0m\u001b[0;34m;\u001b[0m\u001b[0;34m\u001b[0m\u001b[0m\n\u001b[0m\u001b[1;32m     10\u001b[0m \u001b[0mfvtk\u001b[0m\u001b[0;34m.\u001b[0m\u001b[0mshow\u001b[0m\u001b[0;34m(\u001b[0m\u001b[0mren\u001b[0m\u001b[0;34m)\u001b[0m\u001b[0;34m\u001b[0m\u001b[0m\n",
      "\u001b[0;31mNameError\u001b[0m: name 'clusters' is not defined"
     ]
    }
   ],
   "source": [
    "from dipy.viz import fvtk\n",
    "ren = fvtk.ren()\n",
    "ren.SetBackground(0, 0, 0)\n",
    "#fvtk.add(ren, fvtk.streamtube(streamlines,fvtk.colors.white,linewidth=0.2,opacity=0.1));\n",
    "#fvtk.add(ren, fvtk.streamtube(clusters[0],fvtk.colors.white,linewidth=0.2,opacity=0.1));\n",
    "#fvtk.add(ren, fvtk.streamtube(clusters[1],fvtk.colors.red,linewidth=0.2,opacity=0.1));\n",
    "#fvtk.add(ren, fvtk.streamtube(clusters[2],fvtk.colors.green,linewidth=0.2,opacity=0.1));\n",
    "#fvtk.add(ren, fvtk.streamtube(clusters[3],fvtk.colors.blue,linewidth=0.2,opacity=0.1));\n",
    "fvtk.add(ren, fvtk.streamtube(clusters.centroids,linewidth=1));\n",
    "fvtk.show(ren)"
   ]
  },
  {
   "cell_type": "code",
   "execution_count": 1,
   "metadata": {},
   "outputs": [
    {
     "ename": "NameError",
     "evalue": "name 'fvtk' is not defined",
     "output_type": "error",
     "traceback": [
      "\u001b[0;31m---------------------------------------------------------------------------\u001b[0m",
      "\u001b[0;31mNameError\u001b[0m                                 Traceback (most recent call last)",
      "\u001b[0;32m<ipython-input-1-b0e2c40b1f22>\u001b[0m in \u001b[0;36m<module>\u001b[0;34m()\u001b[0m\n\u001b[0;32m----> 1\u001b[0;31m \u001b[0mren\u001b[0m \u001b[0;34m=\u001b[0m \u001b[0mfvtk\u001b[0m\u001b[0;34m.\u001b[0m\u001b[0mren\u001b[0m\u001b[0;34m(\u001b[0m\u001b[0;34m)\u001b[0m\u001b[0;34m\u001b[0m\u001b[0m\n\u001b[0m\u001b[1;32m      2\u001b[0m \u001b[0;32mimport\u001b[0m \u001b[0mnumpy\u001b[0m \u001b[0;32mas\u001b[0m \u001b[0mnp\u001b[0m\u001b[0;34m\u001b[0m\u001b[0m\n\u001b[1;32m      3\u001b[0m \u001b[0mcolormap\u001b[0m \u001b[0;34m=\u001b[0m \u001b[0mfvtk\u001b[0m\u001b[0;34m.\u001b[0m\u001b[0mcreate_colormap\u001b[0m\u001b[0;34m(\u001b[0m\u001b[0mnp\u001b[0m\u001b[0;34m.\u001b[0m\u001b[0marange\u001b[0m\u001b[0;34m(\u001b[0m\u001b[0;36m1\u001b[0m\u001b[0;34m)\u001b[0m\u001b[0;34m)\u001b[0m\u001b[0;34m\u001b[0m\u001b[0m\n\u001b[1;32m      4\u001b[0m \u001b[0;32mprint\u001b[0m \u001b[0mcolormap\u001b[0m\u001b[0;34m\u001b[0m\u001b[0m\n\u001b[1;32m      5\u001b[0m \u001b[0mren\u001b[0m\u001b[0;34m.\u001b[0m\u001b[0mSetBackground\u001b[0m\u001b[0;34m(\u001b[0m\u001b[0;36m0\u001b[0m\u001b[0;34m,\u001b[0m \u001b[0;36m0\u001b[0m\u001b[0;34m,\u001b[0m \u001b[0;36m0\u001b[0m\u001b[0;34m)\u001b[0m\u001b[0;34m\u001b[0m\u001b[0m\n",
      "\u001b[0;31mNameError\u001b[0m: name 'fvtk' is not defined"
     ]
    }
   ],
   "source": [
    "ren = fvtk.ren()\n",
    "import numpy as np\n",
    "colormap = fvtk.create_colormap(np.arange(1))\n",
    "print colormap\n",
    "ren.SetBackground(0, 0, 0)\n",
    "fvtk.add(ren, fvtk.streamtube(clusters.centroids,linewidth=0.5));\n",
    "\n",
    "fvtk.add(ren, fvtk.streamtube(clusters[0],fvtk.colors.white,linewidth=0.2,opacity=0.1));\n",
    "fvtk.add(ren, fvtk.streamtube(clusters[1],fvtk.colors.red,linewidth=0.2,opacity=0.1));\n",
    "fvtk.add(ren, fvtk.streamtube(clusters[2],fvtk.colors.green,linewidth=0.2,opacity=0.1));\n",
    "fvtk.add(ren, fvtk.streamtube(clusters[3],fvtk.colors.blue,linewidth=0.2,opacity=0.1));\n",
    "\n",
    "#lines = [np.random.rand(10, 3), np.random.rand(20, 3)]\n",
    "#fvtk.add(ren, fvtk.streamtube(lines));\n",
    "fvtk.show(ren)\n",
    "#fvtk.record(ren, n_frames=1, out_path=\"/NAS/\"+NAS+\"/protocoles/\"+protocole+\"/FS53/\"+subject+\"/dti/CC_clusters.png\", size=(600, 600))"
   ]
  },
  {
   "cell_type": "code",
   "execution_count": null,
   "metadata": {
    "collapsed": true
   },
   "outputs": [],
   "source": [
    "ren = fvtk.ren()\n",
    "#colormap = fvtk.create_colormap(np.arange(len(clusters)))\n",
    "ren.SetBackground(0, 0, 0)#colormap[60:65]\n",
    "fvtk.add(ren, fvtk.streamtube(streamlines,fvtk.colors.white,linewidth=0.2,opacity=0.1));\n",
    "fvtk.show(ren)\n",
    "\n",
    "#fvtk.add(ren, fvtk.streamtube(clusters.centroids,fvtk.colors.white, linewidth=0.4))\n",
    "#fvtk.record(ren, n_frames=1, out_path='/NAS/tupac/protocoles/healthy_volunteers/FS53/T02S01/dti/whole_brain_clusters_60_2.png', size=(600, 600))"
   ]
  }
 ],
 "metadata": {
  "kernelspec": {
   "display_name": "Python 2",
   "language": "python",
   "name": "python2"
  },
  "language_info": {
   "codemirror_mode": {
    "name": "ipython",
    "version": 2
   },
   "file_extension": ".py",
   "mimetype": "text/x-python",
   "name": "python",
   "nbconvert_exporter": "python",
   "pygments_lexer": "ipython2",
   "version": "2.7.13"
  }
 },
 "nbformat": 4,
 "nbformat_minor": 2
}
