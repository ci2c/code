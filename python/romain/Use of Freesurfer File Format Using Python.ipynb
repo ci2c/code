{
 "cells": [
  {
   "cell_type": "code",
   "execution_count": 25,
   "metadata": {},
   "outputs": [],
   "source": [
    "import nibabel as nib\n",
    "import os, sys, re\n",
    "import numpy as np\n",
    "from dipy.io.image import load_nifti, save_nifti\n",
    "import matplotlib.pyplot as plt\n",
    "from nipype.utils import NUMPY_MMAP\n",
    "import nibabel.freesurfer.io.read_morph_data\n"
   ]
  },
  {
   "cell_type": "code",
   "execution_count": 60,
   "metadata": {},
   "outputs": [
    {
     "name": "stdout",
     "output_type": "stream",
     "text": [
      "uint8\n",
      "float32\n",
      "(256, 256, 256)\n",
      "(256, 256, 256)\n"
     ]
    }
   ],
   "source": [
    "data1, affine1 = load_nifti(\"/tmp/1528819594/WM.nii.gz\")\n",
    "nii = nib.load(\"/NAS/tupac/protocoles/healthy_volunteers/FS53/T01S01/mri/aseg.mgz\", mmap=NUMPY_MMAP)\n",
    "#hdr = nii.header\n",
    "#voxdims = hdr.get_zooms()\n",
    "#datadims = hdr.get_data_shape()\n",
    "#print([(datadims[0]), (datadims[1]), (datadims[2])])\n",
    "#print([float(voxdims[0]), float(voxdims[1]), float(voxdims[2])])\n",
    "\n",
    "data2 = nii.get_data()\n",
    "print(data2.dtype)\n",
    "print(data1.dtype)\n",
    "print(data2.shape)\n",
    "print(data1.shape)\n",
    "\n",
    "data3=data1\n",
    "for i in [24, 28,30,31,60,62,63,72,85,251,252,253,254,255] :\n",
    "    data3[data2==i]=i\n",
    "\n",
    "save_nifti(\"/tmp/1528819594/couloucoucou.nii.gz\",data3,affine1)"
   ]
  },
  {
   "cell_type": "code",
   "execution_count": 225,
   "metadata": {},
   "outputs": [
    {
     "name": "stdout",
     "output_type": "stream",
     "text": [
      "[     0      1      2 ..., 151017 151018 151019]\n",
      "<type 'numpy.ndarray'>\n",
      "(143873,)\n",
      "[ 0.  0.  0. ...,  0.  0.  0.]\n"
     ]
    }
   ],
   "source": [
    "labVB,scalarVB = nib.freesurfer.io.read_label(\"/NAS/tupac/romain/FS_VolBrain/FS60/bibiNew/label/lh.cortex.label\",True)\n",
    "print(labVB)\n",
    "print(type(labVB))\n",
    "print(labVB.shape)\n",
    "print(scalarVB)"
   ]
  },
  {
   "cell_type": "code",
   "execution_count": 222,
   "metadata": {},
   "outputs": [
    {
     "name": "stdout",
     "output_type": "stream",
     "text": [
      "(151020, 3)\n",
      "[[  -3.78306699 -102.45542145   21.19034195]\n",
      " [  -4.13593197 -102.56354523   21.00262451]\n",
      " [  -4.77936745 -102.45510864   21.0014019 ]\n",
      " ..., \n",
      " [ -37.14464569   40.53471375    7.58266973]\n",
      " [ -38.79933929   41.66178513    8.10608006]\n",
      " [ -37.38536835   40.78133011    7.3743434 ]]\n",
      "(302036, 3)\n",
      "[[     0      1      4]\n",
      " [     5      4      1]\n",
      " [     0     45     46]\n",
      " ..., \n",
      " [140266 140926 140925]\n",
      " [140266 140267 140257]\n",
      " [140903 140257 140915]]\n",
      "#####\n",
      "(151020, 3)\n",
      "[[  -3.8458221  -101.92800903   21.12687302]\n",
      " [  -4.11440134 -101.95193481   21.01907539]\n",
      " [  -4.66071844 -101.85991669   21.10680199]\n",
      " ..., \n",
      " [ -36.94448853   40.83981705    8.56929493]\n",
      " [ -38.58392715   42.00009155    8.71209049]\n",
      " [ -37.19326401   41.09831619    8.4027338 ]]\n",
      "(302036, 3)\n",
      "[[     0      1      4]\n",
      " [     5      4      1]\n",
      " [     0     45     46]\n",
      " ..., \n",
      " [140266 140926 140925]\n",
      " [140266 140267 140257]\n",
      " [140903 140257 140915]]\n"
     ]
    }
   ],
   "source": [
    "coordsVB1,facesVB1,volume_infoVB1,create_stampVB1 = nib.freesurfer.io.read_geometry(\"/NAS/tupac/romain/FS_VolBrain/FS60/bibiNew/surf//lh.white\",True,True)\n",
    "print(coordsVB1.shape)\n",
    "print(coordsVB1)\n",
    "print(facesVB1.shape)\n",
    "print(facesVB1)\n",
    "print(\"#####\")\n",
    "coordsVB2,facesVB2,volume_infoVB2,create_stampVB2 = nib.freesurfer.io.read_geometry(\"/NAS/tupac/romain/FS_VolBrain/FS60/bibiNew/surf//lh.smoothwm\",True,True)\n",
    "print(coordsVB2.shape)\n",
    "print(coordsVB2)\n",
    "print(facesVB2.shape)\n",
    "print(facesVB2)"
   ]
  },
  {
   "cell_type": "code",
   "execution_count": 266,
   "metadata": {},
   "outputs": [
    {
     "name": "stdout",
     "output_type": "stream",
     "text": [
      "(151020,)\n",
      "<type 'numpy.ndarray'>\n",
      "[-0.30925533 -0.31436375 -0.30437082 ..., -0.2991145  -0.22383191\n",
      " -0.32259178]\n"
     ]
    }
   ],
   "source": [
    "curv=nib.freesurfer.io.read_morph_data(\"/NAS/tupac/romain/FS_VolBrain/FS60/bibiNew/surf//lh.curv\")\n",
    "print(curv.shape)\n",
    "print(type(curv))\n",
    "print(curv)"
   ]
  },
  {
   "cell_type": "code",
   "execution_count": 277,
   "metadata": {},
   "outputs": [
    {
     "name": "stdout",
     "output_type": "stream",
     "text": [
      "(151020, 3)\n",
      "[[  -3.78306699 -102.45542145   21.19034195]\n",
      " [  -4.13593197 -102.56354523   21.00262451]\n",
      " [  -4.77936745 -102.45510864   21.0014019 ]\n",
      " ..., \n",
      " [ -37.14464569   40.53471375    7.58266973]\n",
      " [ -38.79933929   41.66178513    8.10608006]\n",
      " [ -37.38536835   40.78133011    7.3743434 ]]\n",
      "(302036, 3)\n",
      "[[     0      1      4]\n",
      " [     5      4      1]\n",
      " [     0     45     46]\n",
      " ..., \n",
      " [140266 140926 140925]\n",
      " [140266 140267 140257]\n",
      " [140903 140257 140915]]\n",
      "#####\n",
      "(151020, 3)\n",
      "[[  -3.8458221  -101.92800903   21.12687302]\n",
      " [  -4.11440134 -101.95193481   21.01907539]\n",
      " [  -4.66071844 -101.85991669   21.10680199]\n",
      " ..., \n",
      " [ -36.94448853   40.83981705    8.56929493]\n",
      " [ -38.58392715   42.00009155    8.71209049]\n",
      " [ -37.19326401   41.09831619    8.4027338 ]]\n",
      "(302036, 3)\n",
      "[[     0      1      4]\n",
      " [     5      4      1]\n",
      " [     0     45     46]\n",
      " ..., \n",
      " [140266 140926 140925]\n",
      " [140266 140267 140257]\n",
      " [140903 140257 140915]]\n",
      "#####\n",
      "(151020, 3)\n",
      "[[  -3.81230974 -102.49047852   21.14514351]\n",
      " [  -4.16489887 -102.5834198    20.94754982]\n",
      " [  -4.80927563 -102.47396088   20.94477844]\n",
      " ..., \n",
      " [ -37.10960388   40.5537796     7.64300156]\n",
      " [ -38.74980545   41.75483704    8.37771797]\n",
      " [ -37.35873413   40.83166885    7.42248631]]\n",
      "(302036, 3)\n",
      "[[     0      1      4]\n",
      " [     5      4      1]\n",
      " [     0     45     46]\n",
      " ..., \n",
      " [140266 140926 140925]\n",
      " [140266 140267 140257]\n",
      " [140903 140257 140915]]\n",
      "#####\n",
      "(150807, 3)\n",
      "[[  1.41650283 -93.27047729 -36.03625107]\n",
      " [  1.13549316 -93.30828094 -35.94823456]\n",
      " [  0.73246592 -93.42658997 -35.65019226]\n",
      " ..., \n",
      " [  7.20858812  97.06307983 -22.95201683]\n",
      " [  5.30752993  96.91520691 -24.06810188]\n",
      " [  6.75306797  96.9988327  -23.35856247]]\n",
      "(301610, 3)\n",
      "[[     0      1      4]\n",
      " [     5      4      1]\n",
      " [     0     48     49]\n",
      " ..., \n",
      " [140843 140185 140195]\n",
      " [140843 140195 139592]\n",
      " [140195 140208 139592]]\n",
      "#####\n"
     ]
    }
   ],
   "source": [
    "coordsVB1,facesVB1,volume_infoVB1,create_stampVB1 = nib.freesurfer.io.read_geometry(\"/NAS/tupac/romain/FS_VolBrain/FS60/bibiNew/surf//lh.white\",True,True)\n",
    "print(coordsVB1.shape)\n",
    "print(coordsVB1)\n",
    "print(facesVB1.shape)\n",
    "print(facesVB1)\n",
    "print(\"#####\")\n",
    "coordsVB1,facesVB1,volume_infoVB1,create_stampVB1 = nib.freesurfer.io.read_geometry(\"/NAS/tupac/romain/FS_VolBrain/FS60/bibiNew/surf//lh.smoothwm\",True,True)\n",
    "print(coordsVB1.shape)\n",
    "print(coordsVB1)\n",
    "print(facesVB1.shape)\n",
    "print(facesVB1)\n",
    "print(\"#####\")\n",
    "coordsVB1,facesVB1,volume_infoVB1,create_stampVB1 = nib.freesurfer.io.read_geometry(\"/NAS/tupac/romain/FS_VolBrain/FS60/bibiNew/surf//lh.white.preaparc\",True,True)\n",
    "print(coordsVB1.shape)\n",
    "print(coordsVB1)\n",
    "print(facesVB1.shape)\n",
    "print(facesVB1)\n",
    "print(\"#####\")\n",
    "coordsVB1,facesVB1,volume_infoVB1,create_stampVB1 = nib.freesurfer.io.read_geometry(\"/NAS/tupac/romain/FS_VolBrain/FS60/bibiNew/surf//lh.sphere.reg\",True,True)\n",
    "print(coordsVB1.shape)\n",
    "print(coordsVB1)\n",
    "print(facesVB1.shape)\n",
    "print(facesVB1)\n",
    "print(\"#####\")\n",
    "\n"
   ]
  }
 ],
 "metadata": {
  "kernelspec": {
   "display_name": "Python 2",
   "language": "python",
   "name": "python2"
  },
  "language_info": {
   "codemirror_mode": {
    "name": "ipython",
    "version": 2
   },
   "file_extension": ".py",
   "mimetype": "text/x-python",
   "name": "python",
   "nbconvert_exporter": "python",
   "pygments_lexer": "ipython2",
   "version": "2.7.13"
  }
 },
 "nbformat": 4,
 "nbformat_minor": 2
}
