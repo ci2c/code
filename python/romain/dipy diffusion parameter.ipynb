{
 "cells": [
  {
   "cell_type": "code",
   "execution_count": 4,
   "metadata": {},
   "outputs": [
    {
     "name": "stdout",
     "output_type": "stream",
     "text": [
      "/NAS/tupac/protocoles/SOPK/data/ARRIVE^JULIETTE_SOPK_2018-03-23/\n"
     ]
    }
   ],
   "source": [
    "SUBJ_ID=\"ARRIVE^JULIETTE_SOPK_2018-03-23\"\n",
    "NAS=\"tupac\"\n",
    "protocole=\"SOPK\"\n",
    "DIR_PATH=\"/NAS/\"+NAS+\"/protocoles/\"+protocole\n",
    "DTI_PATH=DIR_PATH+\"/data/\"+SUBJ_ID+\"/\"\n",
    "print DTI_PATH"
   ]
  },
  {
   "cell_type": "code",
   "execution_count": 5,
   "metadata": {
    "collapsed": true
   },
   "outputs": [],
   "source": [
    "fdwi = DTI_PATH+\"20180323_100530WIPDTI64dir2mmSENSEs301a1003.nii.gz\"\n",
    "fbval = DTI_PATH+\"20180323_100530WIPDTI64dir2mmSENSEs301a1003.bval\"\n",
    "fbvec = DTI_PATH+\"20180323_100530WIPDTI64dir2mmSENSEs301a1003.bvec\"\n",
    "\n",
    "from dipy.io.image import load_nifti, save_nifti\n",
    "from dipy.io import read_bvals_bvecs\n",
    "from dipy.core.gradients import gradient_table\n",
    "from dipy.reconst.dti import TensorModel\n",
    "from dipy.data import get_sphere\n",
    "\n",
    "data, affine = load_nifti(fdwi)\n",
    "bvals, bvecs = read_bvals_bvecs(fbval, fbvec)\n",
    "gtab = gradient_table(bvals, bvecs)\n",
    "\n",
    "tenmodel = TensorModel(gtab)\n",
    "tenfit = tenmodel.fit(data)\n",
    "\n",
    "save_nifti(DTI_PATH+\"colorfa.nii.gz\", tenfit.color_fa, affine)"
   ]
  },
  {
   "cell_type": "code",
   "execution_count": 8,
   "metadata": {},
   "outputs": [],
   "source": [
    "save_nifti(DTI_PATH+\"meandiffusivity.nii.gz\", tenfit.md, affine) #mean diffusivity\n",
    "save_nifti(DTI_PATH+\"meandiffusivity.nii.gz\", tenfit.rd, affine) #radial diffusivity\n",
    "save_nifti(DTI_PATH+\"ad.nii.gz\", tenfit.ad, affine) # axial diffusivity \n",
    "save_nifti(DTI_PATH+\"ga.nii.gz\", tenfit.ga, affine) # geodesic anisotropy\n",
    "save_nifti(DTI_PATH+\"fa.nii.gz\", tenfit.fa, affine) # fractional anisotropy\n",
    "sphere = get_sphere('symmetric724')\n",
    "adc_sph = tenfit.adc(sphere)\n",
    "save_nifti(DTI_PATH+\"adc.nii.gz\", test2, affine) # fractional anisotropy"
   ]
  },
  {
   "cell_type": "code",
   "execution_count": 23,
   "metadata": {},
   "outputs": [],
   "source": []
  },
  {
   "cell_type": "code",
   "execution_count": 25,
   "metadata": {},
   "outputs": [],
   "source": []
  },
  {
   "cell_type": "code",
   "execution_count": 26,
   "metadata": {},
   "outputs": [],
   "source": []
  },
  {
   "cell_type": "code",
   "execution_count": 29,
   "metadata": {},
   "outputs": [
    {
     "ename": "TypeError",
     "evalue": "object of type 'builtin_function_or_method' has no len()",
     "output_type": "error",
     "traceback": [
      "\u001b[0;31m---------------------------------------------------------------------------\u001b[0m",
      "\u001b[0;31mTypeError\u001b[0m                                 Traceback (most recent call last)",
      "\u001b[0;32m<ipython-input-29-2ac0fbda73b6>\u001b[0m in \u001b[0;36m<module>\u001b[0;34m()\u001b[0m\n\u001b[0;32m----> 1\u001b[0;31m \u001b[0mlen\u001b[0m\u001b[0;34m(\u001b[0m\u001b[0mtest2\u001b[0m\u001b[0;34m.\u001b[0m\u001b[0mcompress\u001b[0m\u001b[0;34m)\u001b[0m\u001b[0;34m\u001b[0m\u001b[0m\n\u001b[0m",
      "\u001b[0;31mTypeError\u001b[0m: object of type 'builtin_function_or_method' has no len()"
     ]
    }
   ],
   "source": []
  }
 ],
 "metadata": {
  "kernelspec": {
   "display_name": "Python 2",
   "language": "python",
   "name": "python2"
  },
  "language_info": {
   "codemirror_mode": {
    "name": "ipython",
    "version": 2
   },
   "file_extension": ".py",
   "mimetype": "text/x-python",
   "name": "python",
   "nbconvert_exporter": "python",
   "pygments_lexer": "ipython2",
   "version": "2.7.13"
  }
 },
 "nbformat": 4,
 "nbformat_minor": 2
}
